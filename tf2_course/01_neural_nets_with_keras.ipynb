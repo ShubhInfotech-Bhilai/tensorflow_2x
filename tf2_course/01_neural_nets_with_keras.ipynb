{
 "cells": [
  {
   "cell_type": "markdown",
   "metadata": {
    "collapsed": true
   },
   "source": [
    "# Neural Nets with Keras"
   ]
  },
  {
   "cell_type": "markdown",
   "metadata": {},
   "source": [
    "In this notebook you will learn how to implement neural networks using the Keras API. We will use TensorFlow's own implementation, *tf.keras*, which comes bundled with TensorFlow."
   ]
  },
  {
   "cell_type": "markdown",
   "metadata": {},
   "source": [
    "Don't hesitate to look at the documentation at [keras.io](https://keras.io/). All the code examples should work fine with tf.keras, the only difference is how to import Keras:\n",
    "\n",
    "```python\n",
    "# keras.io code:\n",
    "from keras.layers import Dense\n",
    "output_layer = Dense(10)\n",
    "\n",
    "# corresponding tf.keras code:\n",
    "from tensorflow.keras.layers import Dense\n",
    "output_layer = Dense(10)\n",
    "\n",
    "# or:\n",
    "from tensorflow import keras\n",
    "output_layer = keras.layers.Dense(10)\n",
    "```\n",
    "\n",
    "In this notebook, we will not use any TensorFlow-specific code, so everything you see would run just the same way on [keras-team](https://github.com/keras-team/keras) or any other Python implementation of the Keras API (except for the imports)."
   ]
  },
  {
   "cell_type": "markdown",
   "metadata": {},
   "source": [
    "## Imports"
   ]
  },
  {
   "cell_type": "code",
   "execution_count": 1,
   "metadata": {},
   "outputs": [],
   "source": [
    "%matplotlib inline\n",
    "%load_ext tensorboard"
   ]
  },
  {
   "cell_type": "code",
   "execution_count": 2,
   "metadata": {},
   "outputs": [],
   "source": [
    "import matplotlib as mpl\n",
    "import matplotlib.pyplot as plt\n",
    "import numpy as np\n",
    "import os\n",
    "import pandas as pd\n",
    "import sklearn\n",
    "import sys\n",
    "import tensorflow as tf\n",
    "from tensorflow import keras  # tf.keras\n",
    "import time"
   ]
  },
  {
   "cell_type": "code",
   "execution_count": 3,
   "metadata": {},
   "outputs": [
    {
     "name": "stdout",
     "output_type": "stream",
     "text": [
      "python 3.6.4 |Anaconda, Inc.| (default, Jan 16 2018, 18:10:19) \n",
      "[GCC 7.2.0]\n",
      "matplotlib 2.1.2\n",
      "numpy 1.16.4\n",
      "pandas 0.22.0\n",
      "sklearn 0.19.1\n",
      "tensorflow 2.0.0-dev20190528\n",
      "tensorflow.python.keras.api._v2.keras 2.2.4-tf\n"
     ]
    }
   ],
   "source": [
    "print(\"python\", sys.version)\n",
    "for module in mpl, np, pd, sklearn, tf, keras:\n",
    "    print(module.__name__, module.__version__)"
   ]
  },
  {
   "cell_type": "code",
   "execution_count": 5,
   "metadata": {},
   "outputs": [],
   "source": [
    "assert sys.version_info >= (3, 5) # Python ≥3.5 required\n",
    "assert tf.__version__ >= \"2.0\"    # TensorFlow ≥2.0 required"
   ]
  },
  {
   "cell_type": "markdown",
   "metadata": {},
   "source": [
    "**Note**: The preview version of TensorFlow 2.0 shows up as version 1.13. That's okay. To test that this behaves like TF 2.0, we verify that `tf.function()` is present."
   ]
  },
  {
   "cell_type": "markdown",
   "metadata": {},
   "source": [
    "## Exercise 1 – TensorFlow Playground"
   ]
  },
  {
   "cell_type": "markdown",
   "metadata": {},
   "source": [
    "Visit the [TensorFlow Playground](http://playground.tensorflow.org).\n",
    "* **Layers and patterns**: try training the default neural network by clicking the \"Run\" button (top left). Notice how it quickly finds a good solution for the classification task. Notice that the neurons in the first hidden layer have learned simple patterns, while the neurons in the second hidden layer have learned to combine the simple patterns of the first hidden layer into more complex patterns). In general, the more layers, the more complex the patterns can be.\n",
    "* **Activation function**: try replacing the Tanh activation function with the ReLU activation function, and train the network again. Notice that it finds a solution even faster, but this time the boundaries are linear. This is due to the shape of the ReLU function.\n",
    "* **Local minima**: modify the network architecture to have just one hidden layer with three neurons. Train it multiple times (to reset the network weights, just add and remove a neuron). Notice that the training time varies a lot, and sometimes it even gets stuck in a local minimum.\n",
    "* **Too small**: now remove one neuron to keep just 2. Notice that the neural network is now incapable of finding a good solution, even if you try multiple times. The model has too few parameters and it systematically underfits the training set.\n",
    "* **Large enough**: next, set the number of neurons to 8 and train the network several times. Notice that it is now consistently fast and never gets stuck. This highlights an important finding in neural network theory: large neural networks almost never get stuck in local minima, and even when they do these local optima are almost as good as the global optimum. However, they can still get stuck on long plateaus for a long time.\n",
    "* **Deep net and vanishing gradients**: now change the dataset to be the spiral (bottom right dataset under \"DATA\"). Change the network architecture to have 4 hidden layers with 8 neurons each. Notice that training takes much longer, and often gets stuck on plateaus for long periods of time. Also notice that the neurons in the highest layers (i.e. on the right) tend to evolve faster than the neurons in the lowest layers (i.e. on the left). This problem, called the \"vanishing gradients\" problem, can be alleviated using better weight initialization and other techniques, better optimizers (such as AdaGrad or Adam), or using Batch Normalization.\n",
    "* **More**: go ahead and play with the other parameters to get a feel of what they do. In fact, after this course you should definitely play with this UI for at least one hour, it will grow your intuitions about neural networks significantly."
   ]
  },
  {
   "cell_type": "markdown",
   "metadata": {},
   "source": [
    "## Exercise 2 – Image classification with tf.keras"
   ]
  },
  {
   "cell_type": "markdown",
   "metadata": {},
   "source": [
    "### Load the Fashion MNIST dataset"
   ]
  },
  {
   "cell_type": "markdown",
   "metadata": {},
   "source": [
    "Let's start by loading the fashion MNIST dataset. Keras has a number of functions to load popular datasets in `keras.datasets`. The dataset is already split for you between a training set and a test set, but it can be useful to split the training set further to have a validation set:"
   ]
  },
  {
   "cell_type": "code",
   "execution_count": 6,
   "metadata": {},
   "outputs": [],
   "source": [
    "fashion_mnist = keras.datasets.fashion_mnist\n",
    "(X_train_full, y_train_full), (X_test, y_test) = (\n",
    "    fashion_mnist.load_data())\n",
    "X_valid, X_train = X_train_full[:5000], X_train_full[5000:]\n",
    "y_valid, y_train = y_train_full[:5000], y_train_full[5000:]"
   ]
  },
  {
   "cell_type": "markdown",
   "metadata": {},
   "source": [
    "The training set contains 55,000 grayscale images, each 28x28 pixels:"
   ]
  },
  {
   "cell_type": "code",
   "execution_count": 7,
   "metadata": {},
   "outputs": [
    {
     "data": {
      "text/plain": [
       "(55000, 28, 28)"
      ]
     },
     "execution_count": 7,
     "metadata": {},
     "output_type": "execute_result"
    }
   ],
   "source": [
    "X_train.shape"
   ]
  },
  {
   "cell_type": "markdown",
   "metadata": {},
   "source": [
    "Each pixel intensity is represented by a uint8 (byte) from 0 to 255:"
   ]
  },
  {
   "cell_type": "code",
   "execution_count": 8,
   "metadata": {},
   "outputs": [
    {
     "data": {
      "text/plain": [
       "array([[  0,   0,   0,   0,   0,   0,   0,   0,   0,   0,   0,   0,   0,\n",
       "          0,   0,   0,   0,   0,   0,   1,   0,   0,   0,   0,   0,   0,\n",
       "          0,   0],\n",
       "       [  0,   0,   0,   0,   0,   0,   0,   0,   0,   0,   0,  44, 127,\n",
       "        182, 185, 161, 120,  55,   0,   0,   0,   0,   0,   0,   0,   0,\n",
       "          0,   0],\n",
       "       [  0,   0,   0,   0,   0,   0,   0,   0,   0,  42, 198, 251, 255,\n",
       "        251, 249, 247, 255, 252, 214, 100,   0,   0,   0,   0,   0,   0,\n",
       "          0,   0],\n",
       "       [  0,   0,   0,   0,   0,   0,   2,   0,   0, 233, 252, 237, 239,\n",
       "        234, 237, 235, 237, 237, 254, 227,   0,   0,   0,   0,   1,   0,\n",
       "          0,   0],\n",
       "       [  0,   0,   0,   0,   0,   2,   0,   0,  16, 210, 225, 215, 175,\n",
       "        217, 216, 193, 196, 226, 221, 209,  50,   0,   0,   2,   0,   0,\n",
       "          0,   0],\n",
       "       [  0,   0,   0,   0,   2,   0,   0, 199, 229, 232, 230, 245, 204,\n",
       "        219, 253, 245, 207, 194, 223, 231, 236, 235,   0,   0,   3,   0,\n",
       "          0,   0],\n",
       "       [  0,   0,   0,   0,   1,   0, 137, 235, 204, 209, 201, 209, 234,\n",
       "        190, 234, 218, 215, 238, 239, 204, 189, 224, 154,   0,   0,   0,\n",
       "          0,   0],\n",
       "       [  0,   0,   0,   0,   0,   0, 194, 201, 200, 209, 202, 193, 205,\n",
       "        194, 183, 218, 231, 197, 172, 181, 193, 205, 199,   0,   0,   0,\n",
       "          0,   0],\n",
       "       [  0,   0,   0,   0,   0,   3, 212, 203, 188, 189, 196, 198, 198,\n",
       "        201, 196, 217, 179, 167, 183, 217, 197, 202, 219,  30,   0,   0,\n",
       "          0,   0],\n",
       "       [  0,   0,   0,   0,   0,  34, 225, 200, 194, 190, 188, 192, 196,\n",
       "        192, 170, 202, 190, 201, 195, 200, 201, 209, 227,  50,   0,   0,\n",
       "          0,   0],\n",
       "       [  0,   0,   0,   0,   0,  68, 225, 210, 211, 198, 192, 196, 204,\n",
       "        196, 181, 212, 197, 195, 192, 206, 220, 210, 229,  93,   0,   0,\n",
       "          0,   0],\n",
       "       [  0,   0,   0,   0,   0, 111, 223, 227, 253, 209, 196, 204, 211,\n",
       "        206, 183, 216, 206, 210, 203, 215, 244, 224, 227, 150,   0,   0,\n",
       "          0,   0],\n",
       "       [  0,   0,   0,   0,   0, 139, 225, 224, 255, 202, 206, 212, 209,\n",
       "        211, 190, 213, 202, 207, 206, 222, 255, 230, 220, 190,   0,   0,\n",
       "          0,   0],\n",
       "       [  0,   0,   0,   0,   0, 180, 226, 224, 255, 199, 204, 207, 214,\n",
       "        214, 190, 216, 206, 203, 205, 219, 243, 224, 214, 234,   0,   0,\n",
       "          0,   0],\n",
       "       [  0,   0,   0,   0,   0, 225, 223, 228, 254, 209, 206, 208, 213,\n",
       "        210, 191, 215, 207, 204, 208, 211, 249, 226, 214, 255,  38,   0,\n",
       "          0,   0],\n",
       "       [  0,   0,   0,   0,   0, 250, 232, 240, 239, 211, 203, 209, 205,\n",
       "        211, 197, 215, 208, 208, 214, 213, 239, 231, 219, 255,  81,   0,\n",
       "          0,   0],\n",
       "       [  0,   0,   0,   0,   0, 248, 236, 247, 240, 203, 200, 208, 206,\n",
       "        214, 193, 213, 212, 208, 212, 211, 243, 242, 225, 254,  66,   0,\n",
       "          0,   0],\n",
       "       [  0,   0,   0,   0,   0, 247, 230, 252, 226, 199, 211, 202, 211,\n",
       "        213, 182, 213, 212, 206, 202, 219, 207, 247, 222, 237, 104,   0,\n",
       "          0,   0],\n",
       "       [  0,   0,   0,   0,  10, 244, 219, 250, 205, 199, 209, 202, 209,\n",
       "        211, 189, 214, 206, 210, 200, 212, 154, 240, 208, 219, 140,   0,\n",
       "          0,   0],\n",
       "       [  0,   0,   0,   0,  21, 255, 222, 238, 184, 210, 192, 206, 209,\n",
       "        210, 189, 213, 211, 209, 192, 228, 155, 226, 238, 241, 166,   0,\n",
       "          0,   0],\n",
       "       [  0,   0,   0,   0,  37, 245, 226, 241, 150, 197, 189, 204, 209,\n",
       "        210, 183, 213, 213, 201, 184, 215, 146, 216, 236, 225, 154,   0,\n",
       "          0,   0],\n",
       "       [  0,   0,   0,   0,  58, 239, 227, 255, 158, 193, 195, 204, 209,\n",
       "        213, 180, 207, 217, 199, 194, 211, 158, 219, 236, 216, 151,   0,\n",
       "          0,   0],\n",
       "       [  0,   0,   0,   0,  68, 233, 226, 243, 139, 200, 193, 205, 210,\n",
       "        208, 180, 205, 212, 203, 196, 216, 157, 179, 255, 216, 155,   0,\n",
       "          0,   0],\n",
       "       [  0,   0,   0,   0,  81, 225, 224, 211, 138, 219, 185, 201, 213,\n",
       "        207, 197, 226, 212, 200, 190, 215, 183,  90, 255, 211, 147,   0,\n",
       "          0,   0],\n",
       "       [  0,   0,   0,   0,  91, 210, 230, 158, 114, 205, 187, 208, 209,\n",
       "        206, 193, 210, 211, 204, 195, 204, 181,  23, 255, 213, 158,   0,\n",
       "          0,   0],\n",
       "       [  0,   0,   0,   0,  87, 205, 232, 109, 164, 255, 214, 224, 222,\n",
       "        210, 197, 214, 225, 222, 211, 220, 217,   0, 234, 216, 169,   0,\n",
       "          0,   0],\n",
       "       [  0,   0,   0,   0,  92, 213, 232, 146,   5, 134, 151, 162, 170,\n",
       "        183, 182, 164, 166, 178, 162, 156,  98,   0, 240, 225, 210,   0,\n",
       "          0,   0],\n",
       "       [  0,   0,   0,   0,  43, 164, 206, 141,   0,   0,   0,   0,   0,\n",
       "          0,   0,   0,   0,   0,   0,   0,   0,   0, 127, 125,  76,   0,\n",
       "          0,   0]], dtype=uint8)"
      ]
     },
     "execution_count": 8,
     "metadata": {},
     "output_type": "execute_result"
    }
   ],
   "source": [
    "X_train[0]"
   ]
  },
  {
   "cell_type": "markdown",
   "metadata": {},
   "source": [
    "You can plot an image using Matplotlib's `imshow()` function, with a `'binary'`\n",
    " color map:"
   ]
  },
  {
   "cell_type": "code",
   "execution_count": 9,
   "metadata": {},
   "outputs": [
    {
     "data": {
      "image/png": "[encoded data removed]",
      "text/plain": [
       "<matplotlib.figure.Figure at 0x7f2927c24f98>"
      ]
     },
     "metadata": {},
     "output_type": "display_data"
    }
   ],
   "source": [
    "plt.imshow(X_train[0], cmap=\"binary\")\n",
    "plt.show()"
   ]
  },
  {
   "cell_type": "markdown",
   "metadata": {},
   "source": [
    "The labels are the class IDs (represented as uint8), from 0 to 9:"
   ]
  },
  {
   "cell_type": "code",
   "execution_count": 10,
   "metadata": {},
   "outputs": [
    {
     "data": {
      "text/plain": [
       "array([4, 0, 7, ..., 3, 0, 5], dtype=uint8)"
      ]
     },
     "execution_count": 10,
     "metadata": {},
     "output_type": "execute_result"
    }
   ],
   "source": [
    "y_train"
   ]
  },
  {
   "cell_type": "markdown",
   "metadata": {},
   "source": [
    "Here are the corresponding class names:"
   ]
  },
  {
   "cell_type": "code",
   "execution_count": 11,
   "metadata": {},
   "outputs": [],
   "source": [
    "class_names = [\"T-shirt/top\", \"Trouser\", \"Pullover\", \"Dress\", \"Coat\",\n",
    "               \"Sandal\", \"Shirt\", \"Sneaker\", \"Bag\", \"Ankle boot\"]"
   ]
  },
  {
   "cell_type": "markdown",
   "metadata": {},
   "source": [
    "So the first image in the training set is a coat:"
   ]
  },
  {
   "cell_type": "code",
   "execution_count": 12,
   "metadata": {},
   "outputs": [
    {
     "data": {
      "text/plain": [
       "'Coat'"
      ]
     },
     "execution_count": 12,
     "metadata": {},
     "output_type": "execute_result"
    }
   ],
   "source": [
    "class_names[y_train[0]]"
   ]
  },
  {
   "cell_type": "markdown",
   "metadata": {},
   "source": [
    "The validation set contains 5,000 images, and the test set contains 10,000 images:"
   ]
  },
  {
   "cell_type": "code",
   "execution_count": 13,
   "metadata": {},
   "outputs": [
    {
     "data": {
      "text/plain": [
       "(5000, 28, 28)"
      ]
     },
     "execution_count": 13,
     "metadata": {},
     "output_type": "execute_result"
    }
   ],
   "source": [
    "X_valid.shape"
   ]
  },
  {
   "cell_type": "code",
   "execution_count": 14,
   "metadata": {},
   "outputs": [
    {
     "data": {
      "text/plain": [
       "(10000, 28, 28)"
      ]
     },
     "execution_count": 14,
     "metadata": {},
     "output_type": "execute_result"
    }
   ],
   "source": [
    "X_test.shape"
   ]
  },
  {
   "cell_type": "markdown",
   "metadata": {},
   "source": [
    "Let's take a look at a sample of the images in the dataset:"
   ]
  },
  {
   "cell_type": "code",
   "execution_count": 15,
   "metadata": {},
   "outputs": [
    {
     "data": {
      "image/png": "[encoded data removed]",
      "text/plain": [
       "<matplotlib.figure.Figure at 0x7f2927b4ba90>"
      ]
     },
     "metadata": {},
     "output_type": "display_data"
    }
   ],
   "source": [
    "n_rows = 5\n",
    "n_cols = 10\n",
    "plt.figure(figsize=(n_cols*1.4, n_rows * 1.6))\n",
    "for row in range(n_rows):\n",
    "    for col in range(n_cols):\n",
    "        index = n_cols * row + col\n",
    "        plt.subplot(n_rows, n_cols, index + 1)\n",
    "        plt.imshow(X_train[index], cmap=\"binary\", interpolation=\"nearest\")\n",
    "        plt.axis('off')\n",
    "        plt.title(class_names[y_train[index]])\n",
    "plt.show()"
   ]
  },
  {
   "cell_type": "markdown",
   "metadata": {},
   "source": [
    "This dataset has the same structure as the famous MNIST dataset (which you can load using `keras.datasets.mnist.load_data()`), except the images represent fashion items rather than handwritten digits, and it is much more challenging. A simple linear model can reach 92% accuracy on MNIST, but only 83% on fashion MNIST."
   ]
  },
  {
   "cell_type": "markdown",
   "metadata": {},
   "source": [
    "### Build a classification neural network with Keras"
   ]
  },
  {
   "cell_type": "markdown",
   "metadata": {},
   "source": [
    "### 2.4)\n",
    "After a model is created, you must call its `compile()` method to specify the `loss` function and the `optimizer` to use. In this case, you want to use the `\"sparse_categorical_crossentropy\"` loss, and the `\"sgd\"` optimizer (stochastic gradient descent). Moreover, you can optionally specify a list of additional metrics that should be measured during training. In this case you should specify `metrics=[\"accuracy\"]`. **Note**: you can find more loss functions in `keras.losses`, more metrics in `keras.metrics` and more optimizers in `keras.optimizers`."
   ]
  },
  {
   "cell_type": "markdown",
   "metadata": {},
   "source": [
    "### 2.5)\n",
    "Now your model is ready to be trained. Call its `fit()` method, passing it the input features (`X_train`) and the target classes (`y_train`). Set `epochs=10` (or else it will just run for a single epoch). You can also (optionally) pass the validation data by setting `validation_data=(X_valid, y_valid)`. If you do, Keras will compute the loss and the additional metrics (the accuracy in this case) on the validation set at the end of each epoch. If the performance on the training set is much better than on the validation set, your model is probably overfitting the training set (or there is a bug, such as a mismatch between the training set and the validation set).\n",
    "**Note**: the `fit()` method will return a `History` object containing training stats. Make sure to preserve it (`history = model.fit(...)`)."
   ]
  },
  {
   "cell_type": "markdown",
   "metadata": {},
   "source": [
    "### 2.6)\n",
    "Try running `pd.DataFrame(history.history).plot()` to plot the learning curves. To make the graph more readable, you can also set `figsize=(8, 5)`, call `plt.grid(True)` and `plt.gca().set_ylim(0, 1)`."
   ]
  },
  {
   "cell_type": "markdown",
   "metadata": {},
   "source": [
    "### 2.7)\n",
    "Try running `model.fit()` again, and notice that training continues where it left off."
   ]
  },
  {
   "cell_type": "markdown",
   "metadata": {},
   "source": [
    "### 2.8)\n",
    "call the model's `evaluate()` method, passing it the test set (`X_test` and `y_test`). This will compute the loss (cross-entropy) on the test set, as well as all the additional metrics (in this case, the accuracy). Your model should achieve over 80% accuracy on the test set."
   ]
  },
  {
   "cell_type": "markdown",
   "metadata": {},
   "source": [
    "### 2.9)\n",
    "Define `X_new` as the first 10 instances of the test set. Call the model's `predict()` method to estimate the probability of each class for each instance (for better readability, you may use the output array's `round()` method):"
   ]
  },
  {
   "cell_type": "markdown",
   "metadata": {},
   "source": [
    "### 2.10)\n",
    "Often, you may only be interested in the most likely class. Use `np.argmax()` to get the class ID of the most likely class for each instance. **Tip**: you want to set `axis=1`."
   ]
  },
  {
   "cell_type": "markdown",
   "metadata": {},
   "source": [
    "### 2.11)\n",
    "Call the model's `predict_classes()` method for `X_new`. You should get the same result as above."
   ]
  },
  {
   "cell_type": "markdown",
   "metadata": {},
   "source": [
    "### 2.12)\n",
    "(Optional) It is often useful to know how confident the model is for each prediction. Try finding the estimated probability for each predicted class using `np.max()`."
   ]
  },
  {
   "cell_type": "markdown",
   "metadata": {},
   "source": [
    "### 2.13)\n",
    "(Optional) It is frequent to want the top k classes and their estimated probabilities rather just the most likely class. You can use `np.argsort()` for this."
   ]
  },
  {
   "cell_type": "markdown",
   "metadata": {},
   "source": [
    "## Exercise 2 - Solution"
   ]
  },
  {
   "cell_type": "markdown",
   "metadata": {},
   "source": [
    "### 2.1)\n",
    "Build a `Sequential` model (`keras.models.Sequential`), without any argument, then and add four layers to it by calling its `add()` method:\n",
    "  * a `Flatten` layer (`keras.layers.Flatten`) to convert each 28x28 image to a single row of 784 pixel values. Since it is the first layer in your model, you should specify the `input_shape` argument, leaving out the batch size: `[28, 28]`.\n",
    "  * a `Dense` layer  (`keras.layers.Dense`) with 300 neurons (aka units), and the `\"relu\"` activation function.\n",
    "  * Another `Dense` layer with 100 neurons, also with the `\"relu\"` activation function.\n",
    "  * A final `Dense` layer with 10 neurons (one per class), and with the `\"softmax\"` activation function to ensure that the sum of all the estimated class probabilities for each image is equal to 1."
   ]
  },
  {
   "cell_type": "code",
   "execution_count": 16,
   "metadata": {},
   "outputs": [],
   "source": [
    "model = keras.models.Sequential()\n",
    "model.add(keras.layers.Flatten(input_shape=[28, 28]))\n",
    "model.add(keras.layers.Dense(300, activation=\"relu\"))\n",
    "model.add(keras.layers.Dense(100, activation=\"relu\"))\n",
    "model.add(keras.layers.Dense(10, activation=\"softmax\"))"
   ]
  },
  {
   "cell_type": "markdown",
   "metadata": {},
   "source": [
    "### 2.2)构建模型\n",
    "Alternatively, you can pass a list containing the 4 layers to the constructor of the `Sequential` model. The model's `layers` attribute holds the list of layers."
   ]
  },
  {
   "cell_type": "code",
   "execution_count": 17,
   "metadata": {},
   "outputs": [],
   "source": [
    "model = keras.models.Sequential([\n",
    "    keras.layers.Flatten(input_shape=[28, 28]),\n",
    "    keras.layers.Dense(300, activation=\"relu\"),\n",
    "    keras.layers.Dense(100, activation=\"relu\"),\n",
    "    keras.layers.Dense(10, activation=\"softmax\")\n",
    "])"
   ]
  },
  {
   "cell_type": "code",
   "execution_count": 18,
   "metadata": {},
   "outputs": [
    {
     "data": {
      "text/plain": [
       "[<tensorflow.python.keras.layers.core.Flatten at 0x7f2927c24320>,\n",
       " <tensorflow.python.keras.layers.core.Dense at 0x7f288edd8828>,\n",
       " <tensorflow.python.keras.layers.core.Dense at 0x7f2927a56dd8>,\n",
       " <tensorflow.python.keras.layers.core.Dense at 0x7f28e6682390>]"
      ]
     },
     "execution_count": 18,
     "metadata": {},
     "output_type": "execute_result"
    }
   ],
   "source": [
    "model.layers"
   ]
  },
  {
   "cell_type": "markdown",
   "metadata": {},
   "source": [
    "### 2.3)显示模型结构\n",
    "Call the model's `summary()` method and examine the output. Also, try using `keras.utils.plot_model()` to save an image of your model's architecture. Alternatively, you can uncomment the following code to display the image within Jupyter."
   ]
  },
  {
   "cell_type": "code",
   "execution_count": 19,
   "metadata": {},
   "outputs": [
    {
     "name": "stdout",
     "output_type": "stream",
     "text": [
      "Model: \"sequential_1\"\n",
      "_________________________________________________________________\n",
      "Layer (type)                 Output Shape              Param #   \n",
      "=================================================================\n",
      "flatten_1 (Flatten)          (None, 784)               0         \n",
      "_________________________________________________________________\n",
      "dense_3 (Dense)              (None, 300)               235500    \n",
      "_________________________________________________________________\n",
      "dense_4 (Dense)              (None, 100)               30100     \n",
      "_________________________________________________________________\n",
      "dense_5 (Dense)              (None, 10)                1010      \n",
      "=================================================================\n",
      "Total params: 266,610\n",
      "Trainable params: 266,610\n",
      "Non-trainable params: 0\n",
      "_________________________________________________________________\n"
     ]
    }
   ],
   "source": [
    "model.summary()"
   ]
  },
  {
   "cell_type": "code",
   "execution_count": 20,
   "metadata": {},
   "outputs": [
    {
     "data": {
      "image/png": "[encoded data removed]",
      "text/plain": [
       "<IPython.core.display.Image object>"
      ]
     },
     "execution_count": 20,
     "metadata": {},
     "output_type": "execute_result"
    }
   ],
   "source": [
    "keras.utils.plot_model(model, \"my_mnist_model.png\", show_shapes=True)"
   ]
  },
  {
   "cell_type": "code",
   "execution_count": 21,
   "metadata": {},
   "outputs": [
    {
     "data": {
      "text/html": [
       "<img src=\"my_mnist_model.png\" />"
      ],
      "text/plain": [
       "<IPython.core.display.HTML object>"
      ]
     },
     "metadata": {},
     "output_type": "display_data"
    }
   ],
   "source": [
    "%%html\n",
    "<img src=\"my_mnist_model.png\" />"
   ]
  },
  {
   "cell_type": "markdown",
   "metadata": {},
   "source": [
    "**Warning**: at the present, you need `from tensorflow.python.keras.utils.vis_utils import model_to_dot`, instead of simply `keras.utils.model_to_dot`. See [TensorFlow issue 24639](https://github.com/tensorflow/tensorflow/issues/24639)."
   ]
  },
  {
   "cell_type": "code",
   "execution_count": 22,
   "metadata": {},
   "outputs": [
    {
     "data": {
      "image/svg+xml": [
       "<svg height=\"387pt\" viewBox=\"0.00 0.00 336.00 387.00\" width=\"336pt\" xmlns=\"http://www.w3.org/2000/svg\" xmlns:xlink=\"http://www.w3.org/1999/xlink\">\n",
       "<g class=\"graph\" id=\"graph0\" transform=\"scale(1 1) rotate(0) translate(4 383)\">\n",
       "<title>G</title>\n",
       "<polygon fill=\"white\" points=\"-4,4 -4,-383 332,-383 332,4 -4,4\" stroke=\"none\"/>\n",
       "<!-- 139814736661920 -->\n",
       "<g class=\"node\" id=\"node1\"><title>139814736661920</title>\n",
       "<polygon fill=\"none\" points=\"0,-332.5 0,-378.5 328,-378.5 328,-332.5 0,-332.5\" stroke=\"black\"/>\n",
       "<text font-family=\"Times,serif\" font-size=\"14.00\" text-anchor=\"middle\" x=\"83.5\" y=\"-351.8\">flatten_1_input: InputLayer</text>\n",
       "<polyline fill=\"none\" points=\"167,-332.5 167,-378.5 \" stroke=\"black\"/>\n",
       "<text font-family=\"Times,serif\" font-size=\"14.00\" text-anchor=\"middle\" x=\"194.5\" y=\"-363.3\">input:</text>\n",
       "<polyline fill=\"none\" points=\"167,-355.5 222,-355.5 \" stroke=\"black\"/>\n",
       "<text font-family=\"Times,serif\" font-size=\"14.00\" text-anchor=\"middle\" x=\"194.5\" y=\"-340.3\">output:</text>\n",
       "<polyline fill=\"none\" points=\"222,-332.5 222,-378.5 \" stroke=\"black\"/>\n",
       "<text font-family=\"Times,serif\" font-size=\"14.00\" text-anchor=\"middle\" x=\"275\" y=\"-363.3\">[(None, 28, 28)]</text>\n",
       "<polyline fill=\"none\" points=\"222,-355.5 328,-355.5 \" stroke=\"black\"/>\n",
       "<text font-family=\"Times,serif\" font-size=\"14.00\" text-anchor=\"middle\" x=\"275\" y=\"-340.3\">[(None, 28, 28)]</text>\n",
       "</g>\n",
       "<!-- 139814737429280 -->\n",
       "<g class=\"node\" id=\"node2\"><title>139814737429280</title>\n",
       "<polygon fill=\"none\" points=\"33,-249.5 33,-295.5 295,-295.5 295,-249.5 33,-249.5\" stroke=\"black\"/>\n",
       "<text font-family=\"Times,serif\" font-size=\"14.00\" text-anchor=\"middle\" x=\"88\" y=\"-268.8\">flatten_1: Flatten</text>\n",
       "<polyline fill=\"none\" points=\"143,-249.5 143,-295.5 \" stroke=\"black\"/>\n",
       "<text font-family=\"Times,serif\" font-size=\"14.00\" text-anchor=\"middle\" x=\"170.5\" y=\"-280.3\">input:</text>\n",
       "<polyline fill=\"none\" points=\"143,-272.5 198,-272.5 \" stroke=\"black\"/>\n",
       "<text font-family=\"Times,serif\" font-size=\"14.00\" text-anchor=\"middle\" x=\"170.5\" y=\"-257.3\">output:</text>\n",
       "<polyline fill=\"none\" points=\"198,-249.5 198,-295.5 \" stroke=\"black\"/>\n",
       "<text font-family=\"Times,serif\" font-size=\"14.00\" text-anchor=\"middle\" x=\"246.5\" y=\"-280.3\">(None, 28, 28)</text>\n",
       "<polyline fill=\"none\" points=\"198,-272.5 295,-272.5 \" stroke=\"black\"/>\n",
       "<text font-family=\"Times,serif\" font-size=\"14.00\" text-anchor=\"middle\" x=\"246.5\" y=\"-257.3\">(None, 784)</text>\n",
       "</g>\n",
       "<!-- 139814736661920&#45;&gt;139814737429280 -->\n",
       "<g class=\"edge\" id=\"edge1\"><title>139814736661920-&gt;139814737429280</title>\n",
       "<path d=\"M164,-332.366C164,-324.152 164,-314.658 164,-305.725\" fill=\"none\" stroke=\"black\"/>\n",
       "<polygon fill=\"black\" points=\"167.5,-305.607 164,-295.607 160.5,-305.607 167.5,-305.607\" stroke=\"black\"/>\n",
       "</g>\n",
       "<!-- 139812172302376 -->\n",
       "<g class=\"node\" id=\"node3\"><title>139812172302376</title>\n",
       "<polygon fill=\"none\" points=\"44,-166.5 44,-212.5 284,-212.5 284,-166.5 44,-166.5\" stroke=\"black\"/>\n",
       "<text font-family=\"Times,serif\" font-size=\"14.00\" text-anchor=\"middle\" x=\"95\" y=\"-185.8\">dense_3: Dense</text>\n",
       "<polyline fill=\"none\" points=\"146,-166.5 146,-212.5 \" stroke=\"black\"/>\n",
       "<text font-family=\"Times,serif\" font-size=\"14.00\" text-anchor=\"middle\" x=\"173.5\" y=\"-197.3\">input:</text>\n",
       "<polyline fill=\"none\" points=\"146,-189.5 201,-189.5 \" stroke=\"black\"/>\n",
       "<text font-family=\"Times,serif\" font-size=\"14.00\" text-anchor=\"middle\" x=\"173.5\" y=\"-174.3\">output:</text>\n",
       "<polyline fill=\"none\" points=\"201,-166.5 201,-212.5 \" stroke=\"black\"/>\n",
       "<text font-family=\"Times,serif\" font-size=\"14.00\" text-anchor=\"middle\" x=\"242.5\" y=\"-197.3\">(None, 784)</text>\n",
       "<polyline fill=\"none\" points=\"201,-189.5 284,-189.5 \" stroke=\"black\"/>\n",
       "<text font-family=\"Times,serif\" font-size=\"14.00\" text-anchor=\"middle\" x=\"242.5\" y=\"-174.3\">(None, 300)</text>\n",
       "</g>\n",
       "<!-- 139814737429280&#45;&gt;139812172302376 -->\n",
       "<g class=\"edge\" id=\"edge2\"><title>139814737429280-&gt;139812172302376</title>\n",
       "<path d=\"M164,-249.366C164,-241.152 164,-231.658 164,-222.725\" fill=\"none\" stroke=\"black\"/>\n",
       "<polygon fill=\"black\" points=\"167.5,-222.607 164,-212.607 160.5,-222.607 167.5,-222.607\" stroke=\"black\"/>\n",
       "</g>\n",
       "<!-- 139814735539672 -->\n",
       "<g class=\"node\" id=\"node4\"><title>139814735539672</title>\n",
       "<polygon fill=\"none\" points=\"44,-83.5 44,-129.5 284,-129.5 284,-83.5 44,-83.5\" stroke=\"black\"/>\n",
       "<text font-family=\"Times,serif\" font-size=\"14.00\" text-anchor=\"middle\" x=\"95\" y=\"-102.8\">dense_4: Dense</text>\n",
       "<polyline fill=\"none\" points=\"146,-83.5 146,-129.5 \" stroke=\"black\"/>\n",
       "<text font-family=\"Times,serif\" font-size=\"14.00\" text-anchor=\"middle\" x=\"173.5\" y=\"-114.3\">input:</text>\n",
       "<polyline fill=\"none\" points=\"146,-106.5 201,-106.5 \" stroke=\"black\"/>\n",
       "<text font-family=\"Times,serif\" font-size=\"14.00\" text-anchor=\"middle\" x=\"173.5\" y=\"-91.3\">output:</text>\n",
       "<polyline fill=\"none\" points=\"201,-83.5 201,-129.5 \" stroke=\"black\"/>\n",
       "<text font-family=\"Times,serif\" font-size=\"14.00\" text-anchor=\"middle\" x=\"242.5\" y=\"-114.3\">(None, 300)</text>\n",
       "<polyline fill=\"none\" points=\"201,-106.5 284,-106.5 \" stroke=\"black\"/>\n",
       "<text font-family=\"Times,serif\" font-size=\"14.00\" text-anchor=\"middle\" x=\"242.5\" y=\"-91.3\">(None, 100)</text>\n",
       "</g>\n",
       "<!-- 139812172302376&#45;&gt;139814735539672 -->\n",
       "<g class=\"edge\" id=\"edge3\"><title>139812172302376-&gt;139814735539672</title>\n",
       "<path d=\"M164,-166.366C164,-158.152 164,-148.658 164,-139.725\" fill=\"none\" stroke=\"black\"/>\n",
       "<polygon fill=\"black\" points=\"167.5,-139.607 164,-129.607 160.5,-139.607 167.5,-139.607\" stroke=\"black\"/>\n",
       "</g>\n",
       "<!-- 139813641003920 -->\n",
       "<g class=\"node\" id=\"node5\"><title>139813641003920</title>\n",
       "<polygon fill=\"none\" points=\"44,-0.5 44,-46.5 284,-46.5 284,-0.5 44,-0.5\" stroke=\"black\"/>\n",
       "<text font-family=\"Times,serif\" font-size=\"14.00\" text-anchor=\"middle\" x=\"95\" y=\"-19.8\">dense_5: Dense</text>\n",
       "<polyline fill=\"none\" points=\"146,-0.5 146,-46.5 \" stroke=\"black\"/>\n",
       "<text font-family=\"Times,serif\" font-size=\"14.00\" text-anchor=\"middle\" x=\"173.5\" y=\"-31.3\">input:</text>\n",
       "<polyline fill=\"none\" points=\"146,-23.5 201,-23.5 \" stroke=\"black\"/>\n",
       "<text font-family=\"Times,serif\" font-size=\"14.00\" text-anchor=\"middle\" x=\"173.5\" y=\"-8.3\">output:</text>\n",
       "<polyline fill=\"none\" points=\"201,-0.5 201,-46.5 \" stroke=\"black\"/>\n",
       "<text font-family=\"Times,serif\" font-size=\"14.00\" text-anchor=\"middle\" x=\"242.5\" y=\"-31.3\">(None, 100)</text>\n",
       "<polyline fill=\"none\" points=\"201,-23.5 284,-23.5 \" stroke=\"black\"/>\n",
       "<text font-family=\"Times,serif\" font-size=\"14.00\" text-anchor=\"middle\" x=\"242.5\" y=\"-8.3\">(None, 10)</text>\n",
       "</g>\n",
       "<!-- 139814735539672&#45;&gt;139813641003920 -->\n",
       "<g class=\"edge\" id=\"edge4\"><title>139814735539672-&gt;139813641003920</title>\n",
       "<path d=\"M164,-83.3664C164,-75.1516 164,-65.6579 164,-56.7252\" fill=\"none\" stroke=\"black\"/>\n",
       "<polygon fill=\"black\" points=\"167.5,-56.6068 164,-46.6068 160.5,-56.6069 167.5,-56.6068\" stroke=\"black\"/>\n",
       "</g>\n",
       "</g>\n",
       "</svg>"
      ],
      "text/plain": [
       "<IPython.core.display.SVG object>"
      ]
     },
     "execution_count": 22,
     "metadata": {},
     "output_type": "execute_result"
    }
   ],
   "source": [
    "from IPython.display import SVG\n",
    "from tensorflow.python.keras.utils.vis_utils import model_to_dot\n",
    "SVG(model_to_dot(model, show_shapes=True).create(prog='dot', format='svg'))"
   ]
  },
  {
   "cell_type": "markdown",
   "metadata": {},
   "source": [
    "### 2.4)优化模型\n",
    "After a model is created, you must call its `compile()` method to specify the `loss` function and the `optimizer` to use. In this case, you want to use the `\"sparse_categorical_crossentropy\"` loss, and the `\"sgd\"` optimizer (stochastic gradient descent). Moreover, you can optionally specify a list of additional metrics that should be measured during training. In this case you should specify `metrics=[\"accuracy\"]`. **Note**: you can find more loss functions in `keras.losses`, more metrics in `keras.metrics` and more optimizers in `keras.optimizers`."
   ]
  },
  {
   "cell_type": "code",
   "execution_count": 23,
   "metadata": {},
   "outputs": [],
   "source": [
    "model.compile(loss=\"sparse_categorical_crossentropy\",\n",
    "              optimizer=\"sgd\", metrics=[\"accuracy\"])"
   ]
  },
  {
   "cell_type": "markdown",
   "metadata": {},
   "source": [
    "### 2.5)训练模型\n",
    "Now your model is ready to be trained. Call its `fit()` method, passing it the input features (`X_train`) and the target classes (`y_train`). Set `epochs=10` (or else it will just run for a single epoch). You can also (optionally) pass the validation data by setting `validation_data=(X_valid, y_valid)`. If you do, Keras will compute the loss and the additional metrics (the accuracy in this case) on the validation set at the end of each epoch. If the performance on the training set is much better than on the validation set, your model is probably overfitting the training set (or there is a bug, such as a mismatch between the training set and the validation set).\n",
    "**Note**: the `fit()` method will return a `History` object containing training stats. Make sure to preserve it (`history = model.fit(...)`)."
   ]
  },
  {
   "cell_type": "code",
   "execution_count": 24,
   "metadata": {},
   "outputs": [
    {
     "name": "stderr",
     "output_type": "stream",
     "text": [
      "WARNING: Logging before flag parsing goes to stderr.\n",
      "W0627 22:42:20.028981 139815681652480 deprecation.py:323] From /home/tf2/anaconda3/lib/python3.6/site-packages/tensorflow/python/ops/math_grad.py:1250: add_dispatch_support.<locals>.wrapper (from tensorflow.python.ops.array_ops) is deprecated and will be removed in a future version.\n",
      "Instructions for updating:\n",
      "Use tf.where in 2.0, which has the same broadcast rule as np.where\n"
     ]
    },
    {
     "name": "stdout",
     "output_type": "stream",
     "text": [
      "Train on 55000 samples, validate on 5000 samples\n",
      "Epoch 1/10\n",
      "55000/55000 [==============================] - 6s 103us/sample - loss: 14.5048 - accuracy: 0.1001 - val_loss: 14.5289 - val_accuracy: 0.0986\n",
      "Epoch 2/10\n",
      "55000/55000 [==============================] - 6s 100us/sample - loss: 14.5042 - accuracy: 0.1001 - val_loss: 14.5289 - val_accuracy: 0.0986\n",
      "Epoch 3/10\n",
      "55000/55000 [==============================] - 5s 100us/sample - loss: 14.5042 - accuracy: 0.1001 - val_loss: 14.5289 - val_accuracy: 0.0986\n",
      "Epoch 4/10\n",
      "55000/55000 [==============================] - 5s 100us/sample - loss: 14.5042 - accuracy: 0.1001 - val_loss: 14.5289 - val_accuracy: 0.0986\n",
      "Epoch 5/10\n",
      "55000/55000 [==============================] - 5s 99us/sample - loss: 14.5042 - accuracy: 0.1001 - val_loss: 14.5289 - val_accuracy: 0.0986\n",
      "Epoch 6/10\n",
      "55000/55000 [==============================] - 6s 101us/sample - loss: 14.5042 - accuracy: 0.1001 - val_loss: 14.5289 - val_accuracy: 0.0986\n",
      "Epoch 7/10\n",
      "55000/55000 [==============================] - 6s 101us/sample - loss: 14.5042 - accuracy: 0.1001 - val_loss: 14.5289 - val_accuracy: 0.0986\n",
      "Epoch 8/10\n",
      "55000/55000 [==============================] - 5s 100us/sample - loss: 14.5042 - accuracy: 0.1001 - val_loss: 14.5289 - val_accuracy: 0.0986\n",
      "Epoch 9/10\n",
      "55000/55000 [==============================] - 6s 103us/sample - loss: 14.5042 - accuracy: 0.1001 - val_loss: 14.5289 - val_accuracy: 0.0986\n",
      "Epoch 10/10\n",
      "55000/55000 [==============================] - 6s 101us/sample - loss: 14.5042 - accuracy: 0.1001 - val_loss: 14.5289 - val_accuracy: 0.0986\n"
     ]
    }
   ],
   "source": [
    "history = model.fit(X_train, y_train, epochs=10,\n",
    "                    validation_data=(X_valid, y_valid))"
   ]
  },
  {
   "cell_type": "code",
   "execution_count": 25,
   "metadata": {},
   "outputs": [
    {
     "data": {
      "text/plain": [
       "{'accuracy': [0.100090906,\n",
       "  0.10012727,\n",
       "  0.10012727,\n",
       "  0.10012727,\n",
       "  0.10012727,\n",
       "  0.10012727,\n",
       "  0.10012727,\n",
       "  0.10012727,\n",
       "  0.10012727,\n",
       "  0.10012727],\n",
       " 'loss': [14.50476483112682,\n",
       "  14.504234296902743,\n",
       "  14.504234285111862,\n",
       "  14.504234271933816,\n",
       "  14.504234279424495,\n",
       "  14.504234304532138,\n",
       "  14.50423430189653,\n",
       "  14.504234303977272,\n",
       "  14.504234288441051,\n",
       "  14.50423428663774],\n",
       " 'val_accuracy': [0.0986,\n",
       "  0.0986,\n",
       "  0.0986,\n",
       "  0.0986,\n",
       "  0.0986,\n",
       "  0.0986,\n",
       "  0.0986,\n",
       "  0.0986,\n",
       "  0.0986,\n",
       "  0.0986],\n",
       " 'val_loss': [14.528851023864746,\n",
       "  14.528851000976562,\n",
       "  14.52885098876953,\n",
       "  14.52885103149414,\n",
       "  14.528850982666016,\n",
       "  14.528851020812988,\n",
       "  14.528851007080078,\n",
       "  14.528850978088379,\n",
       "  14.528851020812988,\n",
       "  14.528851063537598]}"
      ]
     },
     "execution_count": 25,
     "metadata": {},
     "output_type": "execute_result"
    }
   ],
   "source": [
    "history.history"
   ]
  },
  {
   "cell_type": "markdown",
   "metadata": {},
   "source": [
    "### 2.6)绘制学习曲线\n",
    "Try running `pd.DataFrame(history.history).plot()` to plot the learning curves. To make the graph more readable, you can also set `figsize=(8, 5)`, call `plt.grid(True)` and `plt.gca().set_ylim(0, 1)`."
   ]
  },
  {
   "cell_type": "code",
   "execution_count": 47,
   "metadata": {},
   "outputs": [],
   "source": [
    "def plot_learning_curves(history):\n",
    "    pd.DataFrame(history.history).plot(figsize=(8, 5))\n",
    "    plt.grid(True)\n",
    "    plt.gca().set_ylim(0, 1)\n",
    "    plt.show()"
   ]
  },
  {
   "cell_type": "code",
   "execution_count": 27,
   "metadata": {},
   "outputs": [
    {
     "data": {
      "image/png": "[encoded data removed]",
      "text/plain": [
       "<matplotlib.figure.Figure at 0x7f295a8a8748>"
      ]
     },
     "metadata": {},
     "output_type": "display_data"
    }
   ],
   "source": [
    "plot_learning_curves(history)"
   ]
  },
  {
   "cell_type": "markdown",
   "metadata": {},
   "source": [
    "### 2.7)继续训练(在原有的基础上)\n",
    "Try running `model.fit()` again, and notice that training continues where it left off."
   ]
  },
  {
   "cell_type": "code",
   "execution_count": 28,
   "metadata": {},
   "outputs": [
    {
     "name": "stdout",
     "output_type": "stream",
     "text": [
      "Train on 55000 samples, validate on 5000 samples\n",
      "Epoch 1/10\n",
      "55000/55000 [==============================] - 6s 101us/sample - loss: 14.5042 - accuracy: 0.1001 - val_loss: 14.5289 - val_accuracy: 0.0986\n",
      "Epoch 2/10\n",
      "55000/55000 [==============================] - 6s 104us/sample - loss: 14.5042 - accuracy: 0.1001 - val_loss: 14.5289 - val_accuracy: 0.0986\n",
      "Epoch 3/10\n",
      "55000/55000 [==============================] - 6s 102us/sample - loss: 14.5042 - accuracy: 0.1001 - val_loss: 14.5289 - val_accuracy: 0.0986\n",
      "Epoch 4/10\n",
      "55000/55000 [==============================] - 6s 103us/sample - loss: 14.5042 - accuracy: 0.1001 - val_loss: 14.5289 - val_accuracy: 0.0986\n",
      "Epoch 5/10\n",
      "55000/55000 [==============================] - 6s 102us/sample - loss: 14.5042 - accuracy: 0.1001 - val_loss: 14.5289 - val_accuracy: 0.0986\n",
      "Epoch 6/10\n",
      "55000/55000 [==============================] - 6s 102us/sample - loss: 14.5042 - accuracy: 0.1001 - val_loss: 14.5289 - val_accuracy: 0.0986\n",
      "Epoch 7/10\n",
      "55000/55000 [==============================] - 6s 103us/sample - loss: 14.5042 - accuracy: 0.1001 - val_loss: 14.5289 - val_accuracy: 0.0986\n",
      "Epoch 8/10\n",
      "55000/55000 [==============================] - 6s 101us/sample - loss: 14.5042 - accuracy: 0.1001 - val_loss: 14.5289 - val_accuracy: 0.0986\n",
      "Epoch 9/10\n",
      "55000/55000 [==============================] - 6s 102us/sample - loss: 14.5042 - accuracy: 0.1001 - val_loss: 14.5289 - val_accuracy: 0.0986\n",
      "Epoch 10/10\n",
      "55000/55000 [==============================] - 6s 101us/sample - loss: 14.5042 - accuracy: 0.1001 - val_loss: 14.5289 - val_accuracy: 0.0986\n"
     ]
    }
   ],
   "source": [
    "history = model.fit(X_train, y_train, epochs=10,\n",
    "                    validation_data=(X_valid, y_valid))"
   ]
  },
  {
   "cell_type": "markdown",
   "metadata": {},
   "source": [
    "### 2.8)评估模型\n",
    "Call the model's `evaluate()` method, passing it the test set (`X_test` and `y_test`). This will compute the loss (cross-entropy) on the test set, as well as all the additional metrics (in this case, the accuracy). Your model should achieve over 80% accuracy on the test set."
   ]
  },
  {
   "cell_type": "code",
   "execution_count": 29,
   "metadata": {},
   "outputs": [
    {
     "name": "stdout",
     "output_type": "stream",
     "text": [
      "10000/10000 [==============================] - 1s 52us/sample - loss: 14.5063 - accuracy: 0.1000\n"
     ]
    },
    {
     "data": {
      "text/plain": [
       "[14.50628568725586, 0.1]"
      ]
     },
     "execution_count": 29,
     "metadata": {},
     "output_type": "execute_result"
    }
   ],
   "source": [
    "model.evaluate(X_test, y_test)"
   ]
  },
  {
   "cell_type": "markdown",
   "metadata": {},
   "source": [
    "### 2.9)做预测\n",
    "Define `X_new` as the first 10 instances of the test set. Call the model's `predict()` method to estimate the probability of each class for each instance (for better readability, you may use the output array's `round()` method):"
   ]
  },
  {
   "cell_type": "code",
   "execution_count": 30,
   "metadata": {},
   "outputs": [
    {
     "data": {
      "text/plain": [
       "array([[0., 0., 0., 0., 0., 1., 0., 0., 0., 0.],\n",
       "       [0., 0., 0., 0., 0., 1., 0., 0., 0., 0.],\n",
       "       [0., 0., 0., 0., 0., 1., 0., 0., 0., 0.],\n",
       "       [0., 0., 0., 0., 0., 1., 0., 0., 0., 0.],\n",
       "       [0., 0., 0., 0., 0., 1., 0., 0., 0., 0.],\n",
       "       [0., 0., 0., 0., 0., 1., 0., 0., 0., 0.],\n",
       "       [0., 0., 0., 0., 0., 1., 0., 0., 0., 0.],\n",
       "       [0., 0., 0., 0., 0., 1., 0., 0., 0., 0.],\n",
       "       [0., 0., 0., 0., 0., 1., 0., 0., 0., 0.],\n",
       "       [0., 0., 0., 0., 0., 1., 0., 0., 0., 0.]], dtype=float32)"
      ]
     },
     "execution_count": 30,
     "metadata": {},
     "output_type": "execute_result"
    }
   ],
   "source": [
    "n_new = 10\n",
    "X_new = X_test[:n_new]\n",
    "y_proba = model.predict(X_new)\n",
    "y_proba.round(2)"
   ]
  },
  {
   "cell_type": "markdown",
   "metadata": {},
   "source": [
    "### 2.10)以编号方式显示结果\n",
    "Often, you may only be interested in the most likely class. Use `np.argmax()` to get the class ID of the most likely class for each instance. **Tip**: you want to set `axis=1`."
   ]
  },
  {
   "cell_type": "code",
   "execution_count": 31,
   "metadata": {},
   "outputs": [
    {
     "data": {
      "text/plain": [
       "array([5, 5, 5, 5, 5, 5, 5, 5, 5, 5])"
      ]
     },
     "execution_count": 31,
     "metadata": {},
     "output_type": "execute_result"
    }
   ],
   "source": [
    "y_pred = y_proba.argmax(axis=1)\n",
    "y_pred"
   ]
  },
  {
   "cell_type": "markdown",
   "metadata": {},
   "source": [
    "### 2.11)\n",
    "Call the model's `predict_classes()` method for `X_new`. You should get the same result as above."
   ]
  },
  {
   "cell_type": "code",
   "execution_count": 32,
   "metadata": {},
   "outputs": [
    {
     "data": {
      "text/plain": [
       "array([5, 5, 5, 5, 5, 5, 5, 5, 5, 5])"
      ]
     },
     "execution_count": 32,
     "metadata": {},
     "output_type": "execute_result"
    }
   ],
   "source": [
    "y_pred = model.predict_classes(X_new)\n",
    "y_pred"
   ]
  },
  {
   "cell_type": "markdown",
   "metadata": {},
   "source": [
    "### 2.12)返回每个预测的置信度\n",
    "(Optional) It is often useful to know how confident the model is for each prediction. Try finding the estimated probability for each predicted class using `np.max()`."
   ]
  },
  {
   "cell_type": "code",
   "execution_count": 33,
   "metadata": {},
   "outputs": [
    {
     "data": {
      "text/plain": [
       "array([1., 1., 1., 1., 1., 1., 1., 1., 1., 1.], dtype=float32)"
      ]
     },
     "execution_count": 33,
     "metadata": {},
     "output_type": "execute_result"
    }
   ],
   "source": [
    "y_proba.max(axis=1).round(2)"
   ]
  },
  {
   "cell_type": "markdown",
   "metadata": {},
   "source": [
    "### 2.13)按置信度排,显示前三个\n",
    "(Optional) It is frequent to want the top k classes and their estimated probabilities rather just the most likely class. You can use `np.argsort()` for this."
   ]
  },
  {
   "cell_type": "code",
   "execution_count": 34,
   "metadata": {},
   "outputs": [
    {
     "data": {
      "text/plain": [
       "array([[5, 0, 1],\n",
       "       [5, 0, 1],\n",
       "       [5, 0, 1],\n",
       "       [5, 0, 1],\n",
       "       [5, 0, 1],\n",
       "       [5, 0, 1],\n",
       "       [5, 0, 1],\n",
       "       [5, 0, 1],\n",
       "       [5, 0, 1],\n",
       "       [5, 0, 1]])"
      ]
     },
     "execution_count": 34,
     "metadata": {},
     "output_type": "execute_result"
    }
   ],
   "source": [
    "k = 3\n",
    "top_k = np.argsort(-y_proba, axis=1)[:, :k]\n",
    "top_k"
   ]
  },
  {
   "cell_type": "code",
   "execution_count": 35,
   "metadata": {},
   "outputs": [
    {
     "data": {
      "text/plain": [
       "array([[1., 0., 0.],\n",
       "       [1., 0., 0.],\n",
       "       [1., 0., 0.],\n",
       "       [1., 0., 0.],\n",
       "       [1., 0., 0.],\n",
       "       [1., 0., 0.],\n",
       "       [1., 0., 0.],\n",
       "       [1., 0., 0.],\n",
       "       [1., 0., 0.],\n",
       "       [1., 0., 0.]], dtype=float32)"
      ]
     },
     "execution_count": 35,
     "metadata": {},
     "output_type": "execute_result"
    }
   ],
   "source": [
    "row_indices = np.tile(np.arange(len(top_k)), [k, 1]).T\n",
    "y_proba[row_indices, top_k].round(2)"
   ]
  },
  {
   "cell_type": "markdown",
   "metadata": {},
   "source": [
    "## Exercise 3 – Scale the features"
   ]
  },
  {
   "cell_type": "markdown",
   "metadata": {},
   "source": [
    "### 3.1)对原始数据做归一化处理\n",
    "When using Gradient Descent, it is usually best to ensure that the features all have a similar scale, preferably with a Normal distribution. Try to standardize the pixel values and see if this improves the performance of your neural network.\n",
    "\n",
    "**Tips**:\n",
    "* For each feature (pixel intensity), you must subtract the `mean()` of that feature (across all instances, so use `axis=0`) and divide by its standard deviation (`std()`, again `axis=0`). Alternatively, you can use Scikit-Learn's `StandardScaler`.\n",
    "* Make sure you compute the means and standard deviations on the training set, and use these statistics to scale the training set, the validation set and the test set (you should not fit the validation set or the test set, and computing the means and standard deviations counts as \"fitting\")."
   ]
  },
  {
   "cell_type": "markdown",
   "metadata": {},
   "source": [
    "给所有样本在每一个维度做归一化处理"
   ]
  },
  {
   "cell_type": "code",
   "execution_count": 36,
   "metadata": {},
   "outputs": [],
   "source": [
    "pixel_means = X_train.mean(axis = 0)\n",
    "pixel_stds = X_train.std(axis = 0)\n",
    "X_train_scaled = (X_train - pixel_means) / pixel_stds\n",
    "X_valid_scaled = (X_valid - pixel_means) / pixel_stds\n",
    "X_test_scaled = (X_test - pixel_means) / pixel_stds"
   ]
  },
  {
   "cell_type": "markdown",
   "metadata": {},
   "source": [
    "用现有的函数完成数据的预处理  \n",
    "只计算训练集的均值和方差,并用它来归一化训练集/验证机和测试集"
   ]
  },
  {
   "cell_type": "code",
   "execution_count": 42,
   "metadata": {},
   "outputs": [],
   "source": [
    "from sklearn.preprocessing import StandardScaler\n",
    "\n",
    "scaler = StandardScaler()\n",
    "X_train_scaled = scaler.fit_transform(X_train.astype(np.float32).reshape(-1, 28 * 28)).reshape(-1, 28, 28)\n",
    "X_valid_scaled = scaler.transform(X_valid.astype(np.float32).reshape(-1, 28 * 28)).reshape(-1, 28, 28)\n",
    "X_test_scaled = scaler.transform(X_test.astype(np.float32).reshape(-1, 28 * 28)).reshape(-1, 28, 28)"
   ]
  },
  {
   "cell_type": "code",
   "execution_count": 43,
   "metadata": {},
   "outputs": [
    {
     "name": "stdout",
     "output_type": "stream",
     "text": [
      "Train on 55000 samples, validate on 5000 samples\n",
      "Epoch 1/20\n",
      "55000/55000 [==============================] - 6s 106us/sample - loss: 0.5221 - accuracy: 0.8163 - val_loss: 0.3972 - val_accuracy: 0.8578\n",
      "Epoch 2/20\n",
      "55000/55000 [==============================] - 6s 102us/sample - loss: 0.3668 - accuracy: 0.8681 - val_loss: 0.3545 - val_accuracy: 0.8748\n",
      "Epoch 3/20\n",
      "55000/55000 [==============================] - 6s 102us/sample - loss: 0.3270 - accuracy: 0.8835 - val_loss: 0.3390 - val_accuracy: 0.8784\n",
      "Epoch 4/20\n",
      "55000/55000 [==============================] - 5s 99us/sample - loss: 0.3004 - accuracy: 0.8906 - val_loss: 0.3295 - val_accuracy: 0.8842\n",
      "Epoch 5/20\n",
      "55000/55000 [==============================] - 6s 100us/sample - loss: 0.2794 - accuracy: 0.8995 - val_loss: 0.3207 - val_accuracy: 0.8856\n",
      "Epoch 6/20\n",
      "55000/55000 [==============================] - 6s 100us/sample - loss: 0.2633 - accuracy: 0.9044 - val_loss: 0.3149 - val_accuracy: 0.8874\n",
      "Epoch 7/20\n",
      "55000/55000 [==============================] - 6s 100us/sample - loss: 0.2474 - accuracy: 0.9108 - val_loss: 0.3112 - val_accuracy: 0.8920\n",
      "Epoch 8/20\n",
      "55000/55000 [==============================] - 6s 101us/sample - loss: 0.2339 - accuracy: 0.9155 - val_loss: 0.3128 - val_accuracy: 0.8910\n",
      "Epoch 9/20\n",
      "55000/55000 [==============================] - 5s 99us/sample - loss: 0.2218 - accuracy: 0.9214 - val_loss: 0.3035 - val_accuracy: 0.8902\n",
      "Epoch 10/20\n",
      "55000/55000 [==============================] - 6s 100us/sample - loss: 0.2097 - accuracy: 0.9259 - val_loss: 0.3080 - val_accuracy: 0.8922\n",
      "Epoch 11/20\n",
      "55000/55000 [==============================] - 5s 100us/sample - loss: 0.1996 - accuracy: 0.9288 - val_loss: 0.3059 - val_accuracy: 0.8910\n",
      "Epoch 12/20\n",
      "55000/55000 [==============================] - 6s 100us/sample - loss: 0.1895 - accuracy: 0.9326 - val_loss: 0.3152 - val_accuracy: 0.8910\n",
      "Epoch 13/20\n",
      "55000/55000 [==============================] - 6s 100us/sample - loss: 0.1797 - accuracy: 0.9361 - val_loss: 0.3168 - val_accuracy: 0.8910\n",
      "Epoch 14/20\n",
      "55000/55000 [==============================] - 5s 98us/sample - loss: 0.1709 - accuracy: 0.9395 - val_loss: 0.3088 - val_accuracy: 0.8916\n",
      "Epoch 15/20\n",
      "55000/55000 [==============================] - 6s 100us/sample - loss: 0.1627 - accuracy: 0.9434 - val_loss: 0.3189 - val_accuracy: 0.8894\n",
      "Epoch 16/20\n",
      "55000/55000 [==============================] - 5s 100us/sample - loss: 0.1536 - accuracy: 0.9465 - val_loss: 0.3203 - val_accuracy: 0.8926\n",
      "Epoch 17/20\n",
      "55000/55000 [==============================] - 6s 101us/sample - loss: 0.1468 - accuracy: 0.9492 - val_loss: 0.3205 - val_accuracy: 0.8898\n",
      "Epoch 18/20\n",
      "55000/55000 [==============================] - 6s 102us/sample - loss: 0.1379 - accuracy: 0.9533 - val_loss: 0.3256 - val_accuracy: 0.8934\n",
      "Epoch 19/20\n",
      "55000/55000 [==============================] - 6s 101us/sample - loss: 0.1306 - accuracy: 0.9559 - val_loss: 0.3298 - val_accuracy: 0.8946\n",
      "Epoch 20/20\n",
      "55000/55000 [==============================] - 5s 98us/sample - loss: 0.1251 - accuracy: 0.9574 - val_loss: 0.3377 - val_accuracy: 0.8926\n"
     ]
    }
   ],
   "source": [
    "model = keras.models.Sequential([\n",
    "    keras.layers.Flatten(input_shape=[28, 28]),\n",
    "    keras.layers.Dense(300, activation=\"relu\"),\n",
    "    keras.layers.Dense(100, activation=\"relu\"),\n",
    "    keras.layers.Dense(10, activation=\"softmax\")\n",
    "])\n",
    "model.compile(loss=\"sparse_categorical_crossentropy\",\n",
    "              optimizer=\"sgd\", metrics=[\"accuracy\"])\n",
    "history = model.fit(X_train_scaled, y_train, epochs=20,\n",
    "                    validation_data=(X_valid_scaled, y_valid))"
   ]
  },
  {
   "cell_type": "code",
   "execution_count": 38,
   "metadata": {},
   "outputs": [
    {
     "name": "stdout",
     "output_type": "stream",
     "text": [
      "10000/10000 [==============================] - 1s 61us/sample - loss: 0.3477 - accuracy: 0.8912\n"
     ]
    },
    {
     "data": {
      "text/plain": [
       "[0.3476964694976807, 0.8912]"
      ]
     },
     "execution_count": 38,
     "metadata": {},
     "output_type": "execute_result"
    }
   ],
   "source": [
    "model.evaluate(X_test_scaled, y_test)"
   ]
  },
  {
   "cell_type": "markdown",
   "metadata": {},
   "source": [
    "### 3.2)绘制学习曲线\n",
    "Plot the learning curves. Do they look better than earlier?"
   ]
  },
  {
   "cell_type": "code",
   "execution_count": 44,
   "metadata": {
    "scrolled": true
   },
   "outputs": [
    {
     "data": {
      "image/png": "[encoded data removed]",
      "text/plain": [
       "<matplotlib.figure.Figure at 0x7f292025ccc0>"
      ]
     },
     "metadata": {},
     "output_type": "display_data"
    }
   ],
   "source": [
    "plot_learning_curves(history)"
   ]
  },
  {
   "cell_type": "markdown",
   "metadata": {},
   "source": [
    "## Exercise 4 – Use Callbacks使用Callbacks机制"
   ]
  },
  {
   "cell_type": "markdown",
   "metadata": {},
   "source": [
    "### 4.1)记录日志/设置提前终止/保存最佳模型\n",
    "The `fit()` method accepts a `callbacks` argument. Try training your model with a large number of epochs, a validation set, and with a few callbacks from `keras.callbacks`:\n",
    "* `TensorBoard`: specify a log directory. It should be a subdirectory of a root logdir, such as `./my_logs/run_1`, and it should be different every time you train your model. You can use a timestamp in the subdirectory's path to ensure that it changes at every run.\n",
    "* `EarlyStopping`: specify `patience=5`\n",
    "* `ModelCheckpoint`: specify the path of the checkpoint file to save (e.g., `\"my_mnist_model.h5\"`) and set `save_best_only=True`\n",
    "\n",
    "Notice that the `EarlyStopping` callback will interrupt training before it reaches the requested number of epochs. This reduces the risk of overfitting."
   ]
  },
  {
   "cell_type": "code",
   "execution_count": 49,
   "metadata": {},
   "outputs": [],
   "source": [
    "model = keras.models.Sequential([\n",
    "    keras.layers.Flatten(input_shape=[28, 28]),\n",
    "    keras.layers.Dense(300, activation=\"relu\"),\n",
    "    keras.layers.Dense(100, activation=\"relu\"),\n",
    "    keras.layers.Dense(10, activation=\"softmax\")\n",
    "])\n",
    "model.compile(loss=\"sparse_categorical_crossentropy\",\n",
    "              optimizer=\"sgd\", metrics=[\"accuracy\"])"
   ]
  },
  {
   "cell_type": "code",
   "execution_count": 45,
   "metadata": {},
   "outputs": [],
   "source": [
    "#创建模型保存路径\n",
    "root_logdir = os.path.join(os.curdir, \"my_logs\")"
   ]
  },
  {
   "cell_type": "code",
   "execution_count": 58,
   "metadata": {},
   "outputs": [
    {
     "name": "stdout",
     "output_type": "stream",
     "text": [
      "Train on 55000 samples, validate on 5000 samples\n",
      "Epoch 1/50\n",
      "55000/55000 [==============================] - 6s 103us/sample - loss: 0.0768 - accuracy: 0.9755 - val_loss: 0.3749 - val_accuracy: 0.8964\n",
      "Epoch 2/50\n",
      "55000/55000 [==============================] - 6s 100us/sample - loss: 0.0725 - accuracy: 0.9770 - val_loss: 0.4062 - val_accuracy: 0.8868\n",
      "Epoch 3/50\n",
      "55000/55000 [==============================] - 6s 100us/sample - loss: 0.0680 - accuracy: 0.9788 - val_loss: 0.4097 - val_accuracy: 0.8946\n",
      "Epoch 4/50\n",
      "55000/55000 [==============================] - 6s 101us/sample - loss: 0.0638 - accuracy: 0.9809 - val_loss: 0.3968 - val_accuracy: 0.8946\n",
      "Epoch 5/50\n",
      "55000/55000 [==============================] - 5s 100us/sample - loss: 0.0601 - accuracy: 0.9819 - val_loss: 0.4143 - val_accuracy: 0.8928\n",
      "Epoch 6/50\n",
      "55000/55000 [==============================] - 6s 101us/sample - loss: 0.0570 - accuracy: 0.9829 - val_loss: 0.4071 - val_accuracy: 0.8918\n"
     ]
    }
   ],
   "source": [
    "#每运行一次创建一个文件夹保存相关内容\n",
    "logdir = os.path.join(root_logdir, \"run_{}\".format(time.time()))\n",
    "\n",
    "callbacks = [\n",
    "    keras.callbacks.TensorBoard(logdir),\n",
    "    keras.callbacks.EarlyStopping(patience=5),\n",
    "    keras.callbacks.ModelCheckpoint(\"my_mnist_model.h5\", save_best_only=True),\n",
    "]\n",
    "history = model.fit(X_train_scaled, y_train, epochs=50,\n",
    "                    validation_data=(X_valid_scaled, y_valid),\n",
    "                    callbacks=callbacks)"
   ]
  },
  {
   "cell_type": "markdown",
   "metadata": {},
   "source": [
    "### 4.2)Tensorboard\n",
    "The Jupyter plugin for tensorboard was loaded at the beginning of this notebook (`%load_ext tensorboard.notebook`), so you can now simply start it by using the `%tensorboard` magic command. Explore the various tabs available, in particular the SCALARS tab to view learning curves, the GRAPHS tab to view the computation graph, and the PROFILE tab which is very useful to identify bottlenecks if you run into performance issues."
   ]
  },
  {
   "cell_type": "code",
   "execution_count": 53,
   "metadata": {},
   "outputs": [
    {
     "data": {
      "text/html": [
       "\n",
       "        <iframe\n",
       "            width=\"100%\"\n",
       "            height=\"800\"\n",
       "            src=\"http://localhost:6007\"\n",
       "            frameborder=\"0\"\n",
       "            allowfullscreen\n",
       "        ></iframe>\n",
       "        "
      ],
      "text/plain": [
       "<IPython.lib.display.IFrame at 0x7f29206899b0>"
      ]
     },
     "metadata": {},
     "output_type": "display_data"
    }
   ],
   "source": [
    "%tensorboard --logdir=./my_logs"
   ]
  },
  {
   "cell_type": "markdown",
   "metadata": {},
   "source": [
    "### 4.3)加载保存的模型\n",
    "The early stopping callback only stopped training after 10 epochs without progress, so your model may already have started to overfit the training set. Fortunately, since the `ModelCheckpoint` callback only saved the best models (on the validation set), the last saved model is the best on the validation set, so try loading it using `keras.models.load_model()`. Finally evaluate it on the test set."
   ]
  },
  {
   "cell_type": "code",
   "execution_count": null,
   "metadata": {
    "collapsed": true
   },
   "outputs": [],
   "source": [
    "model = keras.models.load_model(\"my_mnist_model.h5\")"
   ]
  },
  {
   "cell_type": "code",
   "execution_count": null,
   "metadata": {
    "collapsed": true
   },
   "outputs": [],
   "source": [
    "model.evaluate(X_valid_scaled, y_valid)"
   ]
  },
  {
   "cell_type": "markdown",
   "metadata": {},
   "source": [
    "### 4.4)查看跟多关于Callbacks\n",
    "Look at the list of available callbacks at https://keras.io/callbacks/"
   ]
  },
  {
   "cell_type": "markdown",
   "metadata": {},
   "source": [
    "## Exercise 5 – A neural net for regression神经网络做回归"
   ]
  },
  {
   "cell_type": "markdown",
   "metadata": {},
   "source": [
    "### 5.1)加载数据\n",
    "Load the California housing dataset using `sklearn.datasets.fetch_california_housing`. This returns an object with a `DESCR` attribute describing the dataset, a `data` attribute with the input features, and a `target` attribute with the labels. The goal is to predict the price of houses in a district (a census block) given some stats about that district. This is a regression task (predicting values)."
   ]
  },
  {
   "cell_type": "code",
   "execution_count": 6,
   "metadata": {},
   "outputs": [],
   "source": [
    "from sklearn.datasets import fetch_california_housing\n",
    "housing = fetch_california_housing()"
   ]
  },
  {
   "cell_type": "code",
   "execution_count": 7,
   "metadata": {},
   "outputs": [
    {
     "name": "stdout",
     "output_type": "stream",
     "text": [
      "California housing dataset.\n",
      "\n",
      "The original database is available from StatLib\n",
      "\n",
      "    http://lib.stat.cmu.edu/datasets/\n",
      "\n",
      "The data contains 20,640 observations on 9 variables.\n",
      "\n",
      "This dataset contains the average house value as target variable\n",
      "and the following input variables (features): average income,\n",
      "housing average age, average rooms, average bedrooms, population,\n",
      "average occupation, latitude, and longitude in that order.\n",
      "\n",
      "References\n",
      "----------\n",
      "\n",
      "Pace, R. Kelley and Ronald Barry, Sparse Spatial Autoregressions,\n",
      "Statistics and Probability Letters, 33 (1997) 291-297.\n",
      "\n",
      "\n"
     ]
    }
   ],
   "source": [
    "print(housing.DESCR)"
   ]
  },
  {
   "cell_type": "code",
   "execution_count": 8,
   "metadata": {},
   "outputs": [
    {
     "data": {
      "text/plain": [
       "(20640, 8)"
      ]
     },
     "execution_count": 8,
     "metadata": {},
     "output_type": "execute_result"
    }
   ],
   "source": [
    "housing.data.shape"
   ]
  },
  {
   "cell_type": "code",
   "execution_count": 9,
   "metadata": {},
   "outputs": [
    {
     "data": {
      "text/plain": [
       "(20640,)"
      ]
     },
     "execution_count": 9,
     "metadata": {},
     "output_type": "execute_result"
    }
   ],
   "source": [
    "housing.target.shape"
   ]
  },
  {
   "cell_type": "markdown",
   "metadata": {},
   "source": [
    "### 5.2)将数据划分为训练集/测试集/验证集\n",
    "Split the dataset into a training set, a validation set and a test set using Scikit-Learn's `sklearn.model_selection.train_test_split()` function."
   ]
  },
  {
   "cell_type": "code",
   "execution_count": 10,
   "metadata": {},
   "outputs": [],
   "source": [
    "from sklearn.model_selection import train_test_split\n",
    "\n",
    "X_train_full, X_test, y_train_full, y_test = train_test_split(housing.data, housing.target, random_state=42)\n",
    "X_train, X_valid, y_train, y_valid = train_test_split(X_train_full, y_train_full, random_state=42)"
   ]
  },
  {
   "cell_type": "code",
   "execution_count": 11,
   "metadata": {},
   "outputs": [
    {
     "data": {
      "text/plain": [
       "(11610, 3870, 5160)"
      ]
     },
     "execution_count": 11,
     "metadata": {},
     "output_type": "execute_result"
    }
   ],
   "source": [
    "len(X_train), len(X_valid), len(X_test)"
   ]
  },
  {
   "cell_type": "code",
   "execution_count": 12,
   "metadata": {},
   "outputs": [
    {
     "data": {
      "text/plain": [
       "(11610, 8)"
      ]
     },
     "execution_count": 12,
     "metadata": {},
     "output_type": "execute_result"
    }
   ],
   "source": [
    "X_train.shape"
   ]
  },
  {
   "cell_type": "markdown",
   "metadata": {},
   "source": [
    "### 5.3)数据预处理(归一化)\n",
    "Scale the input features (e.g., using a `sklearn.preprocessing.StandardScaler`). Once again, don't forget that you should not fit the validation set or the test set, only the training set."
   ]
  },
  {
   "cell_type": "code",
   "execution_count": 13,
   "metadata": {},
   "outputs": [],
   "source": [
    "from sklearn.preprocessing import StandardScaler\n",
    "\n",
    "scaler = StandardScaler()\n",
    "X_train_scaled = scaler.fit_transform(X_train)\n",
    "X_valid_scaled = scaler.transform(X_valid)\n",
    "X_test_scaled = scaler.transform(X_test)"
   ]
  },
  {
   "cell_type": "markdown",
   "metadata": {},
   "source": [
    "### 5.4)开始\n",
    "Now build, train and evaluate a neural network to tackle this problem. Then use it to make predictions on the test set.\n",
    "\n",
    "**Tips**:\n",
    "* Since you are predicting a single value per district (the median house price), there should only be one neuron in the output layer.\n",
    "* Usually for regression tasks you don't want to use any activation function in the output layer (in some cases you may want to use `\"relu\"` or `\"softplus\"` if you want to constrain the predicted values to be positive, or `\"sigmoid\"` or `\"tanh\"` if you want to constrain the predicted values to 0-1 or -1-1).\n",
    "* A good loss function for regression is generally the `\"mean_squared_error\"` (aka `\"mse\"`). When there are many outliers in your dataset, you may prefer to use the `\"mean_absolute_error\"` (aka `\"mae\"`), which is a bit less precise but less sensitive to outliers.当数据存在异常值时,可以使用\"mae\"损失,它对异常值不那么敏感."
   ]
  },
  {
   "cell_type": "code",
   "execution_count": 67,
   "metadata": {},
   "outputs": [],
   "source": [
    "model = keras.models.Sequential([\n",
    "    keras.layers.Dense(30, activation=\"relu\", input_shape=X_train.shape[1:]),\n",
    "    keras.layers.Dense(1)\n",
    "])\n",
    "model.compile(loss=\"mean_squared_error\", optimizer=\"sgd\")"
   ]
  },
  {
   "cell_type": "code",
   "execution_count": 68,
   "metadata": {},
   "outputs": [
    {
     "name": "stdout",
     "output_type": "stream",
     "text": [
      "Train on 11610 samples, validate on 3870 samples\n",
      "Epoch 1/100\n",
      "11610/11610 [==============================] - 1s 61us/sample - loss: 0.7429 - val_loss: 12.0714\n",
      "Epoch 2/100\n",
      "11610/11610 [==============================] - 0s 42us/sample - loss: 0.5715 - val_loss: 2.6598\n",
      "Epoch 3/100\n",
      "11610/11610 [==============================] - 0s 40us/sample - loss: 0.4508 - val_loss: 0.4116\n",
      "Epoch 4/100\n",
      "11610/11610 [==============================] - 0s 42us/sample - loss: 0.4196 - val_loss: 0.4160\n",
      "Epoch 5/100\n",
      "11610/11610 [==============================] - 0s 39us/sample - loss: 0.4031 - val_loss: 0.4180\n",
      "Epoch 6/100\n",
      "11610/11610 [==============================] - 1s 45us/sample - loss: 0.3968 - val_loss: 0.4313\n",
      "Epoch 7/100\n",
      "11610/11610 [==============================] - 0s 37us/sample - loss: 0.3905 - val_loss: 0.4237\n",
      "Epoch 8/100\n",
      "11610/11610 [==============================] - 0s 40us/sample - loss: 0.3884 - val_loss: 0.4184\n",
      "Epoch 9/100\n",
      "11610/11610 [==============================] - 0s 37us/sample - loss: 0.3862 - val_loss: 0.4145\n",
      "Epoch 10/100\n",
      "11610/11610 [==============================] - 0s 41us/sample - loss: 0.3823 - val_loss: 0.4086\n",
      "Epoch 11/100\n",
      "11610/11610 [==============================] - 0s 37us/sample - loss: 0.3800 - val_loss: 0.4064\n",
      "Epoch 12/100\n",
      "11610/11610 [==============================] - 0s 37us/sample - loss: 0.3723 - val_loss: 0.3941\n",
      "Epoch 13/100\n",
      "11610/11610 [==============================] - 0s 41us/sample - loss: 0.3696 - val_loss: 0.3850\n",
      "Epoch 14/100\n",
      "11610/11610 [==============================] - 0s 43us/sample - loss: 0.3676 - val_loss: 0.3958\n",
      "Epoch 15/100\n",
      "11610/11610 [==============================] - 0s 38us/sample - loss: 0.3666 - val_loss: 0.3604\n",
      "Epoch 16/100\n",
      "11610/11610 [==============================] - 0s 37us/sample - loss: 0.3649 - val_loss: 0.3859\n",
      "Epoch 17/100\n",
      "11610/11610 [==============================] - 0s 43us/sample - loss: 0.3611 - val_loss: 0.3527\n",
      "Epoch 18/100\n",
      "11610/11610 [==============================] - 0s 42us/sample - loss: 0.3596 - val_loss: 0.3392\n",
      "Epoch 19/100\n",
      "11610/11610 [==============================] - 0s 39us/sample - loss: 0.3605 - val_loss: 0.3603\n",
      "Epoch 20/100\n",
      "11610/11610 [==============================] - 0s 41us/sample - loss: 0.3553 - val_loss: 0.3429\n",
      "Epoch 21/100\n",
      "11610/11610 [==============================] - 1s 45us/sample - loss: 0.3545 - val_loss: 0.3626\n",
      "Epoch 22/100\n",
      "11610/11610 [==============================] - 1s 45us/sample - loss: 0.3569 - val_loss: 0.3876\n",
      "Epoch 23/100\n",
      "11610/11610 [==============================] - 0s 39us/sample - loss: 0.3545 - val_loss: 0.3365\n",
      "Epoch 24/100\n",
      "11610/11610 [==============================] - 0s 43us/sample - loss: 0.3509 - val_loss: 0.3510\n",
      "Epoch 25/100\n",
      "11610/11610 [==============================] - 0s 41us/sample - loss: 0.3508 - val_loss: 0.3658\n",
      "Epoch 26/100\n",
      "11610/11610 [==============================] - 0s 43us/sample - loss: 0.3692 - val_loss: 0.3512\n",
      "Epoch 27/100\n",
      "11610/11610 [==============================] - 0s 40us/sample - loss: 0.3477 - val_loss: 0.3736\n",
      "Epoch 28/100\n",
      "11610/11610 [==============================] - 1s 43us/sample - loss: 0.3498 - val_loss: 0.3558\n",
      "Epoch 29/100\n",
      "11610/11610 [==============================] - 0s 41us/sample - loss: 0.3463 - val_loss: 0.4168\n",
      "Epoch 30/100\n",
      "11610/11610 [==============================] - 0s 41us/sample - loss: 0.3441 - val_loss: 0.3496\n",
      "Epoch 31/100\n",
      "11610/11610 [==============================] - 0s 40us/sample - loss: 0.3524 - val_loss: 0.5748\n",
      "Epoch 32/100\n",
      "11610/11610 [==============================] - 0s 35us/sample - loss: 0.3436 - val_loss: 0.3571\n",
      "Epoch 33/100\n",
      "11610/11610 [==============================] - 0s 39us/sample - loss: 0.3426 - val_loss: 0.4006\n"
     ]
    }
   ],
   "source": [
    "callbacks = [keras.callbacks.EarlyStopping(patience=10)]\n",
    "history = model.fit(X_train_scaled, y_train,\n",
    "                    validation_data=(X_valid_scaled, y_valid), epochs=100,\n",
    "                    callbacks=callbacks)"
   ]
  },
  {
   "cell_type": "code",
   "execution_count": 69,
   "metadata": {},
   "outputs": [
    {
     "name": "stdout",
     "output_type": "stream",
     "text": [
      "5160/5160 [==============================] - 0s 22us/sample - loss: 0.3444\n"
     ]
    },
    {
     "data": {
      "text/plain": [
       "0.3443810117568156"
      ]
     },
     "execution_count": 69,
     "metadata": {},
     "output_type": "execute_result"
    }
   ],
   "source": [
    "model.evaluate(X_test_scaled, y_test)"
   ]
  },
  {
   "cell_type": "code",
   "execution_count": 70,
   "metadata": {},
   "outputs": [
    {
     "data": {
      "text/plain": [
       "array([[0.6577164],\n",
       "       [1.5424004],\n",
       "       [3.909222 ],\n",
       "       ...,\n",
       "       [1.4637735],\n",
       "       [2.3963661],\n",
       "       [4.0752544]], dtype=float32)"
      ]
     },
     "execution_count": 70,
     "metadata": {},
     "output_type": "execute_result"
    }
   ],
   "source": [
    "model.predict(X_test_scaled)"
   ]
  },
  {
   "cell_type": "code",
   "execution_count": 71,
   "metadata": {
    "scrolled": true
   },
   "outputs": [
    {
     "data": {
      "image/png": "[encoded data removed]",
      "text/plain": [
       "<matplotlib.figure.Figure at 0x7f28e66edc88>"
      ]
     },
     "metadata": {},
     "output_type": "display_data"
    }
   ],
   "source": [
    "plot_learning_curves(history)"
   ]
  },
  {
   "cell_type": "markdown",
   "metadata": {},
   "source": [
    "## Exercise 6 – Hyperparameter search超参数"
   ]
  },
  {
   "cell_type": "markdown",
   "metadata": {},
   "source": [
    "### 6.1)设置不同的学习率,重复学习(用for循环实现)\n",
    "Try training your model multiple times, with different a learning rate each time (e.g., 1e-4, 3e-4, 1e-3, 3e-3, 3e-2), and compare the learning curves. For this, you need to create a `keras.optimizers.SGD` optimizer and specify the `learning_rate` in its constructor, then pass this `SGD` instance to the `compile()` method using the `optimizer` argument.  "
   ]
  },
  {
   "cell_type": "code",
   "execution_count": 72,
   "metadata": {},
   "outputs": [
    {
     "name": "stdout",
     "output_type": "stream",
     "text": [
      "Train on 11610 samples, validate on 3870 samples\n",
      "Epoch 1/100\n",
      "11610/11610 [==============================] - 1s 44us/sample - loss: 5.7611 - val_loss: 9.0942\n",
      "Epoch 2/100\n",
      "11610/11610 [==============================] - 0s 36us/sample - loss: 4.3399 - val_loss: 10.3602\n",
      "Epoch 3/100\n",
      "11610/11610 [==============================] - 0s 38us/sample - loss: 3.4300 - val_loss: 11.1630\n",
      "Epoch 4/100\n",
      "11610/11610 [==============================] - 0s 36us/sample - loss: 2.8060 - val_loss: 11.3103\n",
      "Epoch 5/100\n",
      "11610/11610 [==============================] - 0s 41us/sample - loss: 2.3600 - val_loss: 10.6721\n",
      "Epoch 6/100\n",
      "11610/11610 [==============================] - 0s 36us/sample - loss: 2.0238 - val_loss: 9.7171\n",
      "Epoch 7/100\n",
      "11610/11610 [==============================] - 0s 42us/sample - loss: 1.7628 - val_loss: 8.5812\n",
      "Epoch 8/100\n",
      "11610/11610 [==============================] - 0s 38us/sample - loss: 1.5559 - val_loss: 7.4022\n",
      "Epoch 9/100\n",
      "11610/11610 [==============================] - 0s 36us/sample - loss: 1.3911 - val_loss: 6.2027\n",
      "Epoch 10/100\n",
      "11610/11610 [==============================] - 0s 40us/sample - loss: 1.2582 - val_loss: 5.1037\n",
      "Epoch 11/100\n",
      "11610/11610 [==============================] - 0s 43us/sample - loss: 1.1507 - val_loss: 4.1340\n",
      "Epoch 12/100\n",
      "11610/11610 [==============================] - 0s 37us/sample - loss: 1.0640 - val_loss: 3.3198\n",
      "Epoch 13/100\n",
      "11610/11610 [==============================] - 0s 40us/sample - loss: 0.9942 - val_loss: 2.6604\n",
      "Epoch 14/100\n",
      "11610/11610 [==============================] - 1s 44us/sample - loss: 0.9381 - val_loss: 2.1407\n",
      "Epoch 15/100\n",
      "11610/11610 [==============================] - 0s 43us/sample - loss: 0.8930 - val_loss: 1.7309\n",
      "Epoch 16/100\n",
      "11610/11610 [==============================] - 1s 44us/sample - loss: 0.8569 - val_loss: 1.4178\n",
      "Epoch 17/100\n",
      "11610/11610 [==============================] - 0s 41us/sample - loss: 0.8281 - val_loss: 1.1826\n",
      "Epoch 18/100\n",
      "11610/11610 [==============================] - 0s 40us/sample - loss: 0.8049 - val_loss: 1.0094\n",
      "Epoch 19/100\n",
      "11610/11610 [==============================] - 0s 36us/sample - loss: 0.7861 - val_loss: 0.8891\n",
      "Epoch 20/100\n",
      "11610/11610 [==============================] - 0s 39us/sample - loss: 0.7709 - val_loss: 0.8058\n",
      "Epoch 21/100\n",
      "11610/11610 [==============================] - 0s 41us/sample - loss: 0.7583 - val_loss: 0.7547\n",
      "Epoch 22/100\n",
      "11610/11610 [==============================] - 0s 38us/sample - loss: 0.7478 - val_loss: 0.7217\n",
      "Epoch 23/100\n",
      "11610/11610 [==============================] - 0s 40us/sample - loss: 0.7390 - val_loss: 0.7031\n",
      "Epoch 24/100\n",
      "11610/11610 [==============================] - 0s 40us/sample - loss: 0.7314 - val_loss: 0.6942\n",
      "Epoch 25/100\n",
      "11610/11610 [==============================] - 0s 40us/sample - loss: 0.7247 - val_loss: 0.6926\n",
      "Epoch 26/100\n",
      "11610/11610 [==============================] - 0s 40us/sample - loss: 0.7187 - val_loss: 0.6957\n",
      "Epoch 27/100\n",
      "11610/11610 [==============================] - 0s 36us/sample - loss: 0.7134 - val_loss: 0.7007\n",
      "Epoch 28/100\n",
      "11610/11610 [==============================] - 0s 43us/sample - loss: 0.7085 - val_loss: 0.7073\n",
      "Epoch 29/100\n",
      "11610/11610 [==============================] - 0s 41us/sample - loss: 0.7039 - val_loss: 0.7135\n",
      "Epoch 30/100\n",
      "11610/11610 [==============================] - 1s 43us/sample - loss: 0.6997 - val_loss: 0.7207\n",
      "Epoch 31/100\n",
      "11610/11610 [==============================] - 0s 41us/sample - loss: 0.6957 - val_loss: 0.7284\n",
      "Epoch 32/100\n",
      "11610/11610 [==============================] - 0s 41us/sample - loss: 0.6918 - val_loss: 0.7312\n",
      "Epoch 33/100\n",
      "11610/11610 [==============================] - 1s 43us/sample - loss: 0.6882 - val_loss: 0.7379\n",
      "Epoch 34/100\n",
      "11610/11610 [==============================] - 0s 37us/sample - loss: 0.6846 - val_loss: 0.7422\n",
      "Epoch 35/100\n",
      "11610/11610 [==============================] - 0s 43us/sample - loss: 0.6812 - val_loss: 0.7449\n",
      "Train on 11610 samples, validate on 3870 samples\n",
      "Epoch 1/100\n",
      "11610/11610 [==============================] - 1s 47us/sample - loss: 3.6360 - val_loss: 5.9729\n",
      "Epoch 2/100\n",
      "11610/11610 [==============================] - 0s 42us/sample - loss: 1.7393 - val_loss: 3.5761\n",
      "Epoch 3/100\n",
      "11610/11610 [==============================] - 1s 45us/sample - loss: 1.0872 - val_loss: 1.9421\n",
      "Epoch 4/100\n",
      "11610/11610 [==============================] - 1s 43us/sample - loss: 0.8371 - val_loss: 1.0836\n",
      "Epoch 5/100\n",
      "11610/11610 [==============================] - 0s 43us/sample - loss: 0.7357 - val_loss: 0.7717\n",
      "Epoch 6/100\n",
      "11610/11610 [==============================] - 1s 44us/sample - loss: 0.6908 - val_loss: 0.6656\n",
      "Epoch 7/100\n",
      "11610/11610 [==============================] - 0s 43us/sample - loss: 0.6673 - val_loss: 0.6480\n",
      "Epoch 8/100\n",
      "11610/11610 [==============================] - 0s 41us/sample - loss: 0.6521 - val_loss: 0.6544\n",
      "Epoch 9/100\n",
      "11610/11610 [==============================] - 0s 40us/sample - loss: 0.6404 - val_loss: 0.6626\n",
      "Epoch 10/100\n",
      "11610/11610 [==============================] - 0s 42us/sample - loss: 0.6304 - val_loss: 0.6454\n",
      "Epoch 11/100\n",
      "11610/11610 [==============================] - 0s 39us/sample - loss: 0.6212 - val_loss: 0.6368\n",
      "Epoch 12/100\n",
      "11610/11610 [==============================] - 0s 40us/sample - loss: 0.6125 - val_loss: 0.6399\n",
      "Epoch 13/100\n",
      "11610/11610 [==============================] - 1s 45us/sample - loss: 0.6045 - val_loss: 0.6303\n",
      "Epoch 14/100\n",
      "11610/11610 [==============================] - 1s 46us/sample - loss: 0.5967 - val_loss: 0.6142\n",
      "Epoch 15/100\n",
      "11610/11610 [==============================] - 0s 41us/sample - loss: 0.5893 - val_loss: 0.5998\n",
      "Epoch 16/100\n",
      "11610/11610 [==============================] - 0s 38us/sample - loss: 0.5822 - val_loss: 0.5913\n",
      "Epoch 17/100\n",
      "11610/11610 [==============================] - 0s 38us/sample - loss: 0.5753 - val_loss: 0.5862\n",
      "Epoch 18/100\n",
      "11610/11610 [==============================] - 0s 38us/sample - loss: 0.5688 - val_loss: 0.5733\n",
      "Epoch 19/100\n",
      "11610/11610 [==============================] - 0s 38us/sample - loss: 0.5625 - val_loss: 0.5698\n",
      "Epoch 20/100\n",
      "11610/11610 [==============================] - 0s 39us/sample - loss: 0.5565 - val_loss: 0.5617\n",
      "Epoch 21/100\n",
      "11610/11610 [==============================] - 0s 41us/sample - loss: 0.5508 - val_loss: 0.5483\n",
      "Epoch 22/100\n",
      "11610/11610 [==============================] - 0s 43us/sample - loss: 0.5452 - val_loss: 0.5367\n",
      "Epoch 23/100\n",
      "11610/11610 [==============================] - 0s 41us/sample - loss: 0.5399 - val_loss: 0.5330\n",
      "Epoch 24/100\n",
      "11610/11610 [==============================] - 0s 43us/sample - loss: 0.5348 - val_loss: 0.5273\n",
      "Epoch 25/100\n",
      "11610/11610 [==============================] - 0s 40us/sample - loss: 0.5299 - val_loss: 0.5214\n",
      "Epoch 26/100\n",
      "11610/11610 [==============================] - 0s 41us/sample - loss: 0.5252 - val_loss: 0.5128\n",
      "Epoch 27/100\n",
      "11610/11610 [==============================] - 0s 39us/sample - loss: 0.5207 - val_loss: 0.5064\n",
      "Epoch 28/100\n",
      "11610/11610 [==============================] - 0s 41us/sample - loss: 0.5164 - val_loss: 0.5019\n",
      "Epoch 29/100\n",
      "11610/11610 [==============================] - 1s 43us/sample - loss: 0.5122 - val_loss: 0.4952\n",
      "Epoch 30/100\n",
      "11610/11610 [==============================] - 0s 42us/sample - loss: 0.5083 - val_loss: 0.4923\n",
      "Epoch 31/100\n",
      "11610/11610 [==============================] - 0s 42us/sample - loss: 0.5045 - val_loss: 0.4880\n",
      "Epoch 32/100\n",
      "11610/11610 [==============================] - 0s 40us/sample - loss: 0.5009 - val_loss: 0.4830\n",
      "Epoch 33/100\n",
      "11610/11610 [==============================] - 0s 40us/sample - loss: 0.4974 - val_loss: 0.4786\n",
      "Epoch 34/100\n",
      "11610/11610 [==============================] - 0s 39us/sample - loss: 0.4940 - val_loss: 0.4738\n",
      "Epoch 35/100\n",
      "11610/11610 [==============================] - 0s 39us/sample - loss: 0.4908 - val_loss: 0.4720\n",
      "Epoch 36/100\n",
      "11610/11610 [==============================] - 0s 38us/sample - loss: 0.4877 - val_loss: 0.4679\n",
      "Epoch 37/100\n",
      "11610/11610 [==============================] - 0s 40us/sample - loss: 0.4848 - val_loss: 0.4633\n",
      "Epoch 38/100\n",
      "11610/11610 [==============================] - 0s 38us/sample - loss: 0.4820 - val_loss: 0.4598\n",
      "Epoch 39/100\n",
      "11610/11610 [==============================] - 0s 39us/sample - loss: 0.4793 - val_loss: 0.4568\n",
      "Epoch 40/100\n",
      "11610/11610 [==============================] - 1s 44us/sample - loss: 0.4765 - val_loss: 0.4535\n",
      "Epoch 41/100\n",
      "11610/11610 [==============================] - 0s 42us/sample - loss: 0.4741 - val_loss: 0.4508\n",
      "Epoch 42/100\n",
      "11610/11610 [==============================] - 0s 38us/sample - loss: 0.4717 - val_loss: 0.4483\n",
      "Epoch 43/100\n",
      "11610/11610 [==============================] - 0s 39us/sample - loss: 0.4693 - val_loss: 0.4458\n",
      "Epoch 44/100\n",
      "11610/11610 [==============================] - 0s 40us/sample - loss: 0.4671 - val_loss: 0.4435\n",
      "Epoch 45/100\n",
      "11610/11610 [==============================] - 0s 39us/sample - loss: 0.4649 - val_loss: 0.4413\n",
      "Epoch 46/100\n",
      "11610/11610 [==============================] - 0s 41us/sample - loss: 0.4628 - val_loss: 0.4392\n",
      "Epoch 47/100\n",
      "11610/11610 [==============================] - 0s 40us/sample - loss: 0.4608 - val_loss: 0.4372\n",
      "Epoch 48/100\n",
      "11610/11610 [==============================] - 1s 46us/sample - loss: 0.4588 - val_loss: 0.4354\n",
      "Epoch 49/100\n",
      "11610/11610 [==============================] - 0s 41us/sample - loss: 0.4569 - val_loss: 0.4335\n",
      "Epoch 50/100\n",
      "11610/11610 [==============================] - 0s 39us/sample - loss: 0.4551 - val_loss: 0.4316\n",
      "Epoch 51/100\n",
      "11610/11610 [==============================] - 0s 40us/sample - loss: 0.4533 - val_loss: 0.4303\n",
      "Epoch 52/100\n",
      "11610/11610 [==============================] - 0s 40us/sample - loss: 0.4516 - val_loss: 0.4283\n",
      "Epoch 53/100\n",
      "11610/11610 [==============================] - 1s 45us/sample - loss: 0.4499 - val_loss: 0.4276\n",
      "Epoch 54/100\n",
      "11610/11610 [==============================] - 0s 41us/sample - loss: 0.4483 - val_loss: 0.4248\n",
      "Epoch 55/100\n",
      "11610/11610 [==============================] - 1s 45us/sample - loss: 0.4468 - val_loss: 0.4239\n",
      "Epoch 56/100\n",
      "11610/11610 [==============================] - 1s 46us/sample - loss: 0.4453 - val_loss: 0.4229\n",
      "Epoch 57/100\n",
      "11610/11610 [==============================] - 1s 46us/sample - loss: 0.4437 - val_loss: 0.4225\n",
      "Epoch 58/100\n",
      "11610/11610 [==============================] - 1s 47us/sample - loss: 0.4424 - val_loss: 0.4202\n",
      "Epoch 59/100\n",
      "11610/11610 [==============================] - 1s 46us/sample - loss: 0.4410 - val_loss: 0.4187\n",
      "Epoch 60/100\n",
      "11610/11610 [==============================] - 0s 42us/sample - loss: 0.4396 - val_loss: 0.4176\n",
      "Epoch 61/100\n",
      "11610/11610 [==============================] - 0s 39us/sample - loss: 0.4384 - val_loss: 0.4175\n",
      "Epoch 62/100\n",
      "11610/11610 [==============================] - 0s 39us/sample - loss: 0.4371 - val_loss: 0.4166\n",
      "Epoch 63/100\n",
      "11610/11610 [==============================] - 0s 37us/sample - loss: 0.4358 - val_loss: 0.4162\n",
      "Epoch 64/100\n",
      "11610/11610 [==============================] - 0s 40us/sample - loss: 0.4347 - val_loss: 0.4155\n",
      "Epoch 65/100\n",
      "11610/11610 [==============================] - 0s 38us/sample - loss: 0.4335 - val_loss: 0.4144\n",
      "Epoch 66/100\n",
      "11610/11610 [==============================] - 0s 40us/sample - loss: 0.4323 - val_loss: 0.4135\n",
      "Epoch 67/100\n",
      "11610/11610 [==============================] - 0s 39us/sample - loss: 0.4312 - val_loss: 0.4138\n",
      "Epoch 68/100\n",
      "11610/11610 [==============================] - 0s 39us/sample - loss: 0.4301 - val_loss: 0.4123\n",
      "Epoch 69/100\n",
      "11610/11610 [==============================] - 0s 40us/sample - loss: 0.4291 - val_loss: 0.4111\n",
      "Epoch 70/100\n",
      "11610/11610 [==============================] - 0s 41us/sample - loss: 0.4280 - val_loss: 0.4104\n",
      "Epoch 71/100\n",
      "11610/11610 [==============================] - 0s 42us/sample - loss: 0.4270 - val_loss: 0.4099\n",
      "Epoch 72/100\n",
      "11610/11610 [==============================] - 0s 43us/sample - loss: 0.4261 - val_loss: 0.4103\n",
      "Epoch 73/100\n",
      "11610/11610 [==============================] - 0s 41us/sample - loss: 0.4251 - val_loss: 0.4093\n",
      "Epoch 74/100\n",
      "11610/11610 [==============================] - 0s 39us/sample - loss: 0.4242 - val_loss: 0.4088\n",
      "Epoch 75/100\n",
      "11610/11610 [==============================] - 0s 41us/sample - loss: 0.4233 - val_loss: 0.4082\n",
      "Epoch 76/100\n",
      "11610/11610 [==============================] - 0s 40us/sample - loss: 0.4224 - val_loss: 0.4052\n",
      "Epoch 77/100\n",
      "11610/11610 [==============================] - 0s 41us/sample - loss: 0.4215 - val_loss: 0.4072\n",
      "Epoch 78/100\n",
      "11610/11610 [==============================] - 0s 39us/sample - loss: 0.4207 - val_loss: 0.4044\n",
      "Epoch 79/100\n",
      "11610/11610 [==============================] - 0s 40us/sample - loss: 0.4199 - val_loss: 0.4047\n",
      "Epoch 80/100\n",
      "11610/11610 [==============================] - 1s 44us/sample - loss: 0.4191 - val_loss: 0.4048\n",
      "Epoch 81/100\n",
      "11610/11610 [==============================] - 1s 45us/sample - loss: 0.4182 - val_loss: 0.4010\n",
      "Epoch 82/100\n",
      "11610/11610 [==============================] - 1s 44us/sample - loss: 0.4175 - val_loss: 0.4020\n",
      "Epoch 83/100\n",
      "11610/11610 [==============================] - 0s 42us/sample - loss: 0.4168 - val_loss: 0.4035\n",
      "Epoch 84/100\n",
      "11610/11610 [==============================] - 0s 39us/sample - loss: 0.4160 - val_loss: 0.4051\n",
      "Epoch 85/100\n",
      "11610/11610 [==============================] - 0s 41us/sample - loss: 0.4153 - val_loss: 0.4049\n",
      "Epoch 86/100\n",
      "11610/11610 [==============================] - 0s 39us/sample - loss: 0.4146 - val_loss: 0.4021\n",
      "Epoch 87/100\n",
      "11610/11610 [==============================] - 0s 40us/sample - loss: 0.4139 - val_loss: 0.4036\n",
      "Epoch 88/100\n",
      "11610/11610 [==============================] - 0s 40us/sample - loss: 0.4133 - val_loss: 0.4042\n",
      "Epoch 89/100\n",
      "11610/11610 [==============================] - 0s 40us/sample - loss: 0.4126 - val_loss: 0.4043\n",
      "Epoch 90/100\n",
      "11610/11610 [==============================] - 0s 39us/sample - loss: 0.4119 - val_loss: 0.4009\n",
      "Epoch 91/100\n",
      "11610/11610 [==============================] - 0s 41us/sample - loss: 0.4113 - val_loss: 0.3987\n",
      "Epoch 92/100\n",
      "11610/11610 [==============================] - 0s 43us/sample - loss: 0.4107 - val_loss: 0.3978\n",
      "Epoch 93/100\n",
      "11610/11610 [==============================] - 0s 37us/sample - loss: 0.4101 - val_loss: 0.3981\n",
      "Epoch 94/100\n",
      "11610/11610 [==============================] - 0s 39us/sample - loss: 0.4095 - val_loss: 0.3966\n",
      "Epoch 95/100\n",
      "11610/11610 [==============================] - 0s 38us/sample - loss: 0.4089 - val_loss: 0.3957\n",
      "Epoch 96/100\n",
      "11610/11610 [==============================] - 0s 42us/sample - loss: 0.4084 - val_loss: 0.3981\n",
      "Epoch 97/100\n",
      "11610/11610 [==============================] - 0s 40us/sample - loss: 0.4078 - val_loss: 0.3996\n",
      "Epoch 98/100\n",
      "11610/11610 [==============================] - 0s 41us/sample - loss: 0.4072 - val_loss: 0.3989\n",
      "Epoch 99/100\n",
      "11610/11610 [==============================] - 0s 41us/sample - loss: 0.4067 - val_loss: 0.3980\n",
      "Epoch 100/100\n",
      "11610/11610 [==============================] - 0s 41us/sample - loss: 0.4062 - val_loss: 0.3967\n",
      "Train on 11610 samples, validate on 3870 samples\n",
      "Epoch 1/100\n",
      "11610/11610 [==============================] - 1s 48us/sample - loss: 2.2981 - val_loss: 1.1488\n",
      "Epoch 2/100\n",
      "11610/11610 [==============================] - 0s 36us/sample - loss: 0.7454 - val_loss: 0.6642\n",
      "Epoch 3/100\n",
      "11610/11610 [==============================] - 0s 39us/sample - loss: 0.6608 - val_loss: 0.6519\n",
      "Epoch 4/100\n",
      "11610/11610 [==============================] - 0s 42us/sample - loss: 0.6153 - val_loss: 0.5950\n",
      "Epoch 5/100\n",
      "11610/11610 [==============================] - 0s 36us/sample - loss: 0.5804 - val_loss: 0.5314\n",
      "Epoch 6/100\n",
      "11610/11610 [==============================] - 0s 40us/sample - loss: 0.5520 - val_loss: 0.5030\n",
      "Epoch 7/100\n",
      "11610/11610 [==============================] - 1s 44us/sample - loss: 0.5294 - val_loss: 0.4965\n",
      "Epoch 8/100\n",
      "11610/11610 [==============================] - 0s 38us/sample - loss: 0.5093 - val_loss: 0.4653\n",
      "Epoch 9/100\n",
      "11610/11610 [==============================] - 0s 40us/sample - loss: 0.4959 - val_loss: 0.4655\n",
      "Epoch 10/100\n",
      "11610/11610 [==============================] - 0s 39us/sample - loss: 0.4831 - val_loss: 0.4425\n",
      "Epoch 11/100\n",
      "11610/11610 [==============================] - 1s 46us/sample - loss: 0.4723 - val_loss: 0.4342\n",
      "Epoch 12/100\n",
      "11610/11610 [==============================] - 1s 44us/sample - loss: 0.4639 - val_loss: 0.4304\n",
      "Epoch 13/100\n",
      "11610/11610 [==============================] - 0s 37us/sample - loss: 0.4572 - val_loss: 0.4283\n",
      "Epoch 14/100\n",
      "11610/11610 [==============================] - 0s 40us/sample - loss: 0.4512 - val_loss: 0.4363\n"
     ]
    },
    {
     "name": "stdout",
     "output_type": "stream",
     "text": [
      "Epoch 15/100\n",
      "11610/11610 [==============================] - 0s 41us/sample - loss: 0.4458 - val_loss: 0.4279\n",
      "Epoch 16/100\n",
      "11610/11610 [==============================] - 0s 39us/sample - loss: 0.4415 - val_loss: 0.4238\n",
      "Epoch 17/100\n",
      "11610/11610 [==============================] - 0s 39us/sample - loss: 0.4375 - val_loss: 0.4263\n",
      "Epoch 18/100\n",
      "11610/11610 [==============================] - 0s 41us/sample - loss: 0.4343 - val_loss: 0.4450\n",
      "Epoch 19/100\n",
      "11610/11610 [==============================] - 0s 36us/sample - loss: 0.4303 - val_loss: 0.4128\n",
      "Epoch 20/100\n",
      "11610/11610 [==============================] - 0s 38us/sample - loss: 0.4278 - val_loss: 0.4363\n",
      "Epoch 21/100\n",
      "11610/11610 [==============================] - 0s 36us/sample - loss: 0.4259 - val_loss: 0.4206\n",
      "Epoch 22/100\n",
      "11610/11610 [==============================] - 0s 39us/sample - loss: 0.4231 - val_loss: 0.4407\n",
      "Epoch 23/100\n",
      "11610/11610 [==============================] - 0s 40us/sample - loss: 0.4201 - val_loss: 0.4158\n",
      "Epoch 24/100\n",
      "11610/11610 [==============================] - 0s 41us/sample - loss: 0.4180 - val_loss: 0.4045\n",
      "Epoch 25/100\n",
      "11610/11610 [==============================] - 1s 44us/sample - loss: 0.4153 - val_loss: 0.4053\n",
      "Epoch 26/100\n",
      "11610/11610 [==============================] - 1s 45us/sample - loss: 0.4143 - val_loss: 0.4302\n",
      "Epoch 27/100\n",
      "11610/11610 [==============================] - 0s 40us/sample - loss: 0.4117 - val_loss: 0.4231\n",
      "Epoch 28/100\n",
      "11610/11610 [==============================] - 1s 43us/sample - loss: 0.4096 - val_loss: 0.4325\n",
      "Epoch 29/100\n",
      "11610/11610 [==============================] - 1s 45us/sample - loss: 0.4086 - val_loss: 0.4049\n",
      "Epoch 30/100\n",
      "11610/11610 [==============================] - 0s 40us/sample - loss: 0.4064 - val_loss: 0.4115\n",
      "Epoch 31/100\n",
      "11610/11610 [==============================] - 0s 39us/sample - loss: 0.4054 - val_loss: 0.4429\n",
      "Epoch 32/100\n",
      "11610/11610 [==============================] - 0s 38us/sample - loss: 0.4043 - val_loss: 0.4077\n",
      "Epoch 33/100\n",
      "11610/11610 [==============================] - 0s 38us/sample - loss: 0.4025 - val_loss: 0.4538\n",
      "Epoch 34/100\n",
      "11610/11610 [==============================] - 0s 38us/sample - loss: 0.4015 - val_loss: 0.4040\n",
      "Epoch 35/100\n",
      "11610/11610 [==============================] - 1s 43us/sample - loss: 0.3998 - val_loss: 0.4609\n",
      "Epoch 36/100\n",
      "11610/11610 [==============================] - 0s 37us/sample - loss: 0.3995 - val_loss: 0.4415\n",
      "Epoch 37/100\n",
      "11610/11610 [==============================] - 0s 39us/sample - loss: 0.3984 - val_loss: 0.3875\n",
      "Epoch 38/100\n",
      "11610/11610 [==============================] - 0s 38us/sample - loss: 0.3970 - val_loss: 0.4530\n",
      "Epoch 39/100\n",
      "11610/11610 [==============================] - 0s 38us/sample - loss: 0.3969 - val_loss: 0.3905\n",
      "Epoch 40/100\n",
      "11610/11610 [==============================] - 0s 40us/sample - loss: 0.3955 - val_loss: 0.4353\n",
      "Epoch 41/100\n",
      "11610/11610 [==============================] - 0s 43us/sample - loss: 0.3948 - val_loss: 0.4585\n",
      "Epoch 42/100\n",
      "11610/11610 [==============================] - 0s 41us/sample - loss: 0.3943 - val_loss: 0.4043\n",
      "Epoch 43/100\n",
      "11610/11610 [==============================] - 0s 36us/sample - loss: 0.3931 - val_loss: 0.4204\n",
      "Epoch 44/100\n",
      "11610/11610 [==============================] - 0s 42us/sample - loss: 0.3929 - val_loss: 0.4053\n",
      "Epoch 45/100\n",
      "11610/11610 [==============================] - 1s 45us/sample - loss: 0.3921 - val_loss: 0.4428\n",
      "Epoch 46/100\n",
      "11610/11610 [==============================] - 1s 47us/sample - loss: 0.3912 - val_loss: 0.4481\n",
      "Epoch 47/100\n",
      "11610/11610 [==============================] - 0s 37us/sample - loss: 0.3908 - val_loss: 0.4391\n",
      "Train on 11610 samples, validate on 3870 samples\n",
      "Epoch 1/100\n",
      "11610/11610 [==============================] - 1s 54us/sample - loss: 1.1857 - val_loss: 23.3186\n",
      "Epoch 2/100\n",
      "11610/11610 [==============================] - 0s 39us/sample - loss: 0.8246 - val_loss: 60.1799\n",
      "Epoch 3/100\n",
      "11610/11610 [==============================] - 0s 40us/sample - loss: 0.9069 - val_loss: 5.4246\n",
      "Epoch 4/100\n",
      "11610/11610 [==============================] - 0s 37us/sample - loss: 0.5433 - val_loss: 1.1075\n",
      "Epoch 5/100\n",
      "11610/11610 [==============================] - 0s 42us/sample - loss: 0.4755 - val_loss: 0.7072\n",
      "Epoch 6/100\n",
      "11610/11610 [==============================] - 0s 37us/sample - loss: 0.4540 - val_loss: 0.5371\n",
      "Epoch 7/100\n",
      "11610/11610 [==============================] - 0s 41us/sample - loss: 0.4404 - val_loss: 0.4464\n",
      "Epoch 8/100\n",
      "11610/11610 [==============================] - 0s 38us/sample - loss: 0.4314 - val_loss: 0.4073\n",
      "Epoch 9/100\n",
      "11610/11610 [==============================] - 0s 41us/sample - loss: 0.4243 - val_loss: 0.3911\n",
      "Epoch 10/100\n",
      "11610/11610 [==============================] - 0s 39us/sample - loss: 0.4194 - val_loss: 0.3894\n",
      "Epoch 11/100\n",
      "11610/11610 [==============================] - 0s 40us/sample - loss: 0.4152 - val_loss: 0.3976\n",
      "Epoch 12/100\n",
      "11610/11610 [==============================] - 1s 44us/sample - loss: 0.4120 - val_loss: 0.3946\n",
      "Epoch 13/100\n",
      "11610/11610 [==============================] - 1s 43us/sample - loss: 0.4089 - val_loss: 0.4052\n",
      "Epoch 14/100\n",
      "11610/11610 [==============================] - 1s 44us/sample - loss: 0.4064 - val_loss: 0.4186\n",
      "Epoch 15/100\n",
      "11610/11610 [==============================] - 1s 43us/sample - loss: 0.4041 - val_loss: 0.4211\n",
      "Epoch 16/100\n",
      "11610/11610 [==============================] - 0s 39us/sample - loss: 0.4018 - val_loss: 0.4209\n",
      "Epoch 17/100\n",
      "11610/11610 [==============================] - 1s 44us/sample - loss: 0.3997 - val_loss: 0.4293\n",
      "Epoch 18/100\n",
      "11610/11610 [==============================] - 0s 40us/sample - loss: 0.3979 - val_loss: 0.4283\n",
      "Epoch 19/100\n",
      "11610/11610 [==============================] - 0s 41us/sample - loss: 0.3962 - val_loss: 0.4300\n",
      "Epoch 20/100\n",
      "11610/11610 [==============================] - 0s 39us/sample - loss: 0.3946 - val_loss: 0.4295\n",
      "Train on 11610 samples, validate on 3870 samples\n",
      "Epoch 1/100\n",
      "11610/11610 [==============================] - 1s 53us/sample - loss: 0.7736 - val_loss: 2.5966\n",
      "Epoch 2/100\n",
      "11610/11610 [==============================] - 0s 41us/sample - loss: 0.4692 - val_loss: 0.5583\n",
      "Epoch 3/100\n",
      "11610/11610 [==============================] - 0s 39us/sample - loss: 0.4365 - val_loss: 0.4220\n",
      "Epoch 4/100\n",
      "11610/11610 [==============================] - 0s 37us/sample - loss: 0.4304 - val_loss: 13.0196\n",
      "Epoch 5/100\n",
      "11610/11610 [==============================] - 0s 41us/sample - loss: 0.6489 - val_loss: 9.2405\n",
      "Epoch 6/100\n",
      "11610/11610 [==============================] - 1s 43us/sample - loss: 0.5055 - val_loss: 264.5955\n",
      "Epoch 7/100\n",
      "11610/11610 [==============================] - 1s 46us/sample - loss: 0.6839 - val_loss: 30.4854\n",
      "Epoch 8/100\n",
      "11610/11610 [==============================] - 1s 45us/sample - loss: 0.4995 - val_loss: 5.5585\n",
      "Epoch 9/100\n",
      "11610/11610 [==============================] - 0s 42us/sample - loss: 0.4123 - val_loss: 0.3644\n",
      "Epoch 10/100\n",
      "11610/11610 [==============================] - 0s 37us/sample - loss: 0.3925 - val_loss: 0.3627\n",
      "Epoch 11/100\n",
      "11610/11610 [==============================] - 0s 37us/sample - loss: 0.3845 - val_loss: 0.3588\n",
      "Epoch 12/100\n",
      "11610/11610 [==============================] - 0s 40us/sample - loss: 0.3832 - val_loss: 0.3547\n",
      "Epoch 13/100\n",
      "11610/11610 [==============================] - 0s 38us/sample - loss: 0.3778 - val_loss: 0.3488\n",
      "Epoch 14/100\n",
      "11610/11610 [==============================] - 0s 38us/sample - loss: 0.3727 - val_loss: 0.3487\n",
      "Epoch 15/100\n",
      "11610/11610 [==============================] - 0s 42us/sample - loss: 0.3836 - val_loss: 0.3454\n",
      "Epoch 16/100\n",
      "11610/11610 [==============================] - 0s 39us/sample - loss: 0.3716 - val_loss: 0.3420\n",
      "Epoch 17/100\n",
      "11610/11610 [==============================] - 0s 40us/sample - loss: 0.3732 - val_loss: 0.3387\n",
      "Epoch 18/100\n",
      "11610/11610 [==============================] - 0s 39us/sample - loss: 0.3588 - val_loss: 0.5921\n",
      "Epoch 19/100\n",
      "11610/11610 [==============================] - 1s 45us/sample - loss: 0.3584 - val_loss: 0.3349\n",
      "Epoch 20/100\n",
      "11610/11610 [==============================] - 0s 41us/sample - loss: 0.3570 - val_loss: 0.3302\n",
      "Epoch 21/100\n",
      "11610/11610 [==============================] - 0s 36us/sample - loss: 0.3530 - val_loss: 0.3334\n",
      "Epoch 22/100\n",
      "11610/11610 [==============================] - 0s 39us/sample - loss: 0.3481 - val_loss: 0.3342\n",
      "Epoch 23/100\n",
      "11610/11610 [==============================] - 0s 41us/sample - loss: 0.3465 - val_loss: 0.3256\n",
      "Epoch 24/100\n",
      "11610/11610 [==============================] - 0s 37us/sample - loss: 0.3521 - val_loss: 0.3211\n",
      "Epoch 25/100\n",
      "11610/11610 [==============================] - 0s 37us/sample - loss: 0.3416 - val_loss: 0.6315\n",
      "Epoch 26/100\n",
      "11610/11610 [==============================] - 0s 35us/sample - loss: 0.3479 - val_loss: 0.3232\n",
      "Epoch 27/100\n",
      "11610/11610 [==============================] - 0s 37us/sample - loss: 0.3394 - val_loss: 0.3193\n",
      "Epoch 28/100\n",
      "11610/11610 [==============================] - 0s 42us/sample - loss: 0.3360 - val_loss: 0.3172\n",
      "Epoch 29/100\n",
      "11610/11610 [==============================] - 0s 43us/sample - loss: 0.3344 - val_loss: 0.7889\n",
      "Epoch 30/100\n",
      "11610/11610 [==============================] - 0s 38us/sample - loss: 0.3374 - val_loss: 0.3139\n",
      "Epoch 31/100\n",
      "11610/11610 [==============================] - 0s 40us/sample - loss: 0.3327 - val_loss: 0.3223\n",
      "Epoch 32/100\n",
      "11610/11610 [==============================] - 0s 41us/sample - loss: 0.3354 - val_loss: 0.3337\n",
      "Epoch 33/100\n",
      "11610/11610 [==============================] - 0s 39us/sample - loss: 0.3307 - val_loss: 0.3411\n",
      "Epoch 34/100\n",
      "11610/11610 [==============================] - 0s 37us/sample - loss: 0.3280 - val_loss: 0.3670\n",
      "Epoch 35/100\n",
      "11610/11610 [==============================] - 0s 41us/sample - loss: 0.3259 - val_loss: 0.4144\n",
      "Epoch 36/100\n",
      "11610/11610 [==============================] - 1s 43us/sample - loss: 0.3349 - val_loss: 0.3297\n",
      "Epoch 37/100\n",
      "11610/11610 [==============================] - 1s 44us/sample - loss: 0.3269 - val_loss: 0.3305\n",
      "Epoch 38/100\n",
      "11610/11610 [==============================] - 0s 37us/sample - loss: 0.3238 - val_loss: 0.4045\n",
      "Epoch 39/100\n",
      "11610/11610 [==============================] - 0s 40us/sample - loss: 0.3241 - val_loss: 0.3422\n",
      "Epoch 40/100\n",
      "11610/11610 [==============================] - 0s 38us/sample - loss: 0.3220 - val_loss: 0.3152\n",
      "Train on 11610 samples, validate on 3870 samples\n",
      "Epoch 1/100\n",
      "11610/11610 [==============================] - 1s 51us/sample - loss: 0.7708 - val_loss: 1.9839\n",
      "Epoch 2/100\n",
      "11610/11610 [==============================] - 0s 41us/sample - loss: 0.4212 - val_loss: 110.7332\n",
      "Epoch 3/100\n",
      "11610/11610 [==============================] - 0s 39us/sample - loss: 0.4513 - val_loss: 57.6697\n",
      "Epoch 4/100\n",
      "11610/11610 [==============================] - 0s 40us/sample - loss: 0.4145 - val_loss: 0.4039\n",
      "Epoch 5/100\n",
      "11610/11610 [==============================] - 1s 46us/sample - loss: 0.3952 - val_loss: 0.3617\n",
      "Epoch 6/100\n",
      "11610/11610 [==============================] - 1s 45us/sample - loss: 0.3739 - val_loss: 0.3364\n",
      "Epoch 7/100\n",
      "11610/11610 [==============================] - 0s 41us/sample - loss: 0.3734 - val_loss: 0.3332\n",
      "Epoch 8/100\n",
      "11610/11610 [==============================] - 0s 40us/sample - loss: 0.3593 - val_loss: 0.3288\n",
      "Epoch 9/100\n",
      "11610/11610 [==============================] - 0s 42us/sample - loss: 0.3559 - val_loss: 0.3270\n",
      "Epoch 10/100\n",
      "11610/11610 [==============================] - 0s 42us/sample - loss: 0.3490 - val_loss: 0.3341\n",
      "Epoch 11/100\n",
      "11610/11610 [==============================] - 1s 45us/sample - loss: 0.3452 - val_loss: 0.3231\n",
      "Epoch 12/100\n",
      "11610/11610 [==============================] - 0s 39us/sample - loss: 0.3425 - val_loss: 0.3185\n",
      "Epoch 13/100\n",
      "11610/11610 [==============================] - 0s 42us/sample - loss: 0.3373 - val_loss: 0.3191\n",
      "Epoch 14/100\n",
      "11610/11610 [==============================] - 1s 46us/sample - loss: 0.3366 - val_loss: 0.3152\n",
      "Epoch 15/100\n",
      "11610/11610 [==============================] - 1s 43us/sample - loss: 0.3314 - val_loss: 0.3290\n",
      "Epoch 16/100\n",
      "11610/11610 [==============================] - 1s 46us/sample - loss: 0.3320 - val_loss: 0.3398\n",
      "Epoch 17/100\n",
      "11610/11610 [==============================] - 1s 45us/sample - loss: 0.3376 - val_loss: 0.4513\n",
      "Epoch 18/100\n",
      "11610/11610 [==============================] - 0s 42us/sample - loss: 0.3319 - val_loss: 0.3255\n",
      "Epoch 19/100\n",
      "11610/11610 [==============================] - 0s 37us/sample - loss: 0.3279 - val_loss: 0.3151\n",
      "Epoch 20/100\n",
      "11610/11610 [==============================] - 1s 44us/sample - loss: 0.3271 - val_loss: 0.3123\n",
      "Epoch 21/100\n",
      "11610/11610 [==============================] - 0s 43us/sample - loss: 0.3265 - val_loss: 0.6982\n",
      "Epoch 22/100\n",
      "11610/11610 [==============================] - 1s 44us/sample - loss: 0.3274 - val_loss: 0.3081\n",
      "Epoch 23/100\n",
      "11610/11610 [==============================] - 1s 43us/sample - loss: 0.3297 - val_loss: 0.3167\n",
      "Epoch 24/100\n",
      "11610/11610 [==============================] - 1s 43us/sample - loss: 0.3303 - val_loss: 0.3061\n",
      "Epoch 25/100\n",
      "11610/11610 [==============================] - 0s 37us/sample - loss: 0.3232 - val_loss: 0.3093\n",
      "Epoch 26/100\n",
      "11610/11610 [==============================] - 0s 36us/sample - loss: 0.3208 - val_loss: 0.3077\n",
      "Epoch 27/100\n",
      "11610/11610 [==============================] - 0s 41us/sample - loss: 0.3241 - val_loss: 0.3024\n",
      "Epoch 28/100\n",
      "11610/11610 [==============================] - 0s 38us/sample - loss: 0.3250 - val_loss: 0.3159\n",
      "Epoch 29/100\n",
      "11610/11610 [==============================] - 0s 39us/sample - loss: 0.3220 - val_loss: 0.5111\n",
      "Epoch 30/100\n",
      "11610/11610 [==============================] - 0s 40us/sample - loss: 0.3406 - val_loss: 0.5239\n",
      "Epoch 31/100\n",
      "11610/11610 [==============================] - 0s 39us/sample - loss: 0.3273 - val_loss: 0.3073\n",
      "Epoch 32/100\n",
      "11610/11610 [==============================] - 0s 40us/sample - loss: 0.3235 - val_loss: 0.3001\n",
      "Epoch 33/100\n",
      "11610/11610 [==============================] - 0s 40us/sample - loss: 0.3184 - val_loss: 0.3079\n",
      "Epoch 34/100\n",
      "11610/11610 [==============================] - 0s 40us/sample - loss: 0.3207 - val_loss: 0.3267\n",
      "Epoch 35/100\n",
      "11610/11610 [==============================] - 0s 42us/sample - loss: 0.3196 - val_loss: 0.3122\n",
      "Epoch 36/100\n",
      "11610/11610 [==============================] - 0s 36us/sample - loss: 0.3191 - val_loss: 0.3160\n",
      "Epoch 37/100\n",
      "11610/11610 [==============================] - 0s 37us/sample - loss: 0.3170 - val_loss: 0.2993\n",
      "Epoch 38/100\n",
      "11610/11610 [==============================] - 0s 37us/sample - loss: 0.3155 - val_loss: 0.3084\n",
      "Epoch 39/100\n",
      "11610/11610 [==============================] - 0s 39us/sample - loss: 0.3129 - val_loss: 0.3001\n",
      "Epoch 40/100\n",
      "11610/11610 [==============================] - 0s 41us/sample - loss: 0.3143 - val_loss: 0.3485\n",
      "Epoch 41/100\n",
      "11610/11610 [==============================] - 0s 40us/sample - loss: 0.3144 - val_loss: 0.3064\n",
      "Epoch 42/100\n",
      "11610/11610 [==============================] - 0s 42us/sample - loss: 0.3119 - val_loss: 0.3283\n",
      "Epoch 43/100\n",
      "11610/11610 [==============================] - 0s 38us/sample - loss: 0.3130 - val_loss: 0.3312\n",
      "Epoch 44/100\n",
      "11610/11610 [==============================] - 0s 40us/sample - loss: 0.3116 - val_loss: 0.3162\n",
      "Epoch 45/100\n",
      "11610/11610 [==============================] - 0s 43us/sample - loss: 0.3185 - val_loss: 0.3106\n",
      "Epoch 46/100\n",
      "11610/11610 [==============================] - 1s 44us/sample - loss: 0.3159 - val_loss: 0.3468\n",
      "Epoch 47/100\n",
      "11610/11610 [==============================] - 0s 39us/sample - loss: 0.3130 - val_loss: 0.3105\n"
     ]
    }
   ],
   "source": [
    "learning_rates = [1e-4, 3e-4, 1e-3, 3e-3, 1e-2, 3e-2]\n",
    "histories = []\n",
    "for learning_rate in learning_rates:\n",
    "    model = keras.models.Sequential([\n",
    "        keras.layers.Dense(30, activation=\"relu\", input_shape=X_train.shape[1:]),\n",
    "        keras.layers.Dense(1)\n",
    "    ])\n",
    "    optimizer = keras.optimizers.SGD(learning_rate)\n",
    "    model.compile(loss=\"mean_squared_error\", optimizer=optimizer)\n",
    "    callbacks = [keras.callbacks.EarlyStopping(patience=10)]\n",
    "    history = model.fit(X_train_scaled, y_train,\n",
    "                        validation_data=(X_valid_scaled, y_valid), epochs=100,\n",
    "                        callbacks=callbacks)\n",
    "    histories.append(history)"
   ]
  },
  {
   "cell_type": "code",
   "execution_count": 73,
   "metadata": {},
   "outputs": [
    {
     "name": "stdout",
     "output_type": "stream",
     "text": [
      "Learning rate: 0.0001\n"
     ]
    },
    {
     "data": {
      "image/png": "[encoded data removed]",
      "text/plain": [
       "<matplotlib.figure.Figure at 0x7f29230716a0>"
      ]
     },
     "metadata": {},
     "output_type": "display_data"
    },
    {
     "name": "stdout",
     "output_type": "stream",
     "text": [
      "Learning rate: 0.0003\n"
     ]
    },
    {
     "data": {
      "image/png": "[encoded data removed]",
      "text/plain": [
       "<matplotlib.figure.Figure at 0x7f28e6682d68>"
      ]
     },
     "metadata": {},
     "output_type": "display_data"
    },
    {
     "name": "stdout",
     "output_type": "stream",
     "text": [
      "Learning rate: 0.001\n"
     ]
    },
    {
     "data": {
      "image/png": "[encoded data removed]",
      "text/plain": [
       "<matplotlib.figure.Figure at 0x7f288f229940>"
      ]
     },
     "metadata": {},
     "output_type": "display_data"
    },
    {
     "name": "stdout",
     "output_type": "stream",
     "text": [
      "Learning rate: 0.003\n"
     ]
    },
    {
     "data": {
      "image/png": "[encoded data removed]",
      "text/plain": [
       "<matplotlib.figure.Figure at 0x7f288f096978>"
      ]
     },
     "metadata": {},
     "output_type": "display_data"
    },
    {
     "name": "stdout",
     "output_type": "stream",
     "text": [
      "Learning rate: 0.01\n"
     ]
    },
    {
     "data": {
      "image/png": "[encoded data removed]",
      "text/plain": [
       "<matplotlib.figure.Figure at 0x7f291195a080>"
      ]
     },
     "metadata": {},
     "output_type": "display_data"
    },
    {
     "name": "stdout",
     "output_type": "stream",
     "text": [
      "Learning rate: 0.03\n"
     ]
    },
    {
     "data": {
      "image/png": "[encoded data removed]",
      "text/plain": [
       "<matplotlib.figure.Figure at 0x7f2911914e48>"
      ]
     },
     "metadata": {},
     "output_type": "display_data"
    }
   ],
   "source": [
    "for learning_rate, history in zip(learning_rates, histories):\n",
    "    print(\"Learning rate:\", learning_rate)\n",
    "    plot_learning_curves(history)"
   ]
  },
  {
   "cell_type": "markdown",
   "metadata": {},
   "source": [
    "### 6.2)定义一个函数,根据给定的超参数返回一个模型\n",
    "Let's look at a more sophisticated way to tune hyperparameters. Create a `build_model()` function that takes three arguments, `n_hidden`, `n_neurons`, `learning_rate`, and builds, compiles and returns a model with the given number of hidden layers, the given number of neurons and the given learning rate. It is good practice to give a reasonable default value to each argument."
   ]
  },
  {
   "cell_type": "code",
   "execution_count": 74,
   "metadata": {},
   "outputs": [],
   "source": [
    "def build_model(n_hidden=1, n_neurons=30, learning_rate=3e-3):\n",
    "    model = keras.models.Sequential()\n",
    "    options = {\"input_shape\": X_train.shape[1:]}\n",
    "    for layer in range(n_hidden + 1):\n",
    "        model.add(keras.layers.Dense(n_neurons, activation=\"relu\", **options))\n",
    "        options = {}\n",
    "    model.add(keras.layers.Dense(1, **options))\n",
    "    optimizer = keras.optimizers.SGD(learning_rate)\n",
    "    model.compile(loss=\"mse\", optimizer=optimizer)\n",
    "    return model"
   ]
  },
  {
   "cell_type": "markdown",
   "metadata": {},
   "source": [
    "### 6.3)用keras.wrappers.scikit_learn.KerasRegressor做超参数搜索\n",
    "Create a `keras.wrappers.scikit_learn.KerasRegressor` and pass the `build_model` function to the constructor. This gives you a Scikit-Learn compatible predictor. Try training it and using it to make predictions. Note that you can pass the `n_epochs`, `callbacks` and `validation_data` to the `fit()` method."
   ]
  },
  {
   "cell_type": "code",
   "execution_count": 78,
   "metadata": {},
   "outputs": [],
   "source": [
    "keras_reg = keras.wrappers.scikit_learn.KerasRegressor(build_model)"
   ]
  },
  {
   "cell_type": "code",
   "execution_count": 92,
   "metadata": {},
   "outputs": [
    {
     "name": "stdout",
     "output_type": "stream",
     "text": [
      "Train on 11610 samples, validate on 3870 samples\n",
      "Epoch 1/100\n",
      "11610/11610 [==============================] - 1s 58us/sample - loss: 1.1465 - val_loss: 0.7745\n",
      "Epoch 2/100\n",
      "11610/11610 [==============================] - 0s 42us/sample - loss: 0.5532 - val_loss: 1.4648\n",
      "Epoch 3/100\n",
      "11610/11610 [==============================] - 1s 47us/sample - loss: 0.4862 - val_loss: 0.9953\n",
      "Epoch 4/100\n",
      "11610/11610 [==============================] - 1s 50us/sample - loss: 0.4540 - val_loss: 1.0747\n",
      "Epoch 5/100\n",
      "11610/11610 [==============================] - 1s 46us/sample - loss: 0.4354 - val_loss: 0.8391\n",
      "Epoch 6/100\n",
      "11610/11610 [==============================] - 1s 44us/sample - loss: 0.4198 - val_loss: 2.4995\n",
      "Epoch 7/100\n",
      "11610/11610 [==============================] - 0s 38us/sample - loss: 0.4132 - val_loss: 4.1638\n",
      "Epoch 8/100\n",
      "11610/11610 [==============================] - 0s 42us/sample - loss: 0.4095 - val_loss: 3.4948\n",
      "Epoch 9/100\n",
      "11610/11610 [==============================] - 0s 41us/sample - loss: 0.4218 - val_loss: 1.5266\n",
      "Epoch 10/100\n",
      "11610/11610 [==============================] - 0s 43us/sample - loss: 0.3889 - val_loss: 0.7912\n",
      "Epoch 11/100\n",
      "11610/11610 [==============================] - 1s 44us/sample - loss: 0.3777 - val_loss: 0.3514\n",
      "Epoch 12/100\n",
      "11610/11610 [==============================] - 0s 42us/sample - loss: 0.3697 - val_loss: 0.3834\n",
      "Epoch 13/100\n",
      "11610/11610 [==============================] - 1s 44us/sample - loss: 0.3660 - val_loss: 0.3943\n",
      "Epoch 14/100\n",
      "11610/11610 [==============================] - 0s 39us/sample - loss: 0.3642 - val_loss: 0.4012\n",
      "Epoch 15/100\n",
      "11610/11610 [==============================] - 0s 41us/sample - loss: 0.3602 - val_loss: 0.3663\n",
      "Epoch 16/100\n",
      "11610/11610 [==============================] - 1s 45us/sample - loss: 0.3614 - val_loss: 0.4280\n",
      "Epoch 17/100\n",
      "11610/11610 [==============================] - 1s 45us/sample - loss: 0.3726 - val_loss: 0.3728\n",
      "Epoch 18/100\n",
      "11610/11610 [==============================] - 1s 47us/sample - loss: 0.3554 - val_loss: 0.3956\n",
      "Epoch 19/100\n",
      "11610/11610 [==============================] - 0s 40us/sample - loss: 0.3555 - val_loss: 0.3795\n",
      "Epoch 20/100\n",
      "11610/11610 [==============================] - 1s 44us/sample - loss: 0.3546 - val_loss: 0.3710\n",
      "Epoch 21/100\n",
      "11610/11610 [==============================] - 0s 40us/sample - loss: 0.3517 - val_loss: 0.3713\n"
     ]
    },
    {
     "data": {
      "text/plain": [
       "<tensorflow.python.keras.callbacks.History at 0x7f2780606b00>"
      ]
     },
     "execution_count": 92,
     "metadata": {},
     "output_type": "execute_result"
    }
   ],
   "source": [
    "keras_reg.fit(X_train_scaled, y_train, epochs=100,\n",
    "              validation_data=(X_valid_scaled, y_valid),\n",
    "              callbacks=[keras.callbacks.EarlyStopping(patience=10)])"
   ]
  },
  {
   "cell_type": "code",
   "execution_count": 80,
   "metadata": {},
   "outputs": [
    {
     "data": {
      "text/plain": [
       "array([0.6485385, 1.4227791, 4.6693296, ..., 1.5066459, 2.2512639,\n",
       "       4.212013 ], dtype=float32)"
      ]
     },
     "execution_count": 80,
     "metadata": {},
     "output_type": "execute_result"
    }
   ],
   "source": [
    "keras_reg.predict(X_test_scaled)"
   ]
  },
  {
   "cell_type": "code",
   "execution_count": 83,
   "metadata": {},
   "outputs": [
    {
     "name": "stdout",
     "output_type": "stream",
     "text": [
      "Model: \"sequential_13\"\n",
      "_________________________________________________________________\n",
      "Layer (type)                 Output Shape              Param #   \n",
      "=================================================================\n",
      "dense_32 (Dense)             (None, 30)                270       \n",
      "_________________________________________________________________\n",
      "dense_33 (Dense)             (None, 30)                930       \n",
      "_________________________________________________________________\n",
      "dense_34 (Dense)             (None, 1)                 31        \n",
      "=================================================================\n",
      "Total params: 1,231\n",
      "Trainable params: 1,231\n",
      "Non-trainable params: 0\n",
      "_________________________________________________________________\n"
     ]
    }
   ],
   "source": [
    "keras_reg.model.summary()"
   ]
  },
  {
   "cell_type": "markdown",
   "metadata": {},
   "source": [
    "### 6.4)sklearn.model_selection.RandomizedSearchCV搜索超参数\n",
    "Use a `sklearn.model_selection.RandomizedSearchCV` to search the hyperparameter space of your `KerasRegressor`.\n",
    "\n",
    "**Tips**:\n",
    "* create a `param_distribs` dictionary where each key is the name of a hyperparameter you want to fine-tune (e.g., `\"n_hidden\"`), and each value is the list of values you want to explore (e.g., `[0, 1, 2, 3]`), or a Scipy distribution from `scipy.stats`.\n",
    "* You can use the reciprocal distribution for the learning rate (e.g, `reciprocal(3e-3, 3e-2)`).\n",
    "* Create a `RandomizedSearchCV`, passing the `KerasRegressor` and the `param_distribs` to its constructor, as well as the number of iterations (`n_iter`), and the number of cross-validation folds (`cv`). If you are short on time, you can set `n_iter=10` and `cv=3`. You may also want to set `verbose=2`.\n",
    "* Finally, call the `RandomizedSearchCV`'s `fit()` method on the training set. Once again you can pass it `n_epochs`, `validation_data` and `callbacks` if you want to.\n",
    "* The best parameters found will be available in the `best_params_` attribute, the best score will be in `best_score_`, and the best model will be in `best_estimator_`."
   ]
  },
  {
   "cell_type": "code",
   "execution_count": 89,
   "metadata": {},
   "outputs": [],
   "source": [
    "from scipy.stats import reciprocal\n",
    "\n",
    "param_distribs = {\n",
    "    \"n_hidden\": [0, 1, 2, 3],\n",
    "    \"n_neurons\": np.arange(1, 100),\n",
    "    \"learning_rate\": reciprocal(3e-4, 3e-2),\n",
    "}"
   ]
  },
  {
   "cell_type": "code",
   "execution_count": 90,
   "metadata": {},
   "outputs": [],
   "source": [
    "from sklearn.model_selection import RandomizedSearchCV\n",
    "\n",
    "rnd_search_cv = RandomizedSearchCV(keras_reg, param_distribs, n_iter=10, cv=3, verbose=2)"
   ]
  },
  {
   "cell_type": "code",
   "execution_count": 91,
   "metadata": {},
   "outputs": [
    {
     "name": "stdout",
     "output_type": "stream",
     "text": [
      "Fitting 3 folds for each of 10 candidates, totalling 30 fits\n",
      "[CV] learning_rate=0.002488407157606045, n_hidden=3, n_neurons=99 ....\n",
      "Train on 7740 samples, validate on 3870 samples\n",
      "Epoch 1/100\n",
      "7740/7740 [==============================] - 1s 100us/sample - loss: 1.6165 - val_loss: 0.9053\n",
      "Epoch 2/100\n",
      "7740/7740 [==============================] - 1s 80us/sample - loss: 0.6228 - val_loss: 0.5861\n",
      "Epoch 3/100\n",
      "7740/7740 [==============================] - 1s 75us/sample - loss: 0.5380 - val_loss: 0.4897\n",
      "Epoch 4/100\n",
      "7740/7740 [==============================] - 1s 75us/sample - loss: 0.4807 - val_loss: 0.4288\n",
      "Epoch 5/100\n",
      "7740/7740 [==============================] - 1s 73us/sample - loss: 0.4385 - val_loss: 0.3996\n",
      "Epoch 6/100\n",
      "7740/7740 [==============================] - 1s 72us/sample - loss: 0.4126 - val_loss: 0.3923\n",
      "Epoch 7/100\n",
      "7740/7740 [==============================] - 1s 73us/sample - loss: 0.3958 - val_loss: 0.3915\n",
      "Epoch 8/100\n",
      "7740/7740 [==============================] - 1s 71us/sample - loss: 0.3831 - val_loss: 0.4025\n",
      "Epoch 9/100\n",
      "7740/7740 [==============================] - 1s 67us/sample - loss: 0.3733 - val_loss: 0.4021\n",
      "Epoch 10/100\n",
      "7740/7740 [==============================] - 1s 66us/sample - loss: 0.3631 - val_loss: 0.3760\n",
      "Epoch 11/100\n",
      "7740/7740 [==============================] - 1s 68us/sample - loss: 0.3594 - val_loss: 0.3810\n",
      "Epoch 12/100\n",
      "7740/7740 [==============================] - 1s 65us/sample - loss: 0.3529 - val_loss: 0.3700\n",
      "Epoch 13/100\n",
      "7740/7740 [==============================] - 0s 63us/sample - loss: 0.3480 - val_loss: 0.3756\n",
      "Epoch 14/100\n",
      "7740/7740 [==============================] - 0s 64us/sample - loss: 0.3446 - val_loss: 0.3667\n",
      "Epoch 15/100\n",
      "7740/7740 [==============================] - 1s 76us/sample - loss: 0.3423 - val_loss: 0.3763\n",
      "Epoch 16/100\n",
      "7740/7740 [==============================] - 1s 72us/sample - loss: 0.3401 - val_loss: 0.3971\n",
      "Epoch 17/100\n",
      "7740/7740 [==============================] - 1s 74us/sample - loss: 0.3333 - val_loss: 0.3626\n",
      "Epoch 18/100\n",
      "7740/7740 [==============================] - 1s 72us/sample - loss: 0.3316 - val_loss: 0.3653\n",
      "Epoch 19/100\n",
      "7740/7740 [==============================] - 1s 72us/sample - loss: 0.3287 - val_loss: 0.3628\n",
      "Epoch 20/100\n",
      "7740/7740 [==============================] - 1s 70us/sample - loss: 0.3272 - val_loss: 0.3615\n",
      "Epoch 21/100\n",
      "7740/7740 [==============================] - 1s 68us/sample - loss: 0.3252 - val_loss: 0.3359\n",
      "Epoch 22/100\n",
      "7740/7740 [==============================] - 1s 72us/sample - loss: 0.3233 - val_loss: 0.3485\n",
      "Epoch 23/100\n",
      "7740/7740 [==============================] - 1s 72us/sample - loss: 0.3211 - val_loss: 0.3541\n",
      "Epoch 24/100\n",
      "7740/7740 [==============================] - 1s 67us/sample - loss: 0.3205 - val_loss: 0.3380\n",
      "Epoch 25/100\n",
      "7740/7740 [==============================] - 1s 67us/sample - loss: 0.3186 - val_loss: 0.3355\n",
      "Epoch 26/100\n",
      "7740/7740 [==============================] - 1s 72us/sample - loss: 0.3176 - val_loss: 0.3262\n",
      "Epoch 27/100\n",
      "7740/7740 [==============================] - 1s 72us/sample - loss: 0.3148 - val_loss: 0.3464\n",
      "Epoch 28/100\n",
      "7740/7740 [==============================] - 1s 68us/sample - loss: 0.3133 - val_loss: 0.3236\n",
      "Epoch 29/100\n",
      "7740/7740 [==============================] - 1s 69us/sample - loss: 0.3107 - val_loss: 0.3296\n",
      "Epoch 30/100\n",
      "7740/7740 [==============================] - 1s 72us/sample - loss: 0.3113 - val_loss: 0.3273\n",
      "Epoch 31/100\n",
      "7740/7740 [==============================] - 1s 73us/sample - loss: 0.3089 - val_loss: 0.3334\n",
      "Epoch 32/100\n",
      "7740/7740 [==============================] - 1s 75us/sample - loss: 0.3074 - val_loss: 0.3153\n",
      "Epoch 33/100\n",
      "7740/7740 [==============================] - 1s 75us/sample - loss: 0.3070 - val_loss: 0.3196\n",
      "Epoch 34/100\n",
      "7740/7740 [==============================] - 1s 70us/sample - loss: 0.3052 - val_loss: 0.3281\n",
      "Epoch 35/100\n",
      "7740/7740 [==============================] - 1s 65us/sample - loss: 0.3034 - val_loss: 0.3275\n",
      "Epoch 36/100\n",
      "7740/7740 [==============================] - 0s 62us/sample - loss: 0.3025 - val_loss: 0.3291\n",
      "Epoch 37/100\n",
      "7740/7740 [==============================] - 1s 73us/sample - loss: 0.3014 - val_loss: 0.3124\n",
      "Epoch 38/100\n",
      "7740/7740 [==============================] - 1s 71us/sample - loss: 0.3002 - val_loss: 0.3390\n",
      "Epoch 39/100\n",
      "7740/7740 [==============================] - 1s 71us/sample - loss: 0.3002 - val_loss: 0.3057\n",
      "Epoch 40/100\n",
      "7740/7740 [==============================] - 1s 69us/sample - loss: 0.2981 - val_loss: 0.3233\n",
      "Epoch 41/100\n",
      "7740/7740 [==============================] - 1s 70us/sample - loss: 0.2983 - val_loss: 0.3114\n",
      "Epoch 42/100\n",
      "7740/7740 [==============================] - 1s 68us/sample - loss: 0.2963 - val_loss: 0.3095\n",
      "Epoch 43/100\n",
      "7740/7740 [==============================] - 1s 67us/sample - loss: 0.2950 - val_loss: 0.3304\n",
      "Epoch 44/100\n",
      "7740/7740 [==============================] - 1s 71us/sample - loss: 0.2944 - val_loss: 0.3173\n",
      "Epoch 45/100\n",
      "7740/7740 [==============================] - 1s 72us/sample - loss: 0.2934 - val_loss: 0.3300\n",
      "Epoch 46/100\n",
      "7740/7740 [==============================] - 1s 70us/sample - loss: 0.2927 - val_loss: 0.3126\n",
      "Epoch 47/100\n",
      "7740/7740 [==============================] - 1s 68us/sample - loss: 0.2917 - val_loss: 0.3179\n",
      "Epoch 48/100\n",
      "7740/7740 [==============================] - 1s 68us/sample - loss: 0.2907 - val_loss: 0.2957\n",
      "Epoch 49/100\n",
      "7740/7740 [==============================] - 1s 74us/sample - loss: 0.2894 - val_loss: 0.3176\n",
      "Epoch 50/100\n",
      "7740/7740 [==============================] - 1s 76us/sample - loss: 0.2884 - val_loss: 0.2993\n",
      "Epoch 51/100\n",
      "7740/7740 [==============================] - 1s 70us/sample - loss: 0.2875 - val_loss: 0.3329\n",
      "Epoch 52/100\n",
      "7740/7740 [==============================] - 1s 67us/sample - loss: 0.2873 - val_loss: 0.3040\n",
      "Epoch 53/100\n",
      "7740/7740 [==============================] - 1s 70us/sample - loss: 0.2857 - val_loss: 0.3117\n",
      "Epoch 54/100\n",
      "7740/7740 [==============================] - 1s 70us/sample - loss: 0.2856 - val_loss: 0.2984\n",
      "Epoch 55/100\n",
      "7740/7740 [==============================] - 1s 68us/sample - loss: 0.2834 - val_loss: 0.3410\n",
      "Epoch 56/100\n",
      "7740/7740 [==============================] - 1s 69us/sample - loss: 0.2845 - val_loss: 0.2921\n",
      "Epoch 57/100\n",
      "7740/7740 [==============================] - 1s 70us/sample - loss: 0.2830 - val_loss: 0.3191\n",
      "Epoch 58/100\n",
      "7740/7740 [==============================] - 1s 67us/sample - loss: 0.2818 - val_loss: 0.3288\n",
      "Epoch 59/100\n",
      "7740/7740 [==============================] - 1s 71us/sample - loss: 0.2818 - val_loss: 0.3075\n",
      "Epoch 60/100\n",
      "7740/7740 [==============================] - 1s 69us/sample - loss: 0.2813 - val_loss: 0.3081\n",
      "Epoch 61/100\n",
      "7740/7740 [==============================] - 1s 68us/sample - loss: 0.2793 - val_loss: 0.3029\n",
      "Epoch 62/100\n",
      "7740/7740 [==============================] - 1s 70us/sample - loss: 0.2775 - val_loss: 0.2955\n",
      "Epoch 63/100\n",
      "7740/7740 [==============================] - 1s 72us/sample - loss: 0.2795 - val_loss: 0.3007\n",
      "Epoch 64/100\n",
      "7740/7740 [==============================] - 1s 71us/sample - loss: 0.2772 - val_loss: 0.2871\n",
      "Epoch 65/100\n",
      "7740/7740 [==============================] - 1s 65us/sample - loss: 0.2766 - val_loss: 0.2998\n",
      "Epoch 66/100\n",
      "7740/7740 [==============================] - 1s 68us/sample - loss: 0.2761 - val_loss: 0.3059\n",
      "Epoch 67/100\n",
      "7740/7740 [==============================] - 1s 74us/sample - loss: 0.2746 - val_loss: 0.2955\n",
      "Epoch 68/100\n",
      "7740/7740 [==============================] - 1s 69us/sample - loss: 0.2751 - val_loss: 0.3127\n",
      "Epoch 69/100\n",
      "7740/7740 [==============================] - 1s 68us/sample - loss: 0.2733 - val_loss: 0.2903\n",
      "Epoch 70/100\n",
      "7740/7740 [==============================] - 1s 67us/sample - loss: 0.2721 - val_loss: 0.3080\n",
      "Epoch 71/100\n",
      "7740/7740 [==============================] - 0s 64us/sample - loss: 0.2716 - val_loss: 0.2925\n",
      "Epoch 72/100\n",
      "7740/7740 [==============================] - 1s 68us/sample - loss: 0.2717 - val_loss: 0.3000\n",
      "Epoch 73/100\n",
      "7740/7740 [==============================] - 1s 69us/sample - loss: 0.2701 - val_loss: 0.3119\n",
      "Epoch 74/100\n",
      "7740/7740 [==============================] - 1s 71us/sample - loss: 0.2701 - val_loss: 0.3164\n",
      "3870/3870 [==============================] - 0s 27us/sample - loss: 0.3107\n",
      "7740/7740 [==============================] - 0s 25us/sample - loss: 0.2647\n",
      "[CV]  learning_rate=0.002488407157606045, n_hidden=3, n_neurons=99, total=  40.9s\n",
      "[CV] learning_rate=0.002488407157606045, n_hidden=3, n_neurons=99 ....\n"
     ]
    },
    {
     "name": "stderr",
     "output_type": "stream",
     "text": [
      "[Parallel(n_jobs=1)]: Done   1 out of   1 | elapsed:   41.1s remaining:    0.0s\n"
     ]
    },
    {
     "name": "stdout",
     "output_type": "stream",
     "text": [
      "Train on 7740 samples, validate on 3870 samples\n",
      "Epoch 1/100\n",
      "7740/7740 [==============================] - 1s 101us/sample - loss: 1.5459 - val_loss: 3.9574\n",
      "Epoch 2/100\n",
      "7740/7740 [==============================] - 1s 78us/sample - loss: 0.6339 - val_loss: 1.0726\n",
      "Epoch 3/100\n",
      "7740/7740 [==============================] - 1s 73us/sample - loss: 0.5454 - val_loss: 0.5599\n",
      "Epoch 4/100\n",
      "7740/7740 [==============================] - 1s 75us/sample - loss: 0.4827 - val_loss: 0.4378\n",
      "Epoch 5/100\n",
      "7740/7740 [==============================] - 1s 70us/sample - loss: 0.4388 - val_loss: 0.4331\n",
      "Epoch 6/100\n",
      "7740/7740 [==============================] - 1s 70us/sample - loss: 0.4119 - val_loss: 0.3994\n",
      "Epoch 7/100\n",
      "7740/7740 [==============================] - 1s 70us/sample - loss: 0.3941 - val_loss: 0.3665\n",
      "Epoch 8/100\n",
      "7740/7740 [==============================] - 1s 74us/sample - loss: 0.3825 - val_loss: 0.3930\n",
      "Epoch 9/100\n",
      "7740/7740 [==============================] - 1s 77us/sample - loss: 0.3748 - val_loss: 0.3968\n",
      "Epoch 10/100\n",
      "7740/7740 [==============================] - 1s 75us/sample - loss: 0.3667 - val_loss: 0.4900\n",
      "Epoch 11/100\n",
      "7740/7740 [==============================] - 1s 68us/sample - loss: 0.3610 - val_loss: 0.5494\n",
      "Epoch 12/100\n",
      "7740/7740 [==============================] - 1s 70us/sample - loss: 0.3561 - val_loss: 0.5559\n",
      "Epoch 13/100\n",
      "7740/7740 [==============================] - 1s 72us/sample - loss: 0.3517 - val_loss: 0.6347\n",
      "Epoch 14/100\n",
      "7740/7740 [==============================] - 1s 72us/sample - loss: 0.3474 - val_loss: 0.6738\n",
      "Epoch 15/100\n",
      "7740/7740 [==============================] - 1s 74us/sample - loss: 0.3444 - val_loss: 0.6587\n",
      "Epoch 16/100\n",
      "7740/7740 [==============================] - 1s 73us/sample - loss: 0.3403 - val_loss: 0.6994\n",
      "Epoch 17/100\n",
      "7740/7740 [==============================] - 1s 73us/sample - loss: 0.3382 - val_loss: 0.7101\n",
      "3870/3870 [==============================] - 0s 27us/sample - loss: 0.3557\n",
      "7740/7740 [==============================] - 0s 30us/sample - loss: 0.3331\n",
      "[CV]  learning_rate=0.002488407157606045, n_hidden=3, n_neurons=99, total=  10.3s\n",
      "[CV] learning_rate=0.002488407157606045, n_hidden=3, n_neurons=99 ....\n",
      "Train on 7740 samples, validate on 3870 samples\n",
      "Epoch 1/100\n",
      "7740/7740 [==============================] - 1s 99us/sample - loss: 1.3469 - val_loss: 3.8485\n",
      "Epoch 2/100\n",
      "7740/7740 [==============================] - 1s 74us/sample - loss: 0.6395 - val_loss: 1.4250\n",
      "Epoch 3/100\n",
      "7740/7740 [==============================] - 1s 78us/sample - loss: 0.5123 - val_loss: 0.4444\n",
      "Epoch 4/100\n",
      "7740/7740 [==============================] - 1s 73us/sample - loss: 0.4535 - val_loss: 0.4069\n",
      "Epoch 5/100\n",
      "7740/7740 [==============================] - 1s 72us/sample - loss: 0.4246 - val_loss: 0.4042\n",
      "Epoch 6/100\n",
      "7740/7740 [==============================] - 1s 72us/sample - loss: 0.4056 - val_loss: 0.3965\n",
      "Epoch 7/100\n",
      "7740/7740 [==============================] - 1s 73us/sample - loss: 0.3914 - val_loss: 0.3715\n",
      "Epoch 8/100\n",
      "7740/7740 [==============================] - 1s 74us/sample - loss: 0.3822 - val_loss: 0.4413\n",
      "Epoch 9/100\n",
      "7740/7740 [==============================] - 1s 71us/sample - loss: 0.3743 - val_loss: 0.3616\n",
      "Epoch 10/100\n",
      "7740/7740 [==============================] - 1s 67us/sample - loss: 0.3678 - val_loss: 0.4325\n",
      "Epoch 11/100\n",
      "7740/7740 [==============================] - 1s 70us/sample - loss: 0.3632 - val_loss: 0.3372\n",
      "Epoch 12/100\n",
      "7740/7740 [==============================] - 1s 69us/sample - loss: 0.3584 - val_loss: 0.3349\n",
      "Epoch 13/100\n",
      "7740/7740 [==============================] - 1s 72us/sample - loss: 0.3544 - val_loss: 0.3642\n",
      "Epoch 14/100\n",
      "7740/7740 [==============================] - 1s 69us/sample - loss: 0.3513 - val_loss: 0.4076\n",
      "Epoch 15/100\n",
      "7740/7740 [==============================] - 1s 70us/sample - loss: 0.3504 - val_loss: 0.3347\n",
      "Epoch 16/100\n",
      "7740/7740 [==============================] - 1s 66us/sample - loss: 0.3461 - val_loss: 0.3319\n",
      "Epoch 17/100\n",
      "7740/7740 [==============================] - 1s 69us/sample - loss: 0.3430 - val_loss: 0.4069\n",
      "Epoch 18/100\n",
      "7740/7740 [==============================] - 1s 68us/sample - loss: 0.3428 - val_loss: 0.3441\n",
      "Epoch 19/100\n",
      "7740/7740 [==============================] - 1s 69us/sample - loss: 0.3404 - val_loss: 0.3459\n",
      "Epoch 20/100\n",
      "7740/7740 [==============================] - 1s 71us/sample - loss: 0.3378 - val_loss: 0.3349\n",
      "Epoch 21/100\n",
      "7740/7740 [==============================] - 1s 69us/sample - loss: 0.3351 - val_loss: 0.3301\n",
      "Epoch 22/100\n",
      "7740/7740 [==============================] - 1s 66us/sample - loss: 0.3336 - val_loss: 0.3302\n",
      "Epoch 23/100\n",
      "7740/7740 [==============================] - 1s 70us/sample - loss: 0.3323 - val_loss: 0.3336\n",
      "Epoch 24/100\n",
      "7740/7740 [==============================] - 1s 71us/sample - loss: 0.3298 - val_loss: 0.3598\n",
      "Epoch 25/100\n",
      "7740/7740 [==============================] - 1s 70us/sample - loss: 0.3287 - val_loss: 0.3174\n",
      "Epoch 26/100\n",
      "7740/7740 [==============================] - 1s 70us/sample - loss: 0.3273 - val_loss: 0.3426\n",
      "Epoch 27/100\n",
      "7740/7740 [==============================] - 1s 69us/sample - loss: 0.3254 - val_loss: 0.3907\n",
      "Epoch 28/100\n",
      "7740/7740 [==============================] - 0s 63us/sample - loss: 0.3257 - val_loss: 0.3384\n",
      "Epoch 29/100\n",
      "7740/7740 [==============================] - 1s 66us/sample - loss: 0.3235 - val_loss: 0.3446\n",
      "Epoch 30/100\n",
      "7740/7740 [==============================] - 1s 68us/sample - loss: 0.3214 - val_loss: 0.3256\n",
      "Epoch 31/100\n",
      "7740/7740 [==============================] - 1s 68us/sample - loss: 0.3210 - val_loss: 0.3167\n",
      "Epoch 32/100\n",
      "7740/7740 [==============================] - 1s 66us/sample - loss: 0.3186 - val_loss: 0.3638\n",
      "Epoch 33/100\n",
      "7740/7740 [==============================] - 1s 66us/sample - loss: 0.3183 - val_loss: 0.3206\n",
      "Epoch 34/100\n",
      "7740/7740 [==============================] - 1s 68us/sample - loss: 0.3166 - val_loss: 0.3821\n",
      "Epoch 35/100\n",
      "7740/7740 [==============================] - 1s 67us/sample - loss: 0.3159 - val_loss: 0.3249\n",
      "Epoch 36/100\n",
      "7740/7740 [==============================] - 1s 66us/sample - loss: 0.3136 - val_loss: 0.3137\n",
      "Epoch 37/100\n",
      "7740/7740 [==============================] - 1s 68us/sample - loss: 0.3111 - val_loss: 0.3796\n",
      "Epoch 38/100\n",
      "7740/7740 [==============================] - 1s 70us/sample - loss: 0.3115 - val_loss: 0.4230\n",
      "Epoch 39/100\n",
      "7740/7740 [==============================] - 1s 66us/sample - loss: 0.3109 - val_loss: 0.4426\n",
      "Epoch 40/100\n",
      "7740/7740 [==============================] - 1s 74us/sample - loss: 0.3105 - val_loss: 0.3025\n",
      "Epoch 41/100\n",
      "7740/7740 [==============================] - 1s 70us/sample - loss: 0.3084 - val_loss: 0.3840\n",
      "Epoch 42/100\n",
      "7740/7740 [==============================] - 1s 67us/sample - loss: 0.3075 - val_loss: 0.3106\n",
      "Epoch 43/100\n",
      "7740/7740 [==============================] - 1s 69us/sample - loss: 0.3057 - val_loss: 0.3037\n",
      "Epoch 44/100\n",
      "7740/7740 [==============================] - 1s 67us/sample - loss: 0.3038 - val_loss: 0.3056\n",
      "Epoch 45/100\n",
      "7740/7740 [==============================] - 1s 68us/sample - loss: 0.3026 - val_loss: 0.3378\n",
      "Epoch 46/100\n",
      "7740/7740 [==============================] - 1s 70us/sample - loss: 0.3028 - val_loss: 0.3320\n",
      "Epoch 47/100\n",
      "7740/7740 [==============================] - 1s 66us/sample - loss: 0.3011 - val_loss: 0.3167\n",
      "Epoch 48/100\n",
      "7740/7740 [==============================] - 1s 70us/sample - loss: 0.2998 - val_loss: 0.3058\n",
      "Epoch 49/100\n",
      "7740/7740 [==============================] - 1s 70us/sample - loss: 0.2990 - val_loss: 0.3001\n",
      "Epoch 50/100\n",
      "7740/7740 [==============================] - 1s 70us/sample - loss: 0.2981 - val_loss: 0.3755\n",
      "Epoch 51/100\n",
      "7740/7740 [==============================] - 1s 70us/sample - loss: 0.2981 - val_loss: 0.3019\n",
      "Epoch 52/100\n",
      "7740/7740 [==============================] - 1s 72us/sample - loss: 0.2959 - val_loss: 0.3243\n",
      "Epoch 53/100\n",
      "7740/7740 [==============================] - 1s 70us/sample - loss: 0.2942 - val_loss: 0.3291\n",
      "Epoch 54/100\n",
      "7740/7740 [==============================] - 0s 62us/sample - loss: 0.2946 - val_loss: 0.4412\n",
      "Epoch 55/100\n",
      "7740/7740 [==============================] - 1s 67us/sample - loss: 0.2947 - val_loss: 0.3922\n",
      "Epoch 56/100\n",
      "7740/7740 [==============================] - 1s 68us/sample - loss: 0.2930 - val_loss: 0.2984\n"
     ]
    },
    {
     "name": "stdout",
     "output_type": "stream",
     "text": [
      "Epoch 57/100\n",
      "7740/7740 [==============================] - 1s 74us/sample - loss: 0.2913 - val_loss: 0.3211\n",
      "Epoch 58/100\n",
      "7740/7740 [==============================] - 1s 69us/sample - loss: 0.2903 - val_loss: 0.2939\n",
      "Epoch 59/100\n",
      "7740/7740 [==============================] - 1s 71us/sample - loss: 0.2894 - val_loss: 0.3084\n",
      "Epoch 60/100\n",
      "7740/7740 [==============================] - 1s 71us/sample - loss: 0.2880 - val_loss: 0.3114\n",
      "Epoch 61/100\n",
      "7740/7740 [==============================] - 1s 73us/sample - loss: 0.2879 - val_loss: 0.3472\n",
      "Epoch 62/100\n",
      "7740/7740 [==============================] - 1s 71us/sample - loss: 0.2871 - val_loss: 0.3740\n",
      "Epoch 63/100\n",
      "7740/7740 [==============================] - 1s 70us/sample - loss: 0.2853 - val_loss: 0.3020\n",
      "Epoch 64/100\n",
      "7740/7740 [==============================] - 1s 69us/sample - loss: 0.2848 - val_loss: 0.3044\n",
      "Epoch 65/100\n",
      "7740/7740 [==============================] - 1s 67us/sample - loss: 0.2844 - val_loss: 0.2889\n",
      "Epoch 66/100\n",
      "7740/7740 [==============================] - 1s 66us/sample - loss: 0.2831 - val_loss: 0.3390\n",
      "Epoch 67/100\n",
      "7740/7740 [==============================] - 1s 69us/sample - loss: 0.2823 - val_loss: 0.3038\n",
      "Epoch 68/100\n",
      "7740/7740 [==============================] - 1s 71us/sample - loss: 0.2813 - val_loss: 0.3758\n",
      "Epoch 69/100\n",
      "7740/7740 [==============================] - 1s 66us/sample - loss: 0.2821 - val_loss: 0.3610\n",
      "Epoch 70/100\n",
      "7740/7740 [==============================] - 1s 70us/sample - loss: 0.2816 - val_loss: 0.5288\n",
      "Epoch 71/100\n",
      "7740/7740 [==============================] - 1s 68us/sample - loss: 0.2841 - val_loss: 0.4069\n",
      "Epoch 72/100\n",
      "7740/7740 [==============================] - 1s 74us/sample - loss: 0.2814 - val_loss: 0.5164\n",
      "Epoch 73/100\n",
      "7740/7740 [==============================] - 1s 68us/sample - loss: 0.2836 - val_loss: 0.5398\n",
      "Epoch 74/100\n",
      "7740/7740 [==============================] - 1s 68us/sample - loss: 0.2794 - val_loss: 0.4127\n",
      "Epoch 75/100\n",
      "7740/7740 [==============================] - 1s 71us/sample - loss: 0.2783 - val_loss: 0.3090\n",
      "3870/3870 [==============================] - 0s 28us/sample - loss: 0.3053\n",
      "7740/7740 [==============================] - 0s 33us/sample - loss: 0.2746\n",
      "[CV]  learning_rate=0.002488407157606045, n_hidden=3, n_neurons=99, total=  41.1s\n",
      "[CV] learning_rate=0.02685463823515719, n_hidden=0, n_neurons=68 .....\n",
      "Train on 7740 samples, validate on 3870 samples\n",
      "Epoch 1/100\n",
      "7740/7740 [==============================] - 0s 62us/sample - loss: 0.7797 - val_loss: 201.2815\n",
      "Epoch 2/100\n",
      "7740/7740 [==============================] - 0s 50us/sample - loss: nan - val_loss: nan\n",
      "Epoch 3/100\n",
      "7740/7740 [==============================] - 0s 49us/sample - loss: nan - val_loss: nan\n",
      "Epoch 4/100\n",
      "7740/7740 [==============================] - 0s 53us/sample - loss: nan - val_loss: nan\n",
      "Epoch 5/100\n",
      "7740/7740 [==============================] - 0s 45us/sample - loss: nan - val_loss: nan\n",
      "Epoch 6/100\n",
      "7740/7740 [==============================] - 0s 47us/sample - loss: nan - val_loss: nan\n",
      "Epoch 7/100\n",
      "7740/7740 [==============================] - 0s 48us/sample - loss: nan - val_loss: nan\n",
      "Epoch 8/100\n",
      "7740/7740 [==============================] - 0s 43us/sample - loss: nan - val_loss: nan\n",
      "Epoch 9/100\n",
      "7740/7740 [==============================] - 0s 43us/sample - loss: nan - val_loss: nan\n",
      "Epoch 10/100\n",
      "7740/7740 [==============================] - 0s 44us/sample - loss: nan - val_loss: nan\n",
      "Epoch 11/100\n",
      "7740/7740 [==============================] - 0s 45us/sample - loss: nan - val_loss: nan\n",
      "3870/3870 [==============================] - 0s 18us/sample - loss: nan\n",
      "7740/7740 [==============================] - 0s 21us/sample - loss: nan\n",
      "[CV]  learning_rate=0.02685463823515719, n_hidden=0, n_neurons=68, total=   4.4s\n",
      "[CV] learning_rate=0.02685463823515719, n_hidden=0, n_neurons=68 .....\n",
      "Train on 7740 samples, validate on 3870 samples\n",
      "Epoch 1/100\n",
      "7740/7740 [==============================] - 0s 62us/sample - loss: 0.6488 - val_loss: 5.2565\n",
      "Epoch 2/100\n",
      "7740/7740 [==============================] - 0s 45us/sample - loss: 0.4341 - val_loss: 0.3974\n",
      "Epoch 3/100\n",
      "7740/7740 [==============================] - 0s 44us/sample - loss: 0.3991 - val_loss: 0.6024\n",
      "Epoch 4/100\n",
      "7740/7740 [==============================] - 0s 45us/sample - loss: 0.3883 - val_loss: 0.3498\n",
      "Epoch 5/100\n",
      "7740/7740 [==============================] - 0s 43us/sample - loss: 0.3769 - val_loss: 0.3942\n",
      "Epoch 6/100\n",
      "7740/7740 [==============================] - 0s 44us/sample - loss: 0.3842 - val_loss: 0.7764\n",
      "Epoch 7/100\n",
      "7740/7740 [==============================] - 0s 45us/sample - loss: 0.3723 - val_loss: 0.5008\n",
      "Epoch 8/100\n",
      "7740/7740 [==============================] - 0s 42us/sample - loss: 0.3647 - val_loss: 0.5785\n",
      "Epoch 9/100\n",
      "7740/7740 [==============================] - 0s 42us/sample - loss: 0.3585 - val_loss: 0.3466\n",
      "Epoch 10/100\n",
      "7740/7740 [==============================] - 0s 44us/sample - loss: 0.3536 - val_loss: 0.3855\n",
      "Epoch 11/100\n",
      "7740/7740 [==============================] - 0s 45us/sample - loss: 0.3497 - val_loss: 0.6642\n",
      "Epoch 12/100\n",
      "7740/7740 [==============================] - 0s 48us/sample - loss: 0.3507 - val_loss: 0.9775\n",
      "Epoch 13/100\n",
      "7740/7740 [==============================] - 0s 42us/sample - loss: 0.3636 - val_loss: 0.3876\n",
      "Epoch 14/100\n",
      "7740/7740 [==============================] - 0s 47us/sample - loss: 0.3428 - val_loss: 0.4445\n",
      "Epoch 15/100\n",
      "7740/7740 [==============================] - 0s 43us/sample - loss: 0.3409 - val_loss: 0.4101\n",
      "Epoch 16/100\n",
      "7740/7740 [==============================] - 0s 44us/sample - loss: 0.3358 - val_loss: 0.3223\n",
      "Epoch 17/100\n",
      "7740/7740 [==============================] - 0s 46us/sample - loss: 0.3362 - val_loss: 0.3331\n",
      "Epoch 18/100\n",
      "7740/7740 [==============================] - 0s 46us/sample - loss: 0.3328 - val_loss: 0.8057\n",
      "Epoch 19/100\n",
      "7740/7740 [==============================] - 0s 48us/sample - loss: 0.3361 - val_loss: 0.5518\n",
      "Epoch 20/100\n",
      "7740/7740 [==============================] - 0s 43us/sample - loss: 0.3323 - val_loss: 0.8056\n",
      "Epoch 21/100\n",
      "7740/7740 [==============================] - 0s 46us/sample - loss: 0.3449 - val_loss: 0.3212\n",
      "Epoch 22/100\n",
      "7740/7740 [==============================] - 0s 42us/sample - loss: 0.3298 - val_loss: 2.6931\n",
      "Epoch 23/100\n",
      "7740/7740 [==============================] - 0s 40us/sample - loss: 0.3274 - val_loss: 0.3091\n",
      "Epoch 24/100\n",
      "7740/7740 [==============================] - 0s 40us/sample - loss: 0.3223 - val_loss: 0.3571\n",
      "Epoch 25/100\n",
      "7740/7740 [==============================] - 0s 42us/sample - loss: 0.3230 - val_loss: 0.8883\n",
      "Epoch 26/100\n",
      "7740/7740 [==============================] - 0s 45us/sample - loss: 0.3241 - val_loss: 0.8211\n",
      "Epoch 27/100\n",
      "7740/7740 [==============================] - 0s 46us/sample - loss: 0.3216 - val_loss: 1.8359\n",
      "Epoch 28/100\n",
      "7740/7740 [==============================] - 0s 42us/sample - loss: 0.3170 - val_loss: 1.4585\n",
      "Epoch 29/100\n",
      "7740/7740 [==============================] - 0s 42us/sample - loss: 0.3224 - val_loss: 1.3059\n",
      "Epoch 30/100\n",
      "7740/7740 [==============================] - 0s 49us/sample - loss: 0.3189 - val_loss: 0.6888\n",
      "Epoch 31/100\n",
      "7740/7740 [==============================] - 0s 47us/sample - loss: 0.3183 - val_loss: 0.7303\n",
      "Epoch 32/100\n",
      "7740/7740 [==============================] - 0s 46us/sample - loss: 0.3174 - val_loss: 0.3426\n",
      "Epoch 33/100\n",
      "7740/7740 [==============================] - 0s 47us/sample - loss: 0.3142 - val_loss: 3.6771\n",
      "3870/3870 [==============================] - 0s 16us/sample - loss: 0.3844\n",
      "7740/7740 [==============================] - 0s 19us/sample - loss: 0.3093\n",
      "[CV]  learning_rate=0.02685463823515719, n_hidden=0, n_neurons=68, total=  12.1s\n",
      "[CV] learning_rate=0.02685463823515719, n_hidden=0, n_neurons=68 .....\n",
      "Train on 7740 samples, validate on 3870 samples\n",
      "Epoch 1/100\n",
      "7740/7740 [==============================] - 1s 65us/sample - loss: 1.3259 - val_loss: 4.2906\n",
      "Epoch 2/100\n",
      "7740/7740 [==============================] - 0s 47us/sample - loss: 0.4628 - val_loss: 9.6111\n",
      "Epoch 3/100\n",
      "7740/7740 [==============================] - 0s 45us/sample - loss: 0.7241 - val_loss: 0.4087\n",
      "Epoch 4/100\n",
      "7740/7740 [==============================] - 0s 48us/sample - loss: 0.4568 - val_loss: 0.4252\n",
      "Epoch 5/100\n",
      "7740/7740 [==============================] - 0s 43us/sample - loss: 0.4064 - val_loss: 0.3473\n",
      "Epoch 6/100\n",
      "7740/7740 [==============================] - 0s 46us/sample - loss: 0.3701 - val_loss: 0.3362\n",
      "Epoch 7/100\n",
      "7740/7740 [==============================] - 0s 50us/sample - loss: 0.3628 - val_loss: 0.3423\n",
      "Epoch 8/100\n",
      "7740/7740 [==============================] - 0s 45us/sample - loss: 0.3539 - val_loss: 0.3434\n",
      "Epoch 9/100\n",
      "7740/7740 [==============================] - 0s 47us/sample - loss: 0.3497 - val_loss: 0.3477\n",
      "Epoch 10/100\n",
      "7740/7740 [==============================] - 0s 48us/sample - loss: 0.3462 - val_loss: 0.3423\n",
      "Epoch 11/100\n",
      "7740/7740 [==============================] - 0s 44us/sample - loss: 0.3416 - val_loss: 0.3762\n",
      "Epoch 12/100\n",
      "7740/7740 [==============================] - 0s 43us/sample - loss: 0.3383 - val_loss: 0.3940\n",
      "Epoch 13/100\n",
      "7740/7740 [==============================] - 0s 51us/sample - loss: 0.3376 - val_loss: 0.3183\n",
      "Epoch 14/100\n",
      "7740/7740 [==============================] - 0s 45us/sample - loss: 0.3353 - val_loss: 0.3364\n",
      "Epoch 15/100\n",
      "7740/7740 [==============================] - 0s 44us/sample - loss: 0.3525 - val_loss: 0.3302\n",
      "Epoch 16/100\n",
      "7740/7740 [==============================] - 0s 45us/sample - loss: 0.3353 - val_loss: 0.3614\n",
      "Epoch 17/100\n",
      "7740/7740 [==============================] - 0s 43us/sample - loss: 0.3322 - val_loss: 0.3209\n",
      "Epoch 18/100\n",
      "7740/7740 [==============================] - 0s 48us/sample - loss: 0.3298 - val_loss: 0.3708\n",
      "Epoch 19/100\n",
      "7740/7740 [==============================] - 0s 45us/sample - loss: 0.3291 - val_loss: 0.4252\n",
      "Epoch 20/100\n",
      "7740/7740 [==============================] - 0s 46us/sample - loss: 0.3294 - val_loss: 0.3165\n",
      "Epoch 21/100\n",
      "7740/7740 [==============================] - 0s 39us/sample - loss: 0.3253 - val_loss: 0.3511\n",
      "Epoch 22/100\n",
      "7740/7740 [==============================] - 0s 46us/sample - loss: 0.3271 - val_loss: 0.3517\n",
      "Epoch 23/100\n",
      "7740/7740 [==============================] - 0s 48us/sample - loss: 0.3438 - val_loss: 0.3392\n",
      "Epoch 24/100\n",
      "7740/7740 [==============================] - 0s 47us/sample - loss: 0.3398 - val_loss: 0.3911\n",
      "Epoch 25/100\n",
      "7740/7740 [==============================] - 0s 44us/sample - loss: 0.3337 - val_loss: 0.3364\n",
      "Epoch 26/100\n",
      "7740/7740 [==============================] - 0s 47us/sample - loss: 0.3412 - val_loss: 0.9608\n",
      "Epoch 27/100\n",
      "7740/7740 [==============================] - 0s 47us/sample - loss: 0.3305 - val_loss: 0.5857\n",
      "Epoch 28/100\n",
      "7740/7740 [==============================] - 0s 43us/sample - loss: 0.3245 - val_loss: 0.3521\n",
      "Epoch 29/100\n",
      "7740/7740 [==============================] - 0s 46us/sample - loss: 0.3196 - val_loss: 0.3154\n",
      "Epoch 30/100\n",
      "7740/7740 [==============================] - 0s 45us/sample - loss: 0.3204 - val_loss: 0.4865\n",
      "Epoch 31/100\n",
      "7740/7740 [==============================] - 0s 43us/sample - loss: 0.3167 - val_loss: 0.3078\n",
      "Epoch 32/100\n",
      "7740/7740 [==============================] - 0s 48us/sample - loss: 0.3148 - val_loss: 0.3017\n",
      "Epoch 33/100\n",
      "7740/7740 [==============================] - 0s 41us/sample - loss: 0.3143 - val_loss: 0.3265\n",
      "Epoch 34/100\n",
      "7740/7740 [==============================] - 0s 44us/sample - loss: 0.3146 - val_loss: 0.3076\n",
      "Epoch 35/100\n",
      "7740/7740 [==============================] - 0s 42us/sample - loss: 0.3133 - val_loss: 0.3363\n",
      "Epoch 36/100\n",
      "7740/7740 [==============================] - 0s 39us/sample - loss: 0.3095 - val_loss: 0.3018\n",
      "Epoch 37/100\n",
      "7740/7740 [==============================] - 0s 43us/sample - loss: 0.3092 - val_loss: 0.3158\n",
      "Epoch 38/100\n",
      "7740/7740 [==============================] - 0s 50us/sample - loss: 0.3071 - val_loss: 0.3221\n",
      "Epoch 39/100\n",
      "7740/7740 [==============================] - 0s 46us/sample - loss: 0.3070 - val_loss: 0.2984\n",
      "Epoch 40/100\n",
      "7740/7740 [==============================] - 0s 50us/sample - loss: 0.3083 - val_loss: 0.3601\n",
      "Epoch 41/100\n",
      "7740/7740 [==============================] - 0s 48us/sample - loss: 0.3089 - val_loss: 0.3589\n",
      "Epoch 42/100\n",
      "7740/7740 [==============================] - 0s 43us/sample - loss: 0.3077 - val_loss: 0.3025\n",
      "Epoch 43/100\n",
      "7740/7740 [==============================] - 0s 38us/sample - loss: 0.3048 - val_loss: 0.3086\n",
      "Epoch 44/100\n",
      "7740/7740 [==============================] - 0s 41us/sample - loss: 0.3055 - val_loss: 0.3012\n",
      "Epoch 45/100\n",
      "7740/7740 [==============================] - 0s 43us/sample - loss: 0.3019 - val_loss: 0.2911\n",
      "Epoch 46/100\n",
      "7740/7740 [==============================] - 0s 46us/sample - loss: 0.3012 - val_loss: 0.3044\n",
      "Epoch 47/100\n",
      "7740/7740 [==============================] - 0s 48us/sample - loss: 0.3008 - val_loss: 0.4947\n",
      "Epoch 48/100\n",
      "7740/7740 [==============================] - 0s 44us/sample - loss: 0.3036 - val_loss: 0.3140\n",
      "Epoch 49/100\n",
      "7740/7740 [==============================] - 0s 44us/sample - loss: 0.2994 - val_loss: 0.3370\n",
      "Epoch 50/100\n",
      "7740/7740 [==============================] - 0s 45us/sample - loss: 0.2986 - val_loss: 0.3522\n",
      "Epoch 51/100\n",
      "7740/7740 [==============================] - 0s 44us/sample - loss: 0.2969 - val_loss: 0.3208\n",
      "Epoch 52/100\n",
      "7740/7740 [==============================] - 0s 42us/sample - loss: 0.2990 - val_loss: 0.2923\n",
      "Epoch 53/100\n",
      "7740/7740 [==============================] - 0s 43us/sample - loss: 0.2949 - val_loss: 0.3146\n",
      "Epoch 54/100\n",
      "7740/7740 [==============================] - 0s 40us/sample - loss: 0.2952 - val_loss: 0.4197\n",
      "Epoch 55/100\n",
      "7740/7740 [==============================] - 0s 40us/sample - loss: 0.2950 - val_loss: 0.2935\n",
      "3870/3870 [==============================] - 0s 16us/sample - loss: 0.3017\n",
      "7740/7740 [==============================] - 0s 18us/sample - loss: 0.2871\n",
      "[CV]  learning_rate=0.02685463823515719, n_hidden=0, n_neurons=68, total=  19.6s\n",
      "[CV] learning_rate=0.012550516158463703, n_hidden=3, n_neurons=36 ....\n",
      "Train on 7740 samples, validate on 3870 samples\n",
      "Epoch 1/100\n",
      "7740/7740 [==============================] - 1s 82us/sample - loss: 1.0171 - val_loss: 0.5131\n",
      "Epoch 2/100\n",
      "7740/7740 [==============================] - 0s 56us/sample - loss: 0.4877 - val_loss: 3.3087\n",
      "Epoch 3/100\n",
      "7740/7740 [==============================] - 0s 53us/sample - loss: 0.4940 - val_loss: 2.0923\n",
      "Epoch 4/100\n",
      "7740/7740 [==============================] - 0s 54us/sample - loss: 0.4066 - val_loss: 0.6069\n",
      "Epoch 5/100\n",
      "7740/7740 [==============================] - 0s 53us/sample - loss: 0.3685 - val_loss: 0.4379\n",
      "Epoch 6/100\n",
      "7740/7740 [==============================] - 0s 55us/sample - loss: 0.3567 - val_loss: 0.4033\n",
      "Epoch 7/100\n",
      "7740/7740 [==============================] - 0s 55us/sample - loss: 0.3469 - val_loss: 0.3245\n",
      "Epoch 8/100\n",
      "7740/7740 [==============================] - 0s 59us/sample - loss: 0.3416 - val_loss: 0.3804\n",
      "Epoch 9/100\n",
      "7740/7740 [==============================] - 0s 60us/sample - loss: 0.3410 - val_loss: 0.3779\n",
      "Epoch 10/100\n",
      "7740/7740 [==============================] - 0s 60us/sample - loss: 0.3362 - val_loss: 0.3328\n",
      "Epoch 11/100\n",
      "7740/7740 [==============================] - 0s 65us/sample - loss: 0.3337 - val_loss: 0.3464\n",
      "Epoch 12/100\n",
      "7740/7740 [==============================] - 0s 62us/sample - loss: 0.3283 - val_loss: 0.3576\n",
      "Epoch 13/100\n",
      "7740/7740 [==============================] - 0s 58us/sample - loss: 0.3262 - val_loss: 0.3157\n",
      "Epoch 14/100\n",
      "7740/7740 [==============================] - 0s 59us/sample - loss: 0.3198 - val_loss: 0.3426\n",
      "Epoch 15/100\n",
      "7740/7740 [==============================] - 0s 61us/sample - loss: 0.3182 - val_loss: 0.3275\n",
      "Epoch 16/100\n",
      "7740/7740 [==============================] - 0s 60us/sample - loss: 0.3165 - val_loss: 0.3134\n",
      "Epoch 17/100\n",
      "7740/7740 [==============================] - 0s 61us/sample - loss: 0.3132 - val_loss: 0.3521\n",
      "Epoch 18/100\n",
      "7740/7740 [==============================] - 0s 60us/sample - loss: 0.3091 - val_loss: 0.3324\n",
      "Epoch 19/100\n",
      "7740/7740 [==============================] - 0s 61us/sample - loss: 0.3090 - val_loss: 0.3331\n",
      "Epoch 20/100\n",
      "7740/7740 [==============================] - 0s 63us/sample - loss: 0.3067 - val_loss: 0.3377\n",
      "Epoch 21/100\n",
      "7740/7740 [==============================] - 0s 56us/sample - loss: 0.3034 - val_loss: 0.5429\n",
      "Epoch 22/100\n",
      "7740/7740 [==============================] - 0s 57us/sample - loss: 0.3030 - val_loss: 0.5177\n",
      "Epoch 23/100\n"
     ]
    },
    {
     "name": "stdout",
     "output_type": "stream",
     "text": [
      "7740/7740 [==============================] - 0s 58us/sample - loss: 0.2983 - val_loss: 0.4233\n",
      "Epoch 24/100\n",
      "7740/7740 [==============================] - 0s 57us/sample - loss: 0.3012 - val_loss: 0.3155\n",
      "Epoch 25/100\n",
      "7740/7740 [==============================] - 0s 53us/sample - loss: 0.2955 - val_loss: 0.3118\n",
      "Epoch 26/100\n",
      "7740/7740 [==============================] - 0s 62us/sample - loss: 0.2959 - val_loss: 0.2993\n",
      "Epoch 27/100\n",
      "7740/7740 [==============================] - 0s 59us/sample - loss: 0.2957 - val_loss: 0.2968\n",
      "Epoch 28/100\n",
      "7740/7740 [==============================] - 0s 57us/sample - loss: 0.2920 - val_loss: 0.2844\n",
      "Epoch 29/100\n",
      "7740/7740 [==============================] - 1s 66us/sample - loss: 0.2885 - val_loss: 0.2965\n",
      "Epoch 30/100\n",
      "7740/7740 [==============================] - 0s 61us/sample - loss: 0.2881 - val_loss: 0.2823\n",
      "Epoch 31/100\n",
      "7740/7740 [==============================] - 0s 57us/sample - loss: 0.2877 - val_loss: 0.2807\n",
      "Epoch 32/100\n",
      "7740/7740 [==============================] - 0s 62us/sample - loss: 0.2836 - val_loss: 0.3146\n",
      "Epoch 33/100\n",
      "7740/7740 [==============================] - 0s 55us/sample - loss: 0.2827 - val_loss: 0.2907\n",
      "Epoch 34/100\n",
      "7740/7740 [==============================] - 0s 61us/sample - loss: 0.2817 - val_loss: 0.2961\n",
      "Epoch 35/100\n",
      "7740/7740 [==============================] - 0s 57us/sample - loss: 0.2808 - val_loss: 0.3102\n",
      "Epoch 36/100\n",
      "7740/7740 [==============================] - 0s 53us/sample - loss: 0.2793 - val_loss: 0.3229\n",
      "Epoch 37/100\n",
      "7740/7740 [==============================] - 0s 56us/sample - loss: 0.2779 - val_loss: 0.3018\n",
      "Epoch 38/100\n",
      "7740/7740 [==============================] - 0s 54us/sample - loss: 0.2768 - val_loss: 0.3006\n",
      "Epoch 39/100\n",
      "7740/7740 [==============================] - 0s 57us/sample - loss: 0.2769 - val_loss: 0.3038\n",
      "Epoch 40/100\n",
      "7740/7740 [==============================] - 0s 56us/sample - loss: 0.2754 - val_loss: 0.2863\n",
      "Epoch 41/100\n",
      "7740/7740 [==============================] - 0s 57us/sample - loss: 0.2740 - val_loss: 0.2806\n",
      "Epoch 42/100\n",
      "7740/7740 [==============================] - 0s 56us/sample - loss: 0.2707 - val_loss: 0.2952\n",
      "Epoch 43/100\n",
      "7740/7740 [==============================] - 0s 57us/sample - loss: 0.2703 - val_loss: 0.3298\n",
      "Epoch 44/100\n",
      "7740/7740 [==============================] - 0s 55us/sample - loss: 0.2729 - val_loss: 0.2752\n",
      "Epoch 45/100\n",
      "7740/7740 [==============================] - 0s 57us/sample - loss: 0.2712 - val_loss: 0.3507\n",
      "Epoch 46/100\n",
      "7740/7740 [==============================] - 1s 66us/sample - loss: 0.2693 - val_loss: 0.2852\n",
      "Epoch 47/100\n",
      "7740/7740 [==============================] - 0s 57us/sample - loss: 0.2687 - val_loss: 0.3420\n",
      "Epoch 48/100\n",
      "7740/7740 [==============================] - 0s 62us/sample - loss: 0.2689 - val_loss: 0.2781\n",
      "Epoch 49/100\n",
      "7740/7740 [==============================] - 0s 58us/sample - loss: 0.2633 - val_loss: 0.2780\n",
      "Epoch 50/100\n",
      "7740/7740 [==============================] - 0s 58us/sample - loss: 0.2637 - val_loss: 0.2818\n",
      "Epoch 51/100\n",
      "7740/7740 [==============================] - 0s 60us/sample - loss: 0.2646 - val_loss: 0.3028\n",
      "Epoch 52/100\n",
      "7740/7740 [==============================] - 0s 64us/sample - loss: 0.2611 - val_loss: 0.2696\n",
      "Epoch 53/100\n",
      "7740/7740 [==============================] - 0s 57us/sample - loss: 0.2603 - val_loss: 0.3323\n",
      "Epoch 54/100\n",
      "7740/7740 [==============================] - 0s 59us/sample - loss: 0.2634 - val_loss: 0.2804\n",
      "Epoch 55/100\n",
      "7740/7740 [==============================] - 0s 59us/sample - loss: 0.2617 - val_loss: 0.2967\n",
      "Epoch 56/100\n",
      "7740/7740 [==============================] - 0s 56us/sample - loss: 0.2601 - val_loss: 0.2930\n",
      "Epoch 57/100\n",
      "7740/7740 [==============================] - 0s 59us/sample - loss: 0.2592 - val_loss: 0.3350\n",
      "Epoch 58/100\n",
      "7740/7740 [==============================] - 0s 55us/sample - loss: 0.2575 - val_loss: 0.2856\n",
      "Epoch 59/100\n",
      "7740/7740 [==============================] - 0s 60us/sample - loss: 0.2582 - val_loss: 0.2879\n",
      "Epoch 60/100\n",
      "7740/7740 [==============================] - 0s 60us/sample - loss: 0.2565 - val_loss: 0.2803\n",
      "Epoch 61/100\n",
      "7740/7740 [==============================] - 0s 62us/sample - loss: 0.2568 - val_loss: 0.3649\n",
      "Epoch 62/100\n",
      "7740/7740 [==============================] - 0s 56us/sample - loss: 0.2561 - val_loss: 0.2706\n",
      "3870/3870 [==============================] - 0s 23us/sample - loss: 0.2985\n",
      "7740/7740 [==============================] - 0s 28us/sample - loss: 0.2446\n",
      "[CV]  learning_rate=0.012550516158463703, n_hidden=3, n_neurons=36, total=  28.6s\n",
      "[CV] learning_rate=0.012550516158463703, n_hidden=3, n_neurons=36 ....\n",
      "Train on 7740 samples, validate on 3870 samples\n",
      "Epoch 1/100\n",
      "7740/7740 [==============================] - 1s 84us/sample - loss: 0.7685 - val_loss: 0.4615\n",
      "Epoch 2/100\n",
      "7740/7740 [==============================] - 0s 58us/sample - loss: 0.4273 - val_loss: 0.5332\n",
      "Epoch 3/100\n",
      "7740/7740 [==============================] - 0s 53us/sample - loss: 0.3891 - val_loss: 0.5610\n",
      "Epoch 4/100\n",
      "7740/7740 [==============================] - 0s 57us/sample - loss: 0.3698 - val_loss: 0.7202\n",
      "Epoch 5/100\n",
      "7740/7740 [==============================] - 0s 55us/sample - loss: 0.3607 - val_loss: 0.8820\n",
      "Epoch 6/100\n",
      "7740/7740 [==============================] - 0s 57us/sample - loss: 0.3495 - val_loss: 0.3764\n",
      "Epoch 7/100\n",
      "7740/7740 [==============================] - 0s 51us/sample - loss: 0.3455 - val_loss: 0.4683\n",
      "Epoch 8/100\n",
      "7740/7740 [==============================] - 0s 56us/sample - loss: 0.3401 - val_loss: 0.3899\n",
      "Epoch 9/100\n",
      "7740/7740 [==============================] - 0s 56us/sample - loss: 0.3386 - val_loss: 0.5114\n",
      "Epoch 10/100\n",
      "7740/7740 [==============================] - 0s 55us/sample - loss: 0.3322 - val_loss: 0.3268\n",
      "Epoch 11/100\n",
      "7740/7740 [==============================] - 0s 60us/sample - loss: 0.3269 - val_loss: 0.4488\n",
      "Epoch 12/100\n",
      "7740/7740 [==============================] - 0s 55us/sample - loss: 0.3242 - val_loss: 0.3203\n",
      "Epoch 13/100\n",
      "7740/7740 [==============================] - 0s 59us/sample - loss: 0.3199 - val_loss: 0.3251\n",
      "Epoch 14/100\n",
      "7740/7740 [==============================] - 0s 59us/sample - loss: 0.3168 - val_loss: 0.3141\n",
      "Epoch 15/100\n",
      "7740/7740 [==============================] - 0s 54us/sample - loss: 0.3153 - val_loss: 0.3034\n",
      "Epoch 16/100\n",
      "7740/7740 [==============================] - 0s 53us/sample - loss: 0.3124 - val_loss: 0.4559\n",
      "Epoch 17/100\n",
      "7740/7740 [==============================] - 0s 55us/sample - loss: 0.3061 - val_loss: 0.4610\n",
      "Epoch 18/100\n",
      "7740/7740 [==============================] - 0s 60us/sample - loss: 0.3060 - val_loss: 0.4480\n",
      "Epoch 19/100\n",
      "7740/7740 [==============================] - 0s 55us/sample - loss: 0.3013 - val_loss: 0.3191\n",
      "Epoch 20/100\n",
      "7740/7740 [==============================] - 0s 58us/sample - loss: 0.3036 - val_loss: 0.3460\n",
      "Epoch 21/100\n",
      "7740/7740 [==============================] - 0s 53us/sample - loss: 0.2951 - val_loss: 0.3275\n",
      "Epoch 22/100\n",
      "7740/7740 [==============================] - 0s 56us/sample - loss: 0.2945 - val_loss: 0.3295\n",
      "Epoch 23/100\n",
      "7740/7740 [==============================] - 0s 56us/sample - loss: 0.2927 - val_loss: 0.5001\n",
      "Epoch 24/100\n",
      "7740/7740 [==============================] - 0s 55us/sample - loss: 0.2909 - val_loss: 0.4741\n",
      "Epoch 25/100\n",
      "7740/7740 [==============================] - 0s 52us/sample - loss: 0.2895 - val_loss: 0.3391\n",
      "3870/3870 [==============================] - 0s 21us/sample - loss: 0.3250\n",
      "7740/7740 [==============================] - 0s 24us/sample - loss: 0.3006\n",
      "[CV]  learning_rate=0.012550516158463703, n_hidden=3, n_neurons=36, total=  11.5s\n",
      "[CV] learning_rate=0.012550516158463703, n_hidden=3, n_neurons=36 ....\n",
      "Train on 7740 samples, validate on 3870 samples\n",
      "Epoch 1/100\n",
      "7740/7740 [==============================] - 1s 95us/sample - loss: 0.6774 - val_loss: 0.5629\n",
      "Epoch 2/100\n",
      "7740/7740 [==============================] - 1s 66us/sample - loss: 0.4327 - val_loss: 0.4262\n",
      "Epoch 3/100\n",
      "7740/7740 [==============================] - 0s 60us/sample - loss: 0.3879 - val_loss: 0.3471\n",
      "Epoch 4/100\n",
      "7740/7740 [==============================] - 0s 63us/sample - loss: 0.3693 - val_loss: 0.4017\n",
      "Epoch 5/100\n",
      "7740/7740 [==============================] - 0s 56us/sample - loss: 0.3572 - val_loss: 0.3438\n",
      "Epoch 6/100\n",
      "7740/7740 [==============================] - 0s 58us/sample - loss: 0.3436 - val_loss: 0.4188\n",
      "Epoch 7/100\n",
      "7740/7740 [==============================] - 0s 59us/sample - loss: 0.3402 - val_loss: 0.3246\n",
      "Epoch 8/100\n",
      "7740/7740 [==============================] - 0s 55us/sample - loss: 0.3314 - val_loss: 0.3173\n",
      "Epoch 9/100\n",
      "7740/7740 [==============================] - 0s 59us/sample - loss: 0.3367 - val_loss: 0.4182\n",
      "Epoch 10/100\n",
      "7740/7740 [==============================] - 0s 56us/sample - loss: 0.3337 - val_loss: 0.4029\n",
      "Epoch 11/100\n",
      "7740/7740 [==============================] - 0s 53us/sample - loss: 0.3213 - val_loss: 0.3538\n",
      "Epoch 12/100\n",
      "7740/7740 [==============================] - 0s 53us/sample - loss: 0.3197 - val_loss: 0.3222\n",
      "Epoch 13/100\n",
      "7740/7740 [==============================] - 0s 54us/sample - loss: 0.3169 - val_loss: 0.3145\n",
      "Epoch 14/100\n",
      "7740/7740 [==============================] - 0s 57us/sample - loss: 0.3090 - val_loss: 0.3897\n",
      "Epoch 15/100\n",
      "7740/7740 [==============================] - 0s 58us/sample - loss: 0.3101 - val_loss: 0.3030\n",
      "Epoch 16/100\n",
      "7740/7740 [==============================] - 0s 63us/sample - loss: 0.3062 - val_loss: 0.3025\n",
      "Epoch 17/100\n",
      "7740/7740 [==============================] - 0s 56us/sample - loss: 0.3057 - val_loss: 0.3236\n",
      "Epoch 18/100\n",
      "7740/7740 [==============================] - 0s 62us/sample - loss: 0.3141 - val_loss: 0.3135\n",
      "Epoch 19/100\n",
      "7740/7740 [==============================] - 0s 57us/sample - loss: 0.3011 - val_loss: 0.3209\n",
      "Epoch 20/100\n",
      "7740/7740 [==============================] - 0s 64us/sample - loss: 0.2945 - val_loss: 0.3295\n",
      "Epoch 21/100\n",
      "7740/7740 [==============================] - 0s 55us/sample - loss: 0.2961 - val_loss: 0.3361\n",
      "Epoch 22/100\n",
      "7740/7740 [==============================] - 0s 57us/sample - loss: 0.2947 - val_loss: 0.2911\n",
      "Epoch 23/100\n",
      "7740/7740 [==============================] - 0s 59us/sample - loss: 0.2925 - val_loss: 0.2945\n",
      "Epoch 24/100\n",
      "7740/7740 [==============================] - 0s 57us/sample - loss: 0.2890 - val_loss: 0.3041\n",
      "Epoch 25/100\n",
      "7740/7740 [==============================] - 0s 58us/sample - loss: 0.2881 - val_loss: 0.3384\n",
      "Epoch 26/100\n",
      "7740/7740 [==============================] - 0s 59us/sample - loss: 0.2890 - val_loss: 0.3947\n",
      "Epoch 27/100\n",
      "7740/7740 [==============================] - 0s 56us/sample - loss: 0.2865 - val_loss: 0.3271\n",
      "Epoch 28/100\n",
      "7740/7740 [==============================] - 0s 59us/sample - loss: 0.2847 - val_loss: 0.3085\n",
      "Epoch 29/100\n",
      "7740/7740 [==============================] - 0s 59us/sample - loss: 0.2839 - val_loss: 0.3132\n",
      "Epoch 30/100\n",
      "7740/7740 [==============================] - 0s 55us/sample - loss: 0.2790 - val_loss: 0.3215\n",
      "Epoch 31/100\n",
      "7740/7740 [==============================] - 0s 57us/sample - loss: 0.2785 - val_loss: 0.2839\n",
      "Epoch 32/100\n",
      "7740/7740 [==============================] - 0s 53us/sample - loss: 0.2772 - val_loss: 0.4948\n",
      "Epoch 33/100\n",
      "7740/7740 [==============================] - 0s 56us/sample - loss: 0.2810 - val_loss: 0.2859\n",
      "Epoch 34/100\n",
      "7740/7740 [==============================] - 0s 56us/sample - loss: 0.2765 - val_loss: 0.4555\n",
      "Epoch 35/100\n",
      "7740/7740 [==============================] - 0s 56us/sample - loss: 0.2778 - val_loss: 0.2837\n",
      "Epoch 36/100\n",
      "7740/7740 [==============================] - 0s 55us/sample - loss: 0.2740 - val_loss: 0.2774\n",
      "Epoch 37/100\n",
      "7740/7740 [==============================] - 0s 55us/sample - loss: 0.2750 - val_loss: 0.3058\n",
      "Epoch 38/100\n",
      "7740/7740 [==============================] - 0s 56us/sample - loss: 0.2731 - val_loss: 0.2841\n",
      "Epoch 39/100\n",
      "7740/7740 [==============================] - 0s 57us/sample - loss: 0.2729 - val_loss: 0.3417\n",
      "Epoch 40/100\n",
      "7740/7740 [==============================] - 0s 57us/sample - loss: 0.2718 - val_loss: 0.2829\n",
      "Epoch 41/100\n",
      "7740/7740 [==============================] - 0s 54us/sample - loss: 0.2673 - val_loss: 0.3028\n",
      "Epoch 42/100\n",
      "7740/7740 [==============================] - 0s 60us/sample - loss: 0.2696 - val_loss: 0.2787\n",
      "Epoch 43/100\n",
      "7740/7740 [==============================] - 0s 56us/sample - loss: 0.2669 - val_loss: 0.2736\n",
      "Epoch 44/100\n",
      "7740/7740 [==============================] - 0s 55us/sample - loss: 0.2672 - val_loss: 0.3202\n",
      "Epoch 45/100\n",
      "7740/7740 [==============================] - 0s 59us/sample - loss: 0.2676 - val_loss: 0.2703\n",
      "Epoch 46/100\n",
      "7740/7740 [==============================] - 0s 57us/sample - loss: 0.2635 - val_loss: 0.4164\n",
      "Epoch 47/100\n",
      "7740/7740 [==============================] - 0s 60us/sample - loss: 0.2651 - val_loss: 0.2872\n",
      "Epoch 48/100\n",
      "7740/7740 [==============================] - 0s 57us/sample - loss: 0.2637 - val_loss: 0.3400\n",
      "Epoch 49/100\n",
      "7740/7740 [==============================] - 0s 58us/sample - loss: 0.2667 - val_loss: 0.2968\n",
      "Epoch 50/100\n",
      "7740/7740 [==============================] - 0s 57us/sample - loss: 0.2661 - val_loss: 0.5010\n",
      "Epoch 51/100\n",
      "7740/7740 [==============================] - 0s 58us/sample - loss: 0.2637 - val_loss: 0.2734\n",
      "Epoch 52/100\n",
      "7740/7740 [==============================] - 0s 58us/sample - loss: 0.2614 - val_loss: 0.2872\n",
      "Epoch 53/100\n",
      "7740/7740 [==============================] - 0s 56us/sample - loss: 0.2614 - val_loss: 0.4137\n",
      "Epoch 54/100\n",
      "7740/7740 [==============================] - 0s 58us/sample - loss: 0.2605 - val_loss: 0.2956\n",
      "Epoch 55/100\n",
      "7740/7740 [==============================] - 0s 56us/sample - loss: 0.2624 - val_loss: 0.3241\n",
      "3870/3870 [==============================] - 0s 20us/sample - loss: 0.2950\n",
      "7740/7740 [==============================] - 0s 20us/sample - loss: 0.2657\n",
      "[CV]  learning_rate=0.012550516158463703, n_hidden=3, n_neurons=36, total=  25.3s\n",
      "[CV] learning_rate=0.0015789157988886887, n_hidden=1, n_neurons=88 ...\n",
      "Train on 7740 samples, validate on 3870 samples\n",
      "Epoch 1/100\n",
      "7740/7740 [==============================] - 1s 68us/sample - loss: 1.6273 - val_loss: 0.8511\n",
      "Epoch 2/100\n",
      "7740/7740 [==============================] - 0s 58us/sample - loss: 0.7277 - val_loss: 0.7204\n",
      "Epoch 3/100\n",
      "7740/7740 [==============================] - 0s 52us/sample - loss: 0.6446 - val_loss: 0.6102\n",
      "Epoch 4/100\n",
      "7740/7740 [==============================] - 0s 54us/sample - loss: 0.5847 - val_loss: 0.5426\n",
      "Epoch 5/100\n",
      "7740/7740 [==============================] - 0s 60us/sample - loss: 0.5447 - val_loss: 0.6001\n",
      "Epoch 6/100\n",
      "7740/7740 [==============================] - 0s 55us/sample - loss: 0.5117 - val_loss: 0.4763\n",
      "Epoch 7/100\n",
      "7740/7740 [==============================] - 0s 59us/sample - loss: 0.4871 - val_loss: 0.5139\n",
      "Epoch 8/100\n",
      "7740/7740 [==============================] - 0s 51us/sample - loss: 0.4672 - val_loss: 0.4584\n",
      "Epoch 9/100\n",
      "7740/7740 [==============================] - 0s 54us/sample - loss: 0.4516 - val_loss: 0.4397\n",
      "Epoch 10/100\n",
      "7740/7740 [==============================] - 0s 56us/sample - loss: 0.4381 - val_loss: 0.4155\n",
      "Epoch 11/100\n",
      "7740/7740 [==============================] - 0s 56us/sample - loss: 0.4267 - val_loss: 0.4148\n",
      "Epoch 12/100\n",
      "7740/7740 [==============================] - 0s 54us/sample - loss: 0.4189 - val_loss: 0.3942\n",
      "Epoch 13/100\n",
      "7740/7740 [==============================] - 0s 54us/sample - loss: 0.4118 - val_loss: 0.3851\n",
      "Epoch 14/100\n",
      "7740/7740 [==============================] - 0s 56us/sample - loss: 0.4058 - val_loss: 0.4239\n",
      "Epoch 15/100\n",
      "7740/7740 [==============================] - 0s 54us/sample - loss: 0.4005 - val_loss: 0.3813\n",
      "Epoch 16/100\n",
      "7740/7740 [==============================] - 0s 57us/sample - loss: 0.3957 - val_loss: 0.3932\n",
      "Epoch 17/100\n",
      "7740/7740 [==============================] - 0s 54us/sample - loss: 0.3911 - val_loss: 0.3972\n",
      "Epoch 18/100\n",
      "7740/7740 [==============================] - 0s 55us/sample - loss: 0.3879 - val_loss: 0.3735\n",
      "Epoch 19/100\n",
      "7740/7740 [==============================] - 0s 55us/sample - loss: 0.3837 - val_loss: 0.3968\n",
      "Epoch 20/100\n",
      "7740/7740 [==============================] - 0s 53us/sample - loss: 0.3802 - val_loss: 0.3839\n",
      "Epoch 21/100\n",
      "7740/7740 [==============================] - 0s 56us/sample - loss: 0.3777 - val_loss: 0.3877\n",
      "Epoch 22/100\n",
      "7740/7740 [==============================] - 0s 57us/sample - loss: 0.3741 - val_loss: 0.5090\n",
      "Epoch 23/100\n",
      "7740/7740 [==============================] - 0s 56us/sample - loss: 0.3731 - val_loss: 0.4822\n",
      "Epoch 24/100\n"
     ]
    },
    {
     "name": "stdout",
     "output_type": "stream",
     "text": [
      "7740/7740 [==============================] - 0s 53us/sample - loss: 0.3704 - val_loss: 0.4839\n",
      "Epoch 25/100\n",
      "7740/7740 [==============================] - 0s 52us/sample - loss: 0.3690 - val_loss: 0.3876\n",
      "Epoch 26/100\n",
      "7740/7740 [==============================] - 0s 57us/sample - loss: 0.3651 - val_loss: 0.5987\n",
      "Epoch 27/100\n",
      "7740/7740 [==============================] - 0s 57us/sample - loss: 0.3667 - val_loss: 0.5229\n",
      "Epoch 28/100\n",
      "7740/7740 [==============================] - 0s 55us/sample - loss: 0.3641 - val_loss: 0.9143\n",
      "3870/3870 [==============================] - 0s 19us/sample - loss: 0.3846\n",
      "7740/7740 [==============================] - 0s 19us/sample - loss: 0.3654\n",
      "[CV]  learning_rate=0.0015789157988886887, n_hidden=1, n_neurons=88, total=  12.4s\n",
      "[CV] learning_rate=0.0015789157988886887, n_hidden=1, n_neurons=88 ...\n",
      "Train on 7740 samples, validate on 3870 samples\n",
      "Epoch 1/100\n",
      "7740/7740 [==============================] - 1s 67us/sample - loss: 1.5464 - val_loss: 9.1829\n",
      "Epoch 2/100\n",
      "7740/7740 [==============================] - 0s 46us/sample - loss: 0.7301 - val_loss: 4.5269\n",
      "Epoch 3/100\n",
      "7740/7740 [==============================] - 0s 42us/sample - loss: 0.6460 - val_loss: 2.3937\n",
      "Epoch 4/100\n",
      "7740/7740 [==============================] - 0s 47us/sample - loss: 0.5886 - val_loss: 1.4060\n",
      "Epoch 5/100\n",
      "7740/7740 [==============================] - 0s 56us/sample - loss: 0.5426 - val_loss: 0.7691\n",
      "Epoch 6/100\n",
      "7740/7740 [==============================] - 0s 50us/sample - loss: 0.5069 - val_loss: 0.5395\n",
      "Epoch 7/100\n",
      "7740/7740 [==============================] - 0s 49us/sample - loss: 0.4791 - val_loss: 0.4604\n",
      "Epoch 8/100\n",
      "7740/7740 [==============================] - 0s 52us/sample - loss: 0.4578 - val_loss: 0.4352\n",
      "Epoch 9/100\n",
      "7740/7740 [==============================] - 0s 50us/sample - loss: 0.4423 - val_loss: 0.4361\n",
      "Epoch 10/100\n",
      "7740/7740 [==============================] - 0s 52us/sample - loss: 0.4310 - val_loss: 0.4430\n",
      "Epoch 11/100\n",
      "7740/7740 [==============================] - 0s 51us/sample - loss: 0.4224 - val_loss: 0.4337\n",
      "Epoch 12/100\n",
      "7740/7740 [==============================] - 0s 44us/sample - loss: 0.4147 - val_loss: 0.4291\n",
      "Epoch 13/100\n",
      "7740/7740 [==============================] - 0s 48us/sample - loss: 0.4095 - val_loss: 0.4072\n",
      "Epoch 14/100\n",
      "7740/7740 [==============================] - 0s 53us/sample - loss: 0.4038 - val_loss: 0.3897\n",
      "Epoch 15/100\n",
      "7740/7740 [==============================] - 0s 54us/sample - loss: 0.3988 - val_loss: 0.3834\n",
      "Epoch 16/100\n",
      "7740/7740 [==============================] - 0s 56us/sample - loss: 0.3951 - val_loss: 0.3757\n",
      "Epoch 17/100\n",
      "7740/7740 [==============================] - 0s 55us/sample - loss: 0.3913 - val_loss: 0.3704\n",
      "Epoch 18/100\n",
      "7740/7740 [==============================] - 0s 46us/sample - loss: 0.3878 - val_loss: 0.3716\n",
      "Epoch 19/100\n",
      "7740/7740 [==============================] - 0s 47us/sample - loss: 0.3842 - val_loss: 0.3780\n",
      "Epoch 20/100\n",
      "7740/7740 [==============================] - 0s 45us/sample - loss: 0.3817 - val_loss: 0.3822\n",
      "Epoch 21/100\n",
      "7740/7740 [==============================] - 0s 46us/sample - loss: 0.3789 - val_loss: 0.3929\n",
      "Epoch 22/100\n",
      "7740/7740 [==============================] - 0s 49us/sample - loss: 0.3758 - val_loss: 0.4157\n",
      "Epoch 23/100\n",
      "7740/7740 [==============================] - 0s 48us/sample - loss: 0.3737 - val_loss: 0.4397\n",
      "Epoch 24/100\n",
      "7740/7740 [==============================] - 0s 55us/sample - loss: 0.3715 - val_loss: 0.4819\n",
      "Epoch 25/100\n",
      "7740/7740 [==============================] - 0s 52us/sample - loss: 0.3692 - val_loss: 0.4813\n",
      "Epoch 26/100\n",
      "7740/7740 [==============================] - 0s 55us/sample - loss: 0.3675 - val_loss: 0.4807\n",
      "Epoch 27/100\n",
      "7740/7740 [==============================] - 0s 48us/sample - loss: 0.3655 - val_loss: 0.5242\n",
      "3870/3870 [==============================] - 0s 16us/sample - loss: 0.3800\n",
      "7740/7740 [==============================] - 0s 18us/sample - loss: 0.3634\n",
      "[CV]  learning_rate=0.0015789157988886887, n_hidden=1, n_neurons=88, total=  11.2s\n",
      "[CV] learning_rate=0.0015789157988886887, n_hidden=1, n_neurons=88 ...\n",
      "Train on 7740 samples, validate on 3870 samples\n",
      "Epoch 1/100\n",
      "7740/7740 [==============================] - 1s 73us/sample - loss: 2.1938 - val_loss: 8.8783\n",
      "Epoch 2/100\n",
      "7740/7740 [==============================] - 0s 56us/sample - loss: 0.7879 - val_loss: 0.6235\n",
      "Epoch 3/100\n",
      "7740/7740 [==============================] - 0s 56us/sample - loss: 0.6177 - val_loss: 0.5648\n",
      "Epoch 4/100\n",
      "7740/7740 [==============================] - 0s 56us/sample - loss: 0.5788 - val_loss: 0.5330\n",
      "Epoch 5/100\n",
      "7740/7740 [==============================] - 0s 55us/sample - loss: 0.5501 - val_loss: 0.5022\n",
      "Epoch 6/100\n",
      "7740/7740 [==============================] - 0s 50us/sample - loss: 0.5253 - val_loss: 0.4784\n",
      "Epoch 7/100\n",
      "7740/7740 [==============================] - 0s 57us/sample - loss: 0.5032 - val_loss: 0.4679\n",
      "Epoch 8/100\n",
      "7740/7740 [==============================] - 0s 48us/sample - loss: 0.4844 - val_loss: 0.4445\n",
      "Epoch 9/100\n",
      "7740/7740 [==============================] - 0s 49us/sample - loss: 0.4684 - val_loss: 0.4364\n",
      "Epoch 10/100\n",
      "7740/7740 [==============================] - 0s 53us/sample - loss: 0.4546 - val_loss: 0.4293\n",
      "Epoch 11/100\n",
      "7740/7740 [==============================] - 0s 48us/sample - loss: 0.4425 - val_loss: 0.4296\n",
      "Epoch 12/100\n",
      "7740/7740 [==============================] - 0s 46us/sample - loss: 0.4328 - val_loss: 0.4021\n",
      "Epoch 13/100\n",
      "7740/7740 [==============================] - 0s 47us/sample - loss: 0.4239 - val_loss: 0.4165\n",
      "Epoch 14/100\n",
      "7740/7740 [==============================] - 0s 55us/sample - loss: 0.4164 - val_loss: 0.4139\n",
      "Epoch 15/100\n",
      "7740/7740 [==============================] - 0s 53us/sample - loss: 0.4111 - val_loss: 0.3991\n",
      "Epoch 16/100\n",
      "7740/7740 [==============================] - 0s 53us/sample - loss: 0.4059 - val_loss: 0.4067\n",
      "Epoch 17/100\n",
      "7740/7740 [==============================] - 0s 53us/sample - loss: 0.4008 - val_loss: 0.3807\n",
      "Epoch 18/100\n",
      "7740/7740 [==============================] - 0s 55us/sample - loss: 0.3968 - val_loss: 0.4167\n",
      "Epoch 19/100\n",
      "7740/7740 [==============================] - 0s 53us/sample - loss: 0.3944 - val_loss: 0.3754\n",
      "Epoch 20/100\n",
      "7740/7740 [==============================] - 0s 54us/sample - loss: 0.3909 - val_loss: 0.3729\n",
      "Epoch 21/100\n",
      "7740/7740 [==============================] - 0s 43us/sample - loss: 0.3880 - val_loss: 0.4083\n",
      "Epoch 22/100\n",
      "7740/7740 [==============================] - 0s 46us/sample - loss: 0.3849 - val_loss: 0.4049\n",
      "Epoch 23/100\n",
      "7740/7740 [==============================] - 0s 49us/sample - loss: 0.3826 - val_loss: 0.4110\n",
      "Epoch 24/100\n",
      "7740/7740 [==============================] - 0s 52us/sample - loss: 0.3806 - val_loss: 0.3929\n",
      "Epoch 25/100\n",
      "7740/7740 [==============================] - 0s 55us/sample - loss: 0.3781 - val_loss: 0.3986\n",
      "Epoch 26/100\n",
      "7740/7740 [==============================] - 0s 52us/sample - loss: 0.3761 - val_loss: 0.3768\n",
      "Epoch 27/100\n",
      "7740/7740 [==============================] - 0s 57us/sample - loss: 0.3739 - val_loss: 0.3909\n",
      "Epoch 28/100\n",
      "7740/7740 [==============================] - 0s 55us/sample - loss: 0.3732 - val_loss: 0.3714\n",
      "Epoch 29/100\n",
      "7740/7740 [==============================] - 0s 54us/sample - loss: 0.3707 - val_loss: 0.3780\n",
      "Epoch 30/100\n",
      "7740/7740 [==============================] - 0s 52us/sample - loss: 0.3695 - val_loss: 0.3553\n",
      "Epoch 31/100\n",
      "7740/7740 [==============================] - 0s 48us/sample - loss: 0.3668 - val_loss: 0.3741\n",
      "Epoch 32/100\n",
      "7740/7740 [==============================] - 0s 54us/sample - loss: 0.3661 - val_loss: 0.3827\n",
      "Epoch 33/100\n",
      "7740/7740 [==============================] - 0s 52us/sample - loss: 0.3643 - val_loss: 0.3991\n",
      "Epoch 34/100\n",
      "7740/7740 [==============================] - 0s 56us/sample - loss: 0.3626 - val_loss: 0.3896\n",
      "Epoch 35/100\n",
      "7740/7740 [==============================] - 0s 48us/sample - loss: 0.3620 - val_loss: 0.3541\n",
      "Epoch 36/100\n",
      "7740/7740 [==============================] - 0s 48us/sample - loss: 0.3590 - val_loss: 0.3981\n",
      "Epoch 37/100\n",
      "7740/7740 [==============================] - 0s 46us/sample - loss: 0.3583 - val_loss: 0.3712\n",
      "Epoch 38/100\n",
      "7740/7740 [==============================] - 0s 52us/sample - loss: 0.3575 - val_loss: 0.3385\n",
      "Epoch 39/100\n",
      "7740/7740 [==============================] - 0s 48us/sample - loss: 0.3557 - val_loss: 0.3576\n",
      "Epoch 40/100\n",
      "7740/7740 [==============================] - 0s 44us/sample - loss: 0.3547 - val_loss: 0.3567\n",
      "Epoch 41/100\n",
      "7740/7740 [==============================] - 0s 48us/sample - loss: 0.3531 - val_loss: 0.3660\n",
      "Epoch 42/100\n",
      "7740/7740 [==============================] - 0s 49us/sample - loss: 0.3516 - val_loss: 0.3899\n",
      "Epoch 43/100\n",
      "7740/7740 [==============================] - 0s 54us/sample - loss: 0.3517 - val_loss: 0.3689\n",
      "Epoch 44/100\n",
      "7740/7740 [==============================] - 0s 47us/sample - loss: 0.3491 - val_loss: 0.3363\n",
      "Epoch 45/100\n",
      "7740/7740 [==============================] - 0s 46us/sample - loss: 0.3487 - val_loss: 0.4183\n",
      "Epoch 46/100\n",
      "7740/7740 [==============================] - 0s 44us/sample - loss: 0.3480 - val_loss: 0.3429\n",
      "Epoch 47/100\n",
      "7740/7740 [==============================] - 0s 47us/sample - loss: 0.3469 - val_loss: 0.3892\n",
      "Epoch 48/100\n",
      "7740/7740 [==============================] - 0s 46us/sample - loss: 0.3450 - val_loss: 0.4041\n",
      "Epoch 49/100\n",
      "7740/7740 [==============================] - 0s 51us/sample - loss: 0.3445 - val_loss: 0.3265\n",
      "Epoch 50/100\n",
      "7740/7740 [==============================] - 0s 52us/sample - loss: 0.3439 - val_loss: 0.3444\n",
      "Epoch 51/100\n",
      "7740/7740 [==============================] - 0s 50us/sample - loss: 0.3430 - val_loss: 0.3232\n",
      "Epoch 52/100\n",
      "7740/7740 [==============================] - 0s 46us/sample - loss: 0.3412 - val_loss: 0.4036\n",
      "Epoch 53/100\n",
      "7740/7740 [==============================] - 0s 51us/sample - loss: 0.3411 - val_loss: 0.3707\n",
      "Epoch 54/100\n",
      "7740/7740 [==============================] - 0s 52us/sample - loss: 0.3395 - val_loss: 0.3262\n",
      "Epoch 55/100\n",
      "7740/7740 [==============================] - 0s 50us/sample - loss: 0.3392 - val_loss: 0.3336\n",
      "Epoch 56/100\n",
      "7740/7740 [==============================] - 0s 51us/sample - loss: 0.3379 - val_loss: 0.3751\n",
      "Epoch 57/100\n",
      "7740/7740 [==============================] - 0s 51us/sample - loss: 0.3372 - val_loss: 0.3217\n",
      "Epoch 58/100\n",
      "7740/7740 [==============================] - 0s 53us/sample - loss: 0.3361 - val_loss: 0.3440\n",
      "Epoch 59/100\n",
      "7740/7740 [==============================] - 0s 56us/sample - loss: 0.3358 - val_loss: 0.3352\n",
      "Epoch 60/100\n",
      "7740/7740 [==============================] - 0s 47us/sample - loss: 0.3342 - val_loss: 0.3633\n",
      "Epoch 61/100\n",
      "7740/7740 [==============================] - 0s 44us/sample - loss: 0.3341 - val_loss: 0.3729\n",
      "Epoch 62/100\n",
      "7740/7740 [==============================] - 0s 44us/sample - loss: 0.3331 - val_loss: 0.3234\n",
      "Epoch 63/100\n",
      "7740/7740 [==============================] - 0s 44us/sample - loss: 0.3324 - val_loss: 0.3291\n",
      "Epoch 64/100\n",
      "7740/7740 [==============================] - 0s 51us/sample - loss: 0.3309 - val_loss: 0.3945\n",
      "Epoch 65/100\n",
      "7740/7740 [==============================] - 0s 45us/sample - loss: 0.3307 - val_loss: 0.3178\n",
      "Epoch 66/100\n",
      "7740/7740 [==============================] - 0s 45us/sample - loss: 0.3305 - val_loss: 0.3389\n",
      "Epoch 67/100\n",
      "7740/7740 [==============================] - 0s 44us/sample - loss: 0.3296 - val_loss: 0.3152\n",
      "Epoch 68/100\n",
      "7740/7740 [==============================] - 0s 45us/sample - loss: 0.3286 - val_loss: 0.3674\n",
      "Epoch 69/100\n",
      "7740/7740 [==============================] - 0s 44us/sample - loss: 0.3288 - val_loss: 0.3501\n",
      "Epoch 70/100\n",
      "7740/7740 [==============================] - 0s 44us/sample - loss: 0.3274 - val_loss: 0.3606\n",
      "Epoch 71/100\n",
      "7740/7740 [==============================] - 0s 48us/sample - loss: 0.3271 - val_loss: 0.3443\n",
      "Epoch 72/100\n",
      "7740/7740 [==============================] - 0s 52us/sample - loss: 0.3275 - val_loss: 0.3184\n",
      "Epoch 73/100\n",
      "7740/7740 [==============================] - 0s 49us/sample - loss: 0.3257 - val_loss: 0.3528\n",
      "Epoch 74/100\n",
      "7740/7740 [==============================] - 0s 46us/sample - loss: 0.3252 - val_loss: 0.3581\n",
      "Epoch 75/100\n",
      "7740/7740 [==============================] - 0s 45us/sample - loss: 0.3247 - val_loss: 0.3127\n",
      "Epoch 76/100\n",
      "7740/7740 [==============================] - 0s 42us/sample - loss: 0.3245 - val_loss: 0.3865\n",
      "Epoch 77/100\n",
      "7740/7740 [==============================] - 0s 43us/sample - loss: 0.3235 - val_loss: 0.3473\n",
      "Epoch 78/100\n",
      "7740/7740 [==============================] - 0s 46us/sample - loss: 0.3228 - val_loss: 0.3196\n",
      "Epoch 79/100\n",
      "7740/7740 [==============================] - 0s 46us/sample - loss: 0.3225 - val_loss: 0.3190\n",
      "Epoch 80/100\n",
      "7740/7740 [==============================] - 0s 51us/sample - loss: 0.3219 - val_loss: 0.3182\n",
      "Epoch 81/100\n",
      "7740/7740 [==============================] - 0s 51us/sample - loss: 0.3211 - val_loss: 0.3117\n",
      "Epoch 82/100\n",
      "7740/7740 [==============================] - 0s 48us/sample - loss: 0.3206 - val_loss: 0.4121\n",
      "Epoch 83/100\n",
      "7740/7740 [==============================] - 0s 50us/sample - loss: 0.3205 - val_loss: 0.3214\n",
      "Epoch 84/100\n",
      "7740/7740 [==============================] - 0s 45us/sample - loss: 0.3198 - val_loss: 0.3086\n",
      "Epoch 85/100\n",
      "7740/7740 [==============================] - 0s 54us/sample - loss: 0.3192 - val_loss: 0.3181\n",
      "Epoch 86/100\n",
      "7740/7740 [==============================] - 0s 45us/sample - loss: 0.3184 - val_loss: 0.3156\n",
      "Epoch 87/100\n",
      "7740/7740 [==============================] - 0s 45us/sample - loss: 0.3181 - val_loss: 0.3240\n",
      "Epoch 88/100\n",
      "7740/7740 [==============================] - 0s 46us/sample - loss: 0.3179 - val_loss: 0.3077\n",
      "Epoch 89/100\n",
      "7740/7740 [==============================] - 0s 49us/sample - loss: 0.3174 - val_loss: 0.3547\n",
      "Epoch 90/100\n",
      "7740/7740 [==============================] - 0s 51us/sample - loss: 0.3173 - val_loss: 0.3390\n",
      "Epoch 91/100\n",
      "7740/7740 [==============================] - 0s 52us/sample - loss: 0.3166 - val_loss: 0.3114\n",
      "Epoch 92/100\n",
      "7740/7740 [==============================] - 0s 52us/sample - loss: 0.3158 - val_loss: 0.4379\n",
      "Epoch 93/100\n",
      "7740/7740 [==============================] - 0s 45us/sample - loss: 0.3157 - val_loss: 0.3067\n",
      "Epoch 94/100\n",
      "7740/7740 [==============================] - 0s 43us/sample - loss: 0.3156 - val_loss: 0.3295\n",
      "Epoch 95/100\n",
      "7740/7740 [==============================] - 0s 49us/sample - loss: 0.3154 - val_loss: 0.3146\n",
      "Epoch 96/100\n",
      "7740/7740 [==============================] - 0s 46us/sample - loss: 0.3148 - val_loss: 0.4395\n",
      "Epoch 97/100\n",
      "7740/7740 [==============================] - 0s 48us/sample - loss: 0.3148 - val_loss: 0.3109\n",
      "Epoch 98/100\n",
      "7740/7740 [==============================] - 0s 53us/sample - loss: 0.3135 - val_loss: 0.3613\n",
      "Epoch 99/100\n",
      "7740/7740 [==============================] - 0s 47us/sample - loss: 0.3139 - val_loss: 0.3380\n",
      "Epoch 100/100\n",
      "7740/7740 [==============================] - 0s 47us/sample - loss: 0.3139 - val_loss: 0.4657\n",
      "3870/3870 [==============================] - 0s 18us/sample - loss: 0.3230\n",
      "7740/7740 [==============================] - 0s 19us/sample - loss: 0.3124\n",
      "[CV]  learning_rate=0.0015789157988886887, n_hidden=1, n_neurons=88, total=  38.8s\n",
      "[CV] learning_rate=0.029942072374461212, n_hidden=0, n_neurons=57 ....\n",
      "Train on 7740 samples, validate on 3870 samples\n",
      "Epoch 1/100\n",
      "7740/7740 [==============================] - 0s 54us/sample - loss: 0.8692 - val_loss: 15.5445\n",
      "Epoch 2/100\n",
      "7740/7740 [==============================] - 0s 42us/sample - loss: 0.8526 - val_loss: 962.2226\n",
      "Epoch 3/100\n",
      "7740/7740 [==============================] - 0s 38us/sample - loss: 0.4866 - val_loss: 2773.6673\n",
      "Epoch 4/100\n",
      "7740/7740 [==============================] - 0s 41us/sample - loss: 0.9287 - val_loss: 1.0499\n",
      "Epoch 5/100\n",
      "7740/7740 [==============================] - 0s 41us/sample - loss: nan - val_loss: nan\n",
      "Epoch 6/100\n",
      "7740/7740 [==============================] - 0s 44us/sample - loss: nan - val_loss: nan\n",
      "Epoch 7/100\n",
      "7740/7740 [==============================] - 0s 42us/sample - loss: nan - val_loss: nan\n",
      "Epoch 8/100\n",
      "7740/7740 [==============================] - 0s 45us/sample - loss: nan - val_loss: nan\n",
      "Epoch 9/100\n",
      "7740/7740 [==============================] - 0s 49us/sample - loss: nan - val_loss: nan\n",
      "Epoch 10/100\n",
      "7740/7740 [==============================] - 0s 47us/sample - loss: nan - val_loss: nan\n",
      "Epoch 11/100\n",
      "7740/7740 [==============================] - 0s 48us/sample - loss: nan - val_loss: nan\n",
      "Epoch 12/100\n",
      "7740/7740 [==============================] - 0s 44us/sample - loss: nan - val_loss: nan\n"
     ]
    },
    {
     "name": "stdout",
     "output_type": "stream",
     "text": [
      "Epoch 13/100\n",
      "7740/7740 [==============================] - 0s 43us/sample - loss: nan - val_loss: nan\n",
      "Epoch 14/100\n",
      "7740/7740 [==============================] - 0s 46us/sample - loss: nan - val_loss: nan\n",
      "3870/3870 [==============================] - 0s 20us/sample - loss: nan\n",
      "7740/7740 [==============================] - 0s 21us/sample - loss: nan\n",
      "[CV]  learning_rate=0.029942072374461212, n_hidden=0, n_neurons=57, total=   5.2s\n",
      "[CV] learning_rate=0.029942072374461212, n_hidden=0, n_neurons=57 ....\n",
      "Train on 7740 samples, validate on 3870 samples\n",
      "Epoch 1/100\n",
      "7740/7740 [==============================] - 0s 52us/sample - loss: 0.6334 - val_loss: 0.7403\n",
      "Epoch 2/100\n",
      "7740/7740 [==============================] - 0s 41us/sample - loss: 0.4227 - val_loss: 0.3985\n",
      "Epoch 3/100\n",
      "7740/7740 [==============================] - 0s 40us/sample - loss: 0.3980 - val_loss: 1.1872\n",
      "Epoch 4/100\n",
      "7740/7740 [==============================] - 0s 45us/sample - loss: 0.3934 - val_loss: 1.8608\n",
      "Epoch 5/100\n",
      "7740/7740 [==============================] - 0s 46us/sample - loss: 0.3780 - val_loss: 0.6270\n",
      "Epoch 6/100\n",
      "7740/7740 [==============================] - 0s 45us/sample - loss: 0.3720 - val_loss: 1.2987\n",
      "Epoch 7/100\n",
      "7740/7740 [==============================] - 0s 44us/sample - loss: 0.3719 - val_loss: 0.8997\n",
      "Epoch 8/100\n",
      "7740/7740 [==============================] - 0s 49us/sample - loss: 0.3656 - val_loss: 3.4344\n",
      "Epoch 9/100\n",
      "7740/7740 [==============================] - 0s 46us/sample - loss: 0.3738 - val_loss: 0.4252\n",
      "Epoch 10/100\n",
      "7740/7740 [==============================] - 0s 44us/sample - loss: 0.3675 - val_loss: 1.0522\n",
      "Epoch 11/100\n",
      "7740/7740 [==============================] - 0s 44us/sample - loss: 0.3604 - val_loss: 0.3601\n",
      "Epoch 12/100\n",
      "7740/7740 [==============================] - 0s 42us/sample - loss: 0.3511 - val_loss: 0.9213\n",
      "Epoch 13/100\n",
      "7740/7740 [==============================] - 0s 39us/sample - loss: 0.3515 - val_loss: 0.7229\n",
      "Epoch 14/100\n",
      "7740/7740 [==============================] - 0s 43us/sample - loss: 0.3507 - val_loss: 0.5557\n",
      "Epoch 15/100\n",
      "7740/7740 [==============================] - 0s 40us/sample - loss: 0.3466 - val_loss: 0.3988\n",
      "Epoch 16/100\n",
      "7740/7740 [==============================] - 0s 40us/sample - loss: 0.3445 - val_loss: 0.9956\n",
      "Epoch 17/100\n",
      "7740/7740 [==============================] - 0s 47us/sample - loss: 0.3451 - val_loss: 2.7576\n",
      "Epoch 18/100\n",
      "7740/7740 [==============================] - 0s 45us/sample - loss: 0.3351 - val_loss: 1.3579\n",
      "Epoch 19/100\n",
      "7740/7740 [==============================] - 0s 44us/sample - loss: 0.3438 - val_loss: 0.3831\n",
      "Epoch 20/100\n",
      "7740/7740 [==============================] - 0s 43us/sample - loss: 0.3373 - val_loss: 4.3128\n",
      "Epoch 21/100\n",
      "7740/7740 [==============================] - 0s 40us/sample - loss: 0.3375 - val_loss: 2.0069\n",
      "3870/3870 [==============================] - 0s 15us/sample - loss: 0.3857\n",
      "7740/7740 [==============================] - 0s 17us/sample - loss: 0.3342\n",
      "[CV]  learning_rate=0.029942072374461212, n_hidden=0, n_neurons=57, total=   7.4s\n",
      "[CV] learning_rate=0.029942072374461212, n_hidden=0, n_neurons=57 ....\n",
      "Train on 7740 samples, validate on 3870 samples\n",
      "Epoch 1/100\n",
      "7740/7740 [==============================] - 0s 57us/sample - loss: 0.6521 - val_loss: 1.6045\n",
      "Epoch 2/100\n",
      "7740/7740 [==============================] - 0s 43us/sample - loss: 0.4652 - val_loss: 5.6467\n",
      "Epoch 3/100\n",
      "7740/7740 [==============================] - 0s 42us/sample - loss: 0.5015 - val_loss: 10.9943\n",
      "Epoch 4/100\n",
      "7740/7740 [==============================] - 0s 42us/sample - loss: 0.4609 - val_loss: 11.5306\n",
      "Epoch 5/100\n",
      "7740/7740 [==============================] - 0s 46us/sample - loss: 0.4720 - val_loss: 0.5645\n",
      "Epoch 6/100\n",
      "7740/7740 [==============================] - 0s 45us/sample - loss: 0.3948 - val_loss: 0.6005\n",
      "Epoch 7/100\n",
      "7740/7740 [==============================] - 0s 51us/sample - loss: 0.3796 - val_loss: 4.0315\n",
      "Epoch 8/100\n",
      "7740/7740 [==============================] - 0s 52us/sample - loss: 0.4133 - val_loss: 0.3705\n",
      "Epoch 9/100\n",
      "7740/7740 [==============================] - 0s 44us/sample - loss: 0.3619 - val_loss: 0.3378\n",
      "Epoch 10/100\n",
      "7740/7740 [==============================] - 0s 43us/sample - loss: 0.3596 - val_loss: 0.3423\n",
      "Epoch 11/100\n",
      "7740/7740 [==============================] - 0s 39us/sample - loss: 0.3555 - val_loss: 1.2072\n",
      "Epoch 12/100\n",
      "7740/7740 [==============================] - 0s 39us/sample - loss: 0.3604 - val_loss: 0.3326\n",
      "Epoch 13/100\n",
      "7740/7740 [==============================] - 0s 38us/sample - loss: 0.3513 - val_loss: 0.3270\n",
      "Epoch 14/100\n",
      "7740/7740 [==============================] - 0s 41us/sample - loss: 0.3483 - val_loss: 0.3656\n",
      "Epoch 15/100\n",
      "7740/7740 [==============================] - 0s 46us/sample - loss: 0.3432 - val_loss: 0.4116\n",
      "Epoch 16/100\n",
      "7740/7740 [==============================] - 0s 45us/sample - loss: 0.3427 - val_loss: 0.3221\n",
      "Epoch 17/100\n",
      "7740/7740 [==============================] - 0s 42us/sample - loss: 0.3423 - val_loss: 0.3188\n",
      "Epoch 18/100\n",
      "7740/7740 [==============================] - 0s 44us/sample - loss: 0.3440 - val_loss: 0.3216\n",
      "Epoch 19/100\n",
      "7740/7740 [==============================] - 0s 45us/sample - loss: 0.3368 - val_loss: 0.3171\n",
      "Epoch 20/100\n",
      "7740/7740 [==============================] - 0s 42us/sample - loss: 0.3326 - val_loss: 0.3136\n",
      "Epoch 21/100\n",
      "7740/7740 [==============================] - 0s 39us/sample - loss: 0.3309 - val_loss: 0.3174\n",
      "Epoch 22/100\n",
      "7740/7740 [==============================] - 0s 46us/sample - loss: 0.3382 - val_loss: 0.3904\n",
      "Epoch 23/100\n",
      "7740/7740 [==============================] - 0s 47us/sample - loss: 0.3322 - val_loss: 0.3148\n",
      "Epoch 24/100\n",
      "7740/7740 [==============================] - 0s 50us/sample - loss: 0.3282 - val_loss: 0.3272\n",
      "Epoch 25/100\n",
      "7740/7740 [==============================] - 0s 44us/sample - loss: 0.3299 - val_loss: 0.3120\n",
      "Epoch 26/100\n",
      "7740/7740 [==============================] - 0s 46us/sample - loss: 0.3239 - val_loss: 0.3074\n",
      "Epoch 27/100\n",
      "7740/7740 [==============================] - 0s 46us/sample - loss: 0.3261 - val_loss: 0.3214\n",
      "Epoch 28/100\n",
      "7740/7740 [==============================] - 0s 46us/sample - loss: 0.3262 - val_loss: 0.3574\n",
      "Epoch 29/100\n",
      "7740/7740 [==============================] - 0s 47us/sample - loss: 0.3217 - val_loss: 0.3333\n",
      "Epoch 30/100\n",
      "7740/7740 [==============================] - 0s 50us/sample - loss: 0.3264 - val_loss: 0.3527\n",
      "Epoch 31/100\n",
      "7740/7740 [==============================] - 0s 42us/sample - loss: 0.3189 - val_loss: 0.3403\n",
      "Epoch 32/100\n",
      "7740/7740 [==============================] - 0s 43us/sample - loss: 0.3168 - val_loss: 0.3240\n",
      "Epoch 33/100\n",
      "7740/7740 [==============================] - 0s 41us/sample - loss: 0.3199 - val_loss: 0.3323\n",
      "Epoch 34/100\n",
      "7740/7740 [==============================] - 0s 49us/sample - loss: 0.3240 - val_loss: 0.3021\n",
      "Epoch 35/100\n",
      "7740/7740 [==============================] - 0s 47us/sample - loss: 0.3189 - val_loss: 0.3617\n",
      "Epoch 36/100\n",
      "7740/7740 [==============================] - 0s 44us/sample - loss: 0.3222 - val_loss: 0.3110\n",
      "Epoch 37/100\n",
      "7740/7740 [==============================] - 0s 47us/sample - loss: 0.3208 - val_loss: 0.3238\n",
      "Epoch 38/100\n",
      "7740/7740 [==============================] - 0s 45us/sample - loss: 0.3189 - val_loss: 0.4077\n",
      "Epoch 39/100\n",
      "7740/7740 [==============================] - 0s 41us/sample - loss: 0.3152 - val_loss: 0.3110\n",
      "Epoch 40/100\n",
      "7740/7740 [==============================] - 0s 39us/sample - loss: 0.3161 - val_loss: 0.3087\n",
      "Epoch 41/100\n",
      "7740/7740 [==============================] - 0s 39us/sample - loss: 0.3128 - val_loss: 0.3166\n",
      "Epoch 42/100\n",
      "7740/7740 [==============================] - 0s 44us/sample - loss: 0.3285 - val_loss: 0.3200\n",
      "Epoch 43/100\n",
      "7740/7740 [==============================] - 0s 45us/sample - loss: 0.3425 - val_loss: 0.3510\n",
      "Epoch 44/100\n",
      "7740/7740 [==============================] - 0s 44us/sample - loss: 0.3390 - val_loss: 0.3246\n",
      "3870/3870 [==============================] - 0s 14us/sample - loss: 0.3114\n",
      "7740/7740 [==============================] - 0s 18us/sample - loss: 0.3099\n",
      "[CV]  learning_rate=0.029942072374461212, n_hidden=0, n_neurons=57, total=  15.5s\n",
      "[CV] learning_rate=0.002037996779860825, n_hidden=1, n_neurons=3 .....\n",
      "Train on 7740 samples, validate on 3870 samples\n",
      "Epoch 1/100\n"
     ]
    },
    {
     "name": "stdout",
     "output_type": "stream",
     "text": [
      "7740/7740 [==============================] - 1s 75us/sample - loss: 2.9656 - val_loss: 1.2572\n",
      "Epoch 2/100\n",
      "7740/7740 [==============================] - 0s 52us/sample - loss: 0.9763 - val_loss: 0.7931\n",
      "Epoch 3/100\n",
      "7740/7740 [==============================] - 0s 52us/sample - loss: 0.7275 - val_loss: 0.6625\n",
      "Epoch 4/100\n",
      "7740/7740 [==============================] - 0s 53us/sample - loss: 0.6403 - val_loss: 0.6079\n",
      "Epoch 5/100\n",
      "7740/7740 [==============================] - 0s 51us/sample - loss: 0.5988 - val_loss: 0.5747\n",
      "Epoch 6/100\n",
      "7740/7740 [==============================] - 0s 54us/sample - loss: 0.5712 - val_loss: 0.5500\n",
      "Epoch 7/100\n",
      "7740/7740 [==============================] - 0s 46us/sample - loss: 0.5491 - val_loss: 0.5274\n",
      "Epoch 8/100\n",
      "7740/7740 [==============================] - 0s 49us/sample - loss: 0.5289 - val_loss: 0.5068\n",
      "Epoch 9/100\n",
      "7740/7740 [==============================] - 0s 47us/sample - loss: 0.5108 - val_loss: 0.4864\n",
      "Epoch 10/100\n",
      "7740/7740 [==============================] - 0s 46us/sample - loss: 0.4940 - val_loss: 0.4681\n",
      "Epoch 11/100\n",
      "7740/7740 [==============================] - 0s 48us/sample - loss: 0.4792 - val_loss: 0.4531\n",
      "Epoch 12/100\n",
      "7740/7740 [==============================] - 0s 47us/sample - loss: 0.4671 - val_loss: 0.4420\n",
      "Epoch 13/100\n",
      "7740/7740 [==============================] - 0s 44us/sample - loss: 0.4576 - val_loss: 0.4334\n",
      "Epoch 14/100\n",
      "7740/7740 [==============================] - 0s 46us/sample - loss: 0.4509 - val_loss: 0.4239\n",
      "Epoch 15/100\n",
      "7740/7740 [==============================] - 0s 45us/sample - loss: 0.4445 - val_loss: 0.4180\n",
      "Epoch 16/100\n",
      "7740/7740 [==============================] - 0s 45us/sample - loss: 0.4394 - val_loss: 0.4129\n",
      "Epoch 17/100\n",
      "7740/7740 [==============================] - 0s 47us/sample - loss: 0.4352 - val_loss: 0.4080\n",
      "Epoch 18/100\n",
      "7740/7740 [==============================] - 0s 44us/sample - loss: 0.4312 - val_loss: 0.4056\n",
      "Epoch 19/100\n",
      "7740/7740 [==============================] - 0s 45us/sample - loss: 0.4283 - val_loss: 0.4029\n",
      "Epoch 20/100\n",
      "7740/7740 [==============================] - 0s 51us/sample - loss: 0.4259 - val_loss: 0.3985\n",
      "Epoch 21/100\n",
      "7740/7740 [==============================] - 0s 44us/sample - loss: 0.4236 - val_loss: 0.3968\n",
      "Epoch 22/100\n",
      "7740/7740 [==============================] - 0s 48us/sample - loss: 0.4218 - val_loss: 0.3953\n",
      "Epoch 23/100\n",
      "7740/7740 [==============================] - 0s 49us/sample - loss: 0.4202 - val_loss: 0.3928\n",
      "Epoch 24/100\n",
      "7740/7740 [==============================] - 0s 46us/sample - loss: 0.4187 - val_loss: 0.3917\n",
      "Epoch 25/100\n",
      "7740/7740 [==============================] - 0s 49us/sample - loss: 0.4171 - val_loss: 0.3897\n",
      "Epoch 26/100\n",
      "7740/7740 [==============================] - 0s 50us/sample - loss: 0.4160 - val_loss: 0.3892\n",
      "Epoch 27/100\n",
      "7740/7740 [==============================] - 0s 47us/sample - loss: 0.4147 - val_loss: 0.3887\n",
      "Epoch 28/100\n",
      "7740/7740 [==============================] - 0s 45us/sample - loss: 0.4135 - val_loss: 0.3871\n",
      "Epoch 29/100\n",
      "7740/7740 [==============================] - 0s 43us/sample - loss: 0.4128 - val_loss: 0.3854\n",
      "Epoch 30/100\n",
      "7740/7740 [==============================] - 0s 43us/sample - loss: 0.4113 - val_loss: 0.3843\n",
      "Epoch 31/100\n",
      "7740/7740 [==============================] - 0s 45us/sample - loss: 0.4101 - val_loss: 0.3842\n",
      "Epoch 32/100\n",
      "7740/7740 [==============================] - 0s 53us/sample - loss: 0.4093 - val_loss: 0.3830\n",
      "Epoch 33/100\n",
      "7740/7740 [==============================] - 0s 45us/sample - loss: 0.4084 - val_loss: 0.3812\n",
      "Epoch 34/100\n",
      "7740/7740 [==============================] - 0s 46us/sample - loss: 0.4076 - val_loss: 0.3808\n",
      "Epoch 35/100\n",
      "7740/7740 [==============================] - 0s 43us/sample - loss: 0.4063 - val_loss: 0.3800\n",
      "Epoch 36/100\n",
      "7740/7740 [==============================] - 0s 43us/sample - loss: 0.4054 - val_loss: 0.3789\n",
      "Epoch 37/100\n",
      "7740/7740 [==============================] - 0s 47us/sample - loss: 0.4044 - val_loss: 0.3785\n",
      "Epoch 38/100\n",
      "7740/7740 [==============================] - 0s 48us/sample - loss: 0.4035 - val_loss: 0.3791\n",
      "Epoch 39/100\n",
      "7740/7740 [==============================] - 0s 50us/sample - loss: 0.4029 - val_loss: 0.3768\n",
      "Epoch 40/100\n",
      "7740/7740 [==============================] - 0s 49us/sample - loss: 0.4019 - val_loss: 0.3767\n",
      "Epoch 41/100\n",
      "7740/7740 [==============================] - 0s 48us/sample - loss: 0.4011 - val_loss: 0.3767\n",
      "Epoch 42/100\n",
      "7740/7740 [==============================] - 0s 49us/sample - loss: 0.4006 - val_loss: 0.3750\n",
      "Epoch 43/100\n",
      "7740/7740 [==============================] - 0s 46us/sample - loss: 0.3997 - val_loss: 0.3740\n",
      "Epoch 44/100\n",
      "7740/7740 [==============================] - 0s 44us/sample - loss: 0.3989 - val_loss: 0.3735\n",
      "Epoch 45/100\n",
      "7740/7740 [==============================] - 0s 44us/sample - loss: 0.3982 - val_loss: 0.3727\n",
      "Epoch 46/100\n",
      "7740/7740 [==============================] - 0s 43us/sample - loss: 0.3973 - val_loss: 0.3723\n",
      "Epoch 47/100\n",
      "7740/7740 [==============================] - 0s 44us/sample - loss: 0.3968 - val_loss: 0.3718\n",
      "Epoch 48/100\n",
      "7740/7740 [==============================] - 0s 50us/sample - loss: 0.3959 - val_loss: 0.3713\n",
      "Epoch 49/100\n",
      "7740/7740 [==============================] - 0s 47us/sample - loss: 0.3951 - val_loss: 0.3711\n",
      "Epoch 50/100\n",
      "7740/7740 [==============================] - 0s 48us/sample - loss: 0.3951 - val_loss: 0.3697\n",
      "Epoch 51/100\n",
      "7740/7740 [==============================] - 0s 48us/sample - loss: 0.3940 - val_loss: 0.3688\n",
      "Epoch 52/100\n",
      "7740/7740 [==============================] - 0s 46us/sample - loss: 0.3935 - val_loss: 0.3686\n",
      "Epoch 53/100\n",
      "7740/7740 [==============================] - 0s 46us/sample - loss: 0.3928 - val_loss: 0.3681\n",
      "Epoch 54/100\n",
      "7740/7740 [==============================] - 0s 45us/sample - loss: 0.3924 - val_loss: 0.3681\n",
      "Epoch 55/100\n",
      "7740/7740 [==============================] - 0s 45us/sample - loss: 0.3919 - val_loss: 0.3675\n",
      "Epoch 56/100\n",
      "7740/7740 [==============================] - 0s 49us/sample - loss: 0.3913 - val_loss: 0.3670\n",
      "Epoch 57/100\n",
      "7740/7740 [==============================] - 0s 45us/sample - loss: 0.3907 - val_loss: 0.3663\n",
      "Epoch 58/100\n",
      "7740/7740 [==============================] - 0s 44us/sample - loss: 0.3902 - val_loss: 0.3662\n",
      "Epoch 59/100\n",
      "7740/7740 [==============================] - 0s 46us/sample - loss: 0.3899 - val_loss: 0.3658\n",
      "Epoch 60/100\n",
      "7740/7740 [==============================] - 0s 45us/sample - loss: 0.3893 - val_loss: 0.3654\n",
      "Epoch 61/100\n",
      "7740/7740 [==============================] - 0s 52us/sample - loss: 0.3882 - val_loss: 0.3658\n",
      "Epoch 62/100\n",
      "7740/7740 [==============================] - 0s 49us/sample - loss: 0.3885 - val_loss: 0.3641\n",
      "Epoch 63/100\n",
      "7740/7740 [==============================] - 0s 48us/sample - loss: 0.3876 - val_loss: 0.3637\n",
      "Epoch 64/100\n",
      "7740/7740 [==============================] - 0s 52us/sample - loss: 0.3874 - val_loss: 0.3633\n",
      "Epoch 65/100\n",
      "7740/7740 [==============================] - 0s 53us/sample - loss: 0.3869 - val_loss: 0.3630\n",
      "Epoch 66/100\n",
      "7740/7740 [==============================] - 0s 49us/sample - loss: 0.3862 - val_loss: 0.3625\n",
      "Epoch 67/100\n",
      "7740/7740 [==============================] - 0s 49us/sample - loss: 0.3861 - val_loss: 0.3620\n",
      "Epoch 68/100\n",
      "7740/7740 [==============================] - 0s 46us/sample - loss: 0.3855 - val_loss: 0.3612\n",
      "Epoch 69/100\n",
      "7740/7740 [==============================] - 0s 46us/sample - loss: 0.3852 - val_loss: 0.3613\n",
      "Epoch 70/100\n",
      "7740/7740 [==============================] - 0s 49us/sample - loss: 0.3845 - val_loss: 0.3617\n",
      "Epoch 71/100\n",
      "7740/7740 [==============================] - 0s 51us/sample - loss: 0.3848 - val_loss: 0.3603\n",
      "Epoch 72/100\n",
      "7740/7740 [==============================] - 0s 51us/sample - loss: 0.3839 - val_loss: 0.3596\n",
      "Epoch 73/100\n",
      "7740/7740 [==============================] - 0s 48us/sample - loss: 0.3835 - val_loss: 0.3601\n",
      "Epoch 74/100\n",
      "7740/7740 [==============================] - 0s 47us/sample - loss: 0.3830 - val_loss: 0.3594\n",
      "Epoch 75/100\n",
      "7740/7740 [==============================] - 0s 45us/sample - loss: 0.3831 - val_loss: 0.3602\n",
      "Epoch 76/100\n",
      "7740/7740 [==============================] - 0s 46us/sample - loss: 0.3823 - val_loss: 0.3602\n",
      "Epoch 77/100\n",
      "7740/7740 [==============================] - 0s 41us/sample - loss: 0.3828 - val_loss: 0.3588\n"
     ]
    },
    {
     "name": "stdout",
     "output_type": "stream",
     "text": [
      "Epoch 78/100\n",
      "7740/7740 [==============================] - 0s 41us/sample - loss: 0.3819 - val_loss: 0.3586\n",
      "Epoch 79/100\n",
      "7740/7740 [==============================] - 0s 40us/sample - loss: 0.3815 - val_loss: 0.3583\n",
      "Epoch 80/100\n",
      "7740/7740 [==============================] - 0s 42us/sample - loss: 0.3818 - val_loss: 0.3584\n",
      "Epoch 81/100\n",
      "7740/7740 [==============================] - 0s 42us/sample - loss: 0.3814 - val_loss: 0.3572\n",
      "Epoch 82/100\n",
      "7740/7740 [==============================] - 0s 42us/sample - loss: 0.3809 - val_loss: 0.3566\n",
      "Epoch 83/100\n",
      "7740/7740 [==============================] - 0s 42us/sample - loss: 0.3805 - val_loss: 0.3571\n",
      "Epoch 84/100\n",
      "7740/7740 [==============================] - 0s 42us/sample - loss: 0.3804 - val_loss: 0.3567\n",
      "Epoch 85/100\n",
      "7740/7740 [==============================] - 0s 49us/sample - loss: 0.3801 - val_loss: 0.3561\n",
      "Epoch 86/100\n",
      "7740/7740 [==============================] - 0s 46us/sample - loss: 0.3796 - val_loss: 0.3565\n",
      "Epoch 87/100\n",
      "7740/7740 [==============================] - 0s 44us/sample - loss: 0.3795 - val_loss: 0.3557\n",
      "Epoch 88/100\n",
      "7740/7740 [==============================] - 0s 44us/sample - loss: 0.3793 - val_loss: 0.3562\n",
      "Epoch 89/100\n",
      "7740/7740 [==============================] - 0s 41us/sample - loss: 0.3788 - val_loss: 0.3557\n",
      "Epoch 90/100\n",
      "7740/7740 [==============================] - 0s 41us/sample - loss: 0.3788 - val_loss: 0.3551\n",
      "Epoch 91/100\n",
      "7740/7740 [==============================] - 0s 40us/sample - loss: 0.3781 - val_loss: 0.3550\n",
      "Epoch 92/100\n",
      "7740/7740 [==============================] - 0s 42us/sample - loss: 0.3777 - val_loss: 0.3552\n",
      "Epoch 93/100\n",
      "7740/7740 [==============================] - 0s 42us/sample - loss: 0.3779 - val_loss: 0.3554\n",
      "Epoch 94/100\n",
      "7740/7740 [==============================] - 0s 44us/sample - loss: 0.3775 - val_loss: 0.3540\n",
      "Epoch 95/100\n",
      "7740/7740 [==============================] - 0s 40us/sample - loss: 0.3777 - val_loss: 0.3550\n",
      "Epoch 96/100\n",
      "7740/7740 [==============================] - 0s 41us/sample - loss: 0.3770 - val_loss: 0.3540\n",
      "Epoch 97/100\n",
      "7740/7740 [==============================] - 0s 41us/sample - loss: 0.3768 - val_loss: 0.3546\n",
      "Epoch 98/100\n",
      "7740/7740 [==============================] - 0s 40us/sample - loss: 0.3768 - val_loss: 0.3541\n",
      "Epoch 99/100\n",
      "7740/7740 [==============================] - 0s 41us/sample - loss: 0.3766 - val_loss: 0.3533\n",
      "Epoch 100/100\n",
      "7740/7740 [==============================] - 0s 43us/sample - loss: 0.3765 - val_loss: 0.3534\n",
      "3870/3870 [==============================] - 0s 17us/sample - loss: 0.3906\n",
      "7740/7740 [==============================] - 0s 18us/sample - loss: 0.3752\n",
      "[CV]  learning_rate=0.002037996779860825, n_hidden=1, n_neurons=3, total=  36.3s\n",
      "[CV] learning_rate=0.002037996779860825, n_hidden=1, n_neurons=3 .....\n",
      "Train on 7740 samples, validate on 3870 samples\n",
      "Epoch 1/100\n",
      "7740/7740 [==============================] - 0s 61us/sample - loss: 2.4162 - val_loss: 1.1926\n",
      "Epoch 2/100\n",
      "7740/7740 [==============================] - 0s 45us/sample - loss: 1.0826 - val_loss: 0.9193\n",
      "Epoch 3/100\n",
      "7740/7740 [==============================] - 0s 43us/sample - loss: 0.8043 - val_loss: 0.6730\n",
      "Epoch 4/100\n",
      "7740/7740 [==============================] - 0s 47us/sample - loss: 0.6360 - val_loss: 0.5733\n",
      "Epoch 5/100\n",
      "7740/7740 [==============================] - 0s 45us/sample - loss: 0.5721 - val_loss: 0.5281\n",
      "Epoch 6/100\n",
      "7740/7740 [==============================] - 0s 46us/sample - loss: 0.5366 - val_loss: 0.4989\n",
      "Epoch 7/100\n",
      "7740/7740 [==============================] - 0s 50us/sample - loss: 0.5114 - val_loss: 0.4795\n",
      "Epoch 8/100\n",
      "7740/7740 [==============================] - 0s 50us/sample - loss: 0.4943 - val_loss: 0.4681\n",
      "Epoch 9/100\n",
      "7740/7740 [==============================] - 0s 50us/sample - loss: 0.4825 - val_loss: 0.4570\n",
      "Epoch 10/100\n",
      "7740/7740 [==============================] - 0s 51us/sample - loss: 0.4736 - val_loss: 0.4490\n",
      "Epoch 11/100\n",
      "7740/7740 [==============================] - 0s 46us/sample - loss: 0.4663 - val_loss: 0.4418\n",
      "Epoch 12/100\n",
      "7740/7740 [==============================] - 0s 45us/sample - loss: 0.4601 - val_loss: 0.4364\n",
      "Epoch 13/100\n",
      "7740/7740 [==============================] - 0s 45us/sample - loss: 0.4544 - val_loss: 0.4308\n",
      "Epoch 14/100\n",
      "7740/7740 [==============================] - 0s 49us/sample - loss: 0.4501 - val_loss: 0.4258\n",
      "Epoch 15/100\n",
      "7740/7740 [==============================] - 0s 47us/sample - loss: 0.4459 - val_loss: 0.4218\n",
      "Epoch 16/100\n",
      "7740/7740 [==============================] - 0s 43us/sample - loss: 0.4425 - val_loss: 0.4183\n",
      "Epoch 17/100\n",
      "7740/7740 [==============================] - 0s 41us/sample - loss: 0.4395 - val_loss: 0.4146\n",
      "Epoch 18/100\n",
      "7740/7740 [==============================] - 0s 44us/sample - loss: 0.4368 - val_loss: 0.4116\n",
      "Epoch 19/100\n",
      "7740/7740 [==============================] - 0s 49us/sample - loss: 0.4343 - val_loss: 0.4084\n",
      "Epoch 20/100\n",
      "7740/7740 [==============================] - 0s 43us/sample - loss: 0.4319 - val_loss: 0.4066\n",
      "Epoch 21/100\n",
      "7740/7740 [==============================] - 0s 44us/sample - loss: 0.4299 - val_loss: 0.4034\n",
      "Epoch 22/100\n",
      "7740/7740 [==============================] - 0s 46us/sample - loss: 0.4278 - val_loss: 0.4011\n",
      "Epoch 23/100\n",
      "7740/7740 [==============================] - 0s 47us/sample - loss: 0.4259 - val_loss: 0.3990\n",
      "Epoch 24/100\n",
      "7740/7740 [==============================] - 0s 43us/sample - loss: 0.4243 - val_loss: 0.3972\n",
      "Epoch 25/100\n",
      "7740/7740 [==============================] - 0s 42us/sample - loss: 0.4226 - val_loss: 0.3961\n",
      "Epoch 26/100\n",
      "7740/7740 [==============================] - 0s 40us/sample - loss: 0.4212 - val_loss: 0.3943\n",
      "Epoch 27/100\n",
      "7740/7740 [==============================] - 0s 44us/sample - loss: 0.4199 - val_loss: 0.3923\n",
      "Epoch 28/100\n",
      "7740/7740 [==============================] - 0s 41us/sample - loss: 0.4185 - val_loss: 0.3914\n",
      "Epoch 29/100\n",
      "7740/7740 [==============================] - 0s 40us/sample - loss: 0.4171 - val_loss: 0.3901\n",
      "Epoch 30/100\n",
      "7740/7740 [==============================] - 0s 44us/sample - loss: 0.4161 - val_loss: 0.3887\n",
      "Epoch 31/100\n",
      "7740/7740 [==============================] - 0s 46us/sample - loss: 0.4152 - val_loss: 0.3871\n",
      "Epoch 32/100\n",
      "7740/7740 [==============================] - 0s 43us/sample - loss: 0.4141 - val_loss: 0.3868\n",
      "Epoch 33/100\n",
      "7740/7740 [==============================] - 0s 40us/sample - loss: 0.4131 - val_loss: 0.3847\n",
      "Epoch 34/100\n",
      "7740/7740 [==============================] - 0s 42us/sample - loss: 0.4120 - val_loss: 0.3834\n",
      "Epoch 35/100\n",
      "7740/7740 [==============================] - 0s 41us/sample - loss: 0.4111 - val_loss: 0.3822\n",
      "Epoch 36/100\n",
      "7740/7740 [==============================] - 0s 50us/sample - loss: 0.4101 - val_loss: 0.3813\n",
      "Epoch 37/100\n",
      "7740/7740 [==============================] - 0s 48us/sample - loss: 0.4091 - val_loss: 0.3806\n",
      "Epoch 38/100\n",
      "7740/7740 [==============================] - 0s 45us/sample - loss: 0.4081 - val_loss: 0.3797\n",
      "Epoch 39/100\n",
      "7740/7740 [==============================] - 0s 47us/sample - loss: 0.4073 - val_loss: 0.3788\n",
      "Epoch 40/100\n",
      "7740/7740 [==============================] - 0s 47us/sample - loss: 0.4061 - val_loss: 0.3778\n",
      "Epoch 41/100\n",
      "7740/7740 [==============================] - 0s 47us/sample - loss: 0.4053 - val_loss: 0.3766\n",
      "Epoch 42/100\n",
      "7740/7740 [==============================] - 0s 49us/sample - loss: 0.4043 - val_loss: 0.3750\n",
      "Epoch 43/100\n",
      "7740/7740 [==============================] - 0s 46us/sample - loss: 0.4034 - val_loss: 0.3752\n",
      "Epoch 44/100\n",
      "7740/7740 [==============================] - 0s 43us/sample - loss: 0.4026 - val_loss: 0.3733\n",
      "Epoch 45/100\n",
      "7740/7740 [==============================] - 0s 45us/sample - loss: 0.4019 - val_loss: 0.3727\n",
      "Epoch 46/100\n",
      "7740/7740 [==============================] - 0s 43us/sample - loss: 0.4010 - val_loss: 0.3719\n",
      "Epoch 47/100\n",
      "7740/7740 [==============================] - 0s 45us/sample - loss: 0.4003 - val_loss: 0.3712\n",
      "Epoch 48/100\n",
      "7740/7740 [==============================] - 0s 43us/sample - loss: 0.4000 - val_loss: 0.3714\n",
      "Epoch 49/100\n",
      "7740/7740 [==============================] - 0s 46us/sample - loss: 0.3990 - val_loss: 0.3706\n",
      "Epoch 50/100\n",
      "7740/7740 [==============================] - 0s 43us/sample - loss: 0.3985 - val_loss: 0.3696\n",
      "Epoch 51/100\n",
      "7740/7740 [==============================] - 0s 45us/sample - loss: 0.3980 - val_loss: 0.3710\n",
      "Epoch 52/100\n",
      "7740/7740 [==============================] - 0s 43us/sample - loss: 0.3973 - val_loss: 0.3700\n",
      "Epoch 53/100\n",
      "7740/7740 [==============================] - 0s 42us/sample - loss: 0.3970 - val_loss: 0.3687\n",
      "Epoch 54/100\n",
      "7740/7740 [==============================] - 0s 46us/sample - loss: 0.3964 - val_loss: 0.3700\n",
      "Epoch 55/100\n",
      "7740/7740 [==============================] - 0s 50us/sample - loss: 0.3961 - val_loss: 0.3689\n",
      "Epoch 56/100\n",
      "7740/7740 [==============================] - 0s 46us/sample - loss: 0.3960 - val_loss: 0.3694\n",
      "Epoch 57/100\n",
      "7740/7740 [==============================] - 0s 45us/sample - loss: 0.3954 - val_loss: 0.3707\n",
      "Epoch 58/100\n",
      "7740/7740 [==============================] - 0s 42us/sample - loss: 0.3952 - val_loss: 0.3708\n",
      "Epoch 59/100\n",
      "7740/7740 [==============================] - 0s 44us/sample - loss: 0.3949 - val_loss: 0.3714\n",
      "Epoch 60/100\n",
      "7740/7740 [==============================] - 0s 45us/sample - loss: 0.3949 - val_loss: 0.3716\n",
      "Epoch 61/100\n",
      "7740/7740 [==============================] - 0s 47us/sample - loss: 0.3942 - val_loss: 0.3729\n",
      "Epoch 62/100\n",
      "7740/7740 [==============================] - 0s 44us/sample - loss: 0.3939 - val_loss: 0.3738\n",
      "Epoch 63/100\n",
      "7740/7740 [==============================] - 0s 43us/sample - loss: 0.3939 - val_loss: 0.3722\n",
      "3870/3870 [==============================] - 0s 14us/sample - loss: 0.4110\n",
      "7740/7740 [==============================] - 0s 17us/sample - loss: 0.3925\n",
      "[CV]  learning_rate=0.002037996779860825, n_hidden=1, n_neurons=3, total=  22.4s\n",
      "[CV] learning_rate=0.002037996779860825, n_hidden=1, n_neurons=3 .....\n",
      "Train on 7740 samples, validate on 3870 samples\n",
      "Epoch 1/100\n",
      "7740/7740 [==============================] - 0s 60us/sample - loss: 2.9850 - val_loss: 1.9498\n",
      "Epoch 2/100\n",
      "7740/7740 [==============================] - 0s 40us/sample - loss: 1.7345 - val_loss: 1.5018\n",
      "Epoch 3/100\n",
      "7740/7740 [==============================] - 0s 45us/sample - loss: 1.4545 - val_loss: 1.3455\n",
      "Epoch 4/100\n",
      "7740/7740 [==============================] - 0s 42us/sample - loss: 1.3380 - val_loss: 1.2629\n",
      "Epoch 5/100\n",
      "7740/7740 [==============================] - 0s 42us/sample - loss: 1.2661 - val_loss: 1.2018\n",
      "Epoch 6/100\n",
      "7740/7740 [==============================] - 0s 40us/sample - loss: 1.2075 - val_loss: 1.1461\n",
      "Epoch 7/100\n",
      "7740/7740 [==============================] - 0s 40us/sample - loss: 1.1529 - val_loss: 1.0931\n",
      "Epoch 8/100\n",
      "7740/7740 [==============================] - 0s 44us/sample - loss: 1.0997 - val_loss: 1.0359\n",
      "Epoch 9/100\n",
      "7740/7740 [==============================] - 0s 43us/sample - loss: 1.0417 - val_loss: 0.9807\n",
      "Epoch 10/100\n",
      "7740/7740 [==============================] - 0s 40us/sample - loss: 0.9842 - val_loss: 0.9261\n",
      "Epoch 11/100\n",
      "7740/7740 [==============================] - 0s 41us/sample - loss: 0.9305 - val_loss: 0.8776\n",
      "Epoch 12/100\n",
      "7740/7740 [==============================] - 0s 41us/sample - loss: 0.8815 - val_loss: 0.8323\n",
      "Epoch 13/100\n",
      "7740/7740 [==============================] - 0s 40us/sample - loss: 0.8368 - val_loss: 0.7900\n",
      "Epoch 14/100\n",
      "7740/7740 [==============================] - 0s 41us/sample - loss: 0.7937 - val_loss: 0.7506\n",
      "Epoch 15/100\n",
      "7740/7740 [==============================] - 0s 44us/sample - loss: 0.7543 - val_loss: 0.7147\n",
      "Epoch 16/100\n",
      "7740/7740 [==============================] - 0s 46us/sample - loss: 0.7184 - val_loss: 0.6802\n",
      "Epoch 17/100\n",
      "7740/7740 [==============================] - 0s 48us/sample - loss: 0.6868 - val_loss: 0.6495\n",
      "Epoch 18/100\n",
      "7740/7740 [==============================] - 0s 47us/sample - loss: 0.6571 - val_loss: 0.6281\n",
      "Epoch 19/100\n",
      "7740/7740 [==============================] - 0s 46us/sample - loss: 0.6284 - val_loss: 0.6245\n",
      "Epoch 20/100\n",
      "7740/7740 [==============================] - 0s 44us/sample - loss: 0.6036 - val_loss: 0.6248\n",
      "Epoch 21/100\n",
      "7740/7740 [==============================] - 0s 41us/sample - loss: 0.5821 - val_loss: 0.6290\n",
      "Epoch 22/100\n",
      "7740/7740 [==============================] - 0s 42us/sample - loss: 0.5621 - val_loss: 0.6419\n",
      "Epoch 23/100\n",
      "7740/7740 [==============================] - 0s 41us/sample - loss: 0.5444 - val_loss: 0.6445\n",
      "Epoch 24/100\n",
      "7740/7740 [==============================] - 0s 45us/sample - loss: 0.5284 - val_loss: 0.6018\n",
      "Epoch 25/100\n",
      "7740/7740 [==============================] - 0s 50us/sample - loss: 0.5143 - val_loss: 0.5676\n",
      "Epoch 26/100\n",
      "7740/7740 [==============================] - 0s 44us/sample - loss: 0.5025 - val_loss: 0.5440\n",
      "Epoch 27/100\n",
      "7740/7740 [==============================] - 0s 45us/sample - loss: 0.4930 - val_loss: 0.5221\n",
      "Epoch 28/100\n",
      "7740/7740 [==============================] - 0s 44us/sample - loss: 0.4858 - val_loss: 0.5012\n",
      "Epoch 29/100\n",
      "7740/7740 [==============================] - 0s 48us/sample - loss: 0.4792 - val_loss: 0.4858\n",
      "Epoch 30/100\n",
      "7740/7740 [==============================] - 0s 47us/sample - loss: 0.4739 - val_loss: 0.4724\n",
      "Epoch 31/100\n",
      "7740/7740 [==============================] - 0s 49us/sample - loss: 0.4697 - val_loss: 0.4596\n",
      "Epoch 32/100\n",
      "7740/7740 [==============================] - 0s 49us/sample - loss: 0.4654 - val_loss: 0.4497\n",
      "Epoch 33/100\n",
      "7740/7740 [==============================] - 0s 49us/sample - loss: 0.4619 - val_loss: 0.4410\n",
      "Epoch 34/100\n",
      "7740/7740 [==============================] - 0s 50us/sample - loss: 0.4582 - val_loss: 0.4340\n",
      "Epoch 35/100\n",
      "7740/7740 [==============================] - 0s 45us/sample - loss: 0.4548 - val_loss: 0.4270\n",
      "Epoch 36/100\n",
      "7740/7740 [==============================] - 0s 46us/sample - loss: 0.4522 - val_loss: 0.4214\n",
      "Epoch 37/100\n",
      "7740/7740 [==============================] - 0s 49us/sample - loss: 0.4489 - val_loss: 0.4178\n",
      "Epoch 38/100\n",
      "7740/7740 [==============================] - 0s 44us/sample - loss: 0.4460 - val_loss: 0.4132\n",
      "Epoch 39/100\n",
      "7740/7740 [==============================] - 0s 43us/sample - loss: 0.4423 - val_loss: 0.4086\n",
      "Epoch 40/100\n",
      "7740/7740 [==============================] - 0s 49us/sample - loss: 0.4407 - val_loss: 0.4052\n",
      "Epoch 41/100\n",
      "7740/7740 [==============================] - 0s 48us/sample - loss: 0.4381 - val_loss: 0.4018\n",
      "Epoch 42/100\n",
      "7740/7740 [==============================] - 0s 45us/sample - loss: 0.4352 - val_loss: 0.3997\n",
      "Epoch 43/100\n",
      "7740/7740 [==============================] - 0s 46us/sample - loss: 0.4336 - val_loss: 0.3965\n",
      "Epoch 44/100\n",
      "7740/7740 [==============================] - 0s 48us/sample - loss: 0.4321 - val_loss: 0.3939\n",
      "Epoch 45/100\n",
      "7740/7740 [==============================] - 0s 46us/sample - loss: 0.4307 - val_loss: 0.3928\n",
      "Epoch 46/100\n",
      "7740/7740 [==============================] - 0s 42us/sample - loss: 0.4295 - val_loss: 0.3910\n",
      "Epoch 47/100\n",
      "7740/7740 [==============================] - 0s 46us/sample - loss: 0.4282 - val_loss: 0.3897\n",
      "Epoch 48/100\n",
      "7740/7740 [==============================] - 0s 43us/sample - loss: 0.4269 - val_loss: 0.3883\n",
      "Epoch 49/100\n",
      "7740/7740 [==============================] - 0s 45us/sample - loss: 0.4261 - val_loss: 0.3868\n",
      "Epoch 50/100\n",
      "7740/7740 [==============================] - 0s 42us/sample - loss: 0.4248 - val_loss: 0.3856\n",
      "Epoch 51/100\n",
      "7740/7740 [==============================] - 0s 46us/sample - loss: 0.4241 - val_loss: 0.3859\n",
      "Epoch 52/100\n",
      "7740/7740 [==============================] - 0s 45us/sample - loss: 0.4233 - val_loss: 0.3831\n",
      "Epoch 53/100\n",
      "7740/7740 [==============================] - 0s 46us/sample - loss: 0.4226 - val_loss: 0.3823\n",
      "Epoch 54/100\n",
      "7740/7740 [==============================] - 0s 43us/sample - loss: 0.4218 - val_loss: 0.3826\n",
      "Epoch 55/100\n",
      "7740/7740 [==============================] - 0s 46us/sample - loss: 0.4211 - val_loss: 0.3816\n",
      "Epoch 56/100\n",
      "7740/7740 [==============================] - 0s 41us/sample - loss: 0.4205 - val_loss: 0.3810\n",
      "Epoch 57/100\n",
      "7740/7740 [==============================] - 0s 42us/sample - loss: 0.4205 - val_loss: 0.3810\n",
      "Epoch 58/100\n",
      "7740/7740 [==============================] - 0s 42us/sample - loss: 0.4198 - val_loss: 0.3807\n",
      "Epoch 59/100\n",
      "7740/7740 [==============================] - 0s 42us/sample - loss: 0.4192 - val_loss: 0.3813\n",
      "Epoch 60/100\n",
      "7740/7740 [==============================] - 0s 43us/sample - loss: 0.4187 - val_loss: 0.3810\n",
      "Epoch 61/100\n"
     ]
    },
    {
     "name": "stdout",
     "output_type": "stream",
     "text": [
      "7740/7740 [==============================] - 0s 45us/sample - loss: 0.4181 - val_loss: 0.3823\n",
      "Epoch 62/100\n",
      "7740/7740 [==============================] - 0s 46us/sample - loss: 0.4177 - val_loss: 0.3827\n",
      "Epoch 63/100\n",
      "7740/7740 [==============================] - 0s 41us/sample - loss: 0.4172 - val_loss: 0.3845\n",
      "Epoch 64/100\n",
      "7740/7740 [==============================] - 0s 40us/sample - loss: 0.4170 - val_loss: 0.3852\n",
      "Epoch 65/100\n",
      "7740/7740 [==============================] - 0s 45us/sample - loss: 0.4165 - val_loss: 0.3873\n",
      "Epoch 66/100\n",
      "7740/7740 [==============================] - 0s 44us/sample - loss: 0.4156 - val_loss: 0.3896\n",
      "Epoch 67/100\n",
      "7740/7740 [==============================] - 0s 47us/sample - loss: 0.4159 - val_loss: 0.3916\n",
      "Epoch 68/100\n",
      "7740/7740 [==============================] - 0s 45us/sample - loss: 0.4153 - val_loss: 0.3946\n",
      "3870/3870 [==============================] - 0s 15us/sample - loss: 0.3971\n",
      "7740/7740 [==============================] - 0s 17us/sample - loss: 0.4149\n",
      "[CV]  learning_rate=0.002037996779860825, n_hidden=1, n_neurons=3, total=  23.8s\n",
      "[CV] learning_rate=0.010394502293169707, n_hidden=3, n_neurons=36 ....\n",
      "Train on 7740 samples, validate on 3870 samples\n",
      "Epoch 1/100\n",
      "7740/7740 [==============================] - 1s 85us/sample - loss: 0.8250 - val_loss: 0.4449\n",
      "Epoch 2/100\n",
      "7740/7740 [==============================] - 0s 59us/sample - loss: 0.4301 - val_loss: 0.3997\n",
      "Epoch 3/100\n",
      "7740/7740 [==============================] - 0s 59us/sample - loss: 0.3921 - val_loss: 0.3950\n",
      "Epoch 4/100\n",
      "7740/7740 [==============================] - 0s 58us/sample - loss: 0.3740 - val_loss: 0.3596\n",
      "Epoch 5/100\n",
      "7740/7740 [==============================] - 0s 56us/sample - loss: 0.3648 - val_loss: 0.3729\n",
      "Epoch 6/100\n",
      "7740/7740 [==============================] - 0s 53us/sample - loss: 0.3565 - val_loss: 0.3594\n",
      "Epoch 7/100\n",
      "7740/7740 [==============================] - 0s 56us/sample - loss: 0.3501 - val_loss: 0.3687\n",
      "Epoch 8/100\n",
      "7740/7740 [==============================] - 0s 56us/sample - loss: 0.3452 - val_loss: 0.3683\n",
      "Epoch 9/100\n",
      "7740/7740 [==============================] - 0s 55us/sample - loss: 0.3396 - val_loss: 0.3480\n",
      "Epoch 10/100\n",
      "7740/7740 [==============================] - 0s 56us/sample - loss: 0.3317 - val_loss: 0.3433\n",
      "Epoch 11/100\n",
      "7740/7740 [==============================] - 0s 53us/sample - loss: 0.3312 - val_loss: 0.3546\n",
      "Epoch 12/100\n",
      "7740/7740 [==============================] - 0s 56us/sample - loss: 0.3297 - val_loss: 0.4180\n",
      "Epoch 13/100\n",
      "7740/7740 [==============================] - 0s 53us/sample - loss: 0.3266 - val_loss: 0.3428\n",
      "Epoch 14/100\n",
      "7740/7740 [==============================] - 0s 60us/sample - loss: 0.3244 - val_loss: 0.3389\n",
      "Epoch 15/100\n",
      "7740/7740 [==============================] - 0s 55us/sample - loss: 0.3211 - val_loss: 0.3245\n",
      "Epoch 16/100\n",
      "7740/7740 [==============================] - 0s 57us/sample - loss: 0.3187 - val_loss: 0.3483\n",
      "Epoch 17/100\n",
      "7740/7740 [==============================] - 0s 59us/sample - loss: 0.3141 - val_loss: 0.3181\n",
      "Epoch 18/100\n",
      "7740/7740 [==============================] - 0s 59us/sample - loss: 0.3125 - val_loss: 0.3182\n",
      "Epoch 19/100\n",
      "7740/7740 [==============================] - 0s 58us/sample - loss: 0.3104 - val_loss: 0.3223\n",
      "Epoch 20/100\n",
      "7740/7740 [==============================] - 0s 58us/sample - loss: 0.3059 - val_loss: 0.3116\n",
      "Epoch 21/100\n",
      "7740/7740 [==============================] - 0s 61us/sample - loss: 0.3038 - val_loss: 0.3966\n",
      "Epoch 22/100\n",
      "7740/7740 [==============================] - 0s 54us/sample - loss: 0.3037 - val_loss: 0.3193\n",
      "Epoch 23/100\n",
      "7740/7740 [==============================] - 0s 59us/sample - loss: 0.2985 - val_loss: 0.4514\n",
      "Epoch 24/100\n",
      "7740/7740 [==============================] - 0s 53us/sample - loss: 0.2981 - val_loss: 0.3030\n",
      "Epoch 25/100\n",
      "7740/7740 [==============================] - 0s 53us/sample - loss: 0.3008 - val_loss: 0.3324\n",
      "Epoch 26/100\n",
      "7740/7740 [==============================] - 0s 59us/sample - loss: 0.2979 - val_loss: 0.2895\n",
      "Epoch 27/100\n",
      "7740/7740 [==============================] - 0s 63us/sample - loss: 0.2952 - val_loss: 0.3118\n",
      "Epoch 28/100\n",
      "7740/7740 [==============================] - 0s 62us/sample - loss: 0.2920 - val_loss: 0.3017\n",
      "Epoch 29/100\n",
      "7740/7740 [==============================] - 0s 62us/sample - loss: 0.2886 - val_loss: 0.3235\n",
      "Epoch 30/100\n",
      "7740/7740 [==============================] - 0s 57us/sample - loss: 0.2887 - val_loss: 0.3543\n",
      "Epoch 31/100\n",
      "7740/7740 [==============================] - 0s 59us/sample - loss: 0.2898 - val_loss: 0.2992\n",
      "Epoch 32/100\n",
      "7740/7740 [==============================] - 0s 57us/sample - loss: 0.2853 - val_loss: 0.3067\n",
      "Epoch 33/100\n",
      "7740/7740 [==============================] - 0s 62us/sample - loss: 0.2878 - val_loss: 0.2976\n",
      "Epoch 34/100\n",
      "7740/7740 [==============================] - 0s 57us/sample - loss: 0.2857 - val_loss: 0.3008\n",
      "Epoch 35/100\n",
      "7740/7740 [==============================] - 0s 52us/sample - loss: 0.2837 - val_loss: 0.3124\n",
      "Epoch 36/100\n",
      "7740/7740 [==============================] - 0s 58us/sample - loss: 0.2799 - val_loss: 0.2931\n",
      "3870/3870 [==============================] - 0s 19us/sample - loss: 0.3306\n",
      "7740/7740 [==============================] - 0s 23us/sample - loss: 0.2765\n",
      "[CV]  learning_rate=0.010394502293169707, n_hidden=3, n_neurons=36, total=  17.0s\n",
      "[CV] learning_rate=0.010394502293169707, n_hidden=3, n_neurons=36 ....\n",
      "Train on 7740 samples, validate on 3870 samples\n",
      "Epoch 1/100\n",
      "7740/7740 [==============================] - 1s 84us/sample - loss: 0.7025 - val_loss: 0.6264\n",
      "Epoch 2/100\n",
      "7740/7740 [==============================] - 0s 52us/sample - loss: 0.4235 - val_loss: 0.5341\n",
      "Epoch 3/100\n",
      "7740/7740 [==============================] - 0s 61us/sample - loss: 0.3893 - val_loss: 0.7273\n",
      "Epoch 4/100\n",
      "7740/7740 [==============================] - 0s 53us/sample - loss: 0.3709 - val_loss: 0.7758\n",
      "Epoch 5/100\n",
      "7740/7740 [==============================] - 0s 53us/sample - loss: 0.3639 - val_loss: 1.0095\n",
      "Epoch 6/100\n",
      "7740/7740 [==============================] - 0s 57us/sample - loss: 0.3481 - val_loss: 1.0909\n",
      "Epoch 7/100\n",
      "7740/7740 [==============================] - 0s 60us/sample - loss: 0.3454 - val_loss: 1.1380\n",
      "Epoch 8/100\n",
      "7740/7740 [==============================] - 0s 61us/sample - loss: 0.3345 - val_loss: 1.1479\n",
      "Epoch 9/100\n",
      "7740/7740 [==============================] - 0s 56us/sample - loss: 0.3296 - val_loss: 1.0995\n",
      "Epoch 10/100\n",
      "7740/7740 [==============================] - 0s 56us/sample - loss: 0.3248 - val_loss: 1.4131\n",
      "Epoch 11/100\n",
      "7740/7740 [==============================] - 0s 53us/sample - loss: 0.3213 - val_loss: 1.3541\n",
      "Epoch 12/100\n",
      "7740/7740 [==============================] - 0s 56us/sample - loss: 0.3235 - val_loss: 1.7073\n",
      "3870/3870 [==============================] - 0s 21us/sample - loss: 0.3998\n",
      "7740/7740 [==============================] - 0s 20us/sample - loss: 0.3345\n",
      "[CV]  learning_rate=0.010394502293169707, n_hidden=3, n_neurons=36, total=   5.9s\n",
      "[CV] learning_rate=0.010394502293169707, n_hidden=3, n_neurons=36 ....\n",
      "Train on 7740 samples, validate on 3870 samples\n",
      "Epoch 1/100\n",
      "7740/7740 [==============================] - 1s 82us/sample - loss: 0.8874 - val_loss: 1.5955\n",
      "Epoch 2/100\n",
      "7740/7740 [==============================] - 0s 56us/sample - loss: 0.4775 - val_loss: 1.4144\n",
      "Epoch 3/100\n",
      "7740/7740 [==============================] - 0s 57us/sample - loss: 0.4277 - val_loss: 0.4677\n",
      "Epoch 4/100\n",
      "7740/7740 [==============================] - 0s 60us/sample - loss: 0.3926 - val_loss: 0.4251\n",
      "Epoch 5/100\n",
      "7740/7740 [==============================] - 0s 56us/sample - loss: 0.3793 - val_loss: 0.3723\n",
      "Epoch 6/100\n",
      "7740/7740 [==============================] - 0s 59us/sample - loss: 0.3699 - val_loss: 0.3865\n",
      "Epoch 7/100\n",
      "7740/7740 [==============================] - 0s 56us/sample - loss: 0.3639 - val_loss: 0.4820\n",
      "Epoch 8/100\n",
      "7740/7740 [==============================] - 0s 56us/sample - loss: 0.3559 - val_loss: 0.6868\n",
      "Epoch 9/100\n",
      "7740/7740 [==============================] - 0s 58us/sample - loss: 0.3557 - val_loss: 0.3936\n",
      "Epoch 10/100\n",
      "7740/7740 [==============================] - 0s 56us/sample - loss: 0.3472 - val_loss: 0.3251\n",
      "Epoch 11/100\n",
      "7740/7740 [==============================] - 0s 52us/sample - loss: 0.3411 - val_loss: 0.3262\n",
      "Epoch 12/100\n"
     ]
    },
    {
     "name": "stdout",
     "output_type": "stream",
     "text": [
      "7740/7740 [==============================] - 0s 55us/sample - loss: 0.3328 - val_loss: 0.4225\n",
      "Epoch 13/100\n",
      "7740/7740 [==============================] - 0s 57us/sample - loss: 0.3321 - val_loss: 0.3364\n",
      "Epoch 14/100\n",
      "7740/7740 [==============================] - 0s 59us/sample - loss: 0.3289 - val_loss: 0.3239\n",
      "Epoch 15/100\n",
      "7740/7740 [==============================] - 0s 56us/sample - loss: 0.3308 - val_loss: 0.3603\n",
      "Epoch 16/100\n",
      "7740/7740 [==============================] - 0s 60us/sample - loss: 0.3268 - val_loss: 0.3288\n",
      "Epoch 17/100\n",
      "7740/7740 [==============================] - 0s 59us/sample - loss: 0.3225 - val_loss: 0.3278\n",
      "Epoch 18/100\n",
      "7740/7740 [==============================] - 0s 58us/sample - loss: 0.3174 - val_loss: 0.3441\n",
      "Epoch 19/100\n",
      "7740/7740 [==============================] - 0s 56us/sample - loss: 0.3187 - val_loss: 0.3069\n",
      "Epoch 20/100\n",
      "7740/7740 [==============================] - 0s 53us/sample - loss: 0.3151 - val_loss: 0.3020\n",
      "Epoch 21/100\n",
      "7740/7740 [==============================] - 0s 54us/sample - loss: 0.3154 - val_loss: 0.3129\n",
      "Epoch 22/100\n",
      "7740/7740 [==============================] - 0s 55us/sample - loss: 0.3133 - val_loss: 0.3252\n",
      "Epoch 23/100\n",
      "7740/7740 [==============================] - 0s 59us/sample - loss: 0.3081 - val_loss: 0.2939\n",
      "Epoch 24/100\n",
      "7740/7740 [==============================] - 0s 59us/sample - loss: 0.3082 - val_loss: 0.3108\n",
      "Epoch 25/100\n",
      "7740/7740 [==============================] - 0s 58us/sample - loss: 0.3064 - val_loss: 0.3022\n",
      "Epoch 26/100\n",
      "7740/7740 [==============================] - 0s 57us/sample - loss: 0.3024 - val_loss: 0.3088\n",
      "Epoch 27/100\n",
      "7740/7740 [==============================] - 0s 54us/sample - loss: 0.3017 - val_loss: 0.2972\n",
      "Epoch 28/100\n",
      "7740/7740 [==============================] - 0s 60us/sample - loss: 0.3001 - val_loss: 0.3006\n",
      "Epoch 29/100\n",
      "7740/7740 [==============================] - 0s 54us/sample - loss: 0.2999 - val_loss: 0.3223\n",
      "Epoch 30/100\n",
      "7740/7740 [==============================] - 0s 60us/sample - loss: 0.2966 - val_loss: 0.2985\n",
      "Epoch 31/100\n",
      "7740/7740 [==============================] - 0s 54us/sample - loss: 0.2954 - val_loss: 0.3458\n",
      "Epoch 32/100\n",
      "7740/7740 [==============================] - 0s 55us/sample - loss: 0.2965 - val_loss: 0.3007\n",
      "Epoch 33/100\n",
      "7740/7740 [==============================] - 0s 57us/sample - loss: 0.2929 - val_loss: 0.3177\n",
      "3870/3870 [==============================] - 0s 21us/sample - loss: 0.3033\n",
      "7740/7740 [==============================] - 0s 21us/sample - loss: 0.2862\n",
      "[CV]  learning_rate=0.010394502293169707, n_hidden=3, n_neurons=36, total=  15.1s\n",
      "[CV] learning_rate=0.008944656725311782, n_hidden=2, n_neurons=50 ....\n",
      "Train on 7740 samples, validate on 3870 samples\n",
      "Epoch 1/100\n",
      "7740/7740 [==============================] - 1s 81us/sample - loss: 0.9563 - val_loss: 0.5551\n",
      "Epoch 2/100\n",
      "7740/7740 [==============================] - 0s 62us/sample - loss: 0.4967 - val_loss: 2.2567\n",
      "Epoch 3/100\n",
      "7740/7740 [==============================] - 0s 60us/sample - loss: 0.4335 - val_loss: 2.6262\n",
      "Epoch 4/100\n",
      "7740/7740 [==============================] - 0s 61us/sample - loss: 0.4562 - val_loss: 3.0508\n",
      "Epoch 5/100\n",
      "7740/7740 [==============================] - 0s 58us/sample - loss: 0.4602 - val_loss: 11.2774\n",
      "Epoch 6/100\n",
      "7740/7740 [==============================] - 0s 60us/sample - loss: 0.4841 - val_loss: 0.8613\n",
      "Epoch 7/100\n",
      "7740/7740 [==============================] - 0s 56us/sample - loss: 0.3667 - val_loss: 0.8111\n",
      "Epoch 8/100\n",
      "7740/7740 [==============================] - 0s 55us/sample - loss: 0.3609 - val_loss: 0.7429\n",
      "Epoch 9/100\n",
      "7740/7740 [==============================] - 0s 58us/sample - loss: 0.3533 - val_loss: 0.4733\n",
      "Epoch 10/100\n",
      "7740/7740 [==============================] - 0s 55us/sample - loss: 0.3431 - val_loss: 0.3376\n",
      "Epoch 11/100\n",
      "7740/7740 [==============================] - 0s 55us/sample - loss: 0.3383 - val_loss: 0.3693\n",
      "Epoch 12/100\n",
      "7740/7740 [==============================] - 0s 55us/sample - loss: 0.3366 - val_loss: 0.3375\n",
      "Epoch 13/100\n",
      "7740/7740 [==============================] - 0s 54us/sample - loss: 0.3329 - val_loss: 0.3449\n",
      "Epoch 14/100\n",
      "7740/7740 [==============================] - 0s 54us/sample - loss: 0.3276 - val_loss: 0.3514\n",
      "Epoch 15/100\n",
      "7740/7740 [==============================] - 0s 52us/sample - loss: 0.3261 - val_loss: 0.3398\n",
      "Epoch 16/100\n",
      "7740/7740 [==============================] - 0s 55us/sample - loss: 0.3237 - val_loss: 0.3461\n",
      "Epoch 17/100\n",
      "7740/7740 [==============================] - 0s 48us/sample - loss: 0.3216 - val_loss: 0.3523\n",
      "Epoch 18/100\n",
      "7740/7740 [==============================] - 0s 48us/sample - loss: 0.3179 - val_loss: 0.3546\n",
      "Epoch 19/100\n",
      "7740/7740 [==============================] - 0s 47us/sample - loss: 0.3176 - val_loss: 0.3327\n",
      "Epoch 20/100\n",
      "7740/7740 [==============================] - 0s 49us/sample - loss: 0.3136 - val_loss: 0.3159\n",
      "Epoch 21/100\n",
      "7740/7740 [==============================] - 0s 53us/sample - loss: 0.3115 - val_loss: 0.3183\n",
      "Epoch 22/100\n",
      "7740/7740 [==============================] - 0s 53us/sample - loss: 0.3096 - val_loss: 0.3458\n",
      "Epoch 23/100\n",
      "7740/7740 [==============================] - 0s 50us/sample - loss: 0.3080 - val_loss: 0.3105\n",
      "Epoch 24/100\n",
      "7740/7740 [==============================] - 0s 52us/sample - loss: 0.3058 - val_loss: 0.3190\n",
      "Epoch 25/100\n",
      "7740/7740 [==============================] - 0s 55us/sample - loss: 0.3031 - val_loss: 0.3088\n",
      "Epoch 26/100\n",
      "7740/7740 [==============================] - 0s 59us/sample - loss: 0.3033 - val_loss: 0.3221\n",
      "Epoch 27/100\n",
      "7740/7740 [==============================] - 0s 55us/sample - loss: 0.2999 - val_loss: 0.3475\n",
      "Epoch 28/100\n",
      "7740/7740 [==============================] - 0s 60us/sample - loss: 0.2993 - val_loss: 0.3119\n",
      "Epoch 29/100\n",
      "7740/7740 [==============================] - 0s 60us/sample - loss: 0.2975 - val_loss: 0.3180\n",
      "Epoch 30/100\n",
      "7740/7740 [==============================] - 0s 58us/sample - loss: 0.2950 - val_loss: 0.3132\n",
      "Epoch 31/100\n",
      "7740/7740 [==============================] - 0s 49us/sample - loss: 0.2938 - val_loss: 0.3076\n",
      "Epoch 32/100\n",
      "7740/7740 [==============================] - 0s 48us/sample - loss: 0.2914 - val_loss: 0.3291\n",
      "Epoch 33/100\n",
      "7740/7740 [==============================] - 0s 50us/sample - loss: 0.2885 - val_loss: 0.3185\n",
      "Epoch 34/100\n",
      "7740/7740 [==============================] - 0s 53us/sample - loss: 0.2879 - val_loss: 0.2902\n",
      "Epoch 35/100\n",
      "7740/7740 [==============================] - 0s 60us/sample - loss: 0.2862 - val_loss: 0.3328\n",
      "Epoch 36/100\n",
      "7740/7740 [==============================] - 0s 56us/sample - loss: 0.2844 - val_loss: 0.3241\n",
      "Epoch 37/100\n",
      "7740/7740 [==============================] - 0s 57us/sample - loss: 0.2846 - val_loss: 0.2883\n",
      "Epoch 38/100\n",
      "7740/7740 [==============================] - 0s 56us/sample - loss: 0.2836 - val_loss: 0.3211\n",
      "Epoch 39/100\n",
      "7740/7740 [==============================] - 0s 52us/sample - loss: 0.2820 - val_loss: 0.3048\n",
      "Epoch 40/100\n",
      "7740/7740 [==============================] - 0s 57us/sample - loss: 0.2779 - val_loss: 0.3497\n",
      "Epoch 41/100\n",
      "7740/7740 [==============================] - 0s 55us/sample - loss: 0.2791 - val_loss: 0.2907\n",
      "Epoch 42/100\n",
      "7740/7740 [==============================] - 0s 57us/sample - loss: 0.2775 - val_loss: 0.3146\n",
      "Epoch 43/100\n",
      "7740/7740 [==============================] - 0s 55us/sample - loss: 0.2779 - val_loss: 0.2936\n",
      "Epoch 44/100\n",
      "7740/7740 [==============================] - 0s 59us/sample - loss: 0.2754 - val_loss: 0.3121\n",
      "Epoch 45/100\n",
      "7740/7740 [==============================] - 0s 57us/sample - loss: 0.2791 - val_loss: 0.2987\n",
      "Epoch 46/100\n",
      "7740/7740 [==============================] - 0s 57us/sample - loss: 0.2737 - val_loss: 0.2902\n",
      "Epoch 47/100\n",
      "7740/7740 [==============================] - 0s 60us/sample - loss: 0.2728 - val_loss: 0.2849\n",
      "Epoch 48/100\n",
      "7740/7740 [==============================] - 0s 56us/sample - loss: 0.2704 - val_loss: 0.3710\n",
      "Epoch 49/100\n",
      "7740/7740 [==============================] - 0s 55us/sample - loss: 0.2734 - val_loss: 0.2840\n",
      "Epoch 50/100\n",
      "7740/7740 [==============================] - 0s 54us/sample - loss: 0.2696 - val_loss: 0.2975\n",
      "Epoch 51/100\n",
      "7740/7740 [==============================] - 0s 56us/sample - loss: 0.2684 - val_loss: 0.3028\n",
      "Epoch 52/100\n",
      "7740/7740 [==============================] - 0s 56us/sample - loss: 0.2685 - val_loss: 0.2859\n",
      "Epoch 53/100\n",
      "7740/7740 [==============================] - 0s 51us/sample - loss: 0.2689 - val_loss: 0.3029\n",
      "Epoch 54/100\n",
      "7740/7740 [==============================] - 0s 53us/sample - loss: 0.2678 - val_loss: 0.3275\n",
      "Epoch 55/100\n",
      "7740/7740 [==============================] - 0s 50us/sample - loss: 0.2673 - val_loss: 0.3362\n",
      "Epoch 56/100\n",
      "7740/7740 [==============================] - 0s 50us/sample - loss: 0.2650 - val_loss: 0.3004\n",
      "Epoch 57/100\n",
      "7740/7740 [==============================] - 0s 55us/sample - loss: 0.2626 - val_loss: 0.4190\n",
      "Epoch 58/100\n",
      "7740/7740 [==============================] - 0s 57us/sample - loss: 0.2670 - val_loss: 0.4616\n",
      "Epoch 59/100\n",
      "7740/7740 [==============================] - 0s 55us/sample - loss: 0.2668 - val_loss: 0.4500\n",
      "3870/3870 [==============================] - 0s 23us/sample - loss: 0.3145\n",
      "7740/7740 [==============================] - 0s 24us/sample - loss: 0.2584\n",
      "[CV]  learning_rate=0.008944656725311782, n_hidden=2, n_neurons=50, total=  25.7s\n",
      "[CV] learning_rate=0.008944656725311782, n_hidden=2, n_neurons=50 ....\n",
      "Train on 7740 samples, validate on 3870 samples\n",
      "Epoch 1/100\n",
      "7740/7740 [==============================] - 1s 78us/sample - loss: 0.7016 - val_loss: 0.5723\n",
      "Epoch 2/100\n",
      "7740/7740 [==============================] - 0s 51us/sample - loss: 0.4138 - val_loss: 0.4782\n",
      "Epoch 3/100\n",
      "7740/7740 [==============================] - 0s 55us/sample - loss: 0.3828 - val_loss: 0.6301\n",
      "Epoch 4/100\n",
      "7740/7740 [==============================] - 0s 51us/sample - loss: 0.3706 - val_loss: 0.7313\n",
      "Epoch 5/100\n",
      "7740/7740 [==============================] - 0s 48us/sample - loss: 0.3608 - val_loss: 0.7419\n",
      "Epoch 6/100\n",
      "7740/7740 [==============================] - 0s 51us/sample - loss: 0.3529 - val_loss: 1.1976\n",
      "Epoch 7/100\n",
      "7740/7740 [==============================] - 0s 51us/sample - loss: 0.3498 - val_loss: 1.0257\n",
      "Epoch 8/100\n",
      "7740/7740 [==============================] - 0s 52us/sample - loss: 0.3429 - val_loss: 0.8090\n",
      "Epoch 9/100\n",
      "7740/7740 [==============================] - 0s 51us/sample - loss: 0.3394 - val_loss: 0.9090\n",
      "Epoch 10/100\n",
      "7740/7740 [==============================] - 0s 51us/sample - loss: 0.3369 - val_loss: 1.0506\n",
      "Epoch 11/100\n",
      "7740/7740 [==============================] - 0s 55us/sample - loss: 0.3314 - val_loss: 0.7700\n",
      "Epoch 12/100\n",
      "7740/7740 [==============================] - 0s 54us/sample - loss: 0.3301 - val_loss: 0.7514\n",
      "3870/3870 [==============================] - 0s 23us/sample - loss: 0.3453\n",
      "7740/7740 [==============================] - 0s 25us/sample - loss: 0.3226\n",
      "[CV]  learning_rate=0.008944656725311782, n_hidden=2, n_neurons=50, total=   5.4s\n",
      "[CV] learning_rate=0.008944656725311782, n_hidden=2, n_neurons=50 ....\n",
      "Train on 7740 samples, validate on 3870 samples\n",
      "Epoch 1/100\n",
      "7740/7740 [==============================] - 1s 77us/sample - loss: 0.8218 - val_loss: 1.6686\n",
      "Epoch 2/100\n",
      "7740/7740 [==============================] - 0s 55us/sample - loss: 0.4557 - val_loss: 1.1006\n",
      "Epoch 3/100\n",
      "7740/7740 [==============================] - 0s 55us/sample - loss: 0.4256 - val_loss: 1.3087\n",
      "Epoch 4/100\n",
      "7740/7740 [==============================] - 0s 56us/sample - loss: 0.4011 - val_loss: 0.7555\n",
      "Epoch 5/100\n",
      "7740/7740 [==============================] - 0s 58us/sample - loss: 0.3775 - val_loss: 0.3574\n",
      "Epoch 6/100\n",
      "7740/7740 [==============================] - 0s 56us/sample - loss: 0.3660 - val_loss: 0.4076\n",
      "Epoch 7/100\n",
      "7740/7740 [==============================] - 0s 54us/sample - loss: 0.3605 - val_loss: 0.3607\n",
      "Epoch 8/100\n",
      "7740/7740 [==============================] - 0s 52us/sample - loss: 0.3522 - val_loss: 0.4013\n",
      "Epoch 9/100\n",
      "7740/7740 [==============================] - 0s 52us/sample - loss: 0.3495 - val_loss: 0.3361\n",
      "Epoch 10/100\n",
      "7740/7740 [==============================] - 0s 52us/sample - loss: 0.3416 - val_loss: 0.3734\n",
      "Epoch 11/100\n",
      "7740/7740 [==============================] - 0s 49us/sample - loss: 0.3390 - val_loss: 0.3395\n",
      "Epoch 12/100\n",
      "7740/7740 [==============================] - 0s 46us/sample - loss: 0.3353 - val_loss: 0.3892\n",
      "Epoch 13/100\n",
      "7740/7740 [==============================] - 0s 47us/sample - loss: 0.3320 - val_loss: 0.3536\n",
      "Epoch 14/100\n",
      "7740/7740 [==============================] - 0s 49us/sample - loss: 0.3289 - val_loss: 0.3689\n",
      "Epoch 15/100\n",
      "7740/7740 [==============================] - 0s 49us/sample - loss: 0.3271 - val_loss: 0.3408\n",
      "Epoch 16/100\n",
      "7740/7740 [==============================] - 0s 47us/sample - loss: 0.3252 - val_loss: 0.4498\n",
      "Epoch 17/100\n",
      "7740/7740 [==============================] - 0s 51us/sample - loss: 0.3239 - val_loss: 0.3289\n",
      "Epoch 18/100\n",
      "7740/7740 [==============================] - 0s 48us/sample - loss: 0.3204 - val_loss: 0.3698\n",
      "Epoch 19/100\n",
      "7740/7740 [==============================] - 0s 51us/sample - loss: 0.3170 - val_loss: 0.3210\n",
      "Epoch 20/100\n",
      "7740/7740 [==============================] - 0s 49us/sample - loss: 0.3159 - val_loss: 0.3615\n",
      "Epoch 21/100\n",
      "7740/7740 [==============================] - 0s 55us/sample - loss: 0.3150 - val_loss: 0.3029\n",
      "Epoch 22/100\n",
      "7740/7740 [==============================] - 0s 55us/sample - loss: 0.3120 - val_loss: 0.4919\n",
      "Epoch 23/100\n",
      "7740/7740 [==============================] - 0s 50us/sample - loss: 0.3128 - val_loss: 0.3271\n",
      "Epoch 24/100\n",
      "7740/7740 [==============================] - 0s 52us/sample - loss: 0.3069 - val_loss: 0.3494\n",
      "Epoch 25/100\n",
      "7740/7740 [==============================] - 0s 51us/sample - loss: 0.3072 - val_loss: 0.3123\n",
      "Epoch 26/100\n",
      "7740/7740 [==============================] - 0s 59us/sample - loss: 0.3034 - val_loss: 0.3450\n",
      "Epoch 27/100\n",
      "7740/7740 [==============================] - 0s 52us/sample - loss: 0.3020 - val_loss: 0.3203\n",
      "Epoch 28/100\n",
      "7740/7740 [==============================] - 0s 49us/sample - loss: 0.3010 - val_loss: 0.5006\n",
      "Epoch 29/100\n",
      "7740/7740 [==============================] - 0s 52us/sample - loss: 0.2998 - val_loss: 0.4189\n",
      "Epoch 30/100\n",
      "7740/7740 [==============================] - 0s 51us/sample - loss: 0.3023 - val_loss: 0.4036\n",
      "Epoch 31/100\n",
      "7740/7740 [==============================] - 0s 53us/sample - loss: 0.2980 - val_loss: 0.3246\n",
      "3870/3870 [==============================] - 0s 19us/sample - loss: 0.3220\n",
      "7740/7740 [==============================] - 0s 21us/sample - loss: 0.3095\n",
      "[CV]  learning_rate=0.008944656725311782, n_hidden=2, n_neurons=50, total=  13.0s\n",
      "[CV] learning_rate=0.0008911948011970405, n_hidden=0, n_neurons=51 ...\n",
      "Train on 7740 samples, validate on 3870 samples\n",
      "Epoch 1/100\n",
      "7740/7740 [==============================] - 0s 55us/sample - loss: 2.8161 - val_loss: 7.3004\n",
      "Epoch 2/100\n",
      "7740/7740 [==============================] - 0s 45us/sample - loss: 1.0202 - val_loss: 2.1791\n",
      "Epoch 3/100\n",
      "7740/7740 [==============================] - 0s 41us/sample - loss: 0.7537 - val_loss: 0.8586\n",
      "Epoch 4/100\n",
      "7740/7740 [==============================] - 0s 40us/sample - loss: 0.6929 - val_loss: 0.6607\n",
      "Epoch 5/100\n",
      "7740/7740 [==============================] - 0s 41us/sample - loss: 0.6613 - val_loss: 0.6079\n",
      "Epoch 6/100\n",
      "7740/7740 [==============================] - 0s 42us/sample - loss: 0.6334 - val_loss: 0.5813\n",
      "Epoch 7/100\n",
      "7740/7740 [==============================] - 0s 42us/sample - loss: 0.6100 - val_loss: 0.5603\n",
      "Epoch 8/100\n",
      "7740/7740 [==============================] - 0s 42us/sample - loss: 0.5878 - val_loss: 0.5383\n",
      "Epoch 9/100\n",
      "7740/7740 [==============================] - 0s 41us/sample - loss: 0.5687 - val_loss: 0.5204\n",
      "Epoch 10/100\n",
      "7740/7740 [==============================] - 0s 38us/sample - loss: 0.5510 - val_loss: 0.5043\n",
      "Epoch 11/100\n",
      "7740/7740 [==============================] - 0s 41us/sample - loss: 0.5341 - val_loss: 0.4912\n",
      "Epoch 12/100\n",
      "7740/7740 [==============================] - 0s 40us/sample - loss: 0.5207 - val_loss: 0.4780\n",
      "Epoch 13/100\n",
      "7740/7740 [==============================] - 0s 41us/sample - loss: 0.5071 - val_loss: 0.4664\n",
      "Epoch 14/100\n",
      "7740/7740 [==============================] - 0s 39us/sample - loss: 0.4960 - val_loss: 0.4570\n",
      "Epoch 15/100\n",
      "7740/7740 [==============================] - 0s 40us/sample - loss: 0.4856 - val_loss: 0.4491\n",
      "Epoch 16/100\n",
      "7740/7740 [==============================] - 0s 43us/sample - loss: 0.4765 - val_loss: 0.4433\n",
      "Epoch 17/100\n"
     ]
    },
    {
     "name": "stdout",
     "output_type": "stream",
     "text": [
      "7740/7740 [==============================] - 0s 43us/sample - loss: 0.4684 - val_loss: 0.4367\n",
      "Epoch 18/100\n",
      "7740/7740 [==============================] - 0s 46us/sample - loss: 0.4615 - val_loss: 0.4318\n",
      "Epoch 19/100\n",
      "7740/7740 [==============================] - 0s 42us/sample - loss: 0.4554 - val_loss: 0.4304\n",
      "Epoch 20/100\n",
      "7740/7740 [==============================] - 0s 43us/sample - loss: 0.4494 - val_loss: 0.4198\n",
      "Epoch 21/100\n",
      "7740/7740 [==============================] - 0s 41us/sample - loss: 0.4448 - val_loss: 0.4198\n",
      "Epoch 22/100\n",
      "7740/7740 [==============================] - 0s 43us/sample - loss: 0.4401 - val_loss: 0.4168\n",
      "Epoch 23/100\n",
      "7740/7740 [==============================] - 0s 48us/sample - loss: 0.4367 - val_loss: 0.4234\n",
      "Epoch 24/100\n",
      "7740/7740 [==============================] - 0s 40us/sample - loss: 0.4333 - val_loss: 0.4143\n",
      "Epoch 25/100\n",
      "7740/7740 [==============================] - 0s 40us/sample - loss: 0.4299 - val_loss: 0.4060\n",
      "Epoch 26/100\n",
      "7740/7740 [==============================] - 0s 40us/sample - loss: 0.4276 - val_loss: 0.4086\n",
      "Epoch 27/100\n",
      "7740/7740 [==============================] - 0s 42us/sample - loss: 0.4252 - val_loss: 0.4079\n",
      "Epoch 28/100\n",
      "7740/7740 [==============================] - 0s 40us/sample - loss: 0.4230 - val_loss: 0.4184\n",
      "Epoch 29/100\n",
      "7740/7740 [==============================] - 0s 43us/sample - loss: 0.4208 - val_loss: 0.4075\n",
      "Epoch 30/100\n",
      "7740/7740 [==============================] - 0s 40us/sample - loss: 0.4193 - val_loss: 0.4130\n",
      "Epoch 31/100\n",
      "7740/7740 [==============================] - 0s 39us/sample - loss: 0.4174 - val_loss: 0.4032\n",
      "Epoch 32/100\n",
      "7740/7740 [==============================] - 0s 40us/sample - loss: 0.4161 - val_loss: 0.4106\n",
      "Epoch 33/100\n",
      "7740/7740 [==============================] - 0s 41us/sample - loss: 0.4144 - val_loss: 0.4108\n",
      "Epoch 34/100\n",
      "7740/7740 [==============================] - 0s 41us/sample - loss: 0.4130 - val_loss: 0.4114\n",
      "Epoch 35/100\n",
      "7740/7740 [==============================] - 0s 38us/sample - loss: 0.4116 - val_loss: 0.4204\n",
      "Epoch 36/100\n",
      "7740/7740 [==============================] - 0s 41us/sample - loss: 0.4104 - val_loss: 0.4122\n",
      "Epoch 37/100\n",
      "7740/7740 [==============================] - 0s 43us/sample - loss: 0.4090 - val_loss: 0.4080\n",
      "Epoch 38/100\n",
      "7740/7740 [==============================] - 0s 43us/sample - loss: 0.4075 - val_loss: 0.3982\n",
      "Epoch 39/100\n",
      "7740/7740 [==============================] - 0s 41us/sample - loss: 0.4066 - val_loss: 0.4206\n",
      "Epoch 40/100\n",
      "7740/7740 [==============================] - 0s 41us/sample - loss: 0.4055 - val_loss: 0.4097\n",
      "Epoch 41/100\n",
      "7740/7740 [==============================] - 0s 39us/sample - loss: 0.4042 - val_loss: 0.3987\n",
      "Epoch 42/100\n",
      "7740/7740 [==============================] - 0s 42us/sample - loss: 0.4031 - val_loss: 0.4096\n",
      "Epoch 43/100\n",
      "7740/7740 [==============================] - 0s 41us/sample - loss: 0.4022 - val_loss: 0.3963\n",
      "Epoch 44/100\n",
      "7740/7740 [==============================] - 0s 46us/sample - loss: 0.4010 - val_loss: 0.3943\n",
      "Epoch 45/100\n",
      "7740/7740 [==============================] - 0s 49us/sample - loss: 0.4002 - val_loss: 0.3940\n",
      "Epoch 46/100\n",
      "7740/7740 [==============================] - 0s 43us/sample - loss: 0.3989 - val_loss: 0.3945\n",
      "Epoch 47/100\n",
      "7740/7740 [==============================] - 0s 45us/sample - loss: 0.3982 - val_loss: 0.4062\n",
      "Epoch 48/100\n",
      "7740/7740 [==============================] - 0s 46us/sample - loss: 0.3972 - val_loss: 0.4048\n",
      "Epoch 49/100\n",
      "7740/7740 [==============================] - 0s 43us/sample - loss: 0.3960 - val_loss: 0.3932\n",
      "Epoch 50/100\n",
      "7740/7740 [==============================] - 0s 49us/sample - loss: 0.3955 - val_loss: 0.4018\n",
      "Epoch 51/100\n",
      "7740/7740 [==============================] - 0s 43us/sample - loss: 0.3943 - val_loss: 0.4162\n",
      "Epoch 52/100\n",
      "7740/7740 [==============================] - 0s 42us/sample - loss: 0.3936 - val_loss: 0.4110\n",
      "Epoch 53/100\n",
      "7740/7740 [==============================] - 0s 42us/sample - loss: 0.3921 - val_loss: 0.4020\n",
      "Epoch 54/100\n",
      "7740/7740 [==============================] - 0s 42us/sample - loss: 0.3921 - val_loss: 0.3946\n",
      "Epoch 55/100\n",
      "7740/7740 [==============================] - 0s 41us/sample - loss: 0.3908 - val_loss: 0.4125\n",
      "Epoch 56/100\n",
      "7740/7740 [==============================] - 0s 42us/sample - loss: 0.3899 - val_loss: 0.3982\n",
      "Epoch 57/100\n",
      "7740/7740 [==============================] - 0s 40us/sample - loss: 0.3891 - val_loss: 0.3984\n",
      "Epoch 58/100\n",
      "7740/7740 [==============================] - 0s 40us/sample - loss: 0.3886 - val_loss: 0.3895\n",
      "Epoch 59/100\n",
      "7740/7740 [==============================] - 0s 42us/sample - loss: 0.3876 - val_loss: 0.3981\n",
      "Epoch 60/100\n",
      "7740/7740 [==============================] - 0s 42us/sample - loss: 0.3870 - val_loss: 0.3989\n",
      "Epoch 61/100\n",
      "7740/7740 [==============================] - 0s 40us/sample - loss: 0.3860 - val_loss: 0.3969\n",
      "Epoch 62/100\n",
      "7740/7740 [==============================] - 0s 44us/sample - loss: 0.3852 - val_loss: 0.3976\n",
      "Epoch 63/100\n",
      "7740/7740 [==============================] - 0s 45us/sample - loss: 0.3844 - val_loss: 0.3973\n",
      "Epoch 64/100\n",
      "7740/7740 [==============================] - 0s 44us/sample - loss: 0.3838 - val_loss: 0.3976\n",
      "Epoch 65/100\n",
      "7740/7740 [==============================] - 0s 45us/sample - loss: 0.3828 - val_loss: 0.3867\n",
      "Epoch 66/100\n",
      "7740/7740 [==============================] - 0s 47us/sample - loss: 0.3824 - val_loss: 0.3982\n",
      "Epoch 67/100\n",
      "7740/7740 [==============================] - 0s 43us/sample - loss: 0.3815 - val_loss: 0.3958\n",
      "Epoch 68/100\n",
      "7740/7740 [==============================] - 0s 41us/sample - loss: 0.3807 - val_loss: 0.4002\n",
      "Epoch 69/100\n",
      "7740/7740 [==============================] - 0s 40us/sample - loss: 0.3801 - val_loss: 0.3854\n",
      "Epoch 70/100\n",
      "7740/7740 [==============================] - 0s 42us/sample - loss: 0.3790 - val_loss: 0.3851\n",
      "Epoch 71/100\n",
      "7740/7740 [==============================] - 0s 44us/sample - loss: 0.3788 - val_loss: 0.3921\n",
      "Epoch 72/100\n",
      "7740/7740 [==============================] - 0s 42us/sample - loss: 0.3777 - val_loss: 0.3784\n",
      "Epoch 73/100\n",
      "7740/7740 [==============================] - 0s 45us/sample - loss: 0.3774 - val_loss: 0.3937\n",
      "Epoch 74/100\n",
      "7740/7740 [==============================] - 0s 43us/sample - loss: 0.3768 - val_loss: 0.3906\n",
      "Epoch 75/100\n",
      "7740/7740 [==============================] - 0s 44us/sample - loss: 0.3762 - val_loss: 0.3920\n",
      "Epoch 76/100\n",
      "7740/7740 [==============================] - 0s 45us/sample - loss: 0.3756 - val_loss: 0.3974\n",
      "Epoch 77/100\n",
      "7740/7740 [==============================] - 0s 42us/sample - loss: 0.3750 - val_loss: 0.3893\n",
      "Epoch 78/100\n",
      "7740/7740 [==============================] - 0s 43us/sample - loss: 0.3744 - val_loss: 0.3813\n",
      "Epoch 79/100\n",
      "7740/7740 [==============================] - 0s 41us/sample - loss: 0.3736 - val_loss: 0.3908\n",
      "Epoch 80/100\n",
      "7740/7740 [==============================] - 0s 40us/sample - loss: 0.3734 - val_loss: 0.3960\n",
      "Epoch 81/100\n",
      "7740/7740 [==============================] - 0s 40us/sample - loss: 0.3729 - val_loss: 0.3963\n",
      "Epoch 82/100\n",
      "7740/7740 [==============================] - 0s 43us/sample - loss: 0.3723 - val_loss: 0.3830\n",
      "3870/3870 [==============================] - 0s 15us/sample - loss: 0.3853\n",
      "7740/7740 [==============================] - 0s 17us/sample - loss: 0.3714\n",
      "[CV]  learning_rate=0.0008911948011970405, n_hidden=0, n_neurons=51, total=  27.2s\n",
      "[CV] learning_rate=0.0008911948011970405, n_hidden=0, n_neurons=51 ...\n",
      "Train on 7740 samples, validate on 3870 samples\n",
      "Epoch 1/100\n",
      "7740/7740 [==============================] - 0s 61us/sample - loss: 2.9846 - val_loss: 1.5168\n",
      "Epoch 2/100\n",
      "7740/7740 [==============================] - 0s 43us/sample - loss: 0.9147 - val_loss: 1.4368\n",
      "Epoch 3/100\n",
      "7740/7740 [==============================] - 0s 40us/sample - loss: 0.7179 - val_loss: 0.8974\n",
      "Epoch 4/100\n",
      "7740/7740 [==============================] - 0s 39us/sample - loss: 0.6707 - val_loss: 0.6431\n",
      "Epoch 5/100\n",
      "7740/7740 [==============================] - 0s 40us/sample - loss: 0.6429 - val_loss: 0.6519\n",
      "Epoch 6/100\n",
      "7740/7740 [==============================] - 0s 39us/sample - loss: 0.6203 - val_loss: 0.8071\n",
      "Epoch 7/100\n",
      "7740/7740 [==============================] - 0s 38us/sample - loss: 0.6002 - val_loss: 1.0767\n",
      "Epoch 8/100\n",
      "7740/7740 [==============================] - 0s 38us/sample - loss: 0.5825 - val_loss: 1.3698\n",
      "Epoch 9/100\n",
      "7740/7740 [==============================] - 0s 37us/sample - loss: 0.5662 - val_loss: 1.5651\n",
      "Epoch 10/100\n",
      "7740/7740 [==============================] - 0s 38us/sample - loss: 0.5520 - val_loss: 1.9350\n",
      "Epoch 11/100\n",
      "7740/7740 [==============================] - 0s 41us/sample - loss: 0.5389 - val_loss: 2.1982\n",
      "Epoch 12/100\n",
      "7740/7740 [==============================] - 0s 43us/sample - loss: 0.5274 - val_loss: 2.5353\n",
      "Epoch 13/100\n",
      "7740/7740 [==============================] - 0s 42us/sample - loss: 0.5169 - val_loss: 2.7890\n",
      "Epoch 14/100\n",
      "7740/7740 [==============================] - 0s 39us/sample - loss: 0.5075 - val_loss: 2.8839\n",
      "3870/3870 [==============================] - 0s 16us/sample - loss: 0.5712\n",
      "7740/7740 [==============================] - 0s 18us/sample - loss: 0.5021\n",
      "[CV]  learning_rate=0.0008911948011970405, n_hidden=0, n_neurons=51, total=   4.8s\n",
      "[CV] learning_rate=0.0008911948011970405, n_hidden=0, n_neurons=51 ...\n",
      "Train on 7740 samples, validate on 3870 samples\n",
      "Epoch 1/100\n",
      "7740/7740 [==============================] - 1s 98us/sample - loss: 2.8424 - val_loss: 1.0739\n",
      "Epoch 2/100\n",
      "7740/7740 [==============================] - 0s 40us/sample - loss: 0.9030 - val_loss: 0.7140\n",
      "Epoch 3/100\n",
      "7740/7740 [==============================] - 0s 41us/sample - loss: 0.7208 - val_loss: 0.6694\n",
      "Epoch 4/100\n",
      "7740/7740 [==============================] - 0s 39us/sample - loss: 0.6815 - val_loss: 0.6597\n",
      "Epoch 5/100\n",
      "7740/7740 [==============================] - 0s 40us/sample - loss: 0.6559 - val_loss: 0.6247\n",
      "Epoch 6/100\n",
      "7740/7740 [==============================] - 0s 39us/sample - loss: 0.6336 - val_loss: 0.6117\n",
      "Epoch 7/100\n",
      "7740/7740 [==============================] - 0s 40us/sample - loss: 0.6132 - val_loss: 0.5856\n",
      "Epoch 8/100\n",
      "7740/7740 [==============================] - 0s 41us/sample - loss: 0.5943 - val_loss: 0.5666\n",
      "Epoch 9/100\n",
      "7740/7740 [==============================] - 0s 39us/sample - loss: 0.5766 - val_loss: 0.5713\n",
      "Epoch 10/100\n",
      "7740/7740 [==============================] - 0s 42us/sample - loss: 0.5613 - val_loss: 0.5280\n",
      "Epoch 11/100\n",
      "7740/7740 [==============================] - 0s 45us/sample - loss: 0.5462 - val_loss: 0.5229\n",
      "Epoch 12/100\n",
      "7740/7740 [==============================] - 0s 40us/sample - loss: 0.5327 - val_loss: 0.5049\n",
      "Epoch 13/100\n",
      "7740/7740 [==============================] - 0s 44us/sample - loss: 0.5203 - val_loss: 0.4874\n",
      "Epoch 14/100\n",
      "7740/7740 [==============================] - 0s 44us/sample - loss: 0.5086 - val_loss: 0.4931\n",
      "Epoch 15/100\n",
      "7740/7740 [==============================] - 0s 42us/sample - loss: 0.4986 - val_loss: 0.4751\n",
      "Epoch 16/100\n",
      "7740/7740 [==============================] - 0s 44us/sample - loss: 0.4892 - val_loss: 0.4620\n",
      "Epoch 17/100\n",
      "7740/7740 [==============================] - 0s 47us/sample - loss: 0.4808 - val_loss: 0.4502\n",
      "Epoch 18/100\n",
      "7740/7740 [==============================] - 0s 43us/sample - loss: 0.4730 - val_loss: 0.4443\n",
      "Epoch 19/100\n",
      "7740/7740 [==============================] - 0s 45us/sample - loss: 0.4662 - val_loss: 0.4383\n",
      "Epoch 20/100\n",
      "7740/7740 [==============================] - 0s 40us/sample - loss: 0.4598 - val_loss: 0.4376\n",
      "Epoch 21/100\n",
      "7740/7740 [==============================] - 0s 41us/sample - loss: 0.4542 - val_loss: 0.4253\n",
      "Epoch 22/100\n",
      "7740/7740 [==============================] - 0s 44us/sample - loss: 0.4491 - val_loss: 0.4199\n",
      "Epoch 23/100\n",
      "7740/7740 [==============================] - 0s 46us/sample - loss: 0.4445 - val_loss: 0.4163\n",
      "Epoch 24/100\n",
      "7740/7740 [==============================] - 0s 41us/sample - loss: 0.4404 - val_loss: 0.4158\n",
      "Epoch 25/100\n",
      "7740/7740 [==============================] - 0s 45us/sample - loss: 0.4367 - val_loss: 0.4082\n",
      "Epoch 26/100\n",
      "7740/7740 [==============================] - 0s 47us/sample - loss: 0.4333 - val_loss: 0.4060\n",
      "Epoch 27/100\n",
      "7740/7740 [==============================] - 0s 48us/sample - loss: 0.4300 - val_loss: 0.4027\n",
      "Epoch 28/100\n",
      "7740/7740 [==============================] - 0s 48us/sample - loss: 0.4274 - val_loss: 0.3990\n",
      "Epoch 29/100\n",
      "7740/7740 [==============================] - 0s 41us/sample - loss: 0.4247 - val_loss: 0.3962\n",
      "Epoch 30/100\n",
      "7740/7740 [==============================] - 0s 40us/sample - loss: 0.4223 - val_loss: 0.3994\n",
      "Epoch 31/100\n",
      "7740/7740 [==============================] - 0s 38us/sample - loss: 0.4201 - val_loss: 0.3926\n",
      "Epoch 32/100\n",
      "7740/7740 [==============================] - 0s 43us/sample - loss: 0.4178 - val_loss: 0.3902\n",
      "Epoch 33/100\n",
      "7740/7740 [==============================] - 0s 41us/sample - loss: 0.4162 - val_loss: 0.3887\n",
      "Epoch 34/100\n",
      "7740/7740 [==============================] - 0s 44us/sample - loss: 0.4145 - val_loss: 0.3875\n",
      "Epoch 35/100\n",
      "7740/7740 [==============================] - 0s 41us/sample - loss: 0.4132 - val_loss: 0.3841\n",
      "Epoch 36/100\n",
      "7740/7740 [==============================] - 0s 39us/sample - loss: 0.4113 - val_loss: 0.3832\n",
      "Epoch 37/100\n",
      "7740/7740 [==============================] - 0s 40us/sample - loss: 0.4100 - val_loss: 0.3824\n",
      "Epoch 38/100\n",
      "7740/7740 [==============================] - 0s 47us/sample - loss: 0.4082 - val_loss: 0.3802\n",
      "Epoch 39/100\n",
      "7740/7740 [==============================] - 0s 43us/sample - loss: 0.4075 - val_loss: 0.3799\n",
      "Epoch 40/100\n",
      "7740/7740 [==============================] - 0s 38us/sample - loss: 0.4056 - val_loss: 0.3833\n",
      "Epoch 41/100\n",
      "7740/7740 [==============================] - 0s 48us/sample - loss: 0.4051 - val_loss: 0.3787\n",
      "Epoch 42/100\n",
      "7740/7740 [==============================] - 0s 43us/sample - loss: 0.4038 - val_loss: 0.3756\n",
      "Epoch 43/100\n",
      "7740/7740 [==============================] - 0s 45us/sample - loss: 0.4025 - val_loss: 0.3749\n",
      "Epoch 44/100\n",
      "7740/7740 [==============================] - 0s 45us/sample - loss: 0.4018 - val_loss: 0.3740\n",
      "Epoch 45/100\n",
      "7740/7740 [==============================] - 0s 40us/sample - loss: 0.4008 - val_loss: 0.3732\n",
      "Epoch 46/100\n",
      "7740/7740 [==============================] - 0s 46us/sample - loss: 0.3997 - val_loss: 0.3722\n",
      "Epoch 47/100\n",
      "7740/7740 [==============================] - 0s 48us/sample - loss: 0.3990 - val_loss: 0.3732\n",
      "Epoch 48/100\n",
      "7740/7740 [==============================] - 0s 46us/sample - loss: 0.3974 - val_loss: 0.3701\n",
      "Epoch 49/100\n",
      "7740/7740 [==============================] - 0s 44us/sample - loss: 0.3972 - val_loss: 0.3715\n",
      "Epoch 50/100\n",
      "7740/7740 [==============================] - 0s 45us/sample - loss: 0.3961 - val_loss: 0.3719\n",
      "Epoch 51/100\n",
      "7740/7740 [==============================] - 0s 43us/sample - loss: 0.3955 - val_loss: 0.3694\n",
      "Epoch 52/100\n",
      "7740/7740 [==============================] - 0s 47us/sample - loss: 0.3944 - val_loss: 0.3678\n",
      "Epoch 53/100\n",
      "7740/7740 [==============================] - 0s 47us/sample - loss: 0.3936 - val_loss: 0.3720\n",
      "Epoch 54/100\n",
      "7740/7740 [==============================] - 0s 43us/sample - loss: 0.3933 - val_loss: 0.3672\n",
      "Epoch 55/100\n",
      "7740/7740 [==============================] - 0s 46us/sample - loss: 0.3923 - val_loss: 0.3663\n",
      "Epoch 56/100\n",
      "7740/7740 [==============================] - 0s 40us/sample - loss: 0.3917 - val_loss: 0.3728\n",
      "Epoch 57/100\n",
      "7740/7740 [==============================] - 0s 43us/sample - loss: 0.3909 - val_loss: 0.3649\n",
      "Epoch 58/100\n",
      "7740/7740 [==============================] - 0s 40us/sample - loss: 0.3902 - val_loss: 0.3679\n",
      "Epoch 59/100\n",
      "7740/7740 [==============================] - 0s 40us/sample - loss: 0.3897 - val_loss: 0.3657\n",
      "Epoch 60/100\n",
      "7740/7740 [==============================] - 0s 43us/sample - loss: 0.3889 - val_loss: 0.3637\n",
      "Epoch 61/100\n",
      "7740/7740 [==============================] - 0s 40us/sample - loss: 0.3882 - val_loss: 0.3640\n",
      "Epoch 62/100\n",
      "7740/7740 [==============================] - 0s 39us/sample - loss: 0.3876 - val_loss: 0.3657\n",
      "Epoch 63/100\n",
      "7740/7740 [==============================] - 0s 43us/sample - loss: 0.3872 - val_loss: 0.3629\n",
      "Epoch 64/100\n",
      "7740/7740 [==============================] - 0s 44us/sample - loss: 0.3864 - val_loss: 0.3659\n",
      "Epoch 65/100\n",
      "7740/7740 [==============================] - 0s 48us/sample - loss: 0.3860 - val_loss: 0.3633\n",
      "Epoch 66/100\n",
      "7740/7740 [==============================] - 0s 41us/sample - loss: 0.3853 - val_loss: 0.3615\n",
      "Epoch 67/100\n"
     ]
    },
    {
     "name": "stdout",
     "output_type": "stream",
     "text": [
      "7740/7740 [==============================] - 0s 39us/sample - loss: 0.3847 - val_loss: 0.3645\n",
      "Epoch 68/100\n",
      "7740/7740 [==============================] - 0s 39us/sample - loss: 0.3844 - val_loss: 0.3585\n",
      "Epoch 69/100\n",
      "7740/7740 [==============================] - 0s 41us/sample - loss: 0.3838 - val_loss: 0.3586\n",
      "Epoch 70/100\n",
      "7740/7740 [==============================] - 0s 46us/sample - loss: 0.3833 - val_loss: 0.3623\n",
      "Epoch 71/100\n",
      "7740/7740 [==============================] - 0s 45us/sample - loss: 0.3829 - val_loss: 0.3598\n",
      "Epoch 72/100\n",
      "7740/7740 [==============================] - 0s 39us/sample - loss: 0.3822 - val_loss: 0.3598\n",
      "Epoch 73/100\n",
      "7740/7740 [==============================] - 0s 42us/sample - loss: 0.3819 - val_loss: 0.3591\n",
      "Epoch 74/100\n",
      "7740/7740 [==============================] - 0s 42us/sample - loss: 0.3813 - val_loss: 0.3659\n",
      "Epoch 75/100\n",
      "7740/7740 [==============================] - 0s 42us/sample - loss: 0.3811 - val_loss: 0.3559\n",
      "Epoch 76/100\n",
      "7740/7740 [==============================] - 0s 41us/sample - loss: 0.3803 - val_loss: 0.3642\n",
      "Epoch 77/100\n",
      "7740/7740 [==============================] - 0s 41us/sample - loss: 0.3799 - val_loss: 0.3550\n",
      "Epoch 78/100\n",
      "7740/7740 [==============================] - 0s 41us/sample - loss: 0.3797 - val_loss: 0.3553\n",
      "Epoch 79/100\n",
      "7740/7740 [==============================] - 0s 43us/sample - loss: 0.3793 - val_loss: 0.3545\n",
      "Epoch 80/100\n",
      "7740/7740 [==============================] - 0s 46us/sample - loss: 0.3789 - val_loss: 0.3545\n",
      "Epoch 81/100\n",
      "7740/7740 [==============================] - 0s 46us/sample - loss: 0.3783 - val_loss: 0.3578\n",
      "Epoch 82/100\n",
      "7740/7740 [==============================] - 0s 40us/sample - loss: 0.3780 - val_loss: 0.3532\n",
      "Epoch 83/100\n",
      "7740/7740 [==============================] - 0s 39us/sample - loss: 0.3775 - val_loss: 0.3584\n",
      "Epoch 84/100\n",
      "7740/7740 [==============================] - 0s 40us/sample - loss: 0.3774 - val_loss: 0.3529\n",
      "Epoch 85/100\n",
      "7740/7740 [==============================] - 0s 45us/sample - loss: 0.3767 - val_loss: 0.3541\n",
      "Epoch 86/100\n",
      "7740/7740 [==============================] - 0s 46us/sample - loss: 0.3763 - val_loss: 0.3522\n",
      "Epoch 87/100\n",
      "7740/7740 [==============================] - 0s 41us/sample - loss: 0.3761 - val_loss: 0.3550\n",
      "Epoch 88/100\n",
      "7740/7740 [==============================] - 0s 43us/sample - loss: 0.3756 - val_loss: 0.3634\n",
      "Epoch 89/100\n",
      "7740/7740 [==============================] - 0s 39us/sample - loss: 0.3754 - val_loss: 0.3539\n",
      "Epoch 90/100\n",
      "7740/7740 [==============================] - 0s 40us/sample - loss: 0.3748 - val_loss: 0.3623\n",
      "Epoch 91/100\n",
      "7740/7740 [==============================] - 0s 46us/sample - loss: 0.3749 - val_loss: 0.3513\n",
      "Epoch 92/100\n",
      "7740/7740 [==============================] - 0s 44us/sample - loss: 0.3741 - val_loss: 0.3507\n",
      "Epoch 93/100\n",
      "7740/7740 [==============================] - 0s 47us/sample - loss: 0.3739 - val_loss: 0.3621\n",
      "Epoch 94/100\n",
      "7740/7740 [==============================] - 0s 45us/sample - loss: 0.3737 - val_loss: 0.3496\n",
      "Epoch 95/100\n",
      "7740/7740 [==============================] - 0s 44us/sample - loss: 0.3732 - val_loss: 0.3517\n",
      "Epoch 96/100\n",
      "7740/7740 [==============================] - 0s 40us/sample - loss: 0.3729 - val_loss: 0.3494\n",
      "Epoch 97/100\n",
      "7740/7740 [==============================] - 0s 42us/sample - loss: 0.3724 - val_loss: 0.3508\n",
      "Epoch 98/100\n",
      "7740/7740 [==============================] - 0s 44us/sample - loss: 0.3722 - val_loss: 0.3525\n",
      "Epoch 99/100\n",
      "7740/7740 [==============================] - 0s 47us/sample - loss: 0.3717 - val_loss: 0.3563\n",
      "Epoch 100/100\n",
      "7740/7740 [==============================] - 0s 47us/sample - loss: 0.3716 - val_loss: 0.3565\n",
      "3870/3870 [==============================] - 0s 14us/sample - loss: 0.3694\n",
      "7740/7740 [==============================] - 0s 18us/sample - loss: 0.3711\n",
      "[CV]  learning_rate=0.0008911948011970405, n_hidden=0, n_neurons=51, total=  33.9s\n",
      "[CV] learning_rate=0.0019693141841199925, n_hidden=2, n_neurons=72 ...\n",
      "Train on 7740 samples, validate on 3870 samples\n",
      "Epoch 1/100\n",
      "7740/7740 [==============================] - 1s 78us/sample - loss: 1.9379 - val_loss: 1.0971\n",
      "Epoch 2/100\n",
      "7740/7740 [==============================] - 0s 52us/sample - loss: 0.7061 - val_loss: 0.6237\n",
      "Epoch 3/100\n",
      "7740/7740 [==============================] - 0s 57us/sample - loss: 0.6100 - val_loss: 0.5465\n",
      "Epoch 4/100\n",
      "7740/7740 [==============================] - 0s 57us/sample - loss: 0.5444 - val_loss: 0.4914\n",
      "Epoch 5/100\n",
      "7740/7740 [==============================] - 0s 57us/sample - loss: 0.4937 - val_loss: 0.4639\n",
      "Epoch 6/100\n",
      "7740/7740 [==============================] - 0s 57us/sample - loss: 0.4549 - val_loss: 0.4237\n",
      "Epoch 7/100\n",
      "7740/7740 [==============================] - 0s 62us/sample - loss: 0.4261 - val_loss: 0.4357\n",
      "Epoch 8/100\n",
      "7740/7740 [==============================] - 0s 54us/sample - loss: 0.4063 - val_loss: 0.4116\n",
      "Epoch 9/100\n",
      "7740/7740 [==============================] - 0s 55us/sample - loss: 0.3940 - val_loss: 0.3868\n",
      "Epoch 10/100\n",
      "7740/7740 [==============================] - 0s 56us/sample - loss: 0.3852 - val_loss: 0.4506\n",
      "Epoch 11/100\n",
      "7740/7740 [==============================] - 0s 54us/sample - loss: 0.3787 - val_loss: 0.3622\n",
      "Epoch 12/100\n",
      "7740/7740 [==============================] - 0s 58us/sample - loss: 0.3733 - val_loss: 0.4650\n",
      "Epoch 13/100\n",
      "7740/7740 [==============================] - 0s 59us/sample - loss: 0.3703 - val_loss: 0.3595\n",
      "Epoch 14/100\n",
      "7740/7740 [==============================] - 0s 59us/sample - loss: 0.3661 - val_loss: 0.4184\n",
      "Epoch 15/100\n",
      "7740/7740 [==============================] - 0s 59us/sample - loss: 0.3629 - val_loss: 0.4024\n",
      "Epoch 16/100\n",
      "7740/7740 [==============================] - 0s 59us/sample - loss: 0.3597 - val_loss: 0.4038\n",
      "Epoch 17/100\n",
      "7740/7740 [==============================] - 0s 53us/sample - loss: 0.3568 - val_loss: 0.4247\n",
      "Epoch 18/100\n",
      "7740/7740 [==============================] - 0s 54us/sample - loss: 0.3544 - val_loss: 0.3515\n",
      "Epoch 19/100\n",
      "7740/7740 [==============================] - 0s 54us/sample - loss: 0.3525 - val_loss: 0.4514\n",
      "Epoch 20/100\n",
      "7740/7740 [==============================] - 0s 48us/sample - loss: 0.3508 - val_loss: 0.3474\n",
      "Epoch 21/100\n",
      "7740/7740 [==============================] - 0s 53us/sample - loss: 0.3484 - val_loss: 0.3861\n",
      "Epoch 22/100\n",
      "7740/7740 [==============================] - 0s 53us/sample - loss: 0.3465 - val_loss: 0.3556\n",
      "Epoch 23/100\n",
      "7740/7740 [==============================] - 0s 53us/sample - loss: 0.3449 - val_loss: 0.3551\n",
      "Epoch 24/100\n",
      "7740/7740 [==============================] - 0s 56us/sample - loss: 0.3430 - val_loss: 0.4042\n",
      "Epoch 25/100\n",
      "7740/7740 [==============================] - 0s 55us/sample - loss: 0.3412 - val_loss: 0.3924\n",
      "Epoch 26/100\n",
      "7740/7740 [==============================] - 0s 58us/sample - loss: 0.3410 - val_loss: 0.3773\n",
      "Epoch 27/100\n",
      "7740/7740 [==============================] - 0s 56us/sample - loss: 0.3389 - val_loss: 0.3357\n",
      "Epoch 28/100\n",
      "7740/7740 [==============================] - 0s 60us/sample - loss: 0.3374 - val_loss: 0.4596\n",
      "Epoch 29/100\n",
      "7740/7740 [==============================] - 0s 59us/sample - loss: 0.3369 - val_loss: 0.3610\n",
      "Epoch 30/100\n",
      "7740/7740 [==============================] - 0s 60us/sample - loss: 0.3347 - val_loss: 0.4360\n",
      "Epoch 31/100\n",
      "7740/7740 [==============================] - 0s 54us/sample - loss: 0.3342 - val_loss: 0.3284\n",
      "Epoch 32/100\n",
      "7740/7740 [==============================] - 0s 53us/sample - loss: 0.3328 - val_loss: 0.4069\n",
      "Epoch 33/100\n",
      "7740/7740 [==============================] - 0s 57us/sample - loss: 0.3306 - val_loss: 0.4053\n",
      "Epoch 34/100\n",
      "7740/7740 [==============================] - 0s 54us/sample - loss: 0.3303 - val_loss: 0.3771\n",
      "Epoch 35/100\n",
      "7740/7740 [==============================] - 0s 55us/sample - loss: 0.3292 - val_loss: 0.3949\n",
      "Epoch 36/100\n",
      "7740/7740 [==============================] - 0s 50us/sample - loss: 0.3276 - val_loss: 0.4295\n",
      "Epoch 37/100\n",
      "7740/7740 [==============================] - 0s 53us/sample - loss: 0.3275 - val_loss: 0.3294\n",
      "Epoch 38/100\n",
      "7740/7740 [==============================] - 0s 54us/sample - loss: 0.3263 - val_loss: 0.3558\n",
      "Epoch 39/100\n",
      "7740/7740 [==============================] - 0s 54us/sample - loss: 0.3252 - val_loss: 0.3710\n",
      "Epoch 40/100\n",
      "7740/7740 [==============================] - 0s 60us/sample - loss: 0.3241 - val_loss: 0.3623\n",
      "Epoch 41/100\n",
      "7740/7740 [==============================] - 0s 52us/sample - loss: 0.3240 - val_loss: 0.4107\n",
      "3870/3870 [==============================] - 0s 18us/sample - loss: 0.3552\n",
      "7740/7740 [==============================] - 0s 21us/sample - loss: 0.3216\n",
      "[CV]  learning_rate=0.0019693141841199925, n_hidden=2, n_neurons=72, total=  18.2s\n",
      "[CV] learning_rate=0.0019693141841199925, n_hidden=2, n_neurons=72 ...\n",
      "Train on 7740 samples, validate on 3870 samples\n",
      "Epoch 1/100\n",
      "7740/7740 [==============================] - 1s 77us/sample - loss: 1.4245 - val_loss: 3.6611\n",
      "Epoch 2/100\n",
      "7740/7740 [==============================] - 0s 50us/sample - loss: 0.6241 - val_loss: 1.6852\n",
      "Epoch 3/100\n",
      "7740/7740 [==============================] - 0s 58us/sample - loss: 0.5513 - val_loss: 0.9547\n",
      "Epoch 4/100\n",
      "7740/7740 [==============================] - 0s 60us/sample - loss: 0.5015 - val_loss: 0.6571\n",
      "Epoch 5/100\n",
      "7740/7740 [==============================] - 0s 58us/sample - loss: 0.4658 - val_loss: 0.4679\n",
      "Epoch 6/100\n",
      "7740/7740 [==============================] - 0s 55us/sample - loss: 0.4412 - val_loss: 0.4190\n",
      "Epoch 7/100\n",
      "7740/7740 [==============================] - 0s 61us/sample - loss: 0.4229 - val_loss: 0.3959\n",
      "Epoch 8/100\n",
      "7740/7740 [==============================] - 0s 60us/sample - loss: 0.4098 - val_loss: 0.3832\n",
      "Epoch 9/100\n",
      "7740/7740 [==============================] - 0s 62us/sample - loss: 0.4003 - val_loss: 0.3884\n",
      "Epoch 10/100\n",
      "7740/7740 [==============================] - 0s 64us/sample - loss: 0.3927 - val_loss: 0.3796\n",
      "Epoch 11/100\n",
      "7740/7740 [==============================] - 0s 58us/sample - loss: 0.3858 - val_loss: 0.3888\n",
      "Epoch 12/100\n",
      "7740/7740 [==============================] - 0s 61us/sample - loss: 0.3802 - val_loss: 0.4083\n",
      "Epoch 13/100\n",
      "7740/7740 [==============================] - 0s 64us/sample - loss: 0.3755 - val_loss: 0.4330\n",
      "Epoch 14/100\n",
      "7740/7740 [==============================] - 0s 62us/sample - loss: 0.3716 - val_loss: 0.4513\n",
      "Epoch 15/100\n",
      "7740/7740 [==============================] - 0s 61us/sample - loss: 0.3675 - val_loss: 0.5013\n",
      "Epoch 16/100\n",
      "7740/7740 [==============================] - 0s 61us/sample - loss: 0.3646 - val_loss: 0.5236\n",
      "Epoch 17/100\n",
      "7740/7740 [==============================] - 0s 58us/sample - loss: 0.3617 - val_loss: 0.5500\n",
      "Epoch 18/100\n",
      "7740/7740 [==============================] - 0s 52us/sample - loss: 0.3584 - val_loss: 0.5790\n",
      "Epoch 19/100\n",
      "7740/7740 [==============================] - 0s 56us/sample - loss: 0.3560 - val_loss: 0.5733\n",
      "Epoch 20/100\n",
      "7740/7740 [==============================] - 0s 60us/sample - loss: 0.3544 - val_loss: 0.6212\n",
      "3870/3870 [==============================] - 0s 22us/sample - loss: 0.3662\n",
      "7740/7740 [==============================] - 0s 23us/sample - loss: 0.3507\n",
      "[CV]  learning_rate=0.0019693141841199925, n_hidden=2, n_neurons=72, total=   9.7s\n",
      "[CV] learning_rate=0.0019693141841199925, n_hidden=2, n_neurons=72 ...\n",
      "Train on 7740 samples, validate on 3870 samples\n",
      "Epoch 1/100\n",
      "7740/7740 [==============================] - 1s 76us/sample - loss: 1.4646 - val_loss: 0.8282\n",
      "Epoch 2/100\n",
      "7740/7740 [==============================] - 0s 49us/sample - loss: 0.5757 - val_loss: 0.5068\n",
      "Epoch 3/100\n",
      "7740/7740 [==============================] - 0s 54us/sample - loss: 0.5162 - val_loss: 0.4688\n",
      "Epoch 4/100\n",
      "7740/7740 [==============================] - 0s 60us/sample - loss: 0.4769 - val_loss: 0.4358\n",
      "Epoch 5/100\n",
      "7740/7740 [==============================] - 0s 60us/sample - loss: 0.4485 - val_loss: 0.4120\n",
      "Epoch 6/100\n",
      "7740/7740 [==============================] - 0s 59us/sample - loss: 0.4291 - val_loss: 0.4058\n",
      "Epoch 7/100\n",
      "7740/7740 [==============================] - 0s 62us/sample - loss: 0.4152 - val_loss: 0.4003\n",
      "Epoch 8/100\n",
      "7740/7740 [==============================] - 0s 53us/sample - loss: 0.4051 - val_loss: 0.3746\n",
      "Epoch 9/100\n",
      "7740/7740 [==============================] - 0s 55us/sample - loss: 0.3965 - val_loss: 0.3833\n",
      "Epoch 10/100\n",
      "7740/7740 [==============================] - 0s 57us/sample - loss: 0.3899 - val_loss: 0.3925\n",
      "Epoch 11/100\n",
      "7740/7740 [==============================] - 0s 63us/sample - loss: 0.3847 - val_loss: 0.3796\n",
      "Epoch 12/100\n",
      "7740/7740 [==============================] - 0s 53us/sample - loss: 0.3798 - val_loss: 0.3846\n",
      "Epoch 13/100\n",
      "7740/7740 [==============================] - 0s 57us/sample - loss: 0.3760 - val_loss: 0.3752\n",
      "Epoch 14/100\n",
      "7740/7740 [==============================] - 0s 62us/sample - loss: 0.3723 - val_loss: 0.3744\n",
      "Epoch 15/100\n",
      "7740/7740 [==============================] - 0s 54us/sample - loss: 0.3692 - val_loss: 0.3674\n",
      "Epoch 16/100\n",
      "7740/7740 [==============================] - 1s 65us/sample - loss: 0.3662 - val_loss: 0.3613\n",
      "Epoch 17/100\n",
      "7740/7740 [==============================] - 1s 68us/sample - loss: 0.3639 - val_loss: 0.3430\n",
      "Epoch 18/100\n",
      "7740/7740 [==============================] - 0s 60us/sample - loss: 0.3610 - val_loss: 0.3478\n",
      "Epoch 19/100\n",
      "7740/7740 [==============================] - 0s 60us/sample - loss: 0.3587 - val_loss: 0.3392\n",
      "Epoch 20/100\n",
      "7740/7740 [==============================] - 0s 56us/sample - loss: 0.3568 - val_loss: 0.3740\n",
      "Epoch 21/100\n",
      "7740/7740 [==============================] - 0s 53us/sample - loss: 0.3547 - val_loss: 0.3583\n",
      "Epoch 22/100\n",
      "7740/7740 [==============================] - 0s 59us/sample - loss: 0.3531 - val_loss: 0.3597\n",
      "Epoch 23/100\n",
      "7740/7740 [==============================] - 0s 57us/sample - loss: 0.3513 - val_loss: 0.3511\n",
      "Epoch 24/100\n",
      "7740/7740 [==============================] - 0s 61us/sample - loss: 0.3494 - val_loss: 0.3324\n",
      "Epoch 25/100\n",
      "7740/7740 [==============================] - 0s 56us/sample - loss: 0.3477 - val_loss: 0.3400\n",
      "Epoch 26/100\n",
      "7740/7740 [==============================] - 0s 60us/sample - loss: 0.3466 - val_loss: 0.3311\n",
      "Epoch 27/100\n",
      "7740/7740 [==============================] - 0s 58us/sample - loss: 0.3449 - val_loss: 0.3476\n",
      "Epoch 28/100\n",
      "7740/7740 [==============================] - 0s 57us/sample - loss: 0.3437 - val_loss: 0.3307\n",
      "Epoch 29/100\n",
      "7740/7740 [==============================] - 0s 62us/sample - loss: 0.3428 - val_loss: 0.3347\n",
      "Epoch 30/100\n",
      "7740/7740 [==============================] - 0s 58us/sample - loss: 0.3412 - val_loss: 0.3474\n",
      "Epoch 31/100\n",
      "7740/7740 [==============================] - 0s 60us/sample - loss: 0.3400 - val_loss: 0.3354\n",
      "Epoch 32/100\n",
      "7740/7740 [==============================] - 0s 58us/sample - loss: 0.3384 - val_loss: 0.3233\n",
      "Epoch 33/100\n",
      "7740/7740 [==============================] - 0s 64us/sample - loss: 0.3373 - val_loss: 0.3392\n",
      "Epoch 34/100\n",
      "7740/7740 [==============================] - 0s 59us/sample - loss: 0.3366 - val_loss: 0.3277\n",
      "Epoch 35/100\n",
      "7740/7740 [==============================] - 0s 58us/sample - loss: 0.3356 - val_loss: 0.3223\n",
      "Epoch 36/100\n",
      "7740/7740 [==============================] - 0s 58us/sample - loss: 0.3341 - val_loss: 0.3197\n",
      "Epoch 37/100\n",
      "7740/7740 [==============================] - 0s 63us/sample - loss: 0.3329 - val_loss: 0.3482\n",
      "Epoch 38/100\n",
      "7740/7740 [==============================] - 0s 60us/sample - loss: 0.3319 - val_loss: 0.3201\n",
      "Epoch 39/100\n",
      "7740/7740 [==============================] - 0s 58us/sample - loss: 0.3308 - val_loss: 0.3561\n",
      "Epoch 40/100\n",
      "7740/7740 [==============================] - 0s 61us/sample - loss: 0.3299 - val_loss: 0.3248\n",
      "Epoch 41/100\n",
      "7740/7740 [==============================] - 1s 65us/sample - loss: 0.3289 - val_loss: 0.3163\n",
      "Epoch 42/100\n",
      "7740/7740 [==============================] - 0s 61us/sample - loss: 0.3280 - val_loss: 0.3533\n",
      "Epoch 43/100\n",
      "7740/7740 [==============================] - 0s 60us/sample - loss: 0.3271 - val_loss: 0.3207\n",
      "Epoch 44/100\n",
      "7740/7740 [==============================] - 0s 61us/sample - loss: 0.3265 - val_loss: 0.3770\n",
      "Epoch 45/100\n",
      "7740/7740 [==============================] - 0s 61us/sample - loss: 0.3255 - val_loss: 0.3381\n",
      "Epoch 46/100\n",
      "7740/7740 [==============================] - 0s 56us/sample - loss: 0.3241 - val_loss: 0.4361\n",
      "Epoch 47/100\n",
      "7740/7740 [==============================] - 0s 62us/sample - loss: 0.3245 - val_loss: 0.3381\n",
      "Epoch 48/100\n",
      "7740/7740 [==============================] - 0s 61us/sample - loss: 0.3224 - val_loss: 0.3254\n",
      "Epoch 49/100\n"
     ]
    },
    {
     "name": "stdout",
     "output_type": "stream",
     "text": [
      "7740/7740 [==============================] - 0s 63us/sample - loss: 0.3218 - val_loss: 0.3231\n",
      "Epoch 50/100\n",
      "7740/7740 [==============================] - 0s 63us/sample - loss: 0.3208 - val_loss: 0.3611\n",
      "Epoch 51/100\n",
      "7740/7740 [==============================] - 0s 58us/sample - loss: 0.3204 - val_loss: 0.3416\n",
      "3870/3870 [==============================] - 0s 21us/sample - loss: 0.3259\n",
      "7740/7740 [==============================] - 0s 25us/sample - loss: 0.3178\n",
      "[CV]  learning_rate=0.0019693141841199925, n_hidden=2, n_neurons=72, total=  23.9s\n"
     ]
    },
    {
     "name": "stderr",
     "output_type": "stream",
     "text": [
      "[Parallel(n_jobs=1)]: Done  30 out of  30 | elapsed:  9.5min finished\n"
     ]
    },
    {
     "name": "stdout",
     "output_type": "stream",
     "text": [
      "Train on 11610 samples, validate on 3870 samples\n",
      "Epoch 1/100\n",
      "11610/11610 [==============================] - 1s 65us/sample - loss: 0.6984 - val_loss: 0.4571\n",
      "Epoch 2/100\n",
      "11610/11610 [==============================] - 1s 46us/sample - loss: 0.4073 - val_loss: 0.6129\n",
      "Epoch 3/100\n",
      "11610/11610 [==============================] - 1s 50us/sample - loss: 0.3800 - val_loss: 1.0873\n",
      "Epoch 4/100\n",
      "11610/11610 [==============================] - 1s 48us/sample - loss: 0.3678 - val_loss: 0.3883\n",
      "Epoch 5/100\n",
      "11610/11610 [==============================] - 1s 53us/sample - loss: 0.3549 - val_loss: 0.3725\n",
      "Epoch 6/100\n",
      "11610/11610 [==============================] - 1s 51us/sample - loss: 0.3457 - val_loss: 0.5034\n",
      "Epoch 7/100\n",
      "11610/11610 [==============================] - 1s 50us/sample - loss: 0.3419 - val_loss: 1.0657\n",
      "Epoch 8/100\n",
      "11610/11610 [==============================] - 1s 51us/sample - loss: 0.3509 - val_loss: 0.9307\n",
      "Epoch 9/100\n",
      "11610/11610 [==============================] - 1s 51us/sample - loss: 0.3377 - val_loss: 0.3845\n",
      "Epoch 10/100\n",
      "11610/11610 [==============================] - 1s 50us/sample - loss: 0.3286 - val_loss: 0.3317\n",
      "Epoch 11/100\n",
      "11610/11610 [==============================] - 1s 48us/sample - loss: 0.3237 - val_loss: 0.3134\n",
      "Epoch 12/100\n",
      "11610/11610 [==============================] - 1s 53us/sample - loss: 0.3217 - val_loss: 0.4563\n",
      "Epoch 13/100\n",
      "11610/11610 [==============================] - 1s 53us/sample - loss: 0.3187 - val_loss: 0.3082\n",
      "Epoch 14/100\n",
      "11610/11610 [==============================] - 1s 50us/sample - loss: 0.3092 - val_loss: 0.3658\n",
      "Epoch 15/100\n",
      "11610/11610 [==============================] - 1s 50us/sample - loss: 0.3069 - val_loss: 0.3026\n",
      "Epoch 16/100\n",
      "11610/11610 [==============================] - 1s 50us/sample - loss: 0.3044 - val_loss: 0.3048\n",
      "Epoch 17/100\n",
      "11610/11610 [==============================] - 1s 48us/sample - loss: 0.3008 - val_loss: 0.3177\n",
      "Epoch 18/100\n",
      "11610/11610 [==============================] - 1s 48us/sample - loss: 0.2993 - val_loss: 0.3648\n",
      "Epoch 19/100\n",
      "11610/11610 [==============================] - 1s 50us/sample - loss: 0.2981 - val_loss: 0.3385\n",
      "Epoch 20/100\n",
      "11610/11610 [==============================] - 1s 46us/sample - loss: 0.2970 - val_loss: 0.3068\n",
      "Epoch 21/100\n",
      "11610/11610 [==============================] - 1s 46us/sample - loss: 0.2955 - val_loss: 0.3007\n",
      "Epoch 22/100\n",
      "11610/11610 [==============================] - 1s 52us/sample - loss: 0.2914 - val_loss: 0.2842\n",
      "Epoch 23/100\n",
      "11610/11610 [==============================] - 1s 52us/sample - loss: 0.2907 - val_loss: 0.2953\n",
      "Epoch 24/100\n",
      "11610/11610 [==============================] - 1s 50us/sample - loss: 0.2870 - val_loss: 0.3087\n",
      "Epoch 25/100\n",
      "11610/11610 [==============================] - 1s 54us/sample - loss: 0.2867 - val_loss: 0.3591\n",
      "Epoch 26/100\n",
      "11610/11610 [==============================] - 1s 52us/sample - loss: 0.2909 - val_loss: 0.2749\n",
      "Epoch 27/100\n",
      "11610/11610 [==============================] - 1s 55us/sample - loss: 0.2837 - val_loss: 0.2873\n",
      "Epoch 28/100\n",
      "11610/11610 [==============================] - 1s 54us/sample - loss: 0.2813 - val_loss: 0.2992\n",
      "Epoch 29/100\n",
      "11610/11610 [==============================] - 1s 53us/sample - loss: 0.2806 - val_loss: 0.2845\n",
      "Epoch 30/100\n",
      "11610/11610 [==============================] - 1s 54us/sample - loss: 0.2824 - val_loss: 0.2972\n",
      "Epoch 31/100\n",
      "11610/11610 [==============================] - 1s 49us/sample - loss: 0.2800 - val_loss: 0.2746\n",
      "Epoch 32/100\n",
      "11610/11610 [==============================] - 1s 51us/sample - loss: 0.2785 - val_loss: 0.3042\n",
      "Epoch 33/100\n",
      "11610/11610 [==============================] - 1s 49us/sample - loss: 0.2772 - val_loss: 0.3006\n",
      "Epoch 34/100\n",
      "11610/11610 [==============================] - 1s 53us/sample - loss: 0.2743 - val_loss: 0.3773\n",
      "Epoch 35/100\n",
      "11610/11610 [==============================] - 1s 51us/sample - loss: 0.2752 - val_loss: 0.2979\n",
      "Epoch 36/100\n",
      "11610/11610 [==============================] - 1s 49us/sample - loss: 0.2743 - val_loss: 0.4349\n",
      "Epoch 37/100\n",
      "11610/11610 [==============================] - 1s 56us/sample - loss: 0.2761 - val_loss: 0.2791\n",
      "Epoch 38/100\n",
      "11610/11610 [==============================] - 1s 55us/sample - loss: 0.2735 - val_loss: 0.3162\n",
      "Epoch 39/100\n",
      "11610/11610 [==============================] - 1s 50us/sample - loss: 0.2710 - val_loss: 0.2790\n",
      "Epoch 40/100\n",
      "11610/11610 [==============================] - 1s 48us/sample - loss: 0.2693 - val_loss: 0.3209\n",
      "Epoch 41/100\n",
      "11610/11610 [==============================] - 1s 48us/sample - loss: 0.2696 - val_loss: 0.2861\n"
     ]
    },
    {
     "data": {
      "text/plain": [
       "RandomizedSearchCV(cv=3, error_score='raise',\n",
       "          estimator=<tensorflow.python.keras.wrappers.scikit_learn.KerasRegressor object at 0x7f286c39c0b8>,\n",
       "          fit_params=None, iid=True, n_iter=10, n_jobs=1,\n",
       "          param_distributions={'n_hidden': [0, 1, 2, 3], 'n_neurons': array([ 1,  2, ..., 98, 99]), 'learning_rate': <scipy.stats._distn_infrastructure.rv_frozen object at 0x7f28345d3668>},\n",
       "          pre_dispatch='2*n_jobs', random_state=None, refit=True,\n",
       "          return_train_score='warn', scoring=None, verbose=2)"
      ]
     },
     "execution_count": 91,
     "metadata": {},
     "output_type": "execute_result"
    }
   ],
   "source": [
    "rnd_search_cv.fit(X_train_scaled, y_train, epochs=100,\n",
    "                  validation_data=(X_valid_scaled, y_valid),\n",
    "                  callbacks=[keras.callbacks.EarlyStopping(patience=10)])"
   ]
  },
  {
   "cell_type": "code",
   "execution_count": null,
   "metadata": {
    "collapsed": true
   },
   "outputs": [],
   "source": [
    "rnd_search_cv.best_params_"
   ]
  },
  {
   "cell_type": "code",
   "execution_count": null,
   "metadata": {
    "collapsed": true
   },
   "outputs": [],
   "source": [
    "rnd_search_cv.best_score_"
   ]
  },
  {
   "cell_type": "code",
   "execution_count": null,
   "metadata": {
    "collapsed": true
   },
   "outputs": [],
   "source": [
    "rnd_search_cv.best_estimator_"
   ]
  },
  {
   "cell_type": "markdown",
   "metadata": {},
   "source": [
    "### 6.5)\n",
    "Evaluate the best model found on the test set. You can either use the best estimator's `score()` method, or get its underlying Keras model *via* its `model` attribute, and call this model's `evaluate()` method. Note that the estimator returns the negative mean square error (it's a score, not a loss, so higher is better)."
   ]
  },
  {
   "cell_type": "code",
   "execution_count": null,
   "metadata": {
    "collapsed": true
   },
   "outputs": [],
   "source": [
    "rnd_search_cv.score(X_test_scaled, y_test)"
   ]
  },
  {
   "cell_type": "code",
   "execution_count": null,
   "metadata": {
    "collapsed": true
   },
   "outputs": [],
   "source": [
    "model = rnd_search_cv.best_estimator_.model\n",
    "model.evaluate(X_test_scaled, y_test)"
   ]
  },
  {
   "cell_type": "markdown",
   "metadata": {},
   "source": [
    "### 6.6)\n",
    "Finally, save the best Keras model found. **Tip**: it is available via the best estimator's `model` attribute, and just need to call its `save()` method."
   ]
  },
  {
   "cell_type": "code",
   "execution_count": null,
   "metadata": {
    "collapsed": true
   },
   "outputs": [],
   "source": [
    "model.save(\"my_fine_tuned_housing_model.h5\")"
   ]
  },
  {
   "cell_type": "markdown",
   "metadata": {},
   "source": [
    "**Tip**: while a randomized search is nice and simple, there are more powerful (but complex) options available out there for hyperparameter search, for example:\n",
    "* [Hyperopt](https://github.com/hyperopt/hyperopt)\n",
    "* [Hyperas](https://github.com/maxpumperla/hyperas)\n",
    "* [Sklearn-Deap](https://github.com/rsteca/sklearn-deap)\n",
    "* [Scikit-Optimize](https://scikit-optimize.github.io/)\n",
    "* [Spearmint](https://github.com/JasperSnoek/spearmint)\n",
    "* [PyMC3](https://docs.pymc.io/)\n",
    "* [GPFlow](https://gpflow.readthedocs.io/)\n",
    "* [Yelp/MOE](https://github.com/Yelp/MOE)\n",
    "* Commercial services such as: [Google Cloud ML Engine](https://cloud.google.com/ml-engine/docs/tensorflow/using-hyperparameter-tuning), [Arimo](https://arimo.com/) or [Oscar](http://oscar.calldesk.ai/)"
   ]
  },
  {
   "cell_type": "markdown",
   "metadata": {},
   "source": [
    "## Exercise 7 – The functional API构建更复杂的网络"
   ]
  },
  {
   "cell_type": "markdown",
   "metadata": {},
   "source": [
    "Not all neural network models are simply sequential. Some may have complex topologies. Some may have multiple inputs and/or multiple outputs. For example, a Wide & Deep neural network (see [paper](https://ai.google/research/pubs/pub45413)) connects all or part of the inputs directly to the output layer, as shown on the following diagram:"
   ]
  },
  {
   "cell_type": "markdown",
   "metadata": {},
   "source": [
    "<img src=\"images/wide_and_deep_net.png\" title=\"Wide and deep net\" width=300 />"
   ]
  },
  {
   "cell_type": "markdown",
   "metadata": {},
   "source": [
    "### 7.1)The functional API\n",
    "Use Keras' functional API to implement a Wide & Deep network to tackle the California housing problem.\n",
    "\n",
    "**Tips**:\n",
    "* You need to create a **`keras.layers.Input`** layer to represent the inputs. Don't forget to specify the input `shape`.\n",
    "* Create the `Dense` layers, and connect them by using them like functions. For example, `hidden1 = keras.layers.Dense(30, activation=\"relu\")(input)` and `hidden2 = keras.layers.Dense(30, activation=\"relu\")(hidden1)`\n",
    "* Use the **`keras.layers.concatenate()`** function to concatenate the input layer and the second hidden layer's output.\n",
    "* Create a **`keras.models.Model`** and specify its **`inputs`** and **`outputs`** (e.g., `inputs=[input]`).\n",
    "* Then use this model just like a `Sequential` model: you need to compile it, display its summary, train it, evaluate it and use it to make predictions."
   ]
  },
  {
   "cell_type": "code",
   "execution_count": 14,
   "metadata": {},
   "outputs": [],
   "source": [
    "input = keras.layers.Input(shape=X_train.shape[1:])\n",
    "hidden1 = keras.layers.Dense(30, activation=\"relu\")(input)\n",
    "hidden2 = keras.layers.Dense(30, activation=\"relu\")(hidden1)\n",
    "concat = keras.layers.concatenate([input, hidden2])\n",
    "output = keras.layers.Dense(1)(concat)"
   ]
  },
  {
   "cell_type": "code",
   "execution_count": 15,
   "metadata": {},
   "outputs": [],
   "source": [
    "model = keras.models.Model(inputs=[input], outputs=[output])"
   ]
  },
  {
   "cell_type": "code",
   "execution_count": 16,
   "metadata": {},
   "outputs": [],
   "source": [
    "model.compile(loss=\"mean_squared_error\", optimizer=\"sgd\")"
   ]
  },
  {
   "cell_type": "code",
   "execution_count": 17,
   "metadata": {},
   "outputs": [
    {
     "name": "stdout",
     "output_type": "stream",
     "text": [
      "Model: \"model\"\n",
      "__________________________________________________________________________________________________\n",
      "Layer (type)                    Output Shape         Param #     Connected to                     \n",
      "==================================================================================================\n",
      "input_1 (InputLayer)            [(None, 8)]          0                                            \n",
      "__________________________________________________________________________________________________\n",
      "dense (Dense)                   (None, 30)           270         input_1[0][0]                    \n",
      "__________________________________________________________________________________________________\n",
      "dense_1 (Dense)                 (None, 30)           930         dense[0][0]                      \n",
      "__________________________________________________________________________________________________\n",
      "concatenate (Concatenate)       (None, 38)           0           input_1[0][0]                    \n",
      "                                                                 dense_1[0][0]                    \n",
      "__________________________________________________________________________________________________\n",
      "dense_2 (Dense)                 (None, 1)            39          concatenate[0][0]                \n",
      "==================================================================================================\n",
      "Total params: 1,239\n",
      "Trainable params: 1,239\n",
      "Non-trainable params: 0\n",
      "__________________________________________________________________________________________________\n"
     ]
    }
   ],
   "source": [
    "model.summary()"
   ]
  },
  {
   "cell_type": "code",
   "execution_count": 18,
   "metadata": {},
   "outputs": [
    {
     "name": "stdout",
     "output_type": "stream",
     "text": [
      "Train on 11610 samples, validate on 3870 samples\n",
      "Epoch 1/10\n",
      "11610/11610 [==============================] - 1s 60us/sample - loss: 0.8652 - val_loss: 7.5667\n",
      "Epoch 2/10\n",
      "11610/11610 [==============================] - 1s 48us/sample - loss: 0.4994 - val_loss: 4.0433\n",
      "Epoch 3/10\n",
      "11610/11610 [==============================] - 1s 48us/sample - loss: 0.4573 - val_loss: 39.4784\n",
      "Epoch 4/10\n",
      "11610/11610 [==============================] - 1s 49us/sample - loss: 0.6061 - val_loss: 83.2630\n",
      "Epoch 5/10\n",
      "11610/11610 [==============================] - 1s 49us/sample - loss: 2.1997 - val_loss: 92.8310\n",
      "Epoch 6/10\n",
      "11610/11610 [==============================] - 1s 46us/sample - loss: 0.6226 - val_loss: 2.3052\n",
      "Epoch 7/10\n",
      "11610/11610 [==============================] - 1s 48us/sample - loss: 0.4924 - val_loss: 96.2339\n",
      "Epoch 8/10\n",
      "11610/11610 [==============================] - 0s 42us/sample - loss: 1.3907 - val_loss: 48.6637\n",
      "Epoch 9/10\n",
      "11610/11610 [==============================] - 1s 45us/sample - loss: 0.6665 - val_loss: 2.8053\n",
      "Epoch 10/10\n",
      "11610/11610 [==============================] - 0s 42us/sample - loss: 0.5006 - val_loss: 8.8688\n"
     ]
    }
   ],
   "source": [
    "history = model.fit(X_train_scaled, y_train, epochs=10,\n",
    "                    validation_data=(X_valid_scaled, y_valid))"
   ]
  },
  {
   "cell_type": "code",
   "execution_count": 19,
   "metadata": {},
   "outputs": [
    {
     "name": "stdout",
     "output_type": "stream",
     "text": [
      "5160/5160 [==============================] - 0s 23us/sample - loss: 0.4239\n"
     ]
    },
    {
     "data": {
      "text/plain": [
       "0.4238766202168871"
      ]
     },
     "execution_count": 19,
     "metadata": {},
     "output_type": "execute_result"
    }
   ],
   "source": [
    "model.evaluate(X_test_scaled, y_test)"
   ]
  },
  {
   "cell_type": "code",
   "execution_count": 20,
   "metadata": {},
   "outputs": [
    {
     "data": {
      "text/plain": [
       "array([[0.7571695],\n",
       "       [1.8719691],\n",
       "       [3.676588 ],\n",
       "       ...,\n",
       "       [1.4134822],\n",
       "       [2.3514078],\n",
       "       [3.8639586]], dtype=float32)"
      ]
     },
     "execution_count": 20,
     "metadata": {},
     "output_type": "execute_result"
    }
   ],
   "source": [
    "model.predict(X_test_scaled)"
   ]
  },
  {
   "cell_type": "markdown",
   "metadata": {},
   "source": [
    "### 7.2)Subclassing API\n",
    "After the Sequential API and the Functional API, let's try the Subclassing API:\n",
    "* Create a **subclass of the `keras.models.Model`** class.\n",
    "* Create all the layers you need in the constructor (e.g., `self.hidden1 = keras.layers.Dense(...)`).\n",
    "* Use the layers to process the **`input`** in the **`call()`** method, and return the **output**.\n",
    "* Note that you do not need to create a `keras.layers.Input` in this case.\n",
    "* Also note that `self.output` is used by Keras, so you should use another name for the output layer (e.g., `self.output_layer`).\n",
    "\n",
    "**When should you use the Subclassing API?**\n",
    "* Both the Sequential API and the Functional API are declarative: you first declare the list of layers you need and how they are connected, and only then can you feed your model with actual data. The models that these APIs build are just static graphs of layers. This has many advantages (easy inspection, debugging, saving, loading, sharing, etc.), and they cover the vast majority of use cases, but if you need to build a very dynamic model (e.g., with loops or conditional branching), or if you want to experiment with new ideas using an imperative programming style, then the Subclassing API is for you. **You can pretty much do any computation you want in the `call()` method, possibly with loops and conditions, using Keras layers of even low-level TensorFlow operations.**\n",
    "* However, this extra flexibility comes at the cost of less transparency. Since the model is defined within the `call()` method, Keras cannot fully inspect it. All it sees is the list of model attributes (which include the layers you define in the constructor), so when you display the model summary you just see a list of unconnected layers. **Consequently, you cannot save or load the model without writing extra code. So this API is best used only when you really need the extra flexibility.**"
   ]
  },
  {
   "cell_type": "code",
   "execution_count": 21,
   "metadata": {},
   "outputs": [],
   "source": [
    "class MyModel(keras.models.Model):\n",
    "    def __init__(self):\n",
    "        super(MyModel, self).__init__()\n",
    "        self.hidden1 = keras.layers.Dense(30, activation=\"relu\")\n",
    "        self.hidden2 = keras.layers.Dense(30, activation=\"relu\")\n",
    "        self.output_ = keras.layers.Dense(1)\n",
    "\n",
    "    def call(self, input):\n",
    "        hidden1 = self.hidden1(input)\n",
    "        hidden2 = self.hidden2(hidden1)\n",
    "        concat = keras.layers.concatenate([input, hidden2])\n",
    "        output = self.output_(concat)\n",
    "        return output\n",
    "\n",
    "model = MyModel()"
   ]
  },
  {
   "cell_type": "code",
   "execution_count": 22,
   "metadata": {},
   "outputs": [],
   "source": [
    "model.compile(loss=\"mse\", optimizer=\"sgd\")"
   ]
  },
  {
   "cell_type": "code",
   "execution_count": 23,
   "metadata": {},
   "outputs": [
    {
     "name": "stdout",
     "output_type": "stream",
     "text": [
      "Train on 11610 samples, validate on 3870 samples\n",
      "Epoch 1/10\n",
      "11610/11610 [==============================] - 1s 64us/sample - loss: 0.7092 - val_loss: 32.7654\n",
      "Epoch 2/10\n",
      "11610/11610 [==============================] - 1s 45us/sample - loss: 0.5270 - val_loss: 17.3639\n",
      "Epoch 3/10\n",
      "11610/11610 [==============================] - 1s 44us/sample - loss: 0.4872 - val_loss: 38.3491\n",
      "Epoch 4/10\n",
      "11610/11610 [==============================] - 0s 42us/sample - loss: 0.5775 - val_loss: 64.5569\n",
      "Epoch 5/10\n",
      "11610/11610 [==============================] - 0s 40us/sample - loss: 1.2878 - val_loss: 1.4285\n",
      "Epoch 6/10\n",
      "11610/11610 [==============================] - 0s 43us/sample - loss: 1.4068 - val_loss: 82.0180\n",
      "Epoch 7/10\n",
      "11610/11610 [==============================] - 0s 39us/sample - loss: 1.8597 - val_loss: 0.4204\n",
      "Epoch 8/10\n",
      "11610/11610 [==============================] - 0s 43us/sample - loss: 0.8322 - val_loss: 251.8108\n",
      "Epoch 9/10\n",
      "11610/11610 [==============================] - 1s 47us/sample - loss: 0.7678 - val_loss: 143.4154\n",
      "Epoch 10/10\n",
      "11610/11610 [==============================] - 1s 45us/sample - loss: 0.4730 - val_loss: 72.3142\n"
     ]
    }
   ],
   "source": [
    "history = model.fit(X_train_scaled, y_train, epochs=10,\n",
    "                    validation_data=(X_valid_scaled, y_valid))"
   ]
  },
  {
   "cell_type": "code",
   "execution_count": 24,
   "metadata": {},
   "outputs": [
    {
     "name": "stdout",
     "output_type": "stream",
     "text": [
      "Model: \"my_model\"\n",
      "_________________________________________________________________\n",
      "Layer (type)                 Output Shape              Param #   \n",
      "=================================================================\n",
      "dense_3 (Dense)              multiple                  270       \n",
      "_________________________________________________________________\n",
      "dense_4 (Dense)              multiple                  930       \n",
      "_________________________________________________________________\n",
      "dense_5 (Dense)              multiple                  39        \n",
      "=================================================================\n",
      "Total params: 1,239\n",
      "Trainable params: 1,239\n",
      "Non-trainable params: 0\n",
      "_________________________________________________________________\n"
     ]
    }
   ],
   "source": [
    "model.summary()"
   ]
  },
  {
   "cell_type": "code",
   "execution_count": 25,
   "metadata": {},
   "outputs": [
    {
     "name": "stdout",
     "output_type": "stream",
     "text": [
      "5160/5160 [==============================] - 0s 26us/sample - loss: 0.6087\n"
     ]
    },
    {
     "data": {
      "text/plain": [
       "0.6086793074312136"
      ]
     },
     "execution_count": 25,
     "metadata": {},
     "output_type": "execute_result"
    }
   ],
   "source": [
    "model.evaluate(X_test_scaled, y_test)"
   ]
  },
  {
   "cell_type": "code",
   "execution_count": 26,
   "metadata": {},
   "outputs": [
    {
     "data": {
      "text/plain": [
       "array([[0.665951 ],\n",
       "       [1.7603348],\n",
       "       [3.4175048],\n",
       "       ...,\n",
       "       [1.4975803],\n",
       "       [2.5738883],\n",
       "       [3.7763305]], dtype=float32)"
      ]
     },
     "execution_count": 26,
     "metadata": {},
     "output_type": "execute_result"
    }
   ],
   "source": [
    "model.predict(X_test_scaled)"
   ]
  },
  {
   "cell_type": "markdown",
   "metadata": {},
   "source": [
    "### 7.3)用functional API下图的网络(多个输入)\n",
    "Now suppose you want to send only features 0 to 4 directly to the output, and only features 2 to 7 through the hidden layers, as shown on the following diagram. Use the functional API to build, train and evaluate this model.\n",
    "\n",
    "**Tips**:\n",
    "* You need to create two `keras.layers.Input` (`input_A` and `input_B`)\n",
    "* Build the model using the functional API, as above, but when you build the `keras.models.Model`, remember to set `inputs=[input_A, input_B]`\n",
    "* When calling `fit()`, `evaluate()` and  `predict()`, instead of passing `X_train_scaled`, pass `(X_train_scaled_A, X_train_scaled_B)` (two NumPy arrays containing only the appropriate features copied from `X_train_scaled`)."
   ]
  },
  {
   "cell_type": "markdown",
   "metadata": {},
   "source": [
    "<img src=\"images/multiple_inputs.png\" title=\"Multiple inputs\" width=300 />"
   ]
  },
  {
   "cell_type": "code",
   "execution_count": 27,
   "metadata": {},
   "outputs": [],
   "source": [
    "input_A = keras.layers.Input(shape=[5])\n",
    "input_B = keras.layers.Input(shape=[6])"
   ]
  },
  {
   "cell_type": "code",
   "execution_count": 28,
   "metadata": {},
   "outputs": [],
   "source": [
    "hidden1 = keras.layers.Dense(30, activation=\"relu\")(input_B)\n",
    "hidden2 = keras.layers.Dense(30, activation=\"relu\")(hidden1)\n",
    "concat = keras.layers.concatenate([input_A, hidden2])\n",
    "output = keras.layers.Dense(1)(concat)"
   ]
  },
  {
   "cell_type": "code",
   "execution_count": 29,
   "metadata": {},
   "outputs": [],
   "source": [
    "model = keras.models.Model(inputs=[input_A, input_B], outputs=[output])"
   ]
  },
  {
   "cell_type": "code",
   "execution_count": 30,
   "metadata": {},
   "outputs": [],
   "source": [
    "model.compile(loss=\"mean_squared_error\", optimizer=\"sgd\")"
   ]
  },
  {
   "cell_type": "code",
   "execution_count": 31,
   "metadata": {},
   "outputs": [
    {
     "name": "stdout",
     "output_type": "stream",
     "text": [
      "Model: \"model_1\"\n",
      "__________________________________________________________________________________________________\n",
      "Layer (type)                    Output Shape         Param #     Connected to                     \n",
      "==================================================================================================\n",
      "input_3 (InputLayer)            [(None, 6)]          0                                            \n",
      "__________________________________________________________________________________________________\n",
      "dense_6 (Dense)                 (None, 30)           210         input_3[0][0]                    \n",
      "__________________________________________________________________________________________________\n",
      "input_2 (InputLayer)            [(None, 5)]          0                                            \n",
      "__________________________________________________________________________________________________\n",
      "dense_7 (Dense)                 (None, 30)           930         dense_6[0][0]                    \n",
      "__________________________________________________________________________________________________\n",
      "concatenate_1 (Concatenate)     (None, 35)           0           input_2[0][0]                    \n",
      "                                                                 dense_7[0][0]                    \n",
      "__________________________________________________________________________________________________\n",
      "dense_8 (Dense)                 (None, 1)            36          concatenate_1[0][0]              \n",
      "==================================================================================================\n",
      "Total params: 1,176\n",
      "Trainable params: 1,176\n",
      "Non-trainable params: 0\n",
      "__________________________________________________________________________________________________\n"
     ]
    }
   ],
   "source": [
    "model.summary()"
   ]
  },
  {
   "cell_type": "code",
   "execution_count": 32,
   "metadata": {},
   "outputs": [],
   "source": [
    "X_train_scaled_A = X_train_scaled[:, :5]\n",
    "X_train_scaled_B = X_train_scaled[:, 2:]\n",
    "X_valid_scaled_A = X_valid_scaled[:, :5]\n",
    "X_valid_scaled_B = X_valid_scaled[:, 2:]\n",
    "X_test_scaled_A = X_test_scaled[:, :5]\n",
    "X_test_scaled_B = X_test_scaled[:, 2:]"
   ]
  },
  {
   "cell_type": "code",
   "execution_count": 33,
   "metadata": {},
   "outputs": [
    {
     "name": "stdout",
     "output_type": "stream",
     "text": [
      "Train on 11610 samples, validate on 3870 samples\n",
      "Epoch 1/10\n",
      "11610/11610 [==============================] - 1s 56us/sample - loss: 0.7982 - val_loss: 2.1800\n",
      "Epoch 2/10\n",
      "11610/11610 [==============================] - 1s 46us/sample - loss: 0.4905 - val_loss: 0.7628\n",
      "Epoch 3/10\n",
      "11610/11610 [==============================] - 1s 49us/sample - loss: 0.4416 - val_loss: 3.3136\n",
      "Epoch 4/10\n",
      "11610/11610 [==============================] - 1s 48us/sample - loss: 0.4857 - val_loss: 0.9585\n",
      "Epoch 5/10\n",
      "11610/11610 [==============================] - 1s 53us/sample - loss: 0.4203 - val_loss: 0.5910\n",
      "Epoch 6/10\n",
      "11610/11610 [==============================] - 1s 53us/sample - loss: 0.4082 - val_loss: 1.1373\n",
      "Epoch 7/10\n",
      "11610/11610 [==============================] - 1s 53us/sample - loss: 0.4042 - val_loss: 1.3463\n",
      "Epoch 8/10\n",
      "11610/11610 [==============================] - 1s 47us/sample - loss: 0.4085 - val_loss: 0.4331\n",
      "Epoch 9/10\n",
      "11610/11610 [==============================] - 1s 45us/sample - loss: 0.3918 - val_loss: 0.3566\n",
      "Epoch 10/10\n",
      "11610/11610 [==============================] - 0s 43us/sample - loss: 0.3856 - val_loss: 0.3763\n"
     ]
    }
   ],
   "source": [
    "history = model.fit([X_train_scaled_A, X_train_scaled_B], y_train, epochs=10,\n",
    "                    validation_data=([X_valid_scaled_A, X_valid_scaled_B], y_valid))"
   ]
  },
  {
   "cell_type": "code",
   "execution_count": null,
   "metadata": {
    "collapsed": true
   },
   "outputs": [],
   "source": [
    "model.evaluate([X_test_scaled_A, X_test_scaled_B], y_test)"
   ]
  },
  {
   "cell_type": "code",
   "execution_count": null,
   "metadata": {
    "collapsed": true
   },
   "outputs": [],
   "source": [
    "model.predict([X_test_scaled_A, X_test_scaled_B])"
   ]
  },
  {
   "cell_type": "markdown",
   "metadata": {},
   "source": [
    "### 7.4)多个输入和多个输出\n",
    "Build the multi-input and multi-output neural net represented in the following diagram.\n",
    "\n",
    "<img src=\"images/multiple_inputs_and_outputs.png\" title=\"Multiple inputs and outputs\" width=400 />\n",
    "\n",
    "**Why?**\n",
    "\n",
    "There are many use cases in which having multiple outputs can be useful:\n",
    "* Your task may require multiple outputs, for example, you may want to locate and classify the main object in a picture. This is both a regression task (finding the coordinates of the object's center, as well as its width and height) and a classification task.\n",
    "* Similarly, you may have multiple independent tasks to perform based on the same data. Sure, you could train one neural network per task, but in many cases you will get better results on all tasks by training a single neural network with one output per task. This is because the neural network can learn features in the data that are useful across tasks.\n",
    "* Another use case is as a regularization technique (i.e., a training constraint whose objective is to reduce overfitting and thus improve the model's ability to generalize). For example, you may want to add some auxiliary outputs in a neural network architecture (as shown in the diagram) to ensure that that the underlying part of the network learns something useful on its own, without relying on the rest of the network.\n",
    "\n",
    "**Tips**:\n",
    "* Building the model is pretty straightforward using the functional API. Just make sure you specify both outputs when creating the `keras.models.Model`, for example `outputs=[output, aux_output]`.\n",
    "* **Each output has its own loss function. In this scenario, they will be identical, so you can either specify `loss=\"mse\"` (this loss will apply to both outputs) or `loss=[\"mse\", \"mse\"]`, which does the same thing.**\n",
    "* The final loss used to train the whole network is just a weighted sum of all loss functions. In this scenario, you want most to give a much smaller weight to the auxiliary output, so when compiling the model, you must specify **`loss_weights=[0.9, 0.1]`**.不同损失的加权和.\n",
    "* When calling `fit()` or `evaluate()`, you need to pass the labels for all outputs. In this scenario the labels will be the same for the main output and for the auxiliary output, so make sure to pass `(y_train, y_train)` instead of `y_train`.\n",
    "* The `predict()` method will return both the main output and the auxiliary output."
   ]
  },
  {
   "cell_type": "code",
   "execution_count": 34,
   "metadata": {},
   "outputs": [],
   "source": [
    "input_A = keras.layers.Input(shape=X_train_scaled_A.shape[1:])\n",
    "input_B = keras.layers.Input(shape=X_train_scaled_B.shape[1:])\n",
    "hidden1 = keras.layers.Dense(30, activation=\"relu\")(input_B)\n",
    "hidden2 = keras.layers.Dense(30, activation=\"relu\")(hidden1)\n",
    "concat = keras.layers.concatenate([input_A, hidden2])\n",
    "output = keras.layers.Dense(1)(concat)\n",
    "aux_output = keras.layers.Dense(1)(hidden2)"
   ]
  },
  {
   "cell_type": "code",
   "execution_count": 35,
   "metadata": {},
   "outputs": [],
   "source": [
    "model = keras.models.Model(inputs=[input_A, input_B],\n",
    "                           outputs=[output, aux_output])"
   ]
  },
  {
   "cell_type": "code",
   "execution_count": 36,
   "metadata": {},
   "outputs": [],
   "source": [
    "model.compile(loss=\"mean_squared_error\", loss_weights=[0.9, 0.1],\n",
    "              optimizer=\"sgd\")"
   ]
  },
  {
   "cell_type": "code",
   "execution_count": 37,
   "metadata": {},
   "outputs": [
    {
     "name": "stdout",
     "output_type": "stream",
     "text": [
      "Model: \"model_2\"\n",
      "__________________________________________________________________________________________________\n",
      "Layer (type)                    Output Shape         Param #     Connected to                     \n",
      "==================================================================================================\n",
      "input_5 (InputLayer)            [(None, 6)]          0                                            \n",
      "__________________________________________________________________________________________________\n",
      "dense_9 (Dense)                 (None, 30)           210         input_5[0][0]                    \n",
      "__________________________________________________________________________________________________\n",
      "input_4 (InputLayer)            [(None, 5)]          0                                            \n",
      "__________________________________________________________________________________________________\n",
      "dense_10 (Dense)                (None, 30)           930         dense_9[0][0]                    \n",
      "__________________________________________________________________________________________________\n",
      "concatenate_2 (Concatenate)     (None, 35)           0           input_4[0][0]                    \n",
      "                                                                 dense_10[0][0]                   \n",
      "__________________________________________________________________________________________________\n",
      "dense_11 (Dense)                (None, 1)            36          concatenate_2[0][0]              \n",
      "__________________________________________________________________________________________________\n",
      "dense_12 (Dense)                (None, 1)            31          dense_10[0][0]                   \n",
      "==================================================================================================\n",
      "Total params: 1,207\n",
      "Trainable params: 1,207\n",
      "Non-trainable params: 0\n",
      "__________________________________________________________________________________________________\n"
     ]
    }
   ],
   "source": [
    "model.summary()"
   ]
  },
  {
   "cell_type": "code",
   "execution_count": 38,
   "metadata": {},
   "outputs": [
    {
     "data": {
      "image/png": "[encoded data removed]",
      "text/plain": [
       "<IPython.core.display.Image object>"
      ]
     },
     "execution_count": 38,
     "metadata": {},
     "output_type": "execute_result"
    }
   ],
   "source": [
    "keras.utils.plot_model(model,'functional_api_model.png',show_shapes=True)"
   ]
  },
  {
   "cell_type": "code",
   "execution_count": 39,
   "metadata": {},
   "outputs": [
    {
     "name": "stdout",
     "output_type": "stream",
     "text": [
      "Train on 11610 samples, validate on 3870 samples\n",
      "Epoch 1/10\n",
      "11610/11610 [==============================] - 1s 86us/sample - loss: 0.8687 - dense_11_loss: 0.7754 - dense_12_loss: 1.7095 - val_loss: 6.8791 - val_dense_11_loss: 7.5792 - val_dense_12_loss: 1.0991\n",
      "Epoch 2/10\n",
      "11610/11610 [==============================] - 1s 67us/sample - loss: 0.5415 - dense_11_loss: 0.4916 - dense_12_loss: 0.9902 - val_loss: 5.1960 - val_dense_11_loss: 5.6707 - val_dense_12_loss: 0.8985\n",
      "Epoch 3/10\n",
      "11610/11610 [==============================] - 1s 68us/sample - loss: 0.5243 - dense_11_loss: 0.4872 - dense_12_loss: 0.8575 - val_loss: 0.6477 - val_dense_11_loss: 0.3960 - val_dense_12_loss: 2.9113\n",
      "Epoch 4/10\n",
      "11610/11610 [==============================] - 1s 64us/sample - loss: 0.4595 - dense_11_loss: 0.4254 - dense_12_loss: 0.7661 - val_loss: 0.5860 - val_dense_11_loss: 0.5431 - val_dense_12_loss: 0.9729\n",
      "Epoch 5/10\n",
      "11610/11610 [==============================] - 1s 67us/sample - loss: 0.4446 - dense_11_loss: 0.4173 - dense_12_loss: 0.6905 - val_loss: 0.4675 - val_dense_11_loss: 0.4187 - val_dense_12_loss: 0.9064\n",
      "Epoch 6/10\n",
      "11610/11610 [==============================] - 1s 67us/sample - loss: 0.4401 - dense_11_loss: 0.4169 - dense_12_loss: 0.6481 - val_loss: 0.4163 - val_dense_11_loss: 0.3800 - val_dense_12_loss: 0.7426\n",
      "Epoch 7/10\n",
      "11610/11610 [==============================] - 1s 67us/sample - loss: 0.5185 - dense_11_loss: 0.4995 - dense_12_loss: 0.6887 - val_loss: 0.4299 - val_dense_11_loss: 0.4031 - val_dense_12_loss: 0.6700\n",
      "Epoch 8/10\n",
      "11610/11610 [==============================] - 1s 67us/sample - loss: 0.4391 - dense_11_loss: 0.4186 - dense_12_loss: 0.6246 - val_loss: 0.4329 - val_dense_11_loss: 0.4087 - val_dense_12_loss: 0.6496\n",
      "Epoch 9/10\n",
      "11610/11610 [==============================] - 1s 66us/sample - loss: 0.4236 - dense_11_loss: 0.4060 - dense_12_loss: 0.5819 - val_loss: 0.4103 - val_dense_11_loss: 0.3942 - val_dense_12_loss: 0.5549\n",
      "Epoch 10/10\n",
      "11610/11610 [==============================] - 1s 66us/sample - loss: 0.4139 - dense_11_loss: 0.3969 - dense_12_loss: 0.5668 - val_loss: 0.3995 - val_dense_11_loss: 0.3784 - val_dense_12_loss: 0.5892\n"
     ]
    }
   ],
   "source": [
    "history = model.fit([X_train_scaled_A, X_train_scaled_B], [y_train, y_train], epochs=10,\n",
    "                    validation_data=([X_valid_scaled_A, X_valid_scaled_B], [y_valid, y_valid]))"
   ]
  },
  {
   "cell_type": "code",
   "execution_count": 40,
   "metadata": {},
   "outputs": [
    {
     "name": "stdout",
     "output_type": "stream",
     "text": [
      "5160/5160 [==============================] - 0s 39us/sample - loss: 0.3993 - dense_11_loss: 0.3837 - dense_12_loss: 0.5391\n"
     ]
    },
    {
     "data": {
      "text/plain": [
       "[0.3992860531622125, 0.38366613, 0.53914607]"
      ]
     },
     "execution_count": 40,
     "metadata": {},
     "output_type": "execute_result"
    }
   ],
   "source": [
    "model.evaluate([X_test_scaled_A, X_test_scaled_B], [y_test, y_test])"
   ]
  },
  {
   "cell_type": "code",
   "execution_count": 41,
   "metadata": {},
   "outputs": [],
   "source": [
    "y_pred, y_pred_aux = model.predict([X_test_scaled_A, X_test_scaled_B])"
   ]
  },
  {
   "cell_type": "code",
   "execution_count": 42,
   "metadata": {},
   "outputs": [
    {
     "data": {
      "text/plain": [
       "array([[0.67121965],\n",
       "       [2.073535  ],\n",
       "       [3.5211577 ],\n",
       "       ...,\n",
       "       [1.4858576 ],\n",
       "       [2.3110967 ],\n",
       "       [3.745615  ]], dtype=float32)"
      ]
     },
     "execution_count": 42,
     "metadata": {},
     "output_type": "execute_result"
    }
   ],
   "source": [
    "y_pred"
   ]
  },
  {
   "cell_type": "code",
   "execution_count": 43,
   "metadata": {
    "scrolled": true
   },
   "outputs": [
    {
     "data": {
      "text/plain": [
       "array([[1.0318   ],\n",
       "       [2.2188723],\n",
       "       [3.1979525],\n",
       "       ...,\n",
       "       [1.3228676],\n",
       "       [1.5755787],\n",
       "       [3.0700412]], dtype=float32)"
      ]
     },
     "execution_count": 43,
     "metadata": {},
     "output_type": "execute_result"
    }
   ],
   "source": [
    "y_pred_aux"
   ]
  },
  {
   "cell_type": "markdown",
   "metadata": {},
   "source": [
    "## Exercise 8 – Deep Nets深层网络"
   ]
  },
  {
   "cell_type": "markdown",
   "metadata": {},
   "source": [
    "Let's go back to Fashion MNIST and build deep nets to tackle it. We need to load it, split it and scale it."
   ]
  },
  {
   "cell_type": "code",
   "execution_count": 44,
   "metadata": {},
   "outputs": [],
   "source": [
    "fashion_mnist = keras.datasets.fashion_mnist\n",
    "(X_train_full, y_train_full), (X_test, y_test) = fashion_mnist.load_data()\n",
    "X_valid, X_train = X_train_full[:5000], X_train_full[5000:]\n",
    "y_valid, y_train = y_train_full[:5000], y_train_full[5000:]"
   ]
  },
  {
   "cell_type": "code",
   "execution_count": 45,
   "metadata": {},
   "outputs": [],
   "source": [
    "from sklearn.preprocessing import StandardScaler\n",
    "\n",
    "scaler = StandardScaler()\n",
    "X_train_scaled = scaler.fit_transform(X_train.astype(np.float32).reshape(-1, 28 * 28)).reshape(-1, 28, 28)\n",
    "X_valid_scaled = scaler.transform(X_valid.astype(np.float32).reshape(-1, 28 * 28)).reshape(-1, 28, 28)\n",
    "X_test_scaled = scaler.transform(X_test.astype(np.float32).reshape(-1, 28 * 28)).reshape(-1, 28, 28)"
   ]
  },
  {
   "cell_type": "markdown",
   "metadata": {},
   "source": [
    "### 8.1)用for循环添加网络层数\n",
    "Build a sequential model with 20 hidden dense layers, with 100 neurons each, using the ReLU activation function, plus the output layer (10 neurons, softmax activation function). Try to train it for 10 epochs on Fashion MNIST and plot the learning curves. Notice that progress is very slow."
   ]
  },
  {
   "cell_type": "code",
   "execution_count": 48,
   "metadata": {},
   "outputs": [
    {
     "name": "stdout",
     "output_type": "stream",
     "text": [
      "Train on 55000 samples, validate on 5000 samples\n",
      "Epoch 1/10\n",
      "55000/55000 [==============================] - 11s 199us/sample - loss: 2.2559 - accuracy: 0.1667 - val_loss: 1.8844 - val_accuracy: 0.2266\n",
      "Epoch 2/10\n",
      "55000/55000 [==============================] - 10s 175us/sample - loss: 1.0269 - accuracy: 0.5965 - val_loss: 0.6073 - val_accuracy: 0.7864\n",
      "Epoch 3/10\n",
      "55000/55000 [==============================] - 10s 175us/sample - loss: 0.5830 - accuracy: 0.7879 - val_loss: 0.5798 - val_accuracy: 0.8022\n",
      "Epoch 4/10\n",
      "55000/55000 [==============================] - 10s 174us/sample - loss: 0.4784 - accuracy: 0.8355 - val_loss: 0.4334 - val_accuracy: 0.8558\n",
      "Epoch 5/10\n",
      "55000/55000 [==============================] - 10s 176us/sample - loss: 0.4216 - accuracy: 0.8566 - val_loss: 0.4159 - val_accuracy: 0.8586\n",
      "Epoch 6/10\n",
      "55000/55000 [==============================] - 10s 179us/sample - loss: 0.3869 - accuracy: 0.8687 - val_loss: 0.3996 - val_accuracy: 0.8670\n",
      "Epoch 7/10\n",
      "55000/55000 [==============================] - 10s 177us/sample - loss: 0.3534 - accuracy: 0.8792 - val_loss: 0.4537 - val_accuracy: 0.8524\n",
      "Epoch 8/10\n",
      "55000/55000 [==============================] - 10s 176us/sample - loss: 0.3353 - accuracy: 0.8851 - val_loss: 0.3860 - val_accuracy: 0.8758\n",
      "Epoch 9/10\n",
      "55000/55000 [==============================] - 10s 176us/sample - loss: 0.3149 - accuracy: 0.8914 - val_loss: 0.4344 - val_accuracy: 0.8606\n",
      "Epoch 10/10\n",
      "55000/55000 [==============================] - 10s 175us/sample - loss: 0.2985 - accuracy: 0.8975 - val_loss: 0.4144 - val_accuracy: 0.8690\n"
     ]
    },
    {
     "data": {
      "image/png": "[encoded data removed]",
      "text/plain": [
       "<matplotlib.figure.Figure at 0x7f8169083a20>"
      ]
     },
     "metadata": {},
     "output_type": "display_data"
    }
   ],
   "source": [
    "model = keras.models.Sequential()\n",
    "model.add(keras.layers.Flatten(input_shape=[28, 28]))\n",
    "for _ in range(20):\n",
    "    model.add(keras.layers.Dense(100, activation=\"relu\"))\n",
    "model.add(keras.layers.Dense(10, activation=\"softmax\"))\n",
    "model.compile(loss=\"sparse_categorical_crossentropy\", optimizer=\"sgd\",\n",
    "              metrics=[\"accuracy\"])\n",
    "history = model.fit(X_train_scaled, y_train, epochs=10,\n",
    "                    validation_data=(X_valid_scaled, y_valid))\n",
    "plot_learning_curves(history)"
   ]
  },
  {
   "cell_type": "markdown",
   "metadata": {},
   "source": [
    "### 8.2)在每个全连接层添加一个batch_normalize\n",
    "Update the model to add a **`BatchNormalization`** layer after every hidden layer. Notice that performance progresses much faster per epoch, although computations are much more intensive. Display the model summary and notice all the non-trainable parameters (the scale $\\gamma$ and offset $\\beta$ parameters)."
   ]
  },
  {
   "cell_type": "code",
   "execution_count": 49,
   "metadata": {},
   "outputs": [
    {
     "name": "stdout",
     "output_type": "stream",
     "text": [
      "Train on 55000 samples, validate on 5000 samples\n",
      "Epoch 1/10\n",
      "55000/55000 [==============================] - 27s 495us/sample - loss: 1.0970 - accuracy: 0.6208 - val_loss: 0.6379 - val_accuracy: 0.7660\n",
      "Epoch 2/10\n",
      "55000/55000 [==============================] - 23s 411us/sample - loss: 0.7500 - accuracy: 0.7375 - val_loss: 0.5309 - val_accuracy: 0.8156\n",
      "Epoch 3/10\n",
      "55000/55000 [==============================] - 23s 415us/sample - loss: 0.6425 - accuracy: 0.7768 - val_loss: 0.4802 - val_accuracy: 0.8312\n",
      "Epoch 4/10\n",
      "55000/55000 [==============================] - 23s 415us/sample - loss: 0.5861 - accuracy: 0.7973 - val_loss: 0.4363 - val_accuracy: 0.8464\n",
      "Epoch 5/10\n",
      "55000/55000 [==============================] - 23s 410us/sample - loss: 0.5382 - accuracy: 0.8147 - val_loss: 0.4206 - val_accuracy: 0.8558\n",
      "Epoch 6/10\n",
      "55000/55000 [==============================] - 23s 427us/sample - loss: 0.5058 - accuracy: 0.8237 - val_loss: 0.3899 - val_accuracy: 0.8654\n",
      "Epoch 7/10\n",
      "55000/55000 [==============================] - 24s 429us/sample - loss: 0.4775 - accuracy: 0.8331 - val_loss: 0.3890 - val_accuracy: 0.8632\n",
      "Epoch 8/10\n",
      "55000/55000 [==============================] - 23s 418us/sample - loss: 0.4594 - accuracy: 0.8391 - val_loss: 0.3751 - val_accuracy: 0.8680\n",
      "Epoch 9/10\n",
      "55000/55000 [==============================] - 23s 421us/sample - loss: 0.4432 - accuracy: 0.8432 - val_loss: 0.3627 - val_accuracy: 0.8726\n",
      "Epoch 10/10\n",
      "55000/55000 [==============================] - 22s 408us/sample - loss: 0.4299 - accuracy: 0.8497 - val_loss: 0.3667 - val_accuracy: 0.8754\n"
     ]
    },
    {
     "data": {
      "image/png": "[encoded data removed]",
      "text/plain": [
       "<matplotlib.figure.Figure at 0x7f7ebe5024e0>"
      ]
     },
     "metadata": {},
     "output_type": "display_data"
    }
   ],
   "source": [
    "model = keras.models.Sequential()\n",
    "model.add(keras.layers.Flatten(input_shape=[28, 28]))\n",
    "for _ in range(20):\n",
    "    model.add(keras.layers.Dense(100, activation=\"relu\"))\n",
    "    model.add(keras.layers.BatchNormalization())\n",
    "model.add(keras.layers.Dense(10, activation=\"softmax\"))\n",
    "model.compile(loss=\"sparse_categorical_crossentropy\", optimizer=\"sgd\",\n",
    "              metrics=[\"accuracy\"])\n",
    "history = model.fit(X_train_scaled, y_train, epochs=10,\n",
    "                    validation_data=(X_valid_scaled, y_valid))\n",
    "plot_learning_curves(history)"
   ]
  },
  {
   "cell_type": "code",
   "execution_count": 50,
   "metadata": {},
   "outputs": [
    {
     "name": "stdout",
     "output_type": "stream",
     "text": [
      "Model: \"sequential_2\"\n",
      "_________________________________________________________________\n",
      "Layer (type)                 Output Shape              Param #   \n",
      "=================================================================\n",
      "flatten_2 (Flatten)          (None, 784)               0         \n",
      "_________________________________________________________________\n",
      "dense_55 (Dense)             (None, 100)               78500     \n",
      "_________________________________________________________________\n",
      "batch_normalization (BatchNo (None, 100)               400       \n",
      "_________________________________________________________________\n",
      "dense_56 (Dense)             (None, 100)               10100     \n",
      "_________________________________________________________________\n",
      "batch_normalization_1 (Batch (None, 100)               400       \n",
      "_________________________________________________________________\n",
      "dense_57 (Dense)             (None, 100)               10100     \n",
      "_________________________________________________________________\n",
      "batch_normalization_2 (Batch (None, 100)               400       \n",
      "_________________________________________________________________\n",
      "dense_58 (Dense)             (None, 100)               10100     \n",
      "_________________________________________________________________\n",
      "batch_normalization_3 (Batch (None, 100)               400       \n",
      "_________________________________________________________________\n",
      "dense_59 (Dense)             (None, 100)               10100     \n",
      "_________________________________________________________________\n",
      "batch_normalization_4 (Batch (None, 100)               400       \n",
      "_________________________________________________________________\n",
      "dense_60 (Dense)             (None, 100)               10100     \n",
      "_________________________________________________________________\n",
      "batch_normalization_5 (Batch (None, 100)               400       \n",
      "_________________________________________________________________\n",
      "dense_61 (Dense)             (None, 100)               10100     \n",
      "_________________________________________________________________\n",
      "batch_normalization_6 (Batch (None, 100)               400       \n",
      "_________________________________________________________________\n",
      "dense_62 (Dense)             (None, 100)               10100     \n",
      "_________________________________________________________________\n",
      "batch_normalization_7 (Batch (None, 100)               400       \n",
      "_________________________________________________________________\n",
      "dense_63 (Dense)             (None, 100)               10100     \n",
      "_________________________________________________________________\n",
      "batch_normalization_8 (Batch (None, 100)               400       \n",
      "_________________________________________________________________\n",
      "dense_64 (Dense)             (None, 100)               10100     \n",
      "_________________________________________________________________\n",
      "batch_normalization_9 (Batch (None, 100)               400       \n",
      "_________________________________________________________________\n",
      "dense_65 (Dense)             (None, 100)               10100     \n",
      "_________________________________________________________________\n",
      "batch_normalization_10 (Batc (None, 100)               400       \n",
      "_________________________________________________________________\n",
      "dense_66 (Dense)             (None, 100)               10100     \n",
      "_________________________________________________________________\n",
      "batch_normalization_11 (Batc (None, 100)               400       \n",
      "_________________________________________________________________\n",
      "dense_67 (Dense)             (None, 100)               10100     \n",
      "_________________________________________________________________\n",
      "batch_normalization_12 (Batc (None, 100)               400       \n",
      "_________________________________________________________________\n",
      "dense_68 (Dense)             (None, 100)               10100     \n",
      "_________________________________________________________________\n",
      "batch_normalization_13 (Batc (None, 100)               400       \n",
      "_________________________________________________________________\n",
      "dense_69 (Dense)             (None, 100)               10100     \n",
      "_________________________________________________________________\n",
      "batch_normalization_14 (Batc (None, 100)               400       \n",
      "_________________________________________________________________\n",
      "dense_70 (Dense)             (None, 100)               10100     \n",
      "_________________________________________________________________\n",
      "batch_normalization_15 (Batc (None, 100)               400       \n",
      "_________________________________________________________________\n",
      "dense_71 (Dense)             (None, 100)               10100     \n",
      "_________________________________________________________________\n",
      "batch_normalization_16 (Batc (None, 100)               400       \n",
      "_________________________________________________________________\n",
      "dense_72 (Dense)             (None, 100)               10100     \n",
      "_________________________________________________________________\n",
      "batch_normalization_17 (Batc (None, 100)               400       \n",
      "_________________________________________________________________\n",
      "dense_73 (Dense)             (None, 100)               10100     \n",
      "_________________________________________________________________\n",
      "batch_normalization_18 (Batc (None, 100)               400       \n",
      "_________________________________________________________________\n",
      "dense_74 (Dense)             (None, 100)               10100     \n",
      "_________________________________________________________________\n",
      "batch_normalization_19 (Batc (None, 100)               400       \n",
      "_________________________________________________________________\n",
      "dense_75 (Dense)             (None, 10)                1010      \n",
      "=================================================================\n",
      "Total params: 279,410\n",
      "Trainable params: 275,410\n",
      "Non-trainable params: 4,000\n",
      "_________________________________________________________________\n"
     ]
    }
   ],
   "source": [
    "model.summary()"
   ]
  },
  {
   "cell_type": "markdown",
   "metadata": {},
   "source": [
    "### 8.3)将BN添加到Activation之前\n",
    "Try moving the BN layers before the hidden layers' activation functions. Does this affect the model's performance?"
   ]
  },
  {
   "cell_type": "code",
   "execution_count": 51,
   "metadata": {},
   "outputs": [
    {
     "name": "stdout",
     "output_type": "stream",
     "text": [
      "Train on 55000 samples, validate on 5000 samples\n",
      "Epoch 1/10\n",
      "55000/55000 [==============================] - 28s 508us/sample - loss: 1.0132 - accuracy: 0.6407 - val_loss: 0.6283 - val_accuracy: 0.7726\n",
      "Epoch 2/10\n",
      "55000/55000 [==============================] - 22s 403us/sample - loss: 0.6688 - accuracy: 0.7610 - val_loss: 0.4968 - val_accuracy: 0.8186\n",
      "Epoch 3/10\n",
      "55000/55000 [==============================] - 22s 400us/sample - loss: 0.5781 - accuracy: 0.7971 - val_loss: 0.4411 - val_accuracy: 0.8412\n",
      "Epoch 4/10\n",
      "55000/55000 [==============================] - 21s 389us/sample - loss: 0.5220 - accuracy: 0.8177 - val_loss: 0.4123 - val_accuracy: 0.8512\n",
      "Epoch 5/10\n",
      "55000/55000 [==============================] - 22s 400us/sample - loss: 0.4834 - accuracy: 0.8299 - val_loss: 0.3792 - val_accuracy: 0.8642\n",
      "Epoch 6/10\n",
      "55000/55000 [==============================] - 22s 407us/sample - loss: 0.4640 - accuracy: 0.8365 - val_loss: 0.3798 - val_accuracy: 0.8688\n",
      "Epoch 7/10\n",
      "55000/55000 [==============================] - 22s 392us/sample - loss: 0.4384 - accuracy: 0.8454 - val_loss: 0.4055 - val_accuracy: 0.8604\n",
      "Epoch 8/10\n",
      "55000/55000 [==============================] - 22s 393us/sample - loss: 0.4230 - accuracy: 0.8492 - val_loss: 0.3705 - val_accuracy: 0.8698\n",
      "Epoch 9/10\n",
      "55000/55000 [==============================] - 22s 404us/sample - loss: 0.4053 - accuracy: 0.8573 - val_loss: 0.3632 - val_accuracy: 0.8776\n",
      "Epoch 10/10\n",
      "55000/55000 [==============================] - 23s 411us/sample - loss: 0.3969 - accuracy: 0.8592 - val_loss: 0.3451 - val_accuracy: 0.8754\n"
     ]
    },
    {
     "data": {
      "image/png": "[encoded data removed]",
      "text/plain": [
       "<matplotlib.figure.Figure at 0x7f7e9210bac8>"
      ]
     },
     "metadata": {},
     "output_type": "display_data"
    }
   ],
   "source": [
    "model = keras.models.Sequential()\n",
    "model.add(keras.layers.Flatten(input_shape=[28, 28]))\n",
    "for _ in range(20):\n",
    "    model.add(keras.layers.Dense(100))\n",
    "    model.add(keras.layers.BatchNormalization())\n",
    "    model.add(keras.layers.Activation(\"relu\"))\n",
    "model.add(keras.layers.Dense(10, activation=\"softmax\"))\n",
    "model.compile(loss=\"sparse_categorical_crossentropy\", optimizer=\"sgd\",\n",
    "              metrics=[\"accuracy\"])\n",
    "history = model.fit(X_train_scaled, y_train, epochs=10,\n",
    "                    validation_data=(X_valid_scaled, y_valid))\n",
    "plot_learning_curves(history)"
   ]
  },
  {
   "cell_type": "markdown",
   "metadata": {},
   "source": [
    "### 8.4)移除BN,使用SELU作为激活层(和lecun_normal一起用)\n",
    "Remove all the BN layers, and just use the SELU activation function instead (always use SELU with LeCun Normal weight initialization). Notice that you get better performance than with BN but training is much faster. Isn't it marvelous? :-)  \n",
    "训练的速度更快,效果更好"
   ]
  },
  {
   "cell_type": "code",
   "execution_count": null,
   "metadata": {
    "collapsed": true
   },
   "outputs": [],
   "source": [
    "model = keras.models.Sequential()\n",
    "model.add(keras.layers.Flatten(input_shape=[28, 28]))\n",
    "for _ in range(20):\n",
    "    model.add(keras.layers.Dense(100, activation=\"selu\",\n",
    "                                 kernel_initializer=\"lecun_normal\"))\n",
    "model.add(keras.layers.Dense(10, activation=\"softmax\"))\n",
    "model.compile(loss=\"sparse_categorical_crossentropy\", optimizer=\"sgd\",\n",
    "              metrics=[\"accuracy\"])\n",
    "history = model.fit(X_train_scaled, y_train, epochs=10,\n",
    "                    validation_data=(X_valid_scaled, y_valid))\n",
    "plot_learning_curves(history)"
   ]
  },
  {
   "cell_type": "markdown",
   "metadata": {},
   "source": [
    "### 8.5)Dropout在输出层前加\n",
    "Try training for 10 additional epochs, and notice that the model starts overfitting. Try adding a Dropout layer (with a 50% dropout rate) just before the output layer. Does it reduce overfitting? What about the final validation accuracy?\n",
    "\n",
    "**Warning**: you should not use regular Dropout, as it breaks the self-normalizing property of the SELU activation function. Instead, use AlphaDropout, which is designed to work with SELU."
   ]
  },
  {
   "cell_type": "code",
   "execution_count": 52,
   "metadata": {},
   "outputs": [
    {
     "name": "stdout",
     "output_type": "stream",
     "text": [
      "Train on 55000 samples, validate on 5000 samples\n",
      "Epoch 1/10\n",
      "55000/55000 [==============================] - 22s 406us/sample - loss: 0.3807 - accuracy: 0.8652 - val_loss: 0.3561 - val_accuracy: 0.8778\n",
      "Epoch 2/10\n",
      "55000/55000 [==============================] - 22s 397us/sample - loss: 0.3686 - accuracy: 0.8678 - val_loss: 0.3426 - val_accuracy: 0.8836\n",
      "Epoch 3/10\n",
      "55000/55000 [==============================] - 22s 406us/sample - loss: 0.3618 - accuracy: 0.8707 - val_loss: 0.3437 - val_accuracy: 0.8790\n",
      "Epoch 4/10\n",
      "55000/55000 [==============================] - 22s 392us/sample - loss: 0.3505 - accuracy: 0.8759 - val_loss: 0.3397 - val_accuracy: 0.8764\n",
      "Epoch 5/10\n",
      "55000/55000 [==============================] - 23s 411us/sample - loss: 0.3475 - accuracy: 0.8765 - val_loss: 0.3370 - val_accuracy: 0.8792\n",
      "Epoch 6/10\n",
      "55000/55000 [==============================] - 22s 408us/sample - loss: 0.3397 - accuracy: 0.8800 - val_loss: 0.3239 - val_accuracy: 0.8850\n",
      "Epoch 7/10\n",
      "55000/55000 [==============================] - 23s 414us/sample - loss: 0.3302 - accuracy: 0.8827 - val_loss: 0.3270 - val_accuracy: 0.8824\n",
      "Epoch 8/10\n",
      "55000/55000 [==============================] - 23s 420us/sample - loss: 0.3246 - accuracy: 0.8845 - val_loss: 0.3248 - val_accuracy: 0.8876\n",
      "Epoch 9/10\n",
      "55000/55000 [==============================] - 23s 412us/sample - loss: 0.3188 - accuracy: 0.8857 - val_loss: 0.3259 - val_accuracy: 0.8826\n",
      "Epoch 10/10\n",
      "55000/55000 [==============================] - 22s 403us/sample - loss: 0.3100 - accuracy: 0.8886 - val_loss: 0.3144 - val_accuracy: 0.8864\n"
     ]
    },
    {
     "data": {
      "image/png": "[encoded data removed]",
      "text/plain": [
       "<matplotlib.figure.Figure at 0x7f7e9210bd30>"
      ]
     },
     "metadata": {},
     "output_type": "display_data"
    }
   ],
   "source": [
    "history = model.fit(X_train_scaled, y_train, epochs=10,\n",
    "                    validation_data=(X_valid_scaled, y_valid))\n",
    "plot_learning_curves(history)"
   ]
  },
  {
   "cell_type": "code",
   "execution_count": 53,
   "metadata": {},
   "outputs": [
    {
     "name": "stdout",
     "output_type": "stream",
     "text": [
      "Train on 55000 samples, validate on 5000 samples\n",
      "Epoch 1/20\n",
      "55000/55000 [==============================] - 16s 293us/sample - loss: 0.6650 - accuracy: 0.7805 - val_loss: 0.6127 - val_accuracy: 0.8548\n",
      "Epoch 2/20\n",
      "55000/55000 [==============================] - 14s 255us/sample - loss: 0.4378 - accuracy: 0.8521 - val_loss: 0.6016 - val_accuracy: 0.8666\n",
      "Epoch 3/20\n",
      "55000/55000 [==============================] - 14s 248us/sample - loss: 0.3894 - accuracy: 0.8663 - val_loss: 0.5271 - val_accuracy: 0.8640\n",
      "Epoch 4/20\n",
      "55000/55000 [==============================] - 14s 250us/sample - loss: 0.3559 - accuracy: 0.8756 - val_loss: 0.4925 - val_accuracy: 0.8782\n",
      "Epoch 5/20\n",
      "55000/55000 [==============================] - 14s 254us/sample - loss: 0.3298 - accuracy: 0.8858 - val_loss: 0.5240 - val_accuracy: 0.8808\n",
      "Epoch 6/20\n",
      "55000/55000 [==============================] - 14s 250us/sample - loss: 0.3142 - accuracy: 0.8886 - val_loss: 0.5353 - val_accuracy: 0.8780\n",
      "Epoch 7/20\n",
      "55000/55000 [==============================] - 14s 252us/sample - loss: 0.2995 - accuracy: 0.8927 - val_loss: 0.5097 - val_accuracy: 0.8844\n",
      "Epoch 8/20\n",
      "55000/55000 [==============================] - 14s 253us/sample - loss: 0.2875 - accuracy: 0.8981 - val_loss: 0.5144 - val_accuracy: 0.8856\n",
      "Epoch 9/20\n",
      "55000/55000 [==============================] - 14s 251us/sample - loss: 0.2751 - accuracy: 0.9012 - val_loss: 0.6244 - val_accuracy: 0.8748\n",
      "Epoch 10/20\n",
      "55000/55000 [==============================] - 14s 254us/sample - loss: 0.2654 - accuracy: 0.9045 - val_loss: 0.5398 - val_accuracy: 0.8842\n",
      "Epoch 11/20\n",
      "55000/55000 [==============================] - 14s 254us/sample - loss: 0.2582 - accuracy: 0.9079 - val_loss: 0.5155 - val_accuracy: 0.8872\n",
      "Epoch 12/20\n",
      "55000/55000 [==============================] - 14s 252us/sample - loss: 0.2470 - accuracy: 0.9108 - val_loss: 0.5456 - val_accuracy: 0.8812\n",
      "Epoch 13/20\n",
      "55000/55000 [==============================] - 14s 251us/sample - loss: 0.2364 - accuracy: 0.9150 - val_loss: 0.5474 - val_accuracy: 0.8876\n",
      "Epoch 14/20\n",
      "55000/55000 [==============================] - 13s 244us/sample - loss: 0.2306 - accuracy: 0.9153 - val_loss: 0.5756 - val_accuracy: 0.8902\n",
      "Epoch 15/20\n",
      "55000/55000 [==============================] - 13s 243us/sample - loss: 0.2268 - accuracy: 0.9168 - val_loss: 0.7915 - val_accuracy: 0.8638\n",
      "Epoch 16/20\n",
      "55000/55000 [==============================] - 14s 246us/sample - loss: 0.2177 - accuracy: 0.9215 - val_loss: 0.6516 - val_accuracy: 0.8802\n",
      "Epoch 17/20\n",
      "55000/55000 [==============================] - 14s 248us/sample - loss: 0.2092 - accuracy: 0.9226 - val_loss: 0.5994 - val_accuracy: 0.8864\n",
      "Epoch 18/20\n",
      "55000/55000 [==============================] - 13s 245us/sample - loss: 0.2064 - accuracy: 0.9240 - val_loss: 0.5933 - val_accuracy: 0.8898\n",
      "Epoch 19/20\n",
      "55000/55000 [==============================] - 13s 243us/sample - loss: 0.2007 - accuracy: 0.9253 - val_loss: 0.7103 - val_accuracy: 0.8878\n",
      "Epoch 20/20\n",
      "55000/55000 [==============================] - 14s 248us/sample - loss: 0.1979 - accuracy: 0.9267 - val_loss: 0.6029 - val_accuracy: 0.8914\n"
     ]
    },
    {
     "data": {
      "image/png": "[encoded data removed]",
      "text/plain": [
       "<matplotlib.figure.Figure at 0x7f7e91404358>"
      ]
     },
     "metadata": {},
     "output_type": "display_data"
    }
   ],
   "source": [
    "model = keras.models.Sequential()\n",
    "model.add(keras.layers.Flatten(input_shape=[28, 28]))\n",
    "for _ in range(20):\n",
    "    model.add(keras.layers.Dense(100, activation=\"selu\",\n",
    "                                 kernel_initializer=\"lecun_normal\"))\n",
    "model.add(keras.layers.AlphaDropout(rate=0.5))\n",
    "model.add(keras.layers.Dense(10, activation=\"softmax\"))\n",
    "model.compile(loss=\"sparse_categorical_crossentropy\", optimizer=\"sgd\",\n",
    "              metrics=[\"accuracy\"])\n",
    "history = model.fit(X_train_scaled, y_train, epochs=20,\n",
    "                    validation_data=(X_valid_scaled, y_valid))\n",
    "plot_learning_curves(history)"
   ]
  },
  {
   "cell_type": "code",
   "execution_count": null,
   "metadata": {},
   "outputs": [],
   "source": []
  }
 ],
 "metadata": {
  "kernelspec": {
   "display_name": "Python 3",
   "language": "python",
   "name": "python3"
  },
  "language_info": {
   "codemirror_mode": {
    "name": "ipython",
    "version": 3
   },
   "file_extension": ".py",
   "mimetype": "text/x-python",
   "name": "python",
   "nbconvert_exporter": "python",
   "pygments_lexer": "ipython3",
   "version": "3.6.4"
  }
 },
 "nbformat": 4,
 "nbformat_minor": 2
}
